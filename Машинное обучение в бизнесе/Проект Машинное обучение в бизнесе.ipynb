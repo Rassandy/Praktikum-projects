{
 "cells": [
  {
   "cell_type": "markdown",
   "metadata": {},
   "source": [
    "# Выбор локации для скважины"
   ]
  },
  {
   "cell_type": "markdown",
   "metadata": {},
   "source": [
    "В рамках задачи от добывающей компании «ГлавРосГосНефть» нужно решить, где бурить новую скважину.<br>\n",
    "Предоставлены пробы нефти в трех регионах: в каждом 10 000 месторождений, где измерили качество нефти и объем ее запасов.<br>\n",
    "Необходимо построить модель машинного обучения, которая поможет определить регион, где добыча принесет наибольшую прибыль. Проанализировать возможную прибыль и риски необходимо с применением *Bootstrap.*\n",
    "\n",
    "<b>Шаги для выбора локации:</b><br>\n",
    "- В избранном регионе ищут месторождения, для каждого определяют значения признаков;\n",
    "- Строят модель и оценивают объём запасов;\n",
    "- Выбирают месторождения с самым высокими оценками значений. Количество месторождений зависит от бюджета компании и стоимости разработки одной скважины;\n",
    "- Прибыль равна суммарной прибыли отобранных месторождений.\n",
    "\n",
    "<b>Условия задачи:</b><br>\n",
    "* Для обучения модели подходит только линейная регрессия (остальные — недостаточно предсказуемые).\n",
    "* При разведке региона исследуют 500 точек, из которых с помощью машинного обучения выбирают 200 лучших для разработки.\n",
    "* Бюджет на разработку скважин в регионе — 10 млрд рублей.\n",
    "* При нынешних ценах один баррель сырья приносит 450 рублей дохода. Доход с каждой единицы продукта составляет 450 тыс. рублей, поскольку объём указан в тысячах баррелей.\n",
    "* После оценки рисков нужно оставить лишь те регионы, в которых вероятность убытков меньше 2.5%. Среди них выбирают регион с наибольшей средней прибылью.\n",
    "\n",
    "Данные синтетические: детали контрактов и характеристики месторождений не разглашаются.\n",
    "\n",
    "<b>Ход выполнения проекта:</b><br>\n",
    "1. <a href = '#Загрузка-и-подготовка-данных'>Загрузка и подготовка данных</a>\n",
    "2. <a href = '#Обучение-и-проверка-модели'>Обучение и проверка модели</a>\n",
    "3. <a href = '#Подготовка-к-расчету-прибыли'>Подготовка к расчету прибыли</a>\n",
    "4. <a href = '#Расчет-прибыли-и-рисков'>Расчет прибыли и рисков</a>\n",
    "5. <a href = '#Выводы'>Выводы</a>"
   ]
  },
  {
   "cell_type": "markdown",
   "metadata": {},
   "source": [
    "# Импорт библиотек"
   ]
  },
  {
   "cell_type": "code",
   "execution_count": 1,
   "metadata": {},
   "outputs": [],
   "source": [
    "import pandas as pd\n",
    "import os\n",
    "from sklearn.model_selection import train_test_split\n",
    "from sklearn.linear_model import LinearRegression\n",
    "from sklearn.preprocessing import StandardScaler\n",
    "from sklearn.metrics import accuracy_score\n",
    "from scipy import stats as st\n",
    "import numpy as np\n",
    "from sklearn.metrics import mean_squared_error, r2_score\n",
    "from tqdm.notebook import tqdm\n",
    "import matplotlib.pyplot as plt\n",
    "import seaborn as sns\n",
    "from sklearn.utils import shuffle\n",
    "from sklearn.preprocessing import OrdinalEncoder "
   ]
  },
  {
   "cell_type": "code",
   "execution_count": 2,
   "metadata": {},
   "outputs": [],
   "source": [
    "# функция просмотра информации о датасете\n",
    "def data_info(data):\n",
    "    display(data.head(10))\n",
    "    display(data.info())\n",
    "    display(data.describe())\n",
    "    display(data.describe(include = 'object'))\n",
    "    print(\"Количество дублирующихся строк:\", sum(data.duplicated()))"
   ]
  },
  {
   "cell_type": "code",
   "execution_count": 3,
   "metadata": {},
   "outputs": [],
   "source": [
    "# функция для построения гистограммы и диаграммы размаха\n",
    "def hist_box(data, column):\n",
    "    plt.figure(figsize=(17, 3))\n",
    "    plt.subplot(1, 2, 1)\n",
    "    plt.xlabel(column)\n",
    "    plt.ylabel('Количество наблюдений')\n",
    "    plt.title(f'Гистограмма {column}')\n",
    "    sns.histplot(data[column], color='lightblue')\n",
    "    plt.subplot(1, 2, 2)\n",
    "    plt.title(f'Диаграмма размаха {column}')\n",
    "    sns.boxplot(x=data[column], color='lightblue')\n",
    "    plt.xlabel(column)"
   ]
  },
  {
   "cell_type": "code",
   "execution_count": 4,
   "metadata": {},
   "outputs": [],
   "source": [
    "# функция для перевода значений в формат процента\n",
    "def func(pct, allvalues):\n",
    "    absolute = int(pct / 100.*np.sum(allvalues))\n",
    "    return \"{:.0f}%\\n({:d} тыс. баррелей)\".format(pct, absolute)"
   ]
  },
  {
   "cell_type": "markdown",
   "metadata": {},
   "source": [
    "## Загрузка и подготовка данных"
   ]
  },
  {
   "cell_type": "markdown",
   "metadata": {},
   "source": [
    "### Импорт, первичный анализ и обработка датасетов"
   ]
  },
  {
   "cell_type": "code",
   "execution_count": 5,
   "metadata": {},
   "outputs": [],
   "source": [
    "# импорт датасета по Региону 1\n",
    "pth1 = 'C:/Users/persc/Yandex.Disk/DataScience/Projects/Машинное обучение в бизнесе/geo_data_0.csv'\n",
    "pth2 = '/datasets/geo_data_0.csv'\n",
    "pth2 = 'geo_data_0.csv'\n",
    "\n",
    "if os.path.exists(pth1):\n",
    "    data_0 = pd.read_csv(pth1)\n",
    "elif os.path.exists(pth2):\n",
    "    data_0 = pd.read_csv(pth2)\n",
    "elif os.path.exists(pth3):\n",
    "    data_0 = pd.read_csv(pth3)\n",
    "else:\n",
    "    print('Something is wrong')\n",
    "\n",
    "# импорт датасета по Региону 2\n",
    "pth1 = 'C:/Users/persc/Yandex.Disk/DataScience/Projects/Машинное обучение в бизнесе/geo_data_1.csv'\n",
    "pth2 = '/datasets/geo_data_1.csv'\n",
    "pth2 = 'geo_data_1.csv'\n",
    "\n",
    "if os.path.exists(pth1):\n",
    "    data_1 = pd.read_csv(pth1)\n",
    "elif os.path.exists(pth2):\n",
    "    data_1 = pd.read_csv(pth2)\n",
    "elif os.path.exists(pth3):\n",
    "    data_1 = pd.read_csv(pth3)\n",
    "else:\n",
    "    print('Something is wrong')\n",
    "    \n",
    "# импорт датасета по Региону 3\n",
    "pth1 = 'C:/Users/persc/Yandex.Disk/DataScience/Projects/Машинное обучение в бизнесе/geo_data_2.csv'\n",
    "pth2 = '/datasets/geo_data_2.csv'\n",
    "pth2 = 'geo_data_2.csv'\n",
    "\n",
    "if os.path.exists(pth1):\n",
    "    data_2 = pd.read_csv(pth1)\n",
    "elif os.path.exists(pth2):\n",
    "    data_2 = pd.read_csv(pth2)\n",
    "elif os.path.exists(pth3):\n",
    "    data_2 = pd.read_csv(pth3)\n",
    "else:\n",
    "    print('Something is wrong')"
   ]
  },
  {
   "cell_type": "markdown",
   "metadata": {},
   "source": [
    "* id — уникальный идентификатор скважины;\n",
    "* f0, f1, f2 — три признака точек (неважно, что они означают, но сами признаки значимы);\n",
    "* product — объем запасов в скважине (тыс. баррелей)."
   ]
  },
  {
   "cell_type": "code",
   "execution_count": 6,
   "metadata": {
    "scrolled": true
   },
   "outputs": [
    {
     "data": {
      "text/html": [
       "<div>\n",
       "<style scoped>\n",
       "    .dataframe tbody tr th:only-of-type {\n",
       "        vertical-align: middle;\n",
       "    }\n",
       "\n",
       "    .dataframe tbody tr th {\n",
       "        vertical-align: top;\n",
       "    }\n",
       "\n",
       "    .dataframe thead th {\n",
       "        text-align: right;\n",
       "    }\n",
       "</style>\n",
       "<table border=\"1\" class=\"dataframe\">\n",
       "  <thead>\n",
       "    <tr style=\"text-align: right;\">\n",
       "      <th></th>\n",
       "      <th>id</th>\n",
       "      <th>f0</th>\n",
       "      <th>f1</th>\n",
       "      <th>f2</th>\n",
       "      <th>product</th>\n",
       "    </tr>\n",
       "  </thead>\n",
       "  <tbody>\n",
       "    <tr>\n",
       "      <th>0</th>\n",
       "      <td>txEyH</td>\n",
       "      <td>0.705745</td>\n",
       "      <td>-0.497823</td>\n",
       "      <td>1.221170</td>\n",
       "      <td>105.280062</td>\n",
       "    </tr>\n",
       "    <tr>\n",
       "      <th>1</th>\n",
       "      <td>2acmU</td>\n",
       "      <td>1.334711</td>\n",
       "      <td>-0.340164</td>\n",
       "      <td>4.365080</td>\n",
       "      <td>73.037750</td>\n",
       "    </tr>\n",
       "    <tr>\n",
       "      <th>2</th>\n",
       "      <td>409Wp</td>\n",
       "      <td>1.022732</td>\n",
       "      <td>0.151990</td>\n",
       "      <td>1.419926</td>\n",
       "      <td>85.265647</td>\n",
       "    </tr>\n",
       "    <tr>\n",
       "      <th>3</th>\n",
       "      <td>iJLyR</td>\n",
       "      <td>-0.032172</td>\n",
       "      <td>0.139033</td>\n",
       "      <td>2.978566</td>\n",
       "      <td>168.620776</td>\n",
       "    </tr>\n",
       "    <tr>\n",
       "      <th>4</th>\n",
       "      <td>Xdl7t</td>\n",
       "      <td>1.988431</td>\n",
       "      <td>0.155413</td>\n",
       "      <td>4.751769</td>\n",
       "      <td>154.036647</td>\n",
       "    </tr>\n",
       "    <tr>\n",
       "      <th>5</th>\n",
       "      <td>wX4Hy</td>\n",
       "      <td>0.969570</td>\n",
       "      <td>0.489775</td>\n",
       "      <td>-0.735383</td>\n",
       "      <td>64.741541</td>\n",
       "    </tr>\n",
       "    <tr>\n",
       "      <th>6</th>\n",
       "      <td>tL6pL</td>\n",
       "      <td>0.645075</td>\n",
       "      <td>0.530656</td>\n",
       "      <td>1.780266</td>\n",
       "      <td>49.055285</td>\n",
       "    </tr>\n",
       "    <tr>\n",
       "      <th>7</th>\n",
       "      <td>BYPU6</td>\n",
       "      <td>-0.400648</td>\n",
       "      <td>0.808337</td>\n",
       "      <td>-5.624670</td>\n",
       "      <td>72.943292</td>\n",
       "    </tr>\n",
       "    <tr>\n",
       "      <th>8</th>\n",
       "      <td>j9Oui</td>\n",
       "      <td>0.643105</td>\n",
       "      <td>-0.551583</td>\n",
       "      <td>2.372141</td>\n",
       "      <td>113.356160</td>\n",
       "    </tr>\n",
       "    <tr>\n",
       "      <th>9</th>\n",
       "      <td>OLuZU</td>\n",
       "      <td>2.173381</td>\n",
       "      <td>0.563698</td>\n",
       "      <td>9.441852</td>\n",
       "      <td>127.910945</td>\n",
       "    </tr>\n",
       "  </tbody>\n",
       "</table>\n",
       "</div>"
      ],
      "text/plain": [
       "      id        f0        f1        f2     product\n",
       "0  txEyH  0.705745 -0.497823  1.221170  105.280062\n",
       "1  2acmU  1.334711 -0.340164  4.365080   73.037750\n",
       "2  409Wp  1.022732  0.151990  1.419926   85.265647\n",
       "3  iJLyR -0.032172  0.139033  2.978566  168.620776\n",
       "4  Xdl7t  1.988431  0.155413  4.751769  154.036647\n",
       "5  wX4Hy  0.969570  0.489775 -0.735383   64.741541\n",
       "6  tL6pL  0.645075  0.530656  1.780266   49.055285\n",
       "7  BYPU6 -0.400648  0.808337 -5.624670   72.943292\n",
       "8  j9Oui  0.643105 -0.551583  2.372141  113.356160\n",
       "9  OLuZU  2.173381  0.563698  9.441852  127.910945"
      ]
     },
     "metadata": {},
     "output_type": "display_data"
    },
    {
     "name": "stdout",
     "output_type": "stream",
     "text": [
      "<class 'pandas.core.frame.DataFrame'>\n",
      "RangeIndex: 100000 entries, 0 to 99999\n",
      "Data columns (total 5 columns):\n",
      " #   Column   Non-Null Count   Dtype  \n",
      "---  ------   --------------   -----  \n",
      " 0   id       100000 non-null  object \n",
      " 1   f0       100000 non-null  float64\n",
      " 2   f1       100000 non-null  float64\n",
      " 3   f2       100000 non-null  float64\n",
      " 4   product  100000 non-null  float64\n",
      "dtypes: float64(4), object(1)\n",
      "memory usage: 3.8+ MB\n"
     ]
    },
    {
     "data": {
      "text/plain": [
       "None"
      ]
     },
     "metadata": {},
     "output_type": "display_data"
    },
    {
     "data": {
      "text/html": [
       "<div>\n",
       "<style scoped>\n",
       "    .dataframe tbody tr th:only-of-type {\n",
       "        vertical-align: middle;\n",
       "    }\n",
       "\n",
       "    .dataframe tbody tr th {\n",
       "        vertical-align: top;\n",
       "    }\n",
       "\n",
       "    .dataframe thead th {\n",
       "        text-align: right;\n",
       "    }\n",
       "</style>\n",
       "<table border=\"1\" class=\"dataframe\">\n",
       "  <thead>\n",
       "    <tr style=\"text-align: right;\">\n",
       "      <th></th>\n",
       "      <th>f0</th>\n",
       "      <th>f1</th>\n",
       "      <th>f2</th>\n",
       "      <th>product</th>\n",
       "    </tr>\n",
       "  </thead>\n",
       "  <tbody>\n",
       "    <tr>\n",
       "      <th>count</th>\n",
       "      <td>100000.000000</td>\n",
       "      <td>100000.000000</td>\n",
       "      <td>100000.000000</td>\n",
       "      <td>100000.000000</td>\n",
       "    </tr>\n",
       "    <tr>\n",
       "      <th>mean</th>\n",
       "      <td>0.500419</td>\n",
       "      <td>0.250143</td>\n",
       "      <td>2.502647</td>\n",
       "      <td>92.500000</td>\n",
       "    </tr>\n",
       "    <tr>\n",
       "      <th>std</th>\n",
       "      <td>0.871832</td>\n",
       "      <td>0.504433</td>\n",
       "      <td>3.248248</td>\n",
       "      <td>44.288691</td>\n",
       "    </tr>\n",
       "    <tr>\n",
       "      <th>min</th>\n",
       "      <td>-1.408605</td>\n",
       "      <td>-0.848218</td>\n",
       "      <td>-12.088328</td>\n",
       "      <td>0.000000</td>\n",
       "    </tr>\n",
       "    <tr>\n",
       "      <th>25%</th>\n",
       "      <td>-0.072580</td>\n",
       "      <td>-0.200881</td>\n",
       "      <td>0.287748</td>\n",
       "      <td>56.497507</td>\n",
       "    </tr>\n",
       "    <tr>\n",
       "      <th>50%</th>\n",
       "      <td>0.502360</td>\n",
       "      <td>0.250252</td>\n",
       "      <td>2.515969</td>\n",
       "      <td>91.849972</td>\n",
       "    </tr>\n",
       "    <tr>\n",
       "      <th>75%</th>\n",
       "      <td>1.073581</td>\n",
       "      <td>0.700646</td>\n",
       "      <td>4.715088</td>\n",
       "      <td>128.564089</td>\n",
       "    </tr>\n",
       "    <tr>\n",
       "      <th>max</th>\n",
       "      <td>2.362331</td>\n",
       "      <td>1.343769</td>\n",
       "      <td>16.003790</td>\n",
       "      <td>185.364347</td>\n",
       "    </tr>\n",
       "  </tbody>\n",
       "</table>\n",
       "</div>"
      ],
      "text/plain": [
       "                  f0             f1             f2        product\n",
       "count  100000.000000  100000.000000  100000.000000  100000.000000\n",
       "mean        0.500419       0.250143       2.502647      92.500000\n",
       "std         0.871832       0.504433       3.248248      44.288691\n",
       "min        -1.408605      -0.848218     -12.088328       0.000000\n",
       "25%        -0.072580      -0.200881       0.287748      56.497507\n",
       "50%         0.502360       0.250252       2.515969      91.849972\n",
       "75%         1.073581       0.700646       4.715088     128.564089\n",
       "max         2.362331       1.343769      16.003790     185.364347"
      ]
     },
     "metadata": {},
     "output_type": "display_data"
    },
    {
     "data": {
      "text/html": [
       "<div>\n",
       "<style scoped>\n",
       "    .dataframe tbody tr th:only-of-type {\n",
       "        vertical-align: middle;\n",
       "    }\n",
       "\n",
       "    .dataframe tbody tr th {\n",
       "        vertical-align: top;\n",
       "    }\n",
       "\n",
       "    .dataframe thead th {\n",
       "        text-align: right;\n",
       "    }\n",
       "</style>\n",
       "<table border=\"1\" class=\"dataframe\">\n",
       "  <thead>\n",
       "    <tr style=\"text-align: right;\">\n",
       "      <th></th>\n",
       "      <th>id</th>\n",
       "    </tr>\n",
       "  </thead>\n",
       "  <tbody>\n",
       "    <tr>\n",
       "      <th>count</th>\n",
       "      <td>100000</td>\n",
       "    </tr>\n",
       "    <tr>\n",
       "      <th>unique</th>\n",
       "      <td>99990</td>\n",
       "    </tr>\n",
       "    <tr>\n",
       "      <th>top</th>\n",
       "      <td>HZww2</td>\n",
       "    </tr>\n",
       "    <tr>\n",
       "      <th>freq</th>\n",
       "      <td>2</td>\n",
       "    </tr>\n",
       "  </tbody>\n",
       "</table>\n",
       "</div>"
      ],
      "text/plain": [
       "            id\n",
       "count   100000\n",
       "unique   99990\n",
       "top      HZww2\n",
       "freq         2"
      ]
     },
     "metadata": {},
     "output_type": "display_data"
    },
    {
     "name": "stdout",
     "output_type": "stream",
     "text": [
      "Количество дублирующихся строк: 0\n"
     ]
    }
   ],
   "source": [
    "# вывод информации по датасету Региона 1\n",
    "data_info(data_0)"
   ]
  },
  {
   "cell_type": "markdown",
   "metadata": {},
   "source": [
    "В датасете 100000 наблюдений, отсутствуют пропуски, данные импортируются в корректном формате. При этом в столбце ID только 99990 уникальных значений, но строки не повторяются полностью. Выведем строки с повторяющимися значениями ID."
   ]
  },
  {
   "cell_type": "code",
   "execution_count": 7,
   "metadata": {
    "scrolled": true
   },
   "outputs": [
    {
     "data": {
      "text/html": [
       "<div>\n",
       "<style scoped>\n",
       "    .dataframe tbody tr th:only-of-type {\n",
       "        vertical-align: middle;\n",
       "    }\n",
       "\n",
       "    .dataframe tbody tr th {\n",
       "        vertical-align: top;\n",
       "    }\n",
       "\n",
       "    .dataframe thead th {\n",
       "        text-align: right;\n",
       "    }\n",
       "</style>\n",
       "<table border=\"1\" class=\"dataframe\">\n",
       "  <thead>\n",
       "    <tr style=\"text-align: right;\">\n",
       "      <th></th>\n",
       "      <th>id</th>\n",
       "      <th>f0</th>\n",
       "      <th>f1</th>\n",
       "      <th>f2</th>\n",
       "      <th>product</th>\n",
       "    </tr>\n",
       "  </thead>\n",
       "  <tbody>\n",
       "    <tr>\n",
       "      <th>66136</th>\n",
       "      <td>74z30</td>\n",
       "      <td>1.084962</td>\n",
       "      <td>-0.312358</td>\n",
       "      <td>6.990771</td>\n",
       "      <td>127.643327</td>\n",
       "    </tr>\n",
       "    <tr>\n",
       "      <th>64022</th>\n",
       "      <td>74z30</td>\n",
       "      <td>0.741456</td>\n",
       "      <td>0.459229</td>\n",
       "      <td>5.153109</td>\n",
       "      <td>140.771492</td>\n",
       "    </tr>\n",
       "    <tr>\n",
       "      <th>51970</th>\n",
       "      <td>A5aEY</td>\n",
       "      <td>-0.180335</td>\n",
       "      <td>0.935548</td>\n",
       "      <td>-2.094773</td>\n",
       "      <td>33.020205</td>\n",
       "    </tr>\n",
       "    <tr>\n",
       "      <th>3389</th>\n",
       "      <td>A5aEY</td>\n",
       "      <td>-0.039949</td>\n",
       "      <td>0.156872</td>\n",
       "      <td>0.209861</td>\n",
       "      <td>89.249364</td>\n",
       "    </tr>\n",
       "    <tr>\n",
       "      <th>69163</th>\n",
       "      <td>AGS9W</td>\n",
       "      <td>-0.933795</td>\n",
       "      <td>0.116194</td>\n",
       "      <td>-3.655896</td>\n",
       "      <td>19.230453</td>\n",
       "    </tr>\n",
       "    <tr>\n",
       "      <th>42529</th>\n",
       "      <td>AGS9W</td>\n",
       "      <td>1.454747</td>\n",
       "      <td>-0.479651</td>\n",
       "      <td>0.683380</td>\n",
       "      <td>126.370504</td>\n",
       "    </tr>\n",
       "    <tr>\n",
       "      <th>931</th>\n",
       "      <td>HZww2</td>\n",
       "      <td>0.755284</td>\n",
       "      <td>0.368511</td>\n",
       "      <td>1.863211</td>\n",
       "      <td>30.681774</td>\n",
       "    </tr>\n",
       "    <tr>\n",
       "      <th>7530</th>\n",
       "      <td>HZww2</td>\n",
       "      <td>1.061194</td>\n",
       "      <td>-0.373969</td>\n",
       "      <td>10.430210</td>\n",
       "      <td>158.828695</td>\n",
       "    </tr>\n",
       "    <tr>\n",
       "      <th>63593</th>\n",
       "      <td>QcMuo</td>\n",
       "      <td>0.635635</td>\n",
       "      <td>-0.473422</td>\n",
       "      <td>0.862670</td>\n",
       "      <td>64.578675</td>\n",
       "    </tr>\n",
       "    <tr>\n",
       "      <th>1949</th>\n",
       "      <td>QcMuo</td>\n",
       "      <td>0.506563</td>\n",
       "      <td>-0.323775</td>\n",
       "      <td>-2.215583</td>\n",
       "      <td>75.496502</td>\n",
       "    </tr>\n",
       "    <tr>\n",
       "      <th>75715</th>\n",
       "      <td>Tdehs</td>\n",
       "      <td>0.112079</td>\n",
       "      <td>0.430296</td>\n",
       "      <td>3.218993</td>\n",
       "      <td>60.964018</td>\n",
       "    </tr>\n",
       "    <tr>\n",
       "      <th>21426</th>\n",
       "      <td>Tdehs</td>\n",
       "      <td>0.829407</td>\n",
       "      <td>0.298807</td>\n",
       "      <td>-0.049563</td>\n",
       "      <td>96.035308</td>\n",
       "    </tr>\n",
       "    <tr>\n",
       "      <th>92341</th>\n",
       "      <td>TtcGQ</td>\n",
       "      <td>0.110711</td>\n",
       "      <td>1.022689</td>\n",
       "      <td>0.911381</td>\n",
       "      <td>101.318008</td>\n",
       "    </tr>\n",
       "    <tr>\n",
       "      <th>60140</th>\n",
       "      <td>TtcGQ</td>\n",
       "      <td>0.569276</td>\n",
       "      <td>-0.104876</td>\n",
       "      <td>6.440215</td>\n",
       "      <td>85.350186</td>\n",
       "    </tr>\n",
       "    <tr>\n",
       "      <th>89582</th>\n",
       "      <td>bsk9y</td>\n",
       "      <td>0.398908</td>\n",
       "      <td>-0.400253</td>\n",
       "      <td>10.122376</td>\n",
       "      <td>163.433078</td>\n",
       "    </tr>\n",
       "    <tr>\n",
       "      <th>97785</th>\n",
       "      <td>bsk9y</td>\n",
       "      <td>0.378429</td>\n",
       "      <td>0.005837</td>\n",
       "      <td>0.160827</td>\n",
       "      <td>160.637302</td>\n",
       "    </tr>\n",
       "    <tr>\n",
       "      <th>41724</th>\n",
       "      <td>bxg6G</td>\n",
       "      <td>-0.823752</td>\n",
       "      <td>0.546319</td>\n",
       "      <td>3.630479</td>\n",
       "      <td>93.007798</td>\n",
       "    </tr>\n",
       "    <tr>\n",
       "      <th>1364</th>\n",
       "      <td>bxg6G</td>\n",
       "      <td>0.411645</td>\n",
       "      <td>0.856830</td>\n",
       "      <td>-3.653440</td>\n",
       "      <td>73.604260</td>\n",
       "    </tr>\n",
       "    <tr>\n",
       "      <th>16633</th>\n",
       "      <td>fiKDv</td>\n",
       "      <td>0.157341</td>\n",
       "      <td>1.028359</td>\n",
       "      <td>5.585586</td>\n",
       "      <td>95.817889</td>\n",
       "    </tr>\n",
       "    <tr>\n",
       "      <th>90815</th>\n",
       "      <td>fiKDv</td>\n",
       "      <td>0.049883</td>\n",
       "      <td>0.841313</td>\n",
       "      <td>6.394613</td>\n",
       "      <td>137.346586</td>\n",
       "    </tr>\n",
       "  </tbody>\n",
       "</table>\n",
       "</div>"
      ],
      "text/plain": [
       "          id        f0        f1         f2     product\n",
       "66136  74z30  1.084962 -0.312358   6.990771  127.643327\n",
       "64022  74z30  0.741456  0.459229   5.153109  140.771492\n",
       "51970  A5aEY -0.180335  0.935548  -2.094773   33.020205\n",
       "3389   A5aEY -0.039949  0.156872   0.209861   89.249364\n",
       "69163  AGS9W -0.933795  0.116194  -3.655896   19.230453\n",
       "42529  AGS9W  1.454747 -0.479651   0.683380  126.370504\n",
       "931    HZww2  0.755284  0.368511   1.863211   30.681774\n",
       "7530   HZww2  1.061194 -0.373969  10.430210  158.828695\n",
       "63593  QcMuo  0.635635 -0.473422   0.862670   64.578675\n",
       "1949   QcMuo  0.506563 -0.323775  -2.215583   75.496502\n",
       "75715  Tdehs  0.112079  0.430296   3.218993   60.964018\n",
       "21426  Tdehs  0.829407  0.298807  -0.049563   96.035308\n",
       "92341  TtcGQ  0.110711  1.022689   0.911381  101.318008\n",
       "60140  TtcGQ  0.569276 -0.104876   6.440215   85.350186\n",
       "89582  bsk9y  0.398908 -0.400253  10.122376  163.433078\n",
       "97785  bsk9y  0.378429  0.005837   0.160827  160.637302\n",
       "41724  bxg6G -0.823752  0.546319   3.630479   93.007798\n",
       "1364   bxg6G  0.411645  0.856830  -3.653440   73.604260\n",
       "16633  fiKDv  0.157341  1.028359   5.585586   95.817889\n",
       "90815  fiKDv  0.049883  0.841313   6.394613  137.346586"
      ]
     },
     "execution_count": 7,
     "metadata": {},
     "output_type": "execute_result"
    }
   ],
   "source": [
    "duplicate_id = data_0[data_0.duplicated(['id'])]['id']\n",
    "data_0.query('id in @duplicate_id').sort_values(by='id')"
   ]
  },
  {
   "cell_type": "markdown",
   "metadata": {},
   "source": [
    "Значения в каждой паре повторяющихся id различны, что делает эти повторы непохожими на ошибки. Мы ничего с ними сделать не можем. Тем не менее, этот момент стоит прояснить у тех, кто собирал датасет."
   ]
  },
  {
   "cell_type": "code",
   "execution_count": 8,
   "metadata": {
    "scrolled": true
   },
   "outputs": [
    {
     "data": {
      "text/html": [
       "<div>\n",
       "<style scoped>\n",
       "    .dataframe tbody tr th:only-of-type {\n",
       "        vertical-align: middle;\n",
       "    }\n",
       "\n",
       "    .dataframe tbody tr th {\n",
       "        vertical-align: top;\n",
       "    }\n",
       "\n",
       "    .dataframe thead th {\n",
       "        text-align: right;\n",
       "    }\n",
       "</style>\n",
       "<table border=\"1\" class=\"dataframe\">\n",
       "  <thead>\n",
       "    <tr style=\"text-align: right;\">\n",
       "      <th></th>\n",
       "      <th>id</th>\n",
       "      <th>f0</th>\n",
       "      <th>f1</th>\n",
       "      <th>f2</th>\n",
       "      <th>product</th>\n",
       "    </tr>\n",
       "  </thead>\n",
       "  <tbody>\n",
       "    <tr>\n",
       "      <th>0</th>\n",
       "      <td>kBEdx</td>\n",
       "      <td>-15.001348</td>\n",
       "      <td>-8.276000</td>\n",
       "      <td>-0.005876</td>\n",
       "      <td>3.179103</td>\n",
       "    </tr>\n",
       "    <tr>\n",
       "      <th>1</th>\n",
       "      <td>62mP7</td>\n",
       "      <td>14.272088</td>\n",
       "      <td>-3.475083</td>\n",
       "      <td>0.999183</td>\n",
       "      <td>26.953261</td>\n",
       "    </tr>\n",
       "    <tr>\n",
       "      <th>2</th>\n",
       "      <td>vyE1P</td>\n",
       "      <td>6.263187</td>\n",
       "      <td>-5.948386</td>\n",
       "      <td>5.001160</td>\n",
       "      <td>134.766305</td>\n",
       "    </tr>\n",
       "    <tr>\n",
       "      <th>3</th>\n",
       "      <td>KcrkZ</td>\n",
       "      <td>-13.081196</td>\n",
       "      <td>-11.506057</td>\n",
       "      <td>4.999415</td>\n",
       "      <td>137.945408</td>\n",
       "    </tr>\n",
       "    <tr>\n",
       "      <th>4</th>\n",
       "      <td>AHL4O</td>\n",
       "      <td>12.702195</td>\n",
       "      <td>-8.147433</td>\n",
       "      <td>5.004363</td>\n",
       "      <td>134.766305</td>\n",
       "    </tr>\n",
       "    <tr>\n",
       "      <th>5</th>\n",
       "      <td>HHckp</td>\n",
       "      <td>-3.327590</td>\n",
       "      <td>-2.205276</td>\n",
       "      <td>3.003647</td>\n",
       "      <td>84.038886</td>\n",
       "    </tr>\n",
       "    <tr>\n",
       "      <th>6</th>\n",
       "      <td>h5Ujo</td>\n",
       "      <td>-11.142655</td>\n",
       "      <td>-10.133399</td>\n",
       "      <td>4.002382</td>\n",
       "      <td>110.992147</td>\n",
       "    </tr>\n",
       "    <tr>\n",
       "      <th>7</th>\n",
       "      <td>muH9x</td>\n",
       "      <td>4.234715</td>\n",
       "      <td>-0.001354</td>\n",
       "      <td>2.004588</td>\n",
       "      <td>53.906522</td>\n",
       "    </tr>\n",
       "    <tr>\n",
       "      <th>8</th>\n",
       "      <td>YiRkx</td>\n",
       "      <td>13.355129</td>\n",
       "      <td>-0.332068</td>\n",
       "      <td>4.998647</td>\n",
       "      <td>134.766305</td>\n",
       "    </tr>\n",
       "    <tr>\n",
       "      <th>9</th>\n",
       "      <td>jG6Gi</td>\n",
       "      <td>1.069227</td>\n",
       "      <td>-11.025667</td>\n",
       "      <td>4.997844</td>\n",
       "      <td>137.945408</td>\n",
       "    </tr>\n",
       "  </tbody>\n",
       "</table>\n",
       "</div>"
      ],
      "text/plain": [
       "      id         f0         f1        f2     product\n",
       "0  kBEdx -15.001348  -8.276000 -0.005876    3.179103\n",
       "1  62mP7  14.272088  -3.475083  0.999183   26.953261\n",
       "2  vyE1P   6.263187  -5.948386  5.001160  134.766305\n",
       "3  KcrkZ -13.081196 -11.506057  4.999415  137.945408\n",
       "4  AHL4O  12.702195  -8.147433  5.004363  134.766305\n",
       "5  HHckp  -3.327590  -2.205276  3.003647   84.038886\n",
       "6  h5Ujo -11.142655 -10.133399  4.002382  110.992147\n",
       "7  muH9x   4.234715  -0.001354  2.004588   53.906522\n",
       "8  YiRkx  13.355129  -0.332068  4.998647  134.766305\n",
       "9  jG6Gi   1.069227 -11.025667  4.997844  137.945408"
      ]
     },
     "metadata": {},
     "output_type": "display_data"
    },
    {
     "name": "stdout",
     "output_type": "stream",
     "text": [
      "<class 'pandas.core.frame.DataFrame'>\n",
      "RangeIndex: 100000 entries, 0 to 99999\n",
      "Data columns (total 5 columns):\n",
      " #   Column   Non-Null Count   Dtype  \n",
      "---  ------   --------------   -----  \n",
      " 0   id       100000 non-null  object \n",
      " 1   f0       100000 non-null  float64\n",
      " 2   f1       100000 non-null  float64\n",
      " 3   f2       100000 non-null  float64\n",
      " 4   product  100000 non-null  float64\n",
      "dtypes: float64(4), object(1)\n",
      "memory usage: 3.8+ MB\n"
     ]
    },
    {
     "data": {
      "text/plain": [
       "None"
      ]
     },
     "metadata": {},
     "output_type": "display_data"
    },
    {
     "data": {
      "text/html": [
       "<div>\n",
       "<style scoped>\n",
       "    .dataframe tbody tr th:only-of-type {\n",
       "        vertical-align: middle;\n",
       "    }\n",
       "\n",
       "    .dataframe tbody tr th {\n",
       "        vertical-align: top;\n",
       "    }\n",
       "\n",
       "    .dataframe thead th {\n",
       "        text-align: right;\n",
       "    }\n",
       "</style>\n",
       "<table border=\"1\" class=\"dataframe\">\n",
       "  <thead>\n",
       "    <tr style=\"text-align: right;\">\n",
       "      <th></th>\n",
       "      <th>f0</th>\n",
       "      <th>f1</th>\n",
       "      <th>f2</th>\n",
       "      <th>product</th>\n",
       "    </tr>\n",
       "  </thead>\n",
       "  <tbody>\n",
       "    <tr>\n",
       "      <th>count</th>\n",
       "      <td>100000.000000</td>\n",
       "      <td>100000.000000</td>\n",
       "      <td>100000.000000</td>\n",
       "      <td>100000.000000</td>\n",
       "    </tr>\n",
       "    <tr>\n",
       "      <th>mean</th>\n",
       "      <td>1.141296</td>\n",
       "      <td>-4.796579</td>\n",
       "      <td>2.494541</td>\n",
       "      <td>68.825000</td>\n",
       "    </tr>\n",
       "    <tr>\n",
       "      <th>std</th>\n",
       "      <td>8.965932</td>\n",
       "      <td>5.119872</td>\n",
       "      <td>1.703572</td>\n",
       "      <td>45.944423</td>\n",
       "    </tr>\n",
       "    <tr>\n",
       "      <th>min</th>\n",
       "      <td>-31.609576</td>\n",
       "      <td>-26.358598</td>\n",
       "      <td>-0.018144</td>\n",
       "      <td>0.000000</td>\n",
       "    </tr>\n",
       "    <tr>\n",
       "      <th>25%</th>\n",
       "      <td>-6.298551</td>\n",
       "      <td>-8.267985</td>\n",
       "      <td>1.000021</td>\n",
       "      <td>26.953261</td>\n",
       "    </tr>\n",
       "    <tr>\n",
       "      <th>50%</th>\n",
       "      <td>1.153055</td>\n",
       "      <td>-4.813172</td>\n",
       "      <td>2.011479</td>\n",
       "      <td>57.085625</td>\n",
       "    </tr>\n",
       "    <tr>\n",
       "      <th>75%</th>\n",
       "      <td>8.621015</td>\n",
       "      <td>-1.332816</td>\n",
       "      <td>3.999904</td>\n",
       "      <td>107.813044</td>\n",
       "    </tr>\n",
       "    <tr>\n",
       "      <th>max</th>\n",
       "      <td>29.421755</td>\n",
       "      <td>18.734063</td>\n",
       "      <td>5.019721</td>\n",
       "      <td>137.945408</td>\n",
       "    </tr>\n",
       "  </tbody>\n",
       "</table>\n",
       "</div>"
      ],
      "text/plain": [
       "                  f0             f1             f2        product\n",
       "count  100000.000000  100000.000000  100000.000000  100000.000000\n",
       "mean        1.141296      -4.796579       2.494541      68.825000\n",
       "std         8.965932       5.119872       1.703572      45.944423\n",
       "min       -31.609576     -26.358598      -0.018144       0.000000\n",
       "25%        -6.298551      -8.267985       1.000021      26.953261\n",
       "50%         1.153055      -4.813172       2.011479      57.085625\n",
       "75%         8.621015      -1.332816       3.999904     107.813044\n",
       "max        29.421755      18.734063       5.019721     137.945408"
      ]
     },
     "metadata": {},
     "output_type": "display_data"
    },
    {
     "data": {
      "text/html": [
       "<div>\n",
       "<style scoped>\n",
       "    .dataframe tbody tr th:only-of-type {\n",
       "        vertical-align: middle;\n",
       "    }\n",
       "\n",
       "    .dataframe tbody tr th {\n",
       "        vertical-align: top;\n",
       "    }\n",
       "\n",
       "    .dataframe thead th {\n",
       "        text-align: right;\n",
       "    }\n",
       "</style>\n",
       "<table border=\"1\" class=\"dataframe\">\n",
       "  <thead>\n",
       "    <tr style=\"text-align: right;\">\n",
       "      <th></th>\n",
       "      <th>id</th>\n",
       "    </tr>\n",
       "  </thead>\n",
       "  <tbody>\n",
       "    <tr>\n",
       "      <th>count</th>\n",
       "      <td>100000</td>\n",
       "    </tr>\n",
       "    <tr>\n",
       "      <th>unique</th>\n",
       "      <td>99996</td>\n",
       "    </tr>\n",
       "    <tr>\n",
       "      <th>top</th>\n",
       "      <td>bfPNe</td>\n",
       "    </tr>\n",
       "    <tr>\n",
       "      <th>freq</th>\n",
       "      <td>2</td>\n",
       "    </tr>\n",
       "  </tbody>\n",
       "</table>\n",
       "</div>"
      ],
      "text/plain": [
       "            id\n",
       "count   100000\n",
       "unique   99996\n",
       "top      bfPNe\n",
       "freq         2"
      ]
     },
     "metadata": {},
     "output_type": "display_data"
    },
    {
     "name": "stdout",
     "output_type": "stream",
     "text": [
      "Количество дублирующихся строк: 0\n"
     ]
    }
   ],
   "source": [
    "# вывод информации по датасету Региона 2\n",
    "data_info(data_1)"
   ]
  },
  {
   "cell_type": "markdown",
   "metadata": {},
   "source": [
    "По аналогии с прошлым датасетом тут 100000 наблюдений, отсутствуют пропуски, данные импортируются в корректном формате. В столбце ID также 4 дубликата с разными значениями параметров."
   ]
  },
  {
   "cell_type": "code",
   "execution_count": 9,
   "metadata": {},
   "outputs": [
    {
     "data": {
      "text/html": [
       "<div>\n",
       "<style scoped>\n",
       "    .dataframe tbody tr th:only-of-type {\n",
       "        vertical-align: middle;\n",
       "    }\n",
       "\n",
       "    .dataframe tbody tr th {\n",
       "        vertical-align: top;\n",
       "    }\n",
       "\n",
       "    .dataframe thead th {\n",
       "        text-align: right;\n",
       "    }\n",
       "</style>\n",
       "<table border=\"1\" class=\"dataframe\">\n",
       "  <thead>\n",
       "    <tr style=\"text-align: right;\">\n",
       "      <th></th>\n",
       "      <th>id</th>\n",
       "      <th>f0</th>\n",
       "      <th>f1</th>\n",
       "      <th>f2</th>\n",
       "      <th>product</th>\n",
       "    </tr>\n",
       "  </thead>\n",
       "  <tbody>\n",
       "    <tr>\n",
       "      <th>5849</th>\n",
       "      <td>5ltQ6</td>\n",
       "      <td>-3.435401</td>\n",
       "      <td>-12.296043</td>\n",
       "      <td>1.999796</td>\n",
       "      <td>57.085625</td>\n",
       "    </tr>\n",
       "    <tr>\n",
       "      <th>84461</th>\n",
       "      <td>5ltQ6</td>\n",
       "      <td>18.213839</td>\n",
       "      <td>2.191999</td>\n",
       "      <td>3.993869</td>\n",
       "      <td>107.813044</td>\n",
       "    </tr>\n",
       "    <tr>\n",
       "      <th>1305</th>\n",
       "      <td>LHZR0</td>\n",
       "      <td>11.170835</td>\n",
       "      <td>-1.945066</td>\n",
       "      <td>3.002872</td>\n",
       "      <td>80.859783</td>\n",
       "    </tr>\n",
       "    <tr>\n",
       "      <th>41906</th>\n",
       "      <td>LHZR0</td>\n",
       "      <td>-8.989672</td>\n",
       "      <td>-4.286607</td>\n",
       "      <td>2.009139</td>\n",
       "      <td>57.085625</td>\n",
       "    </tr>\n",
       "    <tr>\n",
       "      <th>2721</th>\n",
       "      <td>bfPNe</td>\n",
       "      <td>-9.494442</td>\n",
       "      <td>-5.463692</td>\n",
       "      <td>4.006042</td>\n",
       "      <td>110.992147</td>\n",
       "    </tr>\n",
       "    <tr>\n",
       "      <th>82178</th>\n",
       "      <td>bfPNe</td>\n",
       "      <td>-6.202799</td>\n",
       "      <td>-4.820045</td>\n",
       "      <td>2.995107</td>\n",
       "      <td>84.038886</td>\n",
       "    </tr>\n",
       "    <tr>\n",
       "      <th>47591</th>\n",
       "      <td>wt4Uk</td>\n",
       "      <td>-9.091098</td>\n",
       "      <td>-8.109279</td>\n",
       "      <td>-0.002314</td>\n",
       "      <td>3.179103</td>\n",
       "    </tr>\n",
       "    <tr>\n",
       "      <th>82873</th>\n",
       "      <td>wt4Uk</td>\n",
       "      <td>10.259972</td>\n",
       "      <td>-9.376355</td>\n",
       "      <td>4.994297</td>\n",
       "      <td>134.766305</td>\n",
       "    </tr>\n",
       "  </tbody>\n",
       "</table>\n",
       "</div>"
      ],
      "text/plain": [
       "          id         f0         f1        f2     product\n",
       "5849   5ltQ6  -3.435401 -12.296043  1.999796   57.085625\n",
       "84461  5ltQ6  18.213839   2.191999  3.993869  107.813044\n",
       "1305   LHZR0  11.170835  -1.945066  3.002872   80.859783\n",
       "41906  LHZR0  -8.989672  -4.286607  2.009139   57.085625\n",
       "2721   bfPNe  -9.494442  -5.463692  4.006042  110.992147\n",
       "82178  bfPNe  -6.202799  -4.820045  2.995107   84.038886\n",
       "47591  wt4Uk  -9.091098  -8.109279 -0.002314    3.179103\n",
       "82873  wt4Uk  10.259972  -9.376355  4.994297  134.766305"
      ]
     },
     "execution_count": 9,
     "metadata": {},
     "output_type": "execute_result"
    }
   ],
   "source": [
    "duplicate_id = data_1[data_1.duplicated(['id'])]['id']\n",
    "data_1.query('id in @duplicate_id').sort_values(by='id')"
   ]
  },
  {
   "cell_type": "code",
   "execution_count": 10,
   "metadata": {},
   "outputs": [
    {
     "data": {
      "text/html": [
       "<div>\n",
       "<style scoped>\n",
       "    .dataframe tbody tr th:only-of-type {\n",
       "        vertical-align: middle;\n",
       "    }\n",
       "\n",
       "    .dataframe tbody tr th {\n",
       "        vertical-align: top;\n",
       "    }\n",
       "\n",
       "    .dataframe thead th {\n",
       "        text-align: right;\n",
       "    }\n",
       "</style>\n",
       "<table border=\"1\" class=\"dataframe\">\n",
       "  <thead>\n",
       "    <tr style=\"text-align: right;\">\n",
       "      <th></th>\n",
       "      <th>id</th>\n",
       "      <th>f0</th>\n",
       "      <th>f1</th>\n",
       "      <th>f2</th>\n",
       "      <th>product</th>\n",
       "    </tr>\n",
       "  </thead>\n",
       "  <tbody>\n",
       "    <tr>\n",
       "      <th>0</th>\n",
       "      <td>fwXo0</td>\n",
       "      <td>-1.146987</td>\n",
       "      <td>0.963328</td>\n",
       "      <td>-0.828965</td>\n",
       "      <td>27.758673</td>\n",
       "    </tr>\n",
       "    <tr>\n",
       "      <th>1</th>\n",
       "      <td>WJtFt</td>\n",
       "      <td>0.262778</td>\n",
       "      <td>0.269839</td>\n",
       "      <td>-2.530187</td>\n",
       "      <td>56.069697</td>\n",
       "    </tr>\n",
       "    <tr>\n",
       "      <th>2</th>\n",
       "      <td>ovLUW</td>\n",
       "      <td>0.194587</td>\n",
       "      <td>0.289035</td>\n",
       "      <td>-5.586433</td>\n",
       "      <td>62.871910</td>\n",
       "    </tr>\n",
       "    <tr>\n",
       "      <th>3</th>\n",
       "      <td>q6cA6</td>\n",
       "      <td>2.236060</td>\n",
       "      <td>-0.553760</td>\n",
       "      <td>0.930038</td>\n",
       "      <td>114.572842</td>\n",
       "    </tr>\n",
       "    <tr>\n",
       "      <th>4</th>\n",
       "      <td>WPMUX</td>\n",
       "      <td>-0.515993</td>\n",
       "      <td>1.716266</td>\n",
       "      <td>5.899011</td>\n",
       "      <td>149.600746</td>\n",
       "    </tr>\n",
       "    <tr>\n",
       "      <th>5</th>\n",
       "      <td>LzZXx</td>\n",
       "      <td>-0.758092</td>\n",
       "      <td>0.710691</td>\n",
       "      <td>2.585887</td>\n",
       "      <td>90.222465</td>\n",
       "    </tr>\n",
       "    <tr>\n",
       "      <th>6</th>\n",
       "      <td>WBHRv</td>\n",
       "      <td>-0.574891</td>\n",
       "      <td>0.317727</td>\n",
       "      <td>1.773745</td>\n",
       "      <td>45.641478</td>\n",
       "    </tr>\n",
       "    <tr>\n",
       "      <th>7</th>\n",
       "      <td>XO8fn</td>\n",
       "      <td>-1.906649</td>\n",
       "      <td>-2.458350</td>\n",
       "      <td>-0.177097</td>\n",
       "      <td>72.480640</td>\n",
       "    </tr>\n",
       "    <tr>\n",
       "      <th>8</th>\n",
       "      <td>ybmQ5</td>\n",
       "      <td>1.776292</td>\n",
       "      <td>-0.279356</td>\n",
       "      <td>3.004156</td>\n",
       "      <td>106.616832</td>\n",
       "    </tr>\n",
       "    <tr>\n",
       "      <th>9</th>\n",
       "      <td>OilcN</td>\n",
       "      <td>-1.214452</td>\n",
       "      <td>-0.439314</td>\n",
       "      <td>5.922514</td>\n",
       "      <td>52.954532</td>\n",
       "    </tr>\n",
       "  </tbody>\n",
       "</table>\n",
       "</div>"
      ],
      "text/plain": [
       "      id        f0        f1        f2     product\n",
       "0  fwXo0 -1.146987  0.963328 -0.828965   27.758673\n",
       "1  WJtFt  0.262778  0.269839 -2.530187   56.069697\n",
       "2  ovLUW  0.194587  0.289035 -5.586433   62.871910\n",
       "3  q6cA6  2.236060 -0.553760  0.930038  114.572842\n",
       "4  WPMUX -0.515993  1.716266  5.899011  149.600746\n",
       "5  LzZXx -0.758092  0.710691  2.585887   90.222465\n",
       "6  WBHRv -0.574891  0.317727  1.773745   45.641478\n",
       "7  XO8fn -1.906649 -2.458350 -0.177097   72.480640\n",
       "8  ybmQ5  1.776292 -0.279356  3.004156  106.616832\n",
       "9  OilcN -1.214452 -0.439314  5.922514   52.954532"
      ]
     },
     "metadata": {},
     "output_type": "display_data"
    },
    {
     "name": "stdout",
     "output_type": "stream",
     "text": [
      "<class 'pandas.core.frame.DataFrame'>\n",
      "RangeIndex: 100000 entries, 0 to 99999\n",
      "Data columns (total 5 columns):\n",
      " #   Column   Non-Null Count   Dtype  \n",
      "---  ------   --------------   -----  \n",
      " 0   id       100000 non-null  object \n",
      " 1   f0       100000 non-null  float64\n",
      " 2   f1       100000 non-null  float64\n",
      " 3   f2       100000 non-null  float64\n",
      " 4   product  100000 non-null  float64\n",
      "dtypes: float64(4), object(1)\n",
      "memory usage: 3.8+ MB\n"
     ]
    },
    {
     "data": {
      "text/plain": [
       "None"
      ]
     },
     "metadata": {},
     "output_type": "display_data"
    },
    {
     "data": {
      "text/html": [
       "<div>\n",
       "<style scoped>\n",
       "    .dataframe tbody tr th:only-of-type {\n",
       "        vertical-align: middle;\n",
       "    }\n",
       "\n",
       "    .dataframe tbody tr th {\n",
       "        vertical-align: top;\n",
       "    }\n",
       "\n",
       "    .dataframe thead th {\n",
       "        text-align: right;\n",
       "    }\n",
       "</style>\n",
       "<table border=\"1\" class=\"dataframe\">\n",
       "  <thead>\n",
       "    <tr style=\"text-align: right;\">\n",
       "      <th></th>\n",
       "      <th>f0</th>\n",
       "      <th>f1</th>\n",
       "      <th>f2</th>\n",
       "      <th>product</th>\n",
       "    </tr>\n",
       "  </thead>\n",
       "  <tbody>\n",
       "    <tr>\n",
       "      <th>count</th>\n",
       "      <td>100000.000000</td>\n",
       "      <td>100000.000000</td>\n",
       "      <td>100000.000000</td>\n",
       "      <td>100000.000000</td>\n",
       "    </tr>\n",
       "    <tr>\n",
       "      <th>mean</th>\n",
       "      <td>0.002023</td>\n",
       "      <td>-0.002081</td>\n",
       "      <td>2.495128</td>\n",
       "      <td>95.000000</td>\n",
       "    </tr>\n",
       "    <tr>\n",
       "      <th>std</th>\n",
       "      <td>1.732045</td>\n",
       "      <td>1.730417</td>\n",
       "      <td>3.473445</td>\n",
       "      <td>44.749921</td>\n",
       "    </tr>\n",
       "    <tr>\n",
       "      <th>min</th>\n",
       "      <td>-8.760004</td>\n",
       "      <td>-7.084020</td>\n",
       "      <td>-11.970335</td>\n",
       "      <td>0.000000</td>\n",
       "    </tr>\n",
       "    <tr>\n",
       "      <th>25%</th>\n",
       "      <td>-1.162288</td>\n",
       "      <td>-1.174820</td>\n",
       "      <td>0.130359</td>\n",
       "      <td>59.450441</td>\n",
       "    </tr>\n",
       "    <tr>\n",
       "      <th>50%</th>\n",
       "      <td>0.009424</td>\n",
       "      <td>-0.009482</td>\n",
       "      <td>2.484236</td>\n",
       "      <td>94.925613</td>\n",
       "    </tr>\n",
       "    <tr>\n",
       "      <th>75%</th>\n",
       "      <td>1.158535</td>\n",
       "      <td>1.163678</td>\n",
       "      <td>4.858794</td>\n",
       "      <td>130.595027</td>\n",
       "    </tr>\n",
       "    <tr>\n",
       "      <th>max</th>\n",
       "      <td>7.238262</td>\n",
       "      <td>7.844801</td>\n",
       "      <td>16.739402</td>\n",
       "      <td>190.029838</td>\n",
       "    </tr>\n",
       "  </tbody>\n",
       "</table>\n",
       "</div>"
      ],
      "text/plain": [
       "                  f0             f1             f2        product\n",
       "count  100000.000000  100000.000000  100000.000000  100000.000000\n",
       "mean        0.002023      -0.002081       2.495128      95.000000\n",
       "std         1.732045       1.730417       3.473445      44.749921\n",
       "min        -8.760004      -7.084020     -11.970335       0.000000\n",
       "25%        -1.162288      -1.174820       0.130359      59.450441\n",
       "50%         0.009424      -0.009482       2.484236      94.925613\n",
       "75%         1.158535       1.163678       4.858794     130.595027\n",
       "max         7.238262       7.844801      16.739402     190.029838"
      ]
     },
     "metadata": {},
     "output_type": "display_data"
    },
    {
     "data": {
      "text/html": [
       "<div>\n",
       "<style scoped>\n",
       "    .dataframe tbody tr th:only-of-type {\n",
       "        vertical-align: middle;\n",
       "    }\n",
       "\n",
       "    .dataframe tbody tr th {\n",
       "        vertical-align: top;\n",
       "    }\n",
       "\n",
       "    .dataframe thead th {\n",
       "        text-align: right;\n",
       "    }\n",
       "</style>\n",
       "<table border=\"1\" class=\"dataframe\">\n",
       "  <thead>\n",
       "    <tr style=\"text-align: right;\">\n",
       "      <th></th>\n",
       "      <th>id</th>\n",
       "    </tr>\n",
       "  </thead>\n",
       "  <tbody>\n",
       "    <tr>\n",
       "      <th>count</th>\n",
       "      <td>100000</td>\n",
       "    </tr>\n",
       "    <tr>\n",
       "      <th>unique</th>\n",
       "      <td>99996</td>\n",
       "    </tr>\n",
       "    <tr>\n",
       "      <th>top</th>\n",
       "      <td>xCHr8</td>\n",
       "    </tr>\n",
       "    <tr>\n",
       "      <th>freq</th>\n",
       "      <td>2</td>\n",
       "    </tr>\n",
       "  </tbody>\n",
       "</table>\n",
       "</div>"
      ],
      "text/plain": [
       "            id\n",
       "count   100000\n",
       "unique   99996\n",
       "top      xCHr8\n",
       "freq         2"
      ]
     },
     "metadata": {},
     "output_type": "display_data"
    },
    {
     "name": "stdout",
     "output_type": "stream",
     "text": [
      "Количество дублирующихся строк: 0\n"
     ]
    }
   ],
   "source": [
    "# вывод информации по датасету Региона 3\n",
    "data_info(data_2)"
   ]
  },
  {
   "cell_type": "markdown",
   "metadata": {},
   "source": [
    "100000 наблюдений, отсутствуют пропуски, данные импортируются в корректном формате. В столбце ID снова 4 дубликата с разными значениями параметров."
   ]
  },
  {
   "cell_type": "code",
   "execution_count": 11,
   "metadata": {},
   "outputs": [
    {
     "data": {
      "text/html": [
       "<div>\n",
       "<style scoped>\n",
       "    .dataframe tbody tr th:only-of-type {\n",
       "        vertical-align: middle;\n",
       "    }\n",
       "\n",
       "    .dataframe tbody tr th {\n",
       "        vertical-align: top;\n",
       "    }\n",
       "\n",
       "    .dataframe thead th {\n",
       "        text-align: right;\n",
       "    }\n",
       "</style>\n",
       "<table border=\"1\" class=\"dataframe\">\n",
       "  <thead>\n",
       "    <tr style=\"text-align: right;\">\n",
       "      <th></th>\n",
       "      <th>id</th>\n",
       "      <th>f0</th>\n",
       "      <th>f1</th>\n",
       "      <th>f2</th>\n",
       "      <th>product</th>\n",
       "    </tr>\n",
       "  </thead>\n",
       "  <tbody>\n",
       "    <tr>\n",
       "      <th>45404</th>\n",
       "      <td>KUPhW</td>\n",
       "      <td>0.231846</td>\n",
       "      <td>-1.698941</td>\n",
       "      <td>4.990775</td>\n",
       "      <td>11.716299</td>\n",
       "    </tr>\n",
       "    <tr>\n",
       "      <th>55967</th>\n",
       "      <td>KUPhW</td>\n",
       "      <td>1.211150</td>\n",
       "      <td>3.176408</td>\n",
       "      <td>5.543540</td>\n",
       "      <td>132.831802</td>\n",
       "    </tr>\n",
       "    <tr>\n",
       "      <th>11449</th>\n",
       "      <td>VF7Jo</td>\n",
       "      <td>2.122656</td>\n",
       "      <td>-0.858275</td>\n",
       "      <td>5.746001</td>\n",
       "      <td>181.716817</td>\n",
       "    </tr>\n",
       "    <tr>\n",
       "      <th>49564</th>\n",
       "      <td>VF7Jo</td>\n",
       "      <td>-0.883115</td>\n",
       "      <td>0.560537</td>\n",
       "      <td>0.723601</td>\n",
       "      <td>136.233420</td>\n",
       "    </tr>\n",
       "    <tr>\n",
       "      <th>44378</th>\n",
       "      <td>Vcm5J</td>\n",
       "      <td>-1.229484</td>\n",
       "      <td>-2.439204</td>\n",
       "      <td>1.222909</td>\n",
       "      <td>137.968290</td>\n",
       "    </tr>\n",
       "    <tr>\n",
       "      <th>95090</th>\n",
       "      <td>Vcm5J</td>\n",
       "      <td>2.587702</td>\n",
       "      <td>1.986875</td>\n",
       "      <td>2.482245</td>\n",
       "      <td>92.327572</td>\n",
       "    </tr>\n",
       "    <tr>\n",
       "      <th>28039</th>\n",
       "      <td>xCHr8</td>\n",
       "      <td>1.633027</td>\n",
       "      <td>0.368135</td>\n",
       "      <td>-2.378367</td>\n",
       "      <td>6.120525</td>\n",
       "    </tr>\n",
       "    <tr>\n",
       "      <th>43233</th>\n",
       "      <td>xCHr8</td>\n",
       "      <td>-0.847066</td>\n",
       "      <td>2.101796</td>\n",
       "      <td>5.597130</td>\n",
       "      <td>184.388641</td>\n",
       "    </tr>\n",
       "  </tbody>\n",
       "</table>\n",
       "</div>"
      ],
      "text/plain": [
       "          id        f0        f1        f2     product\n",
       "45404  KUPhW  0.231846 -1.698941  4.990775   11.716299\n",
       "55967  KUPhW  1.211150  3.176408  5.543540  132.831802\n",
       "11449  VF7Jo  2.122656 -0.858275  5.746001  181.716817\n",
       "49564  VF7Jo -0.883115  0.560537  0.723601  136.233420\n",
       "44378  Vcm5J -1.229484 -2.439204  1.222909  137.968290\n",
       "95090  Vcm5J  2.587702  1.986875  2.482245   92.327572\n",
       "28039  xCHr8  1.633027  0.368135 -2.378367    6.120525\n",
       "43233  xCHr8 -0.847066  2.101796  5.597130  184.388641"
      ]
     },
     "execution_count": 11,
     "metadata": {},
     "output_type": "execute_result"
    }
   ],
   "source": [
    "duplicate_id = data_2[data_2.duplicated(['id'])]['id']\n",
    "data_2.query('id in @duplicate_id').sort_values(by='id')"
   ]
  },
  {
   "cell_type": "markdown",
   "metadata": {},
   "source": [
    "### Анализ данных"
   ]
  },
  {
   "cell_type": "markdown",
   "metadata": {},
   "source": [
    "Во всех трех датасетах используются одинаковые названия переменных, вынесем их в список (все, кроме id). Все интересующие нас переменные количественные, рассмотрим их подробнее с помощью гистограмм и боксплотов."
   ]
  },
  {
   "cell_type": "code",
   "execution_count": 12,
   "metadata": {},
   "outputs": [],
   "source": [
    "# создаем список с названиями переменных\n",
    "data_col_names = ['f0', 'f1', 'f2', 'product']"
   ]
  },
  {
   "cell_type": "markdown",
   "metadata": {},
   "source": [
    "#### Регион 1"
   ]
  },
  {
   "cell_type": "code",
   "execution_count": 13,
   "metadata": {
    "scrolled": true
   },
   "outputs": [
    {
     "data": {
      "image/png": "[encoded data removed]",
      "text/plain": [
       "<Figure size 1700x300 with 2 Axes>"
      ]
     },
     "metadata": {},
     "output_type": "display_data"
    },
    {
     "data": {
      "image/png": "[encoded data removed]",
      "text/plain": [
       "<Figure size 1700x300 with 2 Axes>"
      ]
     },
     "metadata": {},
     "output_type": "display_data"
    },
    {
     "data": {
      "image/png": "[encoded data removed]",
      "text/plain": [
       "<Figure size 1700x300 with 2 Axes>"
      ]
     },
     "metadata": {},
     "output_type": "display_data"
    },
    {
     "data": {
      "image/png": "[encoded data removed]",
      "text/plain": [
       "<Figure size 1700x300 with 2 Axes>"
      ]
     },
     "metadata": {},
     "output_type": "display_data"
    }
   ],
   "source": [
    "# построим гистограммы и диаграммы размаха\n",
    "for i in data_col_names:\n",
    "    hist_box(data_0, i)"
   ]
  },
  {
   "cell_type": "code",
   "execution_count": 14,
   "metadata": {},
   "outputs": [
    {
     "data": {
      "image/png": "[encoded data removed]",
      "text/plain": [
       "<Figure size 1700x1000 with 2 Axes>"
      ]
     },
     "metadata": {},
     "output_type": "display_data"
    }
   ],
   "source": [
    "# построим матрицу корреляций\n",
    "plt.figure(figsize = (17,10))\n",
    "sns.heatmap(data_0[data_col_names].corr(method=\"spearman\"), annot=True, fmt='.2f', cmap='BuGn');"
   ]
  },
  {
   "cell_type": "markdown",
   "metadata": {},
   "source": [
    "Распределение признака f2 визуально равномерное. При этом остальные признаки распределены неравномерно.<br>\n",
    "Для признака f2 боксплот фиксирует большое количество выбросов по обе строны, однако на гистограмме явных выбросов не замечено.<br>\n",
    "Между признаками f0 и f1 слабая корреляция -0,47. Также слабая корреляция между признаками f2 и product. Другие корреляции малозначительны либо отсутствуют. Мультиколлинеарности признаков не выявлено."
   ]
  },
  {
   "cell_type": "markdown",
   "metadata": {},
   "source": [
    "#### Регион 2"
   ]
  },
  {
   "cell_type": "code",
   "execution_count": 15,
   "metadata": {
    "scrolled": true
   },
   "outputs": [
    {
     "data": {
      "image/png": "[encoded data removed]",
      "text/plain": [
       "<Figure size 1700x300 with 2 Axes>"
      ]
     },
     "metadata": {},
     "output_type": "display_data"
    },
    {
     "data": {
      "image/png": "[encoded data removed]",
      "text/plain": [
       "<Figure size 1700x300 with 2 Axes>"
      ]
     },
     "metadata": {},
     "output_type": "display_data"
    },
    {
     "data": {
      "image/png": "[encoded data removed]",
      "text/plain": [
       "<Figure size 1700x300 with 2 Axes>"
      ]
     },
     "metadata": {},
     "output_type": "display_data"
    },
    {
     "data": {
      "image/png": "[encoded data removed]",
      "text/plain": [
       "<Figure size 1700x300 with 2 Axes>"
      ]
     },
     "metadata": {},
     "output_type": "display_data"
    }
   ],
   "source": [
    "# построим гистограммы и диаграммы размаха\n",
    "for i in data_col_names:\n",
    "    hist_box(data_1, i)"
   ]
  },
  {
   "cell_type": "code",
   "execution_count": 16,
   "metadata": {},
   "outputs": [
    {
     "ename": "ValueError",
     "evalue": "could not convert string to float: 'kBEdx'",
     "output_type": "error",
     "traceback": [
      "\u001b[1;31m---------------------------------------------------------------------------\u001b[0m",
      "\u001b[1;31mValueError\u001b[0m                                Traceback (most recent call last)",
      "Cell \u001b[1;32mIn[16], line 3\u001b[0m\n\u001b[0;32m      1\u001b[0m \u001b[38;5;66;03m# построим матрицу корреляций\u001b[39;00m\n\u001b[0;32m      2\u001b[0m plt\u001b[38;5;241m.\u001b[39mfigure(figsize \u001b[38;5;241m=\u001b[39m (\u001b[38;5;241m17\u001b[39m,\u001b[38;5;241m10\u001b[39m))\n\u001b[1;32m----> 3\u001b[0m sns\u001b[38;5;241m.\u001b[39mheatmap(data_1\u001b[38;5;241m.\u001b[39mcorr(method\u001b[38;5;241m=\u001b[39m\u001b[38;5;124m\"\u001b[39m\u001b[38;5;124mspearman\u001b[39m\u001b[38;5;124m\"\u001b[39m), annot\u001b[38;5;241m=\u001b[39m\u001b[38;5;28;01mTrue\u001b[39;00m, fmt\u001b[38;5;241m=\u001b[39m\u001b[38;5;124m'\u001b[39m\u001b[38;5;124m.2f\u001b[39m\u001b[38;5;124m'\u001b[39m, cmap\u001b[38;5;241m=\u001b[39m\u001b[38;5;124m'\u001b[39m\u001b[38;5;124mBuGn\u001b[39m\u001b[38;5;124m'\u001b[39m)\n",
      "File \u001b[1;32m~\\anaconda3\\Lib\\site-packages\\pandas\\core\\frame.py:11049\u001b[0m, in \u001b[0;36mDataFrame.corr\u001b[1;34m(self, method, min_periods, numeric_only)\u001b[0m\n\u001b[0;32m  11047\u001b[0m cols \u001b[38;5;241m=\u001b[39m data\u001b[38;5;241m.\u001b[39mcolumns\n\u001b[0;32m  11048\u001b[0m idx \u001b[38;5;241m=\u001b[39m cols\u001b[38;5;241m.\u001b[39mcopy()\n\u001b[1;32m> 11049\u001b[0m mat \u001b[38;5;241m=\u001b[39m data\u001b[38;5;241m.\u001b[39mto_numpy(dtype\u001b[38;5;241m=\u001b[39m\u001b[38;5;28mfloat\u001b[39m, na_value\u001b[38;5;241m=\u001b[39mnp\u001b[38;5;241m.\u001b[39mnan, copy\u001b[38;5;241m=\u001b[39m\u001b[38;5;28;01mFalse\u001b[39;00m)\n\u001b[0;32m  11051\u001b[0m \u001b[38;5;28;01mif\u001b[39;00m method \u001b[38;5;241m==\u001b[39m \u001b[38;5;124m\"\u001b[39m\u001b[38;5;124mpearson\u001b[39m\u001b[38;5;124m\"\u001b[39m:\n\u001b[0;32m  11052\u001b[0m     correl \u001b[38;5;241m=\u001b[39m libalgos\u001b[38;5;241m.\u001b[39mnancorr(mat, minp\u001b[38;5;241m=\u001b[39mmin_periods)\n",
      "File \u001b[1;32m~\\anaconda3\\Lib\\site-packages\\pandas\\core\\frame.py:1993\u001b[0m, in \u001b[0;36mDataFrame.to_numpy\u001b[1;34m(self, dtype, copy, na_value)\u001b[0m\n\u001b[0;32m   1991\u001b[0m \u001b[38;5;28;01mif\u001b[39;00m dtype \u001b[38;5;129;01mis\u001b[39;00m \u001b[38;5;129;01mnot\u001b[39;00m \u001b[38;5;28;01mNone\u001b[39;00m:\n\u001b[0;32m   1992\u001b[0m     dtype \u001b[38;5;241m=\u001b[39m np\u001b[38;5;241m.\u001b[39mdtype(dtype)\n\u001b[1;32m-> 1993\u001b[0m result \u001b[38;5;241m=\u001b[39m \u001b[38;5;28mself\u001b[39m\u001b[38;5;241m.\u001b[39m_mgr\u001b[38;5;241m.\u001b[39mas_array(dtype\u001b[38;5;241m=\u001b[39mdtype, copy\u001b[38;5;241m=\u001b[39mcopy, na_value\u001b[38;5;241m=\u001b[39mna_value)\n\u001b[0;32m   1994\u001b[0m \u001b[38;5;28;01mif\u001b[39;00m result\u001b[38;5;241m.\u001b[39mdtype \u001b[38;5;129;01mis\u001b[39;00m \u001b[38;5;129;01mnot\u001b[39;00m dtype:\n\u001b[0;32m   1995\u001b[0m     result \u001b[38;5;241m=\u001b[39m np\u001b[38;5;241m.\u001b[39masarray(result, dtype\u001b[38;5;241m=\u001b[39mdtype)\n",
      "File \u001b[1;32m~\\anaconda3\\Lib\\site-packages\\pandas\\core\\internals\\managers.py:1694\u001b[0m, in \u001b[0;36mBlockManager.as_array\u001b[1;34m(self, dtype, copy, na_value)\u001b[0m\n\u001b[0;32m   1692\u001b[0m         arr\u001b[38;5;241m.\u001b[39mflags\u001b[38;5;241m.\u001b[39mwriteable \u001b[38;5;241m=\u001b[39m \u001b[38;5;28;01mFalse\u001b[39;00m\n\u001b[0;32m   1693\u001b[0m \u001b[38;5;28;01melse\u001b[39;00m:\n\u001b[1;32m-> 1694\u001b[0m     arr \u001b[38;5;241m=\u001b[39m \u001b[38;5;28mself\u001b[39m\u001b[38;5;241m.\u001b[39m_interleave(dtype\u001b[38;5;241m=\u001b[39mdtype, na_value\u001b[38;5;241m=\u001b[39mna_value)\n\u001b[0;32m   1695\u001b[0m     \u001b[38;5;66;03m# The underlying data was copied within _interleave, so no need\u001b[39;00m\n\u001b[0;32m   1696\u001b[0m     \u001b[38;5;66;03m# to further copy if copy=True or setting na_value\u001b[39;00m\n\u001b[0;32m   1698\u001b[0m \u001b[38;5;28;01mif\u001b[39;00m na_value \u001b[38;5;129;01mis\u001b[39;00m lib\u001b[38;5;241m.\u001b[39mno_default:\n",
      "File \u001b[1;32m~\\anaconda3\\Lib\\site-packages\\pandas\\core\\internals\\managers.py:1753\u001b[0m, in \u001b[0;36mBlockManager._interleave\u001b[1;34m(self, dtype, na_value)\u001b[0m\n\u001b[0;32m   1751\u001b[0m     \u001b[38;5;28;01melse\u001b[39;00m:\n\u001b[0;32m   1752\u001b[0m         arr \u001b[38;5;241m=\u001b[39m blk\u001b[38;5;241m.\u001b[39mget_values(dtype)\n\u001b[1;32m-> 1753\u001b[0m     result[rl\u001b[38;5;241m.\u001b[39mindexer] \u001b[38;5;241m=\u001b[39m arr\n\u001b[0;32m   1754\u001b[0m     itemmask[rl\u001b[38;5;241m.\u001b[39mindexer] \u001b[38;5;241m=\u001b[39m \u001b[38;5;241m1\u001b[39m\n\u001b[0;32m   1756\u001b[0m \u001b[38;5;28;01mif\u001b[39;00m \u001b[38;5;129;01mnot\u001b[39;00m itemmask\u001b[38;5;241m.\u001b[39mall():\n",
      "\u001b[1;31mValueError\u001b[0m: could not convert string to float: 'kBEdx'"
     ]
    },
    {
     "data": {
      "text/plain": [
       "<Figure size 1700x1000 with 0 Axes>"
      ]
     },
     "metadata": {},
     "output_type": "display_data"
    }
   ],
   "source": [
    "# построим матрицу корреляций\n",
    "plt.figure(figsize = (17,10))\n",
    "sns.heatmap(data_1.corr(method=\"spearman\"), annot=True, fmt='.2f', cmap='BuGn');"
   ]
  },
  {
   "cell_type": "code",
   "execution_count": 17,
   "metadata": {},
   "outputs": [
    {
     "data": {
      "image/png": "[encoded data removed]",
      "text/plain": [
       "<Figure size 1700x1000 with 2 Axes>"
      ]
     },
     "metadata": {},
     "output_type": "display_data"
    }
   ],
   "source": [
    "# построим матрицу корреляций\n",
    "plt.figure(figsize = (17,10))\n",
    "sns.heatmap(data_1[data_col_names].corr(method=\"spearman\"), annot=True, fmt='.2f', cmap='BuGn');"
   ]
  },
  {
   "cell_type": "markdown",
   "metadata": {},
   "source": [
    "Признаки f2 и product явно разделяются на отдельные группы значений. У признака f1 визуально нормальное распределение.<br>\n",
    "Для признака f0 обнаружены единичные выбросы ниже границы, которые теоретически можно было бы исключить. Для признака f1 также обнаружено множество выбросов сверху и снизу от границ, которые скорее являются корректными значениями.<br>\n",
    "Обнаружена крайне сильная корреляция между признаками f2 и prodact, которая негативно скажется на качестве модели. Между другими признаками корреляции слабые."
   ]
  },
  {
   "cell_type": "markdown",
   "metadata": {},
   "source": [
    "#### Регион 3"
   ]
  },
  {
   "cell_type": "code",
   "execution_count": 18,
   "metadata": {},
   "outputs": [
    {
     "data": {
      "image/png": "[encoded data removed]",
      "text/plain": [
       "<Figure size 1700x300 with 2 Axes>"
      ]
     },
     "metadata": {},
     "output_type": "display_data"
    },
    {
     "data": {
      "image/png": "[encoded data removed]",
      "text/plain": [
       "<Figure size 1700x300 with 2 Axes>"
      ]
     },
     "metadata": {},
     "output_type": "display_data"
    },
    {
     "data": {
      "image/png": "[encoded data removed]",
      "text/plain": [
       "<Figure size 1700x300 with 2 Axes>"
      ]
     },
     "metadata": {},
     "output_type": "display_data"
    },
    {
     "data": {
      "image/png": "[encoded data removed]",
      "text/plain": [
       "<Figure size 1700x300 with 2 Axes>"
      ]
     },
     "metadata": {},
     "output_type": "display_data"
    }
   ],
   "source": [
    "# построим гистограммы и диаграммы размаха\n",
    "for i in data_col_names:\n",
    "    hist_box(data_2, i)"
   ]
  },
  {
   "cell_type": "code",
   "execution_count": 19,
   "metadata": {},
   "outputs": [
    {
     "data": {
      "image/png": "[encoded data removed]",
      "text/plain": [
       "<Figure size 1700x1000 with 2 Axes>"
      ]
     },
     "metadata": {},
     "output_type": "display_data"
    }
   ],
   "source": [
    "# построим матрицу корреляций\n",
    "plt.figure(figsize = (17,10))\n",
    "sns.heatmap(data_2[data_col_names].corr(method=\"spearman\"), annot=True, fmt='.2f', cmap='BuGn');"
   ]
  },
  {
   "cell_type": "markdown",
   "metadata": {},
   "source": [
    "У признаков f0, f1 и f2 визуально нормальные распределения.<br>\n",
    "У этих же признаков обнаружены выбросы в обе строны, которые больше похожи на нормальные значения.<br>\n",
    "Между признаками f2 и product слабая корреляция в 0,45. Между другими признаками корреляции отсутствуют. Мультиколлинеарности не выявлено."
   ]
  },
  {
   "cell_type": "markdown",
   "metadata": {},
   "source": [
    "### Вывод по этапу Загрузка и подготовка данных"
   ]
  },
  {
   "cell_type": "markdown",
   "metadata": {},
   "source": [
    "Данные не требуют обработки пропусков и корректировки типа отдельных переменных. В данных обнаружены повторы в id скважин, при этом внутри повторов указаны разные значения параметров. Мы не знаем, как именно собирались данные (к примеру, там могли оказаться наблюдения по одной скважине за разные периоды), поэтому с повторами ничего не делаем. Однако, этот момент хотелось бы прояснить у коллег, собравших информацию.\n",
    "\n",
    "В датасете по Региону 2 обнаружена сильная корреляция между f2 и prodact (0,98). Также, некоторые из переменных требуют преобразования в категориальные признаки.\n",
    "\n",
    "Исходя из того, что выборки синтетические и не предполагают внесения изменений - не будем пока устранять найденные проблемы, однако будем иметь их в виду, как потенциальные \"места\" для улучшения качества наших моделей."
   ]
  },
  {
   "cell_type": "markdown",
   "metadata": {},
   "source": [
    "Признаки f2 и product явно разделяются на отдельные группы значений. У признака f1 визуально нормальное распределение.<br>\n",
    "Для признака f0 обнаружены единичные выбросы ниже границы, которые теоретически можно было бы исключить. Для признака f1 также обнаружено множество выбросов сверху и снизу от границ, которые скорее являются корректными значениями.<br>\n",
    "Обнаружена крайне сильная корреляция между признаками f2 и prodact, которая негативно скажется на качестве модели. Между другими признаками корреляции слабые."
   ]
  },
  {
   "cell_type": "markdown",
   "metadata": {},
   "source": [
    "#### Регион 3"
   ]
  },
  {
   "cell_type": "code",
   "execution_count": null,
   "metadata": {},
   "outputs": [],
   "source": [
    "# построим гистограммы и диаграммы размаха\n",
    "for i in data_col_names:\n",
    "    hist_box(data_2, i)"
   ]
  },
  {
   "cell_type": "code",
   "execution_count": null,
   "metadata": {},
   "outputs": [],
   "source": [
    "# построим матрицу корреляций\n",
    "plt.figure(figsize = (17,10))\n",
    "sns.heatmap(data_2.corr(method=\"spearman\"), annot=True, fmt='.2f', cmap='BuGn');"
   ]
  },
  {
   "cell_type": "markdown",
   "metadata": {},
   "source": [
    "У признаков f0, f1 и f2 визуально нормальные распределения.<br>\n",
    "У этих же признаков обнаружены выбросы в обе строны, которые больше похожи на нормальные значения.<br>\n",
    "Между признаками f2 и product слабая корреляция в 0,45. Между другими признаками корреляции отсутствуют. Мультиколлинеарности не выявлено."
   ]
  },
  {
   "cell_type": "markdown",
   "metadata": {},
   "source": [
    "### Вывод по этапу Загрузка и подготовка данных"
   ]
  },
  {
   "cell_type": "markdown",
   "metadata": {},
   "source": [
    "Данные не требуют обработки пропусков и корректировки типа отдельных переменных. В данных обнаружены повторы в id скважин, при этом внутри повторов указаны разные значения параметров. Мы не знаем, как именно собирались данные (к примеру, там могли оказаться наблюдения по одной скважине за разные периоды), поэтому с повторами ничего не делаем. Однако, этот момент хотелось бы прояснить у коллег, собравших информацию.\n",
    "\n",
    "В датасете по Региону 2 обнаружена сильная корреляция между f2 и prodact (0,98). Также, некоторые из переменных требуют преобразования в категориальные признаки.\n",
    "\n",
    "Исходя из того, что выборки синтетические и не предполагают внесения изменений - не будем пока устранять найденные проблемы, однако будем иметь их в виду, как потенциальные \"места\" для улучшения качества наших моделей."
   ]
  },
  {
   "cell_type": "markdown",
   "metadata": {},
   "source": [
    "## Обучение и проверка модели"
   ]
  },
  {
   "cell_type": "markdown",
   "metadata": {},
   "source": [
    "Перед обучением модели проведем кодировку количественных признаков."
   ]
  },
  {
   "cell_type": "code",
   "execution_count": 20,
   "metadata": {},
   "outputs": [
    {
     "data": {
      "text/html": [
       "<div>\n",
       "<style scoped>\n",
       "    .dataframe tbody tr th:only-of-type {\n",
       "        vertical-align: middle;\n",
       "    }\n",
       "\n",
       "    .dataframe tbody tr th {\n",
       "        vertical-align: top;\n",
       "    }\n",
       "\n",
       "    .dataframe thead th {\n",
       "        text-align: right;\n",
       "    }\n",
       "</style>\n",
       "<table border=\"1\" class=\"dataframe\">\n",
       "  <thead>\n",
       "    <tr style=\"text-align: right;\">\n",
       "      <th></th>\n",
       "      <th>f0</th>\n",
       "      <th>f1</th>\n",
       "      <th>f2</th>\n",
       "      <th>product</th>\n",
       "    </tr>\n",
       "  </thead>\n",
       "  <tbody>\n",
       "    <tr>\n",
       "      <th>0</th>\n",
       "      <td>0.705745</td>\n",
       "      <td>-0.497823</td>\n",
       "      <td>1.221170</td>\n",
       "      <td>105.280062</td>\n",
       "    </tr>\n",
       "    <tr>\n",
       "      <th>1</th>\n",
       "      <td>1.334711</td>\n",
       "      <td>-0.340164</td>\n",
       "      <td>4.365080</td>\n",
       "      <td>73.037750</td>\n",
       "    </tr>\n",
       "    <tr>\n",
       "      <th>2</th>\n",
       "      <td>1.022732</td>\n",
       "      <td>0.151990</td>\n",
       "      <td>1.419926</td>\n",
       "      <td>85.265647</td>\n",
       "    </tr>\n",
       "    <tr>\n",
       "      <th>3</th>\n",
       "      <td>-0.032172</td>\n",
       "      <td>0.139033</td>\n",
       "      <td>2.978566</td>\n",
       "      <td>168.620776</td>\n",
       "    </tr>\n",
       "    <tr>\n",
       "      <th>4</th>\n",
       "      <td>1.988431</td>\n",
       "      <td>0.155413</td>\n",
       "      <td>4.751769</td>\n",
       "      <td>154.036647</td>\n",
       "    </tr>\n",
       "  </tbody>\n",
       "</table>\n",
       "</div>"
      ],
      "text/plain": [
       "         f0        f1        f2     product\n",
       "0  0.705745 -0.497823  1.221170  105.280062\n",
       "1  1.334711 -0.340164  4.365080   73.037750\n",
       "2  1.022732  0.151990  1.419926   85.265647\n",
       "3 -0.032172  0.139033  2.978566  168.620776\n",
       "4  1.988431  0.155413  4.751769  154.036647"
      ]
     },
     "execution_count": 20,
     "metadata": {},
     "output_type": "execute_result"
    }
   ],
   "source": [
    "# кодировка количественных переменных в первом датасете\n",
    "data_0 = data_0.drop(['id'], axis=1)\n",
    "encoder_0 = OrdinalEncoder() \n",
    "encoder_0.fit(data_0)\n",
    "data_ordinal_0 = pd.DataFrame(encoder_0.transform(data_0), columns=data_0.columns)\n",
    "data_0.head()"
   ]
  },
  {
   "cell_type": "code",
   "execution_count": 21,
   "metadata": {},
   "outputs": [
    {
     "data": {
      "text/html": [
       "<div>\n",
       "<style scoped>\n",
       "    .dataframe tbody tr th:only-of-type {\n",
       "        vertical-align: middle;\n",
       "    }\n",
       "\n",
       "    .dataframe tbody tr th {\n",
       "        vertical-align: top;\n",
       "    }\n",
       "\n",
       "    .dataframe thead th {\n",
       "        text-align: right;\n",
       "    }\n",
       "</style>\n",
       "<table border=\"1\" class=\"dataframe\">\n",
       "  <thead>\n",
       "    <tr style=\"text-align: right;\">\n",
       "      <th></th>\n",
       "      <th>f0</th>\n",
       "      <th>f1</th>\n",
       "      <th>f2</th>\n",
       "      <th>product</th>\n",
       "    </tr>\n",
       "  </thead>\n",
       "  <tbody>\n",
       "    <tr>\n",
       "      <th>0</th>\n",
       "      <td>-15.001348</td>\n",
       "      <td>-8.276000</td>\n",
       "      <td>-0.005876</td>\n",
       "      <td>3.179103</td>\n",
       "    </tr>\n",
       "    <tr>\n",
       "      <th>1</th>\n",
       "      <td>14.272088</td>\n",
       "      <td>-3.475083</td>\n",
       "      <td>0.999183</td>\n",
       "      <td>26.953261</td>\n",
       "    </tr>\n",
       "    <tr>\n",
       "      <th>2</th>\n",
       "      <td>6.263187</td>\n",
       "      <td>-5.948386</td>\n",
       "      <td>5.001160</td>\n",
       "      <td>134.766305</td>\n",
       "    </tr>\n",
       "    <tr>\n",
       "      <th>3</th>\n",
       "      <td>-13.081196</td>\n",
       "      <td>-11.506057</td>\n",
       "      <td>4.999415</td>\n",
       "      <td>137.945408</td>\n",
       "    </tr>\n",
       "    <tr>\n",
       "      <th>4</th>\n",
       "      <td>12.702195</td>\n",
       "      <td>-8.147433</td>\n",
       "      <td>5.004363</td>\n",
       "      <td>134.766305</td>\n",
       "    </tr>\n",
       "  </tbody>\n",
       "</table>\n",
       "</div>"
      ],
      "text/plain": [
       "          f0         f1        f2     product\n",
       "0 -15.001348  -8.276000 -0.005876    3.179103\n",
       "1  14.272088  -3.475083  0.999183   26.953261\n",
       "2   6.263187  -5.948386  5.001160  134.766305\n",
       "3 -13.081196 -11.506057  4.999415  137.945408\n",
       "4  12.702195  -8.147433  5.004363  134.766305"
      ]
     },
     "execution_count": 21,
     "metadata": {},
     "output_type": "execute_result"
    }
   ],
   "source": [
    "# кодировка количественных переменных во втором датасете\n",
    "data_1 = data_1.drop(['id'], axis=1)\n",
    "encoder_1 = OrdinalEncoder() \n",
    "encoder_1.fit(data_1)\n",
    "data_ordinal_1 = pd.DataFrame(encoder_1.transform(data_1), columns=data_1.columns)\n",
    "data_1.head()"
   ]
  },
  {
   "cell_type": "code",
   "execution_count": 22,
   "metadata": {
    "scrolled": true
   },
   "outputs": [
    {
     "data": {
      "text/html": [
       "<div>\n",
       "<style scoped>\n",
       "    .dataframe tbody tr th:only-of-type {\n",
       "        vertical-align: middle;\n",
       "    }\n",
       "\n",
       "    .dataframe tbody tr th {\n",
       "        vertical-align: top;\n",
       "    }\n",
       "\n",
       "    .dataframe thead th {\n",
       "        text-align: right;\n",
       "    }\n",
       "</style>\n",
       "<table border=\"1\" class=\"dataframe\">\n",
       "  <thead>\n",
       "    <tr style=\"text-align: right;\">\n",
       "      <th></th>\n",
       "      <th>f0</th>\n",
       "      <th>f1</th>\n",
       "      <th>f2</th>\n",
       "      <th>product</th>\n",
       "    </tr>\n",
       "  </thead>\n",
       "  <tbody>\n",
       "    <tr>\n",
       "      <th>0</th>\n",
       "      <td>-1.146987</td>\n",
       "      <td>0.963328</td>\n",
       "      <td>-0.828965</td>\n",
       "      <td>27.758673</td>\n",
       "    </tr>\n",
       "    <tr>\n",
       "      <th>1</th>\n",
       "      <td>0.262778</td>\n",
       "      <td>0.269839</td>\n",
       "      <td>-2.530187</td>\n",
       "      <td>56.069697</td>\n",
       "    </tr>\n",
       "    <tr>\n",
       "      <th>2</th>\n",
       "      <td>0.194587</td>\n",
       "      <td>0.289035</td>\n",
       "      <td>-5.586433</td>\n",
       "      <td>62.871910</td>\n",
       "    </tr>\n",
       "    <tr>\n",
       "      <th>3</th>\n",
       "      <td>2.236060</td>\n",
       "      <td>-0.553760</td>\n",
       "      <td>0.930038</td>\n",
       "      <td>114.572842</td>\n",
       "    </tr>\n",
       "    <tr>\n",
       "      <th>4</th>\n",
       "      <td>-0.515993</td>\n",
       "      <td>1.716266</td>\n",
       "      <td>5.899011</td>\n",
       "      <td>149.600746</td>\n",
       "    </tr>\n",
       "  </tbody>\n",
       "</table>\n",
       "</div>"
      ],
      "text/plain": [
       "         f0        f1        f2     product\n",
       "0 -1.146987  0.963328 -0.828965   27.758673\n",
       "1  0.262778  0.269839 -2.530187   56.069697\n",
       "2  0.194587  0.289035 -5.586433   62.871910\n",
       "3  2.236060 -0.553760  0.930038  114.572842\n",
       "4 -0.515993  1.716266  5.899011  149.600746"
      ]
     },
     "execution_count": 22,
     "metadata": {},
     "output_type": "execute_result"
    }
   ],
   "source": [
    "# кодировка количественных переменных в третьем датасете\n",
    "data_2 = data_2.drop(['id'], axis=1)\n",
    "encoder_2 = OrdinalEncoder() \n",
    "encoder_2.fit(data_2)\n",
    "data_ordinal_2 = pd.DataFrame(encoder_2.transform(data_2), columns=data_2.columns)\n",
    "data_2.head()"
   ]
  },
  {
   "cell_type": "code",
   "execution_count": 23,
   "metadata": {},
   "outputs": [],
   "source": [
    "# собираем датасеты в список\n",
    "data = [data_0, data_1, data_2]"
   ]
  },
  {
   "cell_type": "markdown",
   "metadata": {},
   "source": [
    "Далее - делим датасеты на обучающую и валидационную выборки в соотношении 75:25 и обучим модели. Для этого создадим отдельную функцию."
   ]
  },
  {
   "cell_type": "code",
   "execution_count": 24,
   "metadata": {},
   "outputs": [],
   "source": [
    "def work_with_data(data):\n",
    "    # отделяем целевой признак\n",
    "    target = data['product']\n",
    "    features = data.drop(['product'], axis=1)\n",
    "    # делим на выборки\n",
    "    features_train, features_valid, target_train, target_valid = train_test_split(\n",
    "        features, target, test_size=0.25, random_state=42)\n",
    "\n",
    "    # обучаем модель\n",
    "    model=LinearRegression()\n",
    "    model.fit(features_train,target_train)\n",
    "    # делаем предсказание\n",
    "    predict=model.predict(features_valid)\n",
    "    \n",
    "    # сохраняем предсказанные значения\n",
    "    predictions_valid.append(predict)\n",
    "    # сохраняем среднее предсказанное значение\n",
    "    predictions_mean.append(round(predict.mean(),0))\n",
    "    # рассчитываем метрику RMSE\n",
    "    rmse = mean_squared_error(target_valid, predict)**0.5\n",
    "    \n",
    "    # добавим правильные ответы в списки\n",
    "    true_target.append(target_train.reset_index(drop=True))\n",
    "    targets_valid.append(target_valid.reset_index(drop=True))\n",
    "    \n",
    "    # печатаем вывод\n",
    "    print('data_%.0f'% n, \"; регион \", n+1)\n",
    "    print('Тренировочная выборка', target_valid.shape[0]/target.shape[0])\n",
    "    print('Валидационная выборка', target_train.shape[0]/target.shape[0])\n",
    "    print('RMSE: %.2f'% rmse)\n",
    "    print('Коэффициент детерминации: %.2f' % r2_score(target_valid, predict))\n",
    "    print('Средний запас предсказанного сырья: %.2f' % predict.mean())\n",
    "    print()"
   ]
  },
  {
   "cell_type": "code",
   "execution_count": 25,
   "metadata": {},
   "outputs": [],
   "source": [
    "# создадим список предсказанного объема сырья на валидационной выборке\n",
    "predictions_valid = []\n",
    "# список правильных ответов на валидационной выборке\n",
    "true_target = []\n",
    "targets_valid = []\n",
    "# создадим список средних предсказанных объемов сырья\n",
    "predictions_mean = []"
   ]
  },
  {
   "cell_type": "code",
   "execution_count": 26,
   "metadata": {
    "scrolled": true
   },
   "outputs": [
    {
     "name": "stdout",
     "output_type": "stream",
     "text": [
      "data_0 ; регион  1\n",
      "Тренировочная выборка 0.25\n",
      "Валидационная выборка 0.75\n",
      "RMSE: 37.76\n",
      "Коэффициент детерминации: 0.27\n",
      "Средний запас предсказанного сырья: 92.40\n",
      "\n",
      "data_1 ; регион  2\n",
      "Тренировочная выборка 0.25\n",
      "Валидационная выборка 0.75\n",
      "RMSE: 0.89\n",
      "Коэффициент детерминации: 1.00\n",
      "Средний запас предсказанного сырья: 68.71\n",
      "\n",
      "data_2 ; регион  3\n",
      "Тренировочная выборка 0.25\n",
      "Валидационная выборка 0.75\n",
      "RMSE: 40.15\n",
      "Коэффициент детерминации: 0.20\n",
      "Средний запас предсказанного сырья: 94.77\n",
      "\n"
     ]
    }
   ],
   "source": [
    "# применим функцию к датасетам\n",
    "n = 0\n",
    "for i in data:\n",
    "    work_with_data(i)\n",
    "    n+=1"
   ]
  },
  {
   "cell_type": "code",
   "execution_count": 27,
   "metadata": {
    "scrolled": true
   },
   "outputs": [
    {
     "data": {
      "image/png": "[encoded data removed]",
      "text/plain": [
       "<Figure size 640x480 with 1 Axes>"
      ]
     },
     "metadata": {},
     "output_type": "display_data"
    }
   ],
   "source": [
    "# визуализируем соотношение предсказанного объема сырья\n",
    "labels = ['Регион 1', 'Регион 2', 'Регион 3']\n",
    "fig, ax = plt.subplots()\n",
    "ax.pie(predictions_mean, labels=labels,\n",
    "      autopct = lambda pct: func(pct, predictions_mean),\n",
    "      colors=sns.color_palette('BuGn'))\n",
    "ax.set_title(\"Средние запасы нефти по регионам\")\n",
    "plt.show();"
   ]
  },
  {
   "cell_type": "markdown",
   "metadata": {},
   "source": [
    "### Вывод по этапу Обучение и проверка модели"
   ]
  },
  {
   "cell_type": "markdown",
   "metadata": {},
   "source": [
    "Среди обученных моделей, модель для второго региона (data_1) показывает крайне низкое значение RMSE (0,89), что говорит о ее возможном переобучении. Для устранения переобучения модели следует устранить мультиколлинеарность признаков, а именно высокую корреляцию между f2 и product.<br>\n",
    "Метрики RMSE двух других моделей (37,76 для региона 1, data_0, и 40,15 для региона 3, data_2) велики в сравнении со средними запасами нефти, что говорит о сильном разбросе данных в валидационных выборках.<br>\n",
    "По предсказанному объему нефти регион 2 значительно отстает от остальных - 69 тыс. баррелей."
   ]
  },
  {
   "cell_type": "markdown",
   "metadata": {},
   "source": [
    "## Подготовка к расчету прибыли"
   ]
  },
  {
   "cell_type": "markdown",
   "metadata": {},
   "source": [
    "Вынесем данные нам константы в отдельные переменные и рассчитаем необходимые нам показатели."
   ]
  },
  {
   "cell_type": "code",
   "execution_count": 28,
   "metadata": {},
   "outputs": [],
   "source": [
    "# бюджет на разработку скважин в регионе, тыс. руб.\n",
    "BUDGET = 10000000\n",
    "# доход с каждой единицы продукта, тыс. руб.\n",
    "INCOME = 450 \n",
    "# максимально допустимая вероятность убытков\n",
    "PROBABILITY_LOSSES = 2.5/100"
   ]
  },
  {
   "cell_type": "code",
   "execution_count": 29,
   "metadata": {},
   "outputs": [
    {
     "name": "stdout",
     "output_type": "stream",
     "text": [
      "Бюджет на разработку одной скважины: 50000.0 тыс.руб\n"
     ]
    }
   ],
   "source": [
    "# подсчет бюджета на разработку одной скважины\n",
    "budget_on_well = (BUDGET/200)\n",
    "print('Бюджет на разработку одной скважины:', budget_on_well,'тыс.руб')"
   ]
  },
  {
   "cell_type": "code",
   "execution_count": 30,
   "metadata": {},
   "outputs": [
    {
     "name": "stdout",
     "output_type": "stream",
     "text": [
      "Точка безубыточности: 22222 тыс. баррелей на каждый регион.\n",
      "\n",
      "Средний объем нефти в скважине, требуемый для безубыточной работы: 111 тыс. баррелей.\n"
     ]
    }
   ],
   "source": [
    "# подсчет точки безубыточности для региона\n",
    "break_even = BUDGET / INCOME\n",
    "print(\"Точка безубыточности: {0:.0f} тыс. баррелей на каждый регион.\\n\". \\\n",
    "      format(break_even))\n",
    "\n",
    "# подсчет точки безубыточности для скважины\n",
    "breakeven_volume = break_even / 200\n",
    "print(\"Средний объем нефти в скважине, требуемый для безубыточной работы: {0:.0f} тыс. баррелей.\". \\\n",
    "      format(breakeven_volume))"
   ]
  },
  {
   "cell_type": "code",
   "execution_count": 31,
   "metadata": {},
   "outputs": [
    {
     "name": "stdout",
     "output_type": "stream",
     "text": [
      "Cредний запас сырья в Регионе 1: 92.50 тыс.баррелей\n",
      "Cредний запас сырья в Регионе 2: 68.83 тыс.баррелей\n",
      "Cредний запас сырья в Регионе 3: 95.00 тыс.баррелей\n"
     ]
    }
   ],
   "source": [
    "# подсчет средних запасов сырья по изначальным данным\n",
    "print('Cредний запас сырья в Регионе 1: %.2f тыс.баррелей'%data_0['product'].mean())\n",
    "print('Cредний запас сырья в Регионе 2: %.2f тыс.баррелей'%data_1['product'].mean())\n",
    "print('Cредний запас сырья в Регионе 3: %.2f тыс.баррелей'%data_2['product'].mean())"
   ]
  },
  {
   "cell_type": "markdown",
   "metadata": {},
   "source": [
    "В каждом из регионов средний запас нефти меньше, чем этого требуется для безубыточной работы: 68,83 - 95 тыс. бар. против 111 тыс. бар."
   ]
  },
  {
   "cell_type": "code",
   "execution_count": 32,
   "metadata": {},
   "outputs": [
    {
     "data": {
      "text/html": [
       "<div>\n",
       "<style scoped>\n",
       "    .dataframe tbody tr th:only-of-type {\n",
       "        vertical-align: middle;\n",
       "    }\n",
       "\n",
       "    .dataframe tbody tr th {\n",
       "        vertical-align: top;\n",
       "    }\n",
       "\n",
       "    .dataframe thead th {\n",
       "        text-align: right;\n",
       "    }\n",
       "</style>\n",
       "<table border=\"1\" class=\"dataframe\">\n",
       "  <thead>\n",
       "    <tr style=\"text-align: right;\">\n",
       "      <th></th>\n",
       "      <th>f0</th>\n",
       "      <th>f1</th>\n",
       "      <th>f2</th>\n",
       "      <th>product</th>\n",
       "      <th>profit</th>\n",
       "    </tr>\n",
       "  </thead>\n",
       "  <tbody>\n",
       "    <tr>\n",
       "      <th>0</th>\n",
       "      <td>0.705745</td>\n",
       "      <td>-0.497823</td>\n",
       "      <td>1.221170</td>\n",
       "      <td>105.280062</td>\n",
       "      <td>47376.03</td>\n",
       "    </tr>\n",
       "    <tr>\n",
       "      <th>1</th>\n",
       "      <td>1.334711</td>\n",
       "      <td>-0.340164</td>\n",
       "      <td>4.365080</td>\n",
       "      <td>73.037750</td>\n",
       "      <td>32866.99</td>\n",
       "    </tr>\n",
       "    <tr>\n",
       "      <th>2</th>\n",
       "      <td>1.022732</td>\n",
       "      <td>0.151990</td>\n",
       "      <td>1.419926</td>\n",
       "      <td>85.265647</td>\n",
       "      <td>38369.54</td>\n",
       "    </tr>\n",
       "    <tr>\n",
       "      <th>3</th>\n",
       "      <td>-0.032172</td>\n",
       "      <td>0.139033</td>\n",
       "      <td>2.978566</td>\n",
       "      <td>168.620776</td>\n",
       "      <td>75879.35</td>\n",
       "    </tr>\n",
       "    <tr>\n",
       "      <th>4</th>\n",
       "      <td>1.988431</td>\n",
       "      <td>0.155413</td>\n",
       "      <td>4.751769</td>\n",
       "      <td>154.036647</td>\n",
       "      <td>69316.49</td>\n",
       "    </tr>\n",
       "  </tbody>\n",
       "</table>\n",
       "</div>"
      ],
      "text/plain": [
       "         f0        f1        f2     product    profit\n",
       "0  0.705745 -0.497823  1.221170  105.280062  47376.03\n",
       "1  1.334711 -0.340164  4.365080   73.037750  32866.99\n",
       "2  1.022732  0.151990  1.419926   85.265647  38369.54\n",
       "3 -0.032172  0.139033  2.978566  168.620776  75879.35\n",
       "4  1.988431  0.155413  4.751769  154.036647  69316.49"
      ]
     },
     "execution_count": 32,
     "metadata": {},
     "output_type": "execute_result"
    }
   ],
   "source": [
    "# добавим доход с каждой скважины в Регионе 1\n",
    "data_0['profit']=(data_0['product']*(INCOME)).round(2)\n",
    "data_0.head()"
   ]
  },
  {
   "cell_type": "code",
   "execution_count": 33,
   "metadata": {},
   "outputs": [
    {
     "data": {
      "text/html": [
       "<div>\n",
       "<style scoped>\n",
       "    .dataframe tbody tr th:only-of-type {\n",
       "        vertical-align: middle;\n",
       "    }\n",
       "\n",
       "    .dataframe tbody tr th {\n",
       "        vertical-align: top;\n",
       "    }\n",
       "\n",
       "    .dataframe thead th {\n",
       "        text-align: right;\n",
       "    }\n",
       "</style>\n",
       "<table border=\"1\" class=\"dataframe\">\n",
       "  <thead>\n",
       "    <tr style=\"text-align: right;\">\n",
       "      <th></th>\n",
       "      <th>f0</th>\n",
       "      <th>f1</th>\n",
       "      <th>f2</th>\n",
       "      <th>product</th>\n",
       "      <th>profit</th>\n",
       "      <th>roi_%</th>\n",
       "    </tr>\n",
       "  </thead>\n",
       "  <tbody>\n",
       "    <tr>\n",
       "      <th>0</th>\n",
       "      <td>0.705745</td>\n",
       "      <td>-0.497823</td>\n",
       "      <td>1.221170</td>\n",
       "      <td>105.280062</td>\n",
       "      <td>47376.03</td>\n",
       "      <td>-5.25</td>\n",
       "    </tr>\n",
       "    <tr>\n",
       "      <th>1</th>\n",
       "      <td>1.334711</td>\n",
       "      <td>-0.340164</td>\n",
       "      <td>4.365080</td>\n",
       "      <td>73.037750</td>\n",
       "      <td>32866.99</td>\n",
       "      <td>-34.27</td>\n",
       "    </tr>\n",
       "    <tr>\n",
       "      <th>2</th>\n",
       "      <td>1.022732</td>\n",
       "      <td>0.151990</td>\n",
       "      <td>1.419926</td>\n",
       "      <td>85.265647</td>\n",
       "      <td>38369.54</td>\n",
       "      <td>-23.26</td>\n",
       "    </tr>\n",
       "    <tr>\n",
       "      <th>3</th>\n",
       "      <td>-0.032172</td>\n",
       "      <td>0.139033</td>\n",
       "      <td>2.978566</td>\n",
       "      <td>168.620776</td>\n",
       "      <td>75879.35</td>\n",
       "      <td>51.76</td>\n",
       "    </tr>\n",
       "    <tr>\n",
       "      <th>4</th>\n",
       "      <td>1.988431</td>\n",
       "      <td>0.155413</td>\n",
       "      <td>4.751769</td>\n",
       "      <td>154.036647</td>\n",
       "      <td>69316.49</td>\n",
       "      <td>38.63</td>\n",
       "    </tr>\n",
       "  </tbody>\n",
       "</table>\n",
       "</div>"
      ],
      "text/plain": [
       "         f0        f1        f2     product    profit  roi_%\n",
       "0  0.705745 -0.497823  1.221170  105.280062  47376.03  -5.25\n",
       "1  1.334711 -0.340164  4.365080   73.037750  32866.99 -34.27\n",
       "2  1.022732  0.151990  1.419926   85.265647  38369.54 -23.26\n",
       "3 -0.032172  0.139033  2.978566  168.620776  75879.35  51.76\n",
       "4  1.988431  0.155413  4.751769  154.036647  69316.49  38.63"
      ]
     },
     "execution_count": 33,
     "metadata": {},
     "output_type": "execute_result"
    }
   ],
   "source": [
    "# добавим коэффициент ROI в Регионе 1\n",
    "data_0['roi_%']=((data_0['profit']-budget_on_well)/budget_on_well*100).round(2)\n",
    "data_0.head()"
   ]
  },
  {
   "cell_type": "code",
   "execution_count": 34,
   "metadata": {},
   "outputs": [
    {
     "name": "stdout",
     "output_type": "stream",
     "text": [
      "Разница между безубыточным и средним объемом сырья в Регионе 1: 18.61 тыс. баррелей\n"
     ]
    }
   ],
   "source": [
    "print('Разница между безубыточным и средним объемом сырья в Регионе 1: {:.2f}' \n",
    "      .format(breakeven_volume - data_0['product'].mean()),\n",
    "      'тыс. баррелей')"
   ]
  },
  {
   "cell_type": "code",
   "execution_count": 35,
   "metadata": {},
   "outputs": [
    {
     "data": {
      "text/html": [
       "<div>\n",
       "<style scoped>\n",
       "    .dataframe tbody tr th:only-of-type {\n",
       "        vertical-align: middle;\n",
       "    }\n",
       "\n",
       "    .dataframe tbody tr th {\n",
       "        vertical-align: top;\n",
       "    }\n",
       "\n",
       "    .dataframe thead th {\n",
       "        text-align: right;\n",
       "    }\n",
       "</style>\n",
       "<table border=\"1\" class=\"dataframe\">\n",
       "  <thead>\n",
       "    <tr style=\"text-align: right;\">\n",
       "      <th></th>\n",
       "      <th>f0</th>\n",
       "      <th>f1</th>\n",
       "      <th>f2</th>\n",
       "      <th>product</th>\n",
       "      <th>profit</th>\n",
       "    </tr>\n",
       "  </thead>\n",
       "  <tbody>\n",
       "    <tr>\n",
       "      <th>0</th>\n",
       "      <td>-15.001348</td>\n",
       "      <td>-8.276000</td>\n",
       "      <td>-0.005876</td>\n",
       "      <td>3.179103</td>\n",
       "      <td>1430.60</td>\n",
       "    </tr>\n",
       "    <tr>\n",
       "      <th>1</th>\n",
       "      <td>14.272088</td>\n",
       "      <td>-3.475083</td>\n",
       "      <td>0.999183</td>\n",
       "      <td>26.953261</td>\n",
       "      <td>12128.97</td>\n",
       "    </tr>\n",
       "    <tr>\n",
       "      <th>2</th>\n",
       "      <td>6.263187</td>\n",
       "      <td>-5.948386</td>\n",
       "      <td>5.001160</td>\n",
       "      <td>134.766305</td>\n",
       "      <td>60644.84</td>\n",
       "    </tr>\n",
       "    <tr>\n",
       "      <th>3</th>\n",
       "      <td>-13.081196</td>\n",
       "      <td>-11.506057</td>\n",
       "      <td>4.999415</td>\n",
       "      <td>137.945408</td>\n",
       "      <td>62075.43</td>\n",
       "    </tr>\n",
       "    <tr>\n",
       "      <th>4</th>\n",
       "      <td>12.702195</td>\n",
       "      <td>-8.147433</td>\n",
       "      <td>5.004363</td>\n",
       "      <td>134.766305</td>\n",
       "      <td>60644.84</td>\n",
       "    </tr>\n",
       "  </tbody>\n",
       "</table>\n",
       "</div>"
      ],
      "text/plain": [
       "          f0         f1        f2     product    profit\n",
       "0 -15.001348  -8.276000 -0.005876    3.179103   1430.60\n",
       "1  14.272088  -3.475083  0.999183   26.953261  12128.97\n",
       "2   6.263187  -5.948386  5.001160  134.766305  60644.84\n",
       "3 -13.081196 -11.506057  4.999415  137.945408  62075.43\n",
       "4  12.702195  -8.147433  5.004363  134.766305  60644.84"
      ]
     },
     "execution_count": 35,
     "metadata": {},
     "output_type": "execute_result"
    }
   ],
   "source": [
    "# добавим доход с каждой скважины в Регионе 2\n",
    "data_1['profit']=(data_1['product']*(INCOME)).round(2)\n",
    "data_1.head()"
   ]
  },
  {
   "cell_type": "code",
   "execution_count": 36,
   "metadata": {},
   "outputs": [
    {
     "data": {
      "text/html": [
       "<div>\n",
       "<style scoped>\n",
       "    .dataframe tbody tr th:only-of-type {\n",
       "        vertical-align: middle;\n",
       "    }\n",
       "\n",
       "    .dataframe tbody tr th {\n",
       "        vertical-align: top;\n",
       "    }\n",
       "\n",
       "    .dataframe thead th {\n",
       "        text-align: right;\n",
       "    }\n",
       "</style>\n",
       "<table border=\"1\" class=\"dataframe\">\n",
       "  <thead>\n",
       "    <tr style=\"text-align: right;\">\n",
       "      <th></th>\n",
       "      <th>f0</th>\n",
       "      <th>f1</th>\n",
       "      <th>f2</th>\n",
       "      <th>product</th>\n",
       "      <th>profit</th>\n",
       "      <th>roi_%</th>\n",
       "    </tr>\n",
       "  </thead>\n",
       "  <tbody>\n",
       "    <tr>\n",
       "      <th>0</th>\n",
       "      <td>-15.001348</td>\n",
       "      <td>-8.276000</td>\n",
       "      <td>-0.005876</td>\n",
       "      <td>3.179103</td>\n",
       "      <td>1430.60</td>\n",
       "      <td>-97.14</td>\n",
       "    </tr>\n",
       "    <tr>\n",
       "      <th>1</th>\n",
       "      <td>14.272088</td>\n",
       "      <td>-3.475083</td>\n",
       "      <td>0.999183</td>\n",
       "      <td>26.953261</td>\n",
       "      <td>12128.97</td>\n",
       "      <td>-75.74</td>\n",
       "    </tr>\n",
       "    <tr>\n",
       "      <th>2</th>\n",
       "      <td>6.263187</td>\n",
       "      <td>-5.948386</td>\n",
       "      <td>5.001160</td>\n",
       "      <td>134.766305</td>\n",
       "      <td>60644.84</td>\n",
       "      <td>21.29</td>\n",
       "    </tr>\n",
       "    <tr>\n",
       "      <th>3</th>\n",
       "      <td>-13.081196</td>\n",
       "      <td>-11.506057</td>\n",
       "      <td>4.999415</td>\n",
       "      <td>137.945408</td>\n",
       "      <td>62075.43</td>\n",
       "      <td>24.15</td>\n",
       "    </tr>\n",
       "    <tr>\n",
       "      <th>4</th>\n",
       "      <td>12.702195</td>\n",
       "      <td>-8.147433</td>\n",
       "      <td>5.004363</td>\n",
       "      <td>134.766305</td>\n",
       "      <td>60644.84</td>\n",
       "      <td>21.29</td>\n",
       "    </tr>\n",
       "  </tbody>\n",
       "</table>\n",
       "</div>"
      ],
      "text/plain": [
       "          f0         f1        f2     product    profit  roi_%\n",
       "0 -15.001348  -8.276000 -0.005876    3.179103   1430.60 -97.14\n",
       "1  14.272088  -3.475083  0.999183   26.953261  12128.97 -75.74\n",
       "2   6.263187  -5.948386  5.001160  134.766305  60644.84  21.29\n",
       "3 -13.081196 -11.506057  4.999415  137.945408  62075.43  24.15\n",
       "4  12.702195  -8.147433  5.004363  134.766305  60644.84  21.29"
      ]
     },
     "execution_count": 36,
     "metadata": {},
     "output_type": "execute_result"
    }
   ],
   "source": [
    "# добавим коэффициент ROI в Регионе 2\n",
    "data_1['roi_%']=((data_1['profit']-budget_on_well)/budget_on_well*100).round(2)\n",
    "data_1.head()"
   ]
  },
  {
   "cell_type": "code",
   "execution_count": 37,
   "metadata": {},
   "outputs": [
    {
     "name": "stdout",
     "output_type": "stream",
     "text": [
      "Разница между безубыточным и средним объемом сырья в Регионе 2: 42.29 тыс. баррелей\n"
     ]
    }
   ],
   "source": [
    "print('Разница между безубыточным и средним объемом сырья в Регионе 2: {:.2f}' \n",
    "      .format(breakeven_volume - data_1['product'].mean()),\n",
    "      'тыс. баррелей')"
   ]
  },
  {
   "cell_type": "code",
   "execution_count": 38,
   "metadata": {},
   "outputs": [
    {
     "data": {
      "text/html": [
       "<div>\n",
       "<style scoped>\n",
       "    .dataframe tbody tr th:only-of-type {\n",
       "        vertical-align: middle;\n",
       "    }\n",
       "\n",
       "    .dataframe tbody tr th {\n",
       "        vertical-align: top;\n",
       "    }\n",
       "\n",
       "    .dataframe thead th {\n",
       "        text-align: right;\n",
       "    }\n",
       "</style>\n",
       "<table border=\"1\" class=\"dataframe\">\n",
       "  <thead>\n",
       "    <tr style=\"text-align: right;\">\n",
       "      <th></th>\n",
       "      <th>f0</th>\n",
       "      <th>f1</th>\n",
       "      <th>f2</th>\n",
       "      <th>product</th>\n",
       "      <th>profit</th>\n",
       "    </tr>\n",
       "  </thead>\n",
       "  <tbody>\n",
       "    <tr>\n",
       "      <th>0</th>\n",
       "      <td>-1.146987</td>\n",
       "      <td>0.963328</td>\n",
       "      <td>-0.828965</td>\n",
       "      <td>27.758673</td>\n",
       "      <td>12491.40</td>\n",
       "    </tr>\n",
       "    <tr>\n",
       "      <th>1</th>\n",
       "      <td>0.262778</td>\n",
       "      <td>0.269839</td>\n",
       "      <td>-2.530187</td>\n",
       "      <td>56.069697</td>\n",
       "      <td>25231.36</td>\n",
       "    </tr>\n",
       "    <tr>\n",
       "      <th>2</th>\n",
       "      <td>0.194587</td>\n",
       "      <td>0.289035</td>\n",
       "      <td>-5.586433</td>\n",
       "      <td>62.871910</td>\n",
       "      <td>28292.36</td>\n",
       "    </tr>\n",
       "    <tr>\n",
       "      <th>3</th>\n",
       "      <td>2.236060</td>\n",
       "      <td>-0.553760</td>\n",
       "      <td>0.930038</td>\n",
       "      <td>114.572842</td>\n",
       "      <td>51557.78</td>\n",
       "    </tr>\n",
       "    <tr>\n",
       "      <th>4</th>\n",
       "      <td>-0.515993</td>\n",
       "      <td>1.716266</td>\n",
       "      <td>5.899011</td>\n",
       "      <td>149.600746</td>\n",
       "      <td>67320.34</td>\n",
       "    </tr>\n",
       "  </tbody>\n",
       "</table>\n",
       "</div>"
      ],
      "text/plain": [
       "         f0        f1        f2     product    profit\n",
       "0 -1.146987  0.963328 -0.828965   27.758673  12491.40\n",
       "1  0.262778  0.269839 -2.530187   56.069697  25231.36\n",
       "2  0.194587  0.289035 -5.586433   62.871910  28292.36\n",
       "3  2.236060 -0.553760  0.930038  114.572842  51557.78\n",
       "4 -0.515993  1.716266  5.899011  149.600746  67320.34"
      ]
     },
     "execution_count": 38,
     "metadata": {},
     "output_type": "execute_result"
    }
   ],
   "source": [
    "# добавим доход с каждой скважины в Регионе 3\n",
    "data_2['profit']=(data_2['product']*(INCOME)).round(2)\n",
    "data_2.head()"
   ]
  },
  {
   "cell_type": "code",
   "execution_count": 39,
   "metadata": {},
   "outputs": [
    {
     "data": {
      "text/html": [
       "<div>\n",
       "<style scoped>\n",
       "    .dataframe tbody tr th:only-of-type {\n",
       "        vertical-align: middle;\n",
       "    }\n",
       "\n",
       "    .dataframe tbody tr th {\n",
       "        vertical-align: top;\n",
       "    }\n",
       "\n",
       "    .dataframe thead th {\n",
       "        text-align: right;\n",
       "    }\n",
       "</style>\n",
       "<table border=\"1\" class=\"dataframe\">\n",
       "  <thead>\n",
       "    <tr style=\"text-align: right;\">\n",
       "      <th></th>\n",
       "      <th>f0</th>\n",
       "      <th>f1</th>\n",
       "      <th>f2</th>\n",
       "      <th>product</th>\n",
       "      <th>profit</th>\n",
       "      <th>roi_%</th>\n",
       "    </tr>\n",
       "  </thead>\n",
       "  <tbody>\n",
       "    <tr>\n",
       "      <th>0</th>\n",
       "      <td>-1.146987</td>\n",
       "      <td>0.963328</td>\n",
       "      <td>-0.828965</td>\n",
       "      <td>27.758673</td>\n",
       "      <td>12491.40</td>\n",
       "      <td>-75.02</td>\n",
       "    </tr>\n",
       "    <tr>\n",
       "      <th>1</th>\n",
       "      <td>0.262778</td>\n",
       "      <td>0.269839</td>\n",
       "      <td>-2.530187</td>\n",
       "      <td>56.069697</td>\n",
       "      <td>25231.36</td>\n",
       "      <td>-49.54</td>\n",
       "    </tr>\n",
       "    <tr>\n",
       "      <th>2</th>\n",
       "      <td>0.194587</td>\n",
       "      <td>0.289035</td>\n",
       "      <td>-5.586433</td>\n",
       "      <td>62.871910</td>\n",
       "      <td>28292.36</td>\n",
       "      <td>-43.42</td>\n",
       "    </tr>\n",
       "    <tr>\n",
       "      <th>3</th>\n",
       "      <td>2.236060</td>\n",
       "      <td>-0.553760</td>\n",
       "      <td>0.930038</td>\n",
       "      <td>114.572842</td>\n",
       "      <td>51557.78</td>\n",
       "      <td>3.12</td>\n",
       "    </tr>\n",
       "    <tr>\n",
       "      <th>4</th>\n",
       "      <td>-0.515993</td>\n",
       "      <td>1.716266</td>\n",
       "      <td>5.899011</td>\n",
       "      <td>149.600746</td>\n",
       "      <td>67320.34</td>\n",
       "      <td>34.64</td>\n",
       "    </tr>\n",
       "  </tbody>\n",
       "</table>\n",
       "</div>"
      ],
      "text/plain": [
       "         f0        f1        f2     product    profit  roi_%\n",
       "0 -1.146987  0.963328 -0.828965   27.758673  12491.40 -75.02\n",
       "1  0.262778  0.269839 -2.530187   56.069697  25231.36 -49.54\n",
       "2  0.194587  0.289035 -5.586433   62.871910  28292.36 -43.42\n",
       "3  2.236060 -0.553760  0.930038  114.572842  51557.78   3.12\n",
       "4 -0.515993  1.716266  5.899011  149.600746  67320.34  34.64"
      ]
     },
     "execution_count": 39,
     "metadata": {},
     "output_type": "execute_result"
    }
   ],
   "source": [
    "# добавим коэффициент ROI в Регионе 3\n",
    "data_2['roi_%']=((data_2['profit']-budget_on_well)/budget_on_well*100).round(2)\n",
    "data_2.head()"
   ]
  },
  {
   "cell_type": "code",
   "execution_count": 40,
   "metadata": {},
   "outputs": [
    {
     "name": "stdout",
     "output_type": "stream",
     "text": [
      "Разница между безубыточным и средним объемом сырья в Регионе 3: 16.11 тыс. баррелей\n"
     ]
    }
   ],
   "source": [
    "print('Разница между безубыточным и средним объемом сырья в Регионе 3: {:.2f}' \n",
    "      .format(breakeven_volume - data_2['product'].mean()),\n",
    "      'тыс. баррелей')"
   ]
  },
  {
   "cell_type": "markdown",
   "metadata": {},
   "source": [
    "Наименьшая разница между безубыточным объемом сырья (111 ты. бар.) и средним объемом (95 тыс. бар.) зафиксирована в Регионе 3."
   ]
  },
  {
   "cell_type": "markdown",
   "metadata": {},
   "source": [
    "### Вывод по этапу Подготовка к расчету прибыли"
   ]
  },
  {
   "cell_type": "markdown",
   "metadata": {},
   "source": [
    "Среднее количество запасов сырья на скважинах всех регионов недостаточно для обеспечения безубыточной разработки. В связи с этим требуется выбрать скважины с максимальными запасами."
   ]
  },
  {
   "cell_type": "markdown",
   "metadata": {},
   "source": [
    "## Расчет прибыли и рисков "
   ]
  },
  {
   "cell_type": "markdown",
   "metadata": {},
   "source": [
    "Напишем функцию, которая позволит нам выявить 200 лучших скважин в каждом регионе на основе предсказанных запасов сырья, и подсчитать общий объем запасов в этих скважинах и возможную прибыль."
   ]
  },
  {
   "cell_type": "code",
   "execution_count": 41,
   "metadata": {},
   "outputs": [],
   "source": [
    "# функция для подсчета суммарного объема сырья и прибыли в 200 лучших скважинах\n",
    "def region_profit(predict,target):\n",
    "    probs_sorted = pd.Series(predict, index=target.index).sort_values(ascending=False)\n",
    "    selected_max = probs_sorted[:200].sum()\n",
    "    profit_pred=(selected_max*INCOME)-BUDGET\n",
    "    summ_volume.append(round(selected_max,2))\n",
    "    print('Суммарный запас сырья в 200 лучших скважинах составит: %.2f тыс.баррелей'%selected_max)\n",
    "    print('Прибыль для полученного объема сырья составит %.2f млн.рублей'%(profit_pred/1000))"
   ]
  },
  {
   "cell_type": "code",
   "execution_count": 42,
   "metadata": {},
   "outputs": [],
   "source": [
    "# создадим список, в котором сохраним суммарные объемы запасов сырья\n",
    "summ_volume = []"
   ]
  },
  {
   "cell_type": "code",
   "execution_count": 43,
   "metadata": {
    "scrolled": true
   },
   "outputs": [
    {
     "name": "stdout",
     "output_type": "stream",
     "text": [
      "Для Региона 1\n",
      "Суммарный запас сырья в 200 лучших скважинах составит: 30881.46 тыс.баррелей\n",
      "Прибыль для полученного объема сырья составит 3896.66 млн.рублей\n",
      "\n",
      "Для Региона 2\n",
      "Суммарный запас сырья в 200 лучших скважинах составит: 27748.75 тыс.баррелей\n",
      "Прибыль для полученного объема сырья составит 2486.94 млн.рублей\n",
      "\n",
      "Для Региона 3\n",
      "Суммарный запас сырья в 200 лучших скважинах составит: 29728.85 тыс.баррелей\n",
      "Прибыль для полученного объема сырья составит 3377.98 млн.рублей\n",
      "\n"
     ]
    }
   ],
   "source": [
    "for i in range(3):\n",
    "    print('Для Региона', i+1)\n",
    "    region_profit(predictions_valid[i], targets_valid[i])\n",
    "    print()"
   ]
  },
  {
   "cell_type": "markdown",
   "metadata": {},
   "source": [
    "Далее создадим функцию для рассчета прибыли с 200 лучших скважин в каждом регионе."
   ]
  },
  {
   "cell_type": "code",
   "execution_count": 44,
   "metadata": {},
   "outputs": [],
   "source": [
    "# функция для подсчета прибыли по 200 лучшим скважинам\n",
    "def profit_for_region(predict,target):\n",
    "    probs_sorted = pd.Series(predict).sort_values(ascending=False)\n",
    "    selected_points = target[probs_sorted.index][:200]\n",
    "    product = selected_points.sum()\n",
    "    revenue = product * INCOME\n",
    "    return revenue - BUDGET"
   ]
  },
  {
   "cell_type": "markdown",
   "metadata": {},
   "source": [
    "Применим технику Bootstrap с 1000 выборок, чтобы найти распределение прибыли."
   ]
  },
  {
   "cell_type": "code",
   "execution_count": 48,
   "metadata": {},
   "outputs": [],
   "source": [
    "def bootstap_1000(target,predict):\n",
    "    values = []\n",
    "    count=0\n",
    "    state = np.random.RandomState(12345)\n",
    "    predict_e = pd.Series(predict, index=target.index)\n",
    "    \n",
    "    for i in tqdm(range(1000)):\n",
    "        target_subsample = target.sample(n=500,replace=True, random_state=state)\n",
    "        probs_subsample = predict_e[target_subsample.index]\n",
    "        values.append(profit_for_region(probs_subsample,target_subsample))  \n",
    "    \n",
    "    for i in values:\n",
    "        if i < 0:\n",
    "            count +=1\n",
    "            \n",
    "    values = pd.Series(values)\n",
    "    mean = values.mean()\n",
    "    confidence_interval = st.t.interval(0.95, len(values)-1, values.mean(), values.sem())\n",
    "    \n",
    "    # построение графика распределения прибыли\n",
    "    plt.title('Распределение прибыли')\n",
    "    values.plot(kind=\"hist\", grid=True, figsize=(8,5), \n",
    "                color=sns.color_palette('BuGn'), edgecolor='black')\n",
    "    plt.axvline(x=values.mean())\n",
    "    plt.xlabel('Прибыль, тыс.руб')\n",
    "    plt.ylabel('Количество')\n",
    "    plt.show()\n",
    "\n",
    "    low_95 = values.quantile(0.025)\n",
    "    high_95 = values.quantile(0.975)\n",
    "    \n",
    "    # сохраним в списки среднюю прибыль и процент вероятности убытка\n",
    "    mean_profit.append(round(mean/1000,2))\n",
    "    loss_probability.append(count/10)\n",
    "\n",
    "    print(\"Средняя прибыль: {:.2f} млн.руб\"\n",
    "          .format(mean/1000))\n",
    "    print('С вероятностью 95% прибыль будет от: {:.2f} млн.руб до: {:.2f} млн.руб'\n",
    "          .format((low_95/1000),(high_95/1000)))\n",
    "    print(\"95%-ый доверительный интервал: от {:.2f} млн.руб до {:.2f} млн.руб\"\n",
    "          . format((confidence_interval[0]/1000),(confidence_interval[1]/1000)))\n",
    "    print ('Процент вероятности убытка в данном регионе составит {:.1%}'\n",
    "           .format(count/1000))"
   ]
  },
  {
   "cell_type": "code",
   "execution_count": 49,
   "metadata": {},
   "outputs": [],
   "source": [
    "# создадим список с средней прибыль по регионам\n",
    "mean_profit = []\n",
    "# создадим список с процентом вероятности убытка по регионам\n",
    "loss_probability = []"
   ]
  },
  {
   "cell_type": "code",
   "execution_count": 50,
   "metadata": {},
   "outputs": [
    {
     "name": "stdout",
     "output_type": "stream",
     "text": [
      "Для Региона 1\n"
     ]
    },
    {
     "data": {
      "application/vnd.jupyter.widget-view+json": {
       "model_id": "b9ef46d81edb4fe9b0b4943bfd6cea3a",
       "version_major": 2,
       "version_minor": 0
      },
      "text/plain": [
       "  0%|          | 0/1000 [00:00<?, ?it/s]"
      ]
     },
     "metadata": {},
     "output_type": "display_data"
    },
    {
     "data": {
      "image/png": "[encoded data removed]",
      "text/plain": [
       "<Figure size 800x500 with 1 Axes>"
      ]
     },
     "metadata": {},
     "output_type": "display_data"
    },
    {
     "name": "stdout",
     "output_type": "stream",
     "text": [
      "Средняя прибыль: 435.93 млн.руб\n",
      "С вероятностью 95% прибыль будет от: -116.23 млн.руб до: 966.50 млн.руб\n",
      "95%-ый доверительный интервал: от 418.76 млн.руб до 453.11 млн.руб\n",
      "Процент вероятности убытка в данном регионе составит 6.1%\n",
      "\n",
      "Для Региона 2\n"
     ]
    },
    {
     "data": {
      "application/vnd.jupyter.widget-view+json": {
       "model_id": "6ba2164c3527427c8cdfaf17c67c7c40",
       "version_major": 2,
       "version_minor": 0
      },
      "text/plain": [
       "  0%|          | 0/1000 [00:00<?, ?it/s]"
      ]
     },
     "metadata": {},
     "output_type": "display_data"
    },
    {
     "data": {
      "image/png": "[encoded data removed]",
      "text/plain": [
       "<Figure size 800x500 with 1 Axes>"
      ]
     },
     "metadata": {},
     "output_type": "display_data"
    },
    {
     "name": "stdout",
     "output_type": "stream",
     "text": [
      "Средняя прибыль: 489.66 млн.руб\n",
      "С вероятностью 95% прибыль будет от: 55.12 млн.руб до: 905.76 млн.руб\n",
      "95%-ый доверительный интервал: от 476.23 млн.руб до 503.09 млн.руб\n",
      "Процент вероятности убытка в данном регионе составит 1.1%\n",
      "\n",
      "Для Региона 3\n"
     ]
    },
    {
     "data": {
      "application/vnd.jupyter.widget-view+json": {
       "model_id": "c89db07e0afd457a86853f35cf6dfc53",
       "version_major": 2,
       "version_minor": 0
      },
      "text/plain": [
       "  0%|          | 0/1000 [00:00<?, ?it/s]"
      ]
     },
     "metadata": {},
     "output_type": "display_data"
    },
    {
     "data": {
      "image/png": "[encoded data removed]",
      "text/plain": [
       "<Figure size 800x500 with 1 Axes>"
      ]
     },
     "metadata": {},
     "output_type": "display_data"
    },
    {
     "name": "stdout",
     "output_type": "stream",
     "text": [
      "Средняя прибыль: 403.69 млн.руб\n",
      "С вероятностью 95% прибыль будет от: -153.12 млн.руб до: 952.89 млн.руб\n",
      "95%-ый доверительный интервал: от 386.21 млн.руб до 421.17 млн.руб\n",
      "Процент вероятности убытка в данном регионе составит 7.1%\n",
      "\n"
     ]
    }
   ],
   "source": [
    "for i in range(3):\n",
    "    print('Для Региона', i+1)\n",
    "    bootstap_1000(targets_valid[i],predictions_valid[i])\n",
    "    print()"
   ]
  },
  {
   "cell_type": "code",
   "execution_count": 51,
   "metadata": {},
   "outputs": [
    {
     "data": {
      "text/html": [
       "<div>\n",
       "<style scoped>\n",
       "    .dataframe tbody tr th:only-of-type {\n",
       "        vertical-align: middle;\n",
       "    }\n",
       "\n",
       "    .dataframe tbody tr th {\n",
       "        vertical-align: top;\n",
       "    }\n",
       "\n",
       "    .dataframe thead th {\n",
       "        text-align: right;\n",
       "    }\n",
       "</style>\n",
       "<table border=\"1\" class=\"dataframe\">\n",
       "  <thead>\n",
       "    <tr style=\"text-align: right;\">\n",
       "      <th></th>\n",
       "      <th>Регион 1</th>\n",
       "      <th>Регион 2</th>\n",
       "      <th>Регион 3</th>\n",
       "    </tr>\n",
       "  </thead>\n",
       "  <tbody>\n",
       "    <tr>\n",
       "      <th>Средняя прибыль, млн.руб.</th>\n",
       "      <td>435.93</td>\n",
       "      <td>489.66</td>\n",
       "      <td>403.69</td>\n",
       "    </tr>\n",
       "    <tr>\n",
       "      <th>Суммарный запас сырья, тыс.бар.</th>\n",
       "      <td>30881.46</td>\n",
       "      <td>27748.75</td>\n",
       "      <td>29728.85</td>\n",
       "    </tr>\n",
       "    <tr>\n",
       "      <th>Вероятность убытка, %</th>\n",
       "      <td>6.10</td>\n",
       "      <td>1.10</td>\n",
       "      <td>7.10</td>\n",
       "    </tr>\n",
       "  </tbody>\n",
       "</table>\n",
       "</div>"
      ],
      "text/plain": [
       "                                 Регион 1  Регион 2  Регион 3\n",
       "Средняя прибыль, млн.руб.          435.93    489.66    403.69\n",
       "Суммарный запас сырья, тыс.бар.  30881.46  27748.75  29728.85\n",
       "Вероятность убытка, %                6.10      1.10      7.10"
      ]
     },
     "execution_count": 51,
     "metadata": {},
     "output_type": "execute_result"
    }
   ],
   "source": [
    "# соберем полученную информацию в таблицу\n",
    "comparison_tab = pd.DataFrame({\n",
    "    'Средняя прибыль, млн.руб.': mean_profit,\n",
    "    'Суммарный запас сырья, тыс.бар.': summ_volume,\n",
    "    'Вероятность убытка, %': loss_probability}).transpose()\n",
    "comparison_tab.columns = ['Регион 1', 'Регион 2', 'Регион 3']\n",
    "comparison_tab"
   ]
  },
  {
   "cell_type": "code",
   "execution_count": 52,
   "metadata": {},
   "outputs": [
    {
     "data": {
      "image/png": "[encoded data removed]",
      "text/plain": [
       "<Figure size 800x500 with 1 Axes>"
      ]
     },
     "metadata": {},
     "output_type": "display_data"
    }
   ],
   "source": [
    "# визуализируем среднню прибыль по регионам\n",
    "comparison_tab.iloc[0,:].plot(kind=\"bar\", figsize=(8,5), \n",
    "                              grid=True, alpha=0.7, \n",
    "                              subplots=True, color=sns.color_palette('BuGn'),\n",
    "                              edgecolor='black')\n",
    "plt.title('Средняя прибыль по регионам')\n",
    "plt.ylabel('Средняя прибыль в регионе, млн.руб')\n",
    "plt.show()"
   ]
  },
  {
   "cell_type": "code",
   "execution_count": 53,
   "metadata": {},
   "outputs": [
    {
     "data": {
      "image/png": "[encoded data removed]",
      "text/plain": [
       "<Figure size 600x600 with 1 Axes>"
      ]
     },
     "metadata": {},
     "output_type": "display_data"
    }
   ],
   "source": [
    "# визуализируем суммарный запас сырья в регионах\n",
    "comparison_tab.iloc[1,:].plot(kind='pie', figsize=(6,6),\n",
    "                              autopct='%1.1f%%', subplots=True,\n",
    "                              colors=sns.color_palette('BuGn'))\n",
    "plt.title('Суммарный запас сырья, тыс.баррелей')\n",
    "plt.ylabel('')\n",
    "plt.show()"
   ]
  },
  {
   "cell_type": "markdown",
   "metadata": {},
   "source": [
    "### Вывод по этапу Расчет прибыли и рисков"
   ]
  },
  {
   "cell_type": "markdown",
   "metadata": {},
   "source": [
    "Для разработки планируется отобрать 200 лучших скважин. Было выбрано по 200 скважин с наибольшими предсказанными запасами сырья в каждом регионе. Для этих скважин рассчитаны объем запасов сырья и возможная прибыль.\n",
    "\n",
    "Регионом, в котором вероятность убытков меньше 2.5% является только Регион 2.<br>\n",
    "В то же время, в Регионе 2 наименьший суммарный запас сырья - 27748,75 тыс. баррелей. Однако, по размеру потенциальной прибыли он лидирует: прогнозируется прибыль в 489,66 млн. руб."
   ]
  },
  {
   "cell_type": "markdown",
   "metadata": {},
   "source": [
    "## Выводы"
   ]
  },
  {
   "cell_type": "markdown",
   "metadata": {},
   "source": [
    "1. <b>Загрузка и подготовка данных:</b>\n",
    "* Были импортированы и проанализированы данные в трех датасетах по регионам. Внутри каждого датасета 100000 наблюдений. При первичном анализе обнаружены дубликаты в переменной ID.\n",
    "* Корреляционный анализ выявил сильную корреляцию между признаками f2 и prodact (0,98).\n",
    "2. <b>Обучение и проверка модели:</b>\n",
    "* Были созданы и обучены 3 модели линейной регрессии. Для данных Региона 2 модель показывает крайне низкое значение RMSE (0,89) в связи с переобучением.\n",
    "* Исходя из предсказаний моделей, лидером по общему объему сырья является Регион 3 (95 тыс. баррелей). Для Региона 2 предсказаны наименьшие запасы сырья (69 тыс. баррелей).\n",
    "3. <b>Подготовка к расчету прибыли:</b>\n",
    "* Были зафиксированы основные вводные метрики.\n",
    "* Был рассчитан бюджет на разработку одной скважины, а также объем для безубыточного производства для региона и для скважины.\n",
    "* Среднее количество запасов сырья на скважинах всех регионов недостаточно для обеспечения безубыточной разработки.\n",
    "* Наименьшая разница между безубыточным объемом сырья и средним объемом зафиксирована в Регионе 3 (16,11 тыс. баррелей).\n",
    "4. <b>Расчет прибыли и рисков:</b>\n",
    "* Было отобрано по 200 лучших скважин в каждом регионе.\n",
    "* Для дальнейшей разработки рекомендуется выбрать Регион 2, не смотря на то, что в нем меньшие запасы сырья (27748,75 тыс. баррелей). Выбор обоснован тем, что в данном регионе прогнозируется наибольшая прибыль (489,66 млн. руб.), а также тем, что это единственный регион с вероятностью убытков менее 2,5% (1,1%)."
   ]
  },
  {
   "cell_type": "markdown",
   "metadata": {},
   "source": [
    "<b>Потенциал для улучшения выводов:</b>\n",
    "* Прояснить причины дублирования ID скважин в каждом из датасетов.\n",
    "* Проанализировать зафиксированные выбросы в датасете Региона 2 в переменной f0.\n",
    "* Для построения модели линейной регрессии устранить мультиколлинеарность признаков, привести некоторые из переменных в категориальный формат."
   ]
  }
 ],
 "metadata": {
  "ExecuteTimeLog": [
   {
    "duration": 1662,
    "start_time": "2024-08-17T14:41:06.290Z"
   },
   {
    "duration": 978,
    "start_time": "2024-08-17T14:41:53.690Z"
   },
   {
    "duration": 4,
    "start_time": "2024-08-17T14:44:07.404Z"
   },
   {
    "duration": 168,
    "start_time": "2024-08-17T14:44:22.113Z"
   },
   {
    "duration": 131,
    "start_time": "2024-08-17T14:47:27.854Z"
   },
   {
    "duration": 131,
    "start_time": "2024-08-17T14:47:46.733Z"
   },
   {
    "duration": 3,
    "start_time": "2024-08-17T14:49:30.986Z"
   },
   {
    "duration": 164,
    "start_time": "2024-08-17T14:49:33.555Z"
   },
   {
    "duration": 6,
    "start_time": "2024-08-17T14:50:38.998Z"
   },
   {
    "duration": 21,
    "start_time": "2024-08-17T14:50:53.916Z"
   },
   {
    "duration": 159,
    "start_time": "2024-08-17T14:52:25.707Z"
   },
   {
    "duration": 48,
    "start_time": "2024-08-17T14:57:36.968Z"
   },
   {
    "duration": 37,
    "start_time": "2024-08-17T14:57:42.498Z"
   },
   {
    "duration": 35,
    "start_time": "2024-08-17T14:58:26.290Z"
   },
   {
    "duration": 261,
    "start_time": "2024-08-17T15:01:14.565Z"
   },
   {
    "duration": 31,
    "start_time": "2024-08-17T15:02:31.187Z"
   },
   {
    "duration": 41,
    "start_time": "2024-08-17T15:02:41.070Z"
   },
   {
    "duration": 56,
    "start_time": "2024-08-17T15:06:06.873Z"
   },
   {
    "duration": 6,
    "start_time": "2024-08-17T15:15:05.827Z"
   },
   {
    "duration": 11,
    "start_time": "2024-08-17T15:15:50.687Z"
   },
   {
    "duration": 5,
    "start_time": "2024-08-17T15:15:55.955Z"
   },
   {
    "duration": 2019,
    "start_time": "2024-08-17T15:15:56.430Z"
   },
   {
    "duration": 1766,
    "start_time": "2024-08-17T15:16:38.862Z"
   },
   {
    "duration": 2169,
    "start_time": "2024-08-17T15:17:04.991Z"
   },
   {
    "duration": 479,
    "start_time": "2024-08-17T15:18:02.992Z"
   },
   {
    "duration": 477,
    "start_time": "2024-08-17T15:18:25.763Z"
   },
   {
    "duration": 612,
    "start_time": "2024-08-17T15:18:44.822Z"
   },
   {
    "duration": 447,
    "start_time": "2024-08-17T15:19:25.064Z"
   },
   {
    "duration": 1561,
    "start_time": "2024-08-18T15:30:30.143Z"
   },
   {
    "duration": 3,
    "start_time": "2024-08-18T15:30:31.706Z"
   },
   {
    "duration": 24,
    "start_time": "2024-08-18T15:30:31.710Z"
   },
   {
    "duration": 1841,
    "start_time": "2024-08-18T15:30:31.736Z"
   },
   {
    "duration": 175,
    "start_time": "2024-08-18T15:30:33.580Z"
   },
   {
    "duration": 37,
    "start_time": "2024-08-18T15:30:33.757Z"
   },
   {
    "duration": 193,
    "start_time": "2024-08-18T15:30:33.795Z"
   },
   {
    "duration": 44,
    "start_time": "2024-08-18T15:30:33.990Z"
   },
   {
    "duration": 191,
    "start_time": "2024-08-18T15:30:34.036Z"
   },
   {
    "duration": 35,
    "start_time": "2024-08-18T15:30:34.229Z"
   },
   {
    "duration": 2,
    "start_time": "2024-08-18T15:30:34.266Z"
   },
   {
    "duration": 1558,
    "start_time": "2024-08-18T15:30:34.270Z"
   },
   {
    "duration": 487,
    "start_time": "2024-08-18T15:30:35.829Z"
   },
   {
    "duration": 1548,
    "start_time": "2024-08-18T15:30:36.319Z"
   },
   {
    "duration": 394,
    "start_time": "2024-08-18T15:30:37.869Z"
   },
   {
    "duration": 1704,
    "start_time": "2024-08-18T15:30:38.265Z"
   },
   {
    "duration": 579,
    "start_time": "2024-08-18T15:30:39.970Z"
   },
   {
    "duration": 540,
    "start_time": "2024-08-18T15:30:40.550Z"
   },
   {
    "duration": 528,
    "start_time": "2024-08-18T15:30:41.096Z"
   },
   {
    "duration": 165,
    "start_time": "2024-08-18T15:30:51.128Z"
   },
   {
    "duration": 516,
    "start_time": "2024-08-18T15:30:51.996Z"
   },
   {
    "duration": 17,
    "start_time": "2024-08-18T15:34:26.074Z"
   },
   {
    "duration": 20,
    "start_time": "2024-08-18T15:34:29.240Z"
   },
   {
    "duration": 21,
    "start_time": "2024-08-18T15:35:04.660Z"
   },
   {
    "duration": 159,
    "start_time": "2024-08-18T15:37:24.366Z"
   },
   {
    "duration": 16,
    "start_time": "2024-08-18T15:37:36.330Z"
   },
   {
    "duration": 117,
    "start_time": "2024-08-18T15:38:24.118Z"
   },
   {
    "duration": 18,
    "start_time": "2024-08-18T15:38:34.190Z"
   },
   {
    "duration": 11,
    "start_time": "2024-08-18T15:38:34.980Z"
   },
   {
    "duration": 43,
    "start_time": "2024-08-20T12:41:48.504Z"
   },
   {
    "duration": 6,
    "start_time": "2024-08-20T12:41:48.788Z"
   },
   {
    "duration": 1711,
    "start_time": "2024-08-20T12:41:53.959Z"
   },
   {
    "duration": 3,
    "start_time": "2024-08-20T12:41:55.672Z"
   },
   {
    "duration": 5,
    "start_time": "2024-08-20T12:41:55.676Z"
   },
   {
    "duration": 1756,
    "start_time": "2024-08-20T12:41:55.683Z"
   },
   {
    "duration": 160,
    "start_time": "2024-08-20T12:41:57.441Z"
   },
   {
    "duration": 33,
    "start_time": "2024-08-20T12:41:57.602Z"
   },
   {
    "duration": 159,
    "start_time": "2024-08-20T12:41:57.637Z"
   },
   {
    "duration": 37,
    "start_time": "2024-08-20T12:41:57.797Z"
   },
   {
    "duration": 161,
    "start_time": "2024-08-20T12:41:57.836Z"
   },
   {
    "duration": 29,
    "start_time": "2024-08-20T12:41:58.006Z"
   },
   {
    "duration": 3,
    "start_time": "2024-08-20T12:41:58.036Z"
   },
   {
    "duration": 1420,
    "start_time": "2024-08-20T12:41:58.040Z"
   },
   {
    "duration": 432,
    "start_time": "2024-08-20T12:41:59.462Z"
   },
   {
    "duration": 1420,
    "start_time": "2024-08-20T12:41:59.895Z"
   },
   {
    "duration": 363,
    "start_time": "2024-08-20T12:42:01.316Z"
   },
   {
    "duration": 1607,
    "start_time": "2024-08-20T12:42:01.681Z"
   },
   {
    "duration": 541,
    "start_time": "2024-08-20T12:42:03.290Z"
   },
   {
    "duration": 510,
    "start_time": "2024-08-20T12:42:03.832Z"
   },
   {
    "duration": 482,
    "start_time": "2024-08-20T12:42:04.344Z"
   },
   {
    "duration": 494,
    "start_time": "2024-08-20T12:42:04.827Z"
   },
   {
    "duration": 13,
    "start_time": "2024-08-20T12:42:05.323Z"
   },
   {
    "duration": 22,
    "start_time": "2024-08-20T12:42:05.337Z"
   },
   {
    "duration": 18,
    "start_time": "2024-08-20T12:42:05.361Z"
   },
   {
    "duration": 134,
    "start_time": "2024-08-20T12:42:05.380Z"
   },
   {
    "duration": 192,
    "start_time": "2024-08-20T12:42:05.516Z"
   },
   {
    "duration": 107,
    "start_time": "2024-08-20T12:42:05.710Z"
   },
   {
    "duration": 189,
    "start_time": "2024-08-20T12:42:05.819Z"
   },
   {
    "duration": 5,
    "start_time": "2024-08-20T12:42:06.011Z"
   },
   {
    "duration": 11,
    "start_time": "2024-08-20T12:42:06.017Z"
   },
   {
    "duration": 68,
    "start_time": "2024-08-20T12:42:18.685Z"
   },
   {
    "duration": 3,
    "start_time": "2024-08-20T12:42:23.689Z"
   },
   {
    "duration": 3,
    "start_time": "2024-08-20T12:42:24.366Z"
   },
   {
    "duration": 5,
    "start_time": "2024-08-20T12:43:17.008Z"
   },
   {
    "duration": 3,
    "start_time": "2024-08-20T12:43:52.509Z"
   },
   {
    "duration": 9,
    "start_time": "2024-08-20T12:45:32.772Z"
   },
   {
    "duration": 4,
    "start_time": "2024-08-20T12:45:33.608Z"
   },
   {
    "duration": 4,
    "start_time": "2024-08-20T12:45:34.569Z"
   },
   {
    "duration": 4,
    "start_time": "2024-08-20T12:45:35.305Z"
   },
   {
    "duration": 6,
    "start_time": "2024-08-20T12:45:36.112Z"
   },
   {
    "duration": 7,
    "start_time": "2024-08-20T12:45:36.764Z"
   },
   {
    "duration": 6,
    "start_time": "2024-08-20T12:45:37.821Z"
   },
   {
    "duration": 3,
    "start_time": "2024-08-20T12:46:30.443Z"
   },
   {
    "duration": 6,
    "start_time": "2024-08-20T12:46:30.928Z"
   },
   {
    "duration": 1560,
    "start_time": "2024-08-20T12:46:31.861Z"
   },
   {
    "duration": 1518,
    "start_time": "2024-08-20T12:46:46.147Z"
   },
   {
    "duration": 1578,
    "start_time": "2024-08-20T12:46:55.837Z"
   },
   {
    "duration": 9,
    "start_time": "2024-08-20T12:47:08.692Z"
   },
   {
    "duration": 125,
    "start_time": "2024-08-20T12:47:16.959Z"
   },
   {
    "duration": 82,
    "start_time": "2024-08-20T12:47:29.731Z"
   },
   {
    "duration": 48,
    "start_time": "2024-08-24T15:55:32.623Z"
   },
   {
    "duration": 1516,
    "start_time": "2024-08-24T15:55:37.857Z"
   },
   {
    "duration": 4,
    "start_time": "2024-08-24T15:55:39.375Z"
   },
   {
    "duration": 11,
    "start_time": "2024-08-24T15:55:39.380Z"
   },
   {
    "duration": 969,
    "start_time": "2024-08-24T15:55:39.392Z"
   },
   {
    "duration": 179,
    "start_time": "2024-08-24T15:55:40.364Z"
   },
   {
    "duration": 43,
    "start_time": "2024-08-24T15:55:40.545Z"
   },
   {
    "duration": 178,
    "start_time": "2024-08-24T15:55:40.590Z"
   },
   {
    "duration": 40,
    "start_time": "2024-08-24T15:55:40.771Z"
   },
   {
    "duration": 173,
    "start_time": "2024-08-24T15:55:40.812Z"
   },
   {
    "duration": 31,
    "start_time": "2024-08-24T15:55:40.986Z"
   },
   {
    "duration": 2,
    "start_time": "2024-08-24T15:55:41.019Z"
   },
   {
    "duration": 1488,
    "start_time": "2024-08-24T15:55:41.023Z"
   },
   {
    "duration": 476,
    "start_time": "2024-08-24T15:55:42.513Z"
   },
   {
    "duration": 1474,
    "start_time": "2024-08-24T15:55:42.992Z"
   },
   {
    "duration": 421,
    "start_time": "2024-08-24T15:55:44.468Z"
   },
   {
    "duration": 1566,
    "start_time": "2024-08-24T15:55:44.891Z"
   },
   {
    "duration": 512,
    "start_time": "2024-08-24T15:55:46.459Z"
   },
   {
    "duration": 515,
    "start_time": "2024-08-24T15:55:46.973Z"
   },
   {
    "duration": 459,
    "start_time": "2024-08-24T15:55:47.490Z"
   },
   {
    "duration": 515,
    "start_time": "2024-08-24T15:55:47.951Z"
   },
   {
    "duration": 15,
    "start_time": "2024-08-24T15:56:04.988Z"
   },
   {
    "duration": 21,
    "start_time": "2024-08-24T15:56:13.424Z"
   },
   {
    "duration": 19,
    "start_time": "2024-08-24T15:56:14.749Z"
   },
   {
    "duration": 4,
    "start_time": "2024-08-24T16:50:30.898Z"
   },
   {
    "duration": 2,
    "start_time": "2024-08-24T16:53:44.000Z"
   },
   {
    "duration": 352,
    "start_time": "2024-08-24T16:54:51.849Z"
   },
   {
    "duration": 3,
    "start_time": "2024-08-24T16:55:05.043Z"
   },
   {
    "duration": 378,
    "start_time": "2024-08-24T16:55:06.509Z"
   },
   {
    "duration": 58,
    "start_time": "2024-08-26T17:06:38.824Z"
   },
   {
    "duration": 1541,
    "start_time": "2024-08-26T17:06:44.103Z"
   },
   {
    "duration": 4,
    "start_time": "2024-08-26T17:06:45.646Z"
   },
   {
    "duration": 21,
    "start_time": "2024-08-26T17:06:45.652Z"
   },
   {
    "duration": 1003,
    "start_time": "2024-08-26T17:06:45.679Z"
   },
   {
    "duration": 193,
    "start_time": "2024-08-26T17:06:46.684Z"
   },
   {
    "duration": 37,
    "start_time": "2024-08-26T17:06:46.878Z"
   },
   {
    "duration": 190,
    "start_time": "2024-08-26T17:06:46.916Z"
   },
   {
    "duration": 31,
    "start_time": "2024-08-26T17:06:47.107Z"
   },
   {
    "duration": 190,
    "start_time": "2024-08-26T17:06:47.140Z"
   },
   {
    "duration": 47,
    "start_time": "2024-08-26T17:06:47.333Z"
   },
   {
    "duration": 2,
    "start_time": "2024-08-26T17:06:47.382Z"
   },
   {
    "duration": 1651,
    "start_time": "2024-08-26T17:06:47.385Z"
   },
   {
    "duration": 476,
    "start_time": "2024-08-26T17:06:49.038Z"
   },
   {
    "duration": 1603,
    "start_time": "2024-08-26T17:06:49.516Z"
   },
   {
    "duration": 393,
    "start_time": "2024-08-26T17:06:51.121Z"
   },
   {
    "duration": 1723,
    "start_time": "2024-08-26T17:06:51.515Z"
   },
   {
    "duration": 559,
    "start_time": "2024-08-26T17:06:53.239Z"
   },
   {
    "duration": 553,
    "start_time": "2024-08-26T17:06:53.800Z"
   },
   {
    "duration": 502,
    "start_time": "2024-08-26T17:06:54.355Z"
   },
   {
    "duration": 596,
    "start_time": "2024-08-26T17:06:54.859Z"
   },
   {
    "duration": 14,
    "start_time": "2024-08-26T17:06:55.460Z"
   },
   {
    "duration": 3,
    "start_time": "2024-08-26T17:06:55.478Z"
   },
   {
    "duration": 3,
    "start_time": "2024-08-26T17:07:04.405Z"
   },
   {
    "duration": 455,
    "start_time": "2024-08-26T17:07:05.233Z"
   },
   {
    "duration": 5,
    "start_time": "2024-08-26T17:07:16.074Z"
   },
   {
    "duration": 2,
    "start_time": "2024-08-26T17:07:16.493Z"
   },
   {
    "duration": 314,
    "start_time": "2024-08-26T17:07:16.768Z"
   },
   {
    "duration": 4,
    "start_time": "2024-08-26T17:07:35.027Z"
   },
   {
    "duration": 2,
    "start_time": "2024-08-26T17:07:35.396Z"
   },
   {
    "duration": 258,
    "start_time": "2024-08-26T17:07:35.623Z"
   },
   {
    "duration": 4,
    "start_time": "2024-08-26T17:09:19.197Z"
   },
   {
    "duration": 3,
    "start_time": "2024-08-26T17:09:19.881Z"
   },
   {
    "duration": 331,
    "start_time": "2024-08-26T17:09:20.433Z"
   },
   {
    "duration": 4,
    "start_time": "2024-08-26T17:09:35.475Z"
   },
   {
    "duration": 3,
    "start_time": "2024-08-26T17:09:35.779Z"
   },
   {
    "duration": 301,
    "start_time": "2024-08-26T17:09:36.271Z"
   },
   {
    "duration": 65,
    "start_time": "2024-08-26T17:09:54.840Z"
   },
   {
    "duration": 5,
    "start_time": "2024-08-26T17:10:04.382Z"
   },
   {
    "duration": 3,
    "start_time": "2024-08-26T17:10:05.500Z"
   },
   {
    "duration": 225,
    "start_time": "2024-08-26T17:10:05.755Z"
   },
   {
    "duration": 6,
    "start_time": "2024-08-26T17:10:12.512Z"
   },
   {
    "duration": 3,
    "start_time": "2024-08-26T17:10:12.953Z"
   },
   {
    "duration": 294,
    "start_time": "2024-08-26T17:10:14.086Z"
   },
   {
    "duration": 5,
    "start_time": "2024-08-26T17:10:56.487Z"
   },
   {
    "duration": 3,
    "start_time": "2024-08-26T17:10:56.888Z"
   },
   {
    "duration": 309,
    "start_time": "2024-08-26T17:10:57.169Z"
   },
   {
    "duration": 6,
    "start_time": "2024-08-26T17:15:43.370Z"
   },
   {
    "duration": 2,
    "start_time": "2024-08-26T17:15:44.506Z"
   },
   {
    "duration": 312,
    "start_time": "2024-08-26T17:15:44.866Z"
   },
   {
    "duration": 7,
    "start_time": "2024-08-26T17:21:46.408Z"
   },
   {
    "duration": 3,
    "start_time": "2024-08-26T17:21:46.700Z"
   },
   {
    "duration": 184,
    "start_time": "2024-08-26T17:21:46.892Z"
   },
   {
    "duration": 8,
    "start_time": "2024-08-26T17:22:54.758Z"
   },
   {
    "duration": 3,
    "start_time": "2024-08-26T17:22:55.167Z"
   },
   {
    "duration": 360,
    "start_time": "2024-08-26T17:22:55.402Z"
   },
   {
    "duration": 8,
    "start_time": "2024-08-26T17:26:09.783Z"
   },
   {
    "duration": 3,
    "start_time": "2024-08-26T17:26:10.520Z"
   },
   {
    "duration": 3,
    "start_time": "2024-08-26T17:26:10.782Z"
   },
   {
    "duration": 349,
    "start_time": "2024-08-26T17:26:11.026Z"
   },
   {
    "duration": 6,
    "start_time": "2024-08-26T17:27:06.880Z"
   },
   {
    "duration": 2,
    "start_time": "2024-08-26T17:27:07.550Z"
   },
   {
    "duration": 3,
    "start_time": "2024-08-26T17:27:07.921Z"
   },
   {
    "duration": 355,
    "start_time": "2024-08-26T17:27:08.415Z"
   },
   {
    "duration": 10,
    "start_time": "2024-08-26T17:28:47.582Z"
   },
   {
    "duration": 71,
    "start_time": "2024-08-26T17:29:07.451Z"
   },
   {
    "duration": 10,
    "start_time": "2024-08-26T17:29:18.230Z"
   },
   {
    "duration": 111,
    "start_time": "2024-08-26T17:32:14.687Z"
   },
   {
    "duration": 6,
    "start_time": "2024-08-26T17:33:02.098Z"
   },
   {
    "duration": 12,
    "start_time": "2024-08-26T17:33:02.404Z"
   },
   {
    "duration": 3,
    "start_time": "2024-08-26T17:33:02.620Z"
   },
   {
    "duration": 108,
    "start_time": "2024-08-26T17:33:03.155Z"
   },
   {
    "duration": 139,
    "start_time": "2024-08-26T17:33:03.942Z"
   },
   {
    "duration": 5,
    "start_time": "2024-08-26T17:33:11.427Z"
   },
   {
    "duration": 3,
    "start_time": "2024-08-26T17:33:12.809Z"
   },
   {
    "duration": 2,
    "start_time": "2024-08-26T17:33:13.301Z"
   },
   {
    "duration": 364,
    "start_time": "2024-08-26T17:33:14.606Z"
   },
   {
    "duration": 68,
    "start_time": "2024-08-26T17:33:17.178Z"
   },
   {
    "duration": 3,
    "start_time": "2024-08-26T17:34:03.162Z"
   },
   {
    "duration": 117,
    "start_time": "2024-08-26T17:34:44.896Z"
   },
   {
    "duration": 152,
    "start_time": "2024-08-26T17:35:06.671Z"
   },
   {
    "duration": 4,
    "start_time": "2024-08-26T17:35:36.304Z"
   },
   {
    "duration": 90,
    "start_time": "2024-08-26T17:35:46.816Z"
   },
   {
    "duration": 3,
    "start_time": "2024-08-26T18:23:59.697Z"
   },
   {
    "duration": 91,
    "start_time": "2024-08-26T18:24:13.516Z"
   },
   {
    "duration": 90,
    "start_time": "2024-08-26T18:26:30.840Z"
   },
   {
    "duration": 96,
    "start_time": "2024-08-26T18:26:45.489Z"
   },
   {
    "duration": 47,
    "start_time": "2024-08-27T16:44:08.789Z"
   },
   {
    "duration": 1821,
    "start_time": "2024-08-27T16:44:12.942Z"
   },
   {
    "duration": 4,
    "start_time": "2024-08-27T16:44:14.772Z"
   },
   {
    "duration": 27,
    "start_time": "2024-08-27T16:44:14.777Z"
   },
   {
    "duration": 14,
    "start_time": "2024-08-27T16:44:14.806Z"
   },
   {
    "duration": 1072,
    "start_time": "2024-08-27T16:44:14.822Z"
   },
   {
    "duration": 203,
    "start_time": "2024-08-27T16:44:15.896Z"
   },
   {
    "duration": 66,
    "start_time": "2024-08-27T16:44:16.101Z"
   },
   {
    "duration": 210,
    "start_time": "2024-08-27T16:44:16.169Z"
   },
   {
    "duration": 35,
    "start_time": "2024-08-27T16:44:16.381Z"
   },
   {
    "duration": 252,
    "start_time": "2024-08-27T16:44:16.419Z"
   },
   {
    "duration": 36,
    "start_time": "2024-08-27T16:44:16.673Z"
   },
   {
    "duration": 3,
    "start_time": "2024-08-27T16:44:16.711Z"
   },
   {
    "duration": 1830,
    "start_time": "2024-08-27T16:44:16.716Z"
   },
   {
    "duration": 516,
    "start_time": "2024-08-27T16:44:18.548Z"
   },
   {
    "duration": 1726,
    "start_time": "2024-08-27T16:44:19.065Z"
   },
   {
    "duration": 434,
    "start_time": "2024-08-27T16:44:20.793Z"
   },
   {
    "duration": 2010,
    "start_time": "2024-08-27T16:44:21.229Z"
   },
   {
    "duration": 478,
    "start_time": "2024-08-27T16:44:23.240Z"
   },
   {
    "duration": 613,
    "start_time": "2024-08-27T16:44:23.719Z"
   },
   {
    "duration": 607,
    "start_time": "2024-08-27T16:44:24.333Z"
   },
   {
    "duration": 630,
    "start_time": "2024-08-27T16:44:24.941Z"
   },
   {
    "duration": 3,
    "start_time": "2024-08-27T16:44:25.575Z"
   },
   {
    "duration": 17,
    "start_time": "2024-08-27T16:44:25.580Z"
   },
   {
    "duration": 5,
    "start_time": "2024-08-27T16:44:25.599Z"
   },
   {
    "duration": 351,
    "start_time": "2024-08-27T16:44:25.606Z"
   },
   {
    "duration": 194,
    "start_time": "2024-08-27T16:44:25.969Z"
   },
   {
    "duration": 4,
    "start_time": "2024-08-27T16:44:26.168Z"
   },
   {
    "duration": 8,
    "start_time": "2024-08-27T16:44:28.308Z"
   },
   {
    "duration": 5,
    "start_time": "2024-08-27T16:44:28.737Z"
   },
   {
    "duration": 89,
    "start_time": "2024-08-27T16:44:33.704Z"
   },
   {
    "duration": 4,
    "start_time": "2024-08-27T16:45:26.178Z"
   },
   {
    "duration": 7,
    "start_time": "2024-08-27T16:46:17.766Z"
   },
   {
    "duration": 6,
    "start_time": "2024-08-27T16:47:08.110Z"
   },
   {
    "duration": 6,
    "start_time": "2024-08-27T16:47:34.451Z"
   },
   {
    "duration": 9,
    "start_time": "2024-08-27T16:48:25.784Z"
   },
   {
    "duration": 3,
    "start_time": "2024-08-27T16:48:33.779Z"
   },
   {
    "duration": 4,
    "start_time": "2024-08-27T16:49:00.155Z"
   },
   {
    "duration": 4,
    "start_time": "2024-08-27T16:49:00.613Z"
   },
   {
    "duration": 9,
    "start_time": "2024-08-27T16:49:12.399Z"
   },
   {
    "duration": 13,
    "start_time": "2024-08-27T16:49:18.774Z"
   },
   {
    "duration": 15,
    "start_time": "2024-08-27T16:51:22.389Z"
   },
   {
    "duration": 1588,
    "start_time": "2024-08-31T09:44:59.398Z"
   },
   {
    "duration": 3,
    "start_time": "2024-08-31T09:45:00.988Z"
   },
   {
    "duration": 21,
    "start_time": "2024-08-31T09:45:00.993Z"
   },
   {
    "duration": 20,
    "start_time": "2024-08-31T09:45:01.016Z"
   },
   {
    "duration": 1728,
    "start_time": "2024-08-31T09:45:01.037Z"
   },
   {
    "duration": 191,
    "start_time": "2024-08-31T09:45:02.767Z"
   },
   {
    "duration": 37,
    "start_time": "2024-08-31T09:45:02.959Z"
   },
   {
    "duration": 195,
    "start_time": "2024-08-31T09:45:02.998Z"
   },
   {
    "duration": 34,
    "start_time": "2024-08-31T09:45:03.195Z"
   },
   {
    "duration": 194,
    "start_time": "2024-08-31T09:45:03.231Z"
   },
   {
    "duration": 42,
    "start_time": "2024-08-31T09:45:03.426Z"
   },
   {
    "duration": 3,
    "start_time": "2024-08-31T09:45:03.470Z"
   },
   {
    "duration": 1605,
    "start_time": "2024-08-31T09:45:03.474Z"
   },
   {
    "duration": 480,
    "start_time": "2024-08-31T09:45:05.080Z"
   },
   {
    "duration": 1585,
    "start_time": "2024-08-31T09:45:05.562Z"
   },
   {
    "duration": 384,
    "start_time": "2024-08-31T09:45:07.148Z"
   },
   {
    "duration": 1663,
    "start_time": "2024-08-31T09:45:07.534Z"
   },
   {
    "duration": 542,
    "start_time": "2024-08-31T09:45:09.199Z"
   },
   {
    "duration": 563,
    "start_time": "2024-08-31T09:45:09.743Z"
   },
   {
    "duration": 529,
    "start_time": "2024-08-31T09:45:10.308Z"
   },
   {
    "duration": 554,
    "start_time": "2024-08-31T09:45:10.838Z"
   },
   {
    "duration": 2,
    "start_time": "2024-08-31T09:45:11.394Z"
   },
   {
    "duration": 6,
    "start_time": "2024-08-31T09:45:11.397Z"
   },
   {
    "duration": 5,
    "start_time": "2024-08-31T09:45:11.405Z"
   },
   {
    "duration": 453,
    "start_time": "2024-08-31T09:45:11.411Z"
   },
   {
    "duration": 266,
    "start_time": "2024-08-31T09:45:11.866Z"
   },
   {
    "duration": 3,
    "start_time": "2024-08-31T09:45:12.133Z"
   },
   {
    "duration": 5,
    "start_time": "2024-08-31T09:45:12.151Z"
   },
   {
    "duration": 4,
    "start_time": "2024-08-31T09:45:16.446Z"
   },
   {
    "duration": 3,
    "start_time": "2024-08-31T09:45:16.995Z"
   },
   {
    "duration": 108,
    "start_time": "2024-08-31T09:45:50.473Z"
   },
   {
    "duration": 12,
    "start_time": "2024-08-31T10:18:38.824Z"
   },
   {
    "duration": 5,
    "start_time": "2024-08-31T10:23:16.691Z"
   },
   {
    "duration": 12,
    "start_time": "2024-08-31T10:24:25.601Z"
   },
   {
    "duration": 3,
    "start_time": "2024-08-31T10:25:30.921Z"
   },
   {
    "duration": 4,
    "start_time": "2024-08-31T10:25:35.399Z"
   },
   {
    "duration": 13,
    "start_time": "2024-08-31T10:26:04.981Z"
   },
   {
    "duration": 4,
    "start_time": "2024-08-31T10:28:11.731Z"
   },
   {
    "duration": 4,
    "start_time": "2024-08-31T10:29:38.703Z"
   },
   {
    "duration": 4,
    "start_time": "2024-08-31T10:30:01.881Z"
   },
   {
    "duration": 3,
    "start_time": "2024-08-31T10:30:10.183Z"
   },
   {
    "duration": 5,
    "start_time": "2024-08-31T10:30:26.461Z"
   },
   {
    "duration": 79,
    "start_time": "2024-08-31T10:31:13.441Z"
   },
   {
    "duration": 4,
    "start_time": "2024-08-31T10:31:20.551Z"
   },
   {
    "duration": 11,
    "start_time": "2024-08-31T10:31:50.413Z"
   },
   {
    "duration": 12,
    "start_time": "2024-08-31T10:32:08.261Z"
   },
   {
    "duration": 4,
    "start_time": "2024-08-31T10:32:23.521Z"
   },
   {
    "duration": 12,
    "start_time": "2024-08-31T10:38:27.461Z"
   },
   {
    "duration": 10,
    "start_time": "2024-08-31T10:38:55.893Z"
   },
   {
    "duration": 13,
    "start_time": "2024-08-31T10:38:59.593Z"
   },
   {
    "duration": 4,
    "start_time": "2024-08-31T10:39:12.724Z"
   },
   {
    "duration": 9,
    "start_time": "2024-08-31T10:46:51.657Z"
   },
   {
    "duration": 20,
    "start_time": "2024-08-31T10:47:39.667Z"
   },
   {
    "duration": 49,
    "start_time": "2024-08-31T10:48:19.016Z"
   },
   {
    "duration": 45,
    "start_time": "2024-08-31T10:48:29.493Z"
   },
   {
    "duration": 4,
    "start_time": "2024-08-31T10:49:00.219Z"
   },
   {
    "duration": 46,
    "start_time": "2024-08-31T10:49:34.315Z"
   },
   {
    "duration": 54,
    "start_time": "2024-08-31T10:50:20.688Z"
   },
   {
    "duration": 32,
    "start_time": "2024-08-31T10:50:29.907Z"
   },
   {
    "duration": 47,
    "start_time": "2024-08-31T10:50:35.042Z"
   },
   {
    "duration": 4,
    "start_time": "2024-08-31T10:50:56.680Z"
   },
   {
    "duration": 6,
    "start_time": "2024-08-31T10:50:56.687Z"
   },
   {
    "duration": 12,
    "start_time": "2024-08-31T10:50:56.694Z"
   },
   {
    "duration": 5,
    "start_time": "2024-08-31T10:50:56.708Z"
   },
   {
    "duration": 430,
    "start_time": "2024-08-31T10:50:56.714Z"
   },
   {
    "duration": 179,
    "start_time": "2024-08-31T10:50:57.146Z"
   },
   {
    "duration": 51,
    "start_time": "2024-08-31T10:50:57.327Z"
   },
   {
    "duration": 174,
    "start_time": "2024-08-31T10:50:57.379Z"
   },
   {
    "duration": 34,
    "start_time": "2024-08-31T10:50:57.554Z"
   },
   {
    "duration": 179,
    "start_time": "2024-08-31T10:50:57.589Z"
   },
   {
    "duration": 30,
    "start_time": "2024-08-31T10:50:57.770Z"
   },
   {
    "duration": 2,
    "start_time": "2024-08-31T10:50:57.803Z"
   },
   {
    "duration": 1459,
    "start_time": "2024-08-31T10:50:57.807Z"
   },
   {
    "duration": 425,
    "start_time": "2024-08-31T10:50:59.268Z"
   },
   {
    "duration": 1528,
    "start_time": "2024-08-31T10:50:59.695Z"
   },
   {
    "duration": 383,
    "start_time": "2024-08-31T10:51:01.224Z"
   },
   {
    "duration": 1813,
    "start_time": "2024-08-31T10:51:01.609Z"
   },
   {
    "duration": 384,
    "start_time": "2024-08-31T10:51:03.424Z"
   },
   {
    "duration": 593,
    "start_time": "2024-08-31T10:51:03.809Z"
   },
   {
    "duration": 535,
    "start_time": "2024-08-31T10:51:04.403Z"
   },
   {
    "duration": 570,
    "start_time": "2024-08-31T10:51:04.939Z"
   },
   {
    "duration": 2,
    "start_time": "2024-08-31T10:51:05.511Z"
   },
   {
    "duration": 14,
    "start_time": "2024-08-31T10:51:05.515Z"
   },
   {
    "duration": 19,
    "start_time": "2024-08-31T10:51:05.531Z"
   },
   {
    "duration": 405,
    "start_time": "2024-08-31T10:51:05.552Z"
   },
   {
    "duration": 261,
    "start_time": "2024-08-31T10:51:05.959Z"
   },
   {
    "duration": 3,
    "start_time": "2024-08-31T10:51:06.221Z"
   },
   {
    "duration": 6,
    "start_time": "2024-08-31T10:51:06.225Z"
   },
   {
    "duration": 20,
    "start_time": "2024-08-31T10:51:06.232Z"
   },
   {
    "duration": 5,
    "start_time": "2024-08-31T10:51:06.255Z"
   },
   {
    "duration": 26,
    "start_time": "2024-08-31T10:51:06.261Z"
   },
   {
    "duration": 12,
    "start_time": "2024-08-31T10:51:06.288Z"
   },
   {
    "duration": 4,
    "start_time": "2024-08-31T10:51:06.302Z"
   },
   {
    "duration": 35,
    "start_time": "2024-08-31T10:51:06.307Z"
   },
   {
    "duration": 17,
    "start_time": "2024-08-31T10:51:06.343Z"
   },
   {
    "duration": 4,
    "start_time": "2024-08-31T10:51:06.361Z"
   },
   {
    "duration": 17,
    "start_time": "2024-08-31T10:51:06.366Z"
   },
   {
    "duration": 12,
    "start_time": "2024-08-31T10:51:06.384Z"
   },
   {
    "duration": 38,
    "start_time": "2024-08-31T10:51:06.397Z"
   },
   {
    "duration": 4,
    "start_time": "2024-08-31T10:51:09.198Z"
   },
   {
    "duration": 60,
    "start_time": "2024-08-31T10:54:07.085Z"
   },
   {
    "duration": 6,
    "start_time": "2024-08-31T10:55:55.378Z"
   },
   {
    "duration": 3,
    "start_time": "2024-08-31T10:55:57.750Z"
   },
   {
    "duration": 487,
    "start_time": "2024-08-31T10:55:58.470Z"
   },
   {
    "duration": 6,
    "start_time": "2024-08-31T10:59:37.106Z"
   },
   {
    "duration": 3,
    "start_time": "2024-08-31T10:59:37.728Z"
   },
   {
    "duration": 444,
    "start_time": "2024-08-31T10:59:38.910Z"
   },
   {
    "duration": 4,
    "start_time": "2024-08-31T11:00:00.611Z"
   },
   {
    "duration": 32,
    "start_time": "2024-08-31T11:00:00.620Z"
   },
   {
    "duration": 5,
    "start_time": "2024-08-31T11:00:00.654Z"
   },
   {
    "duration": 4,
    "start_time": "2024-08-31T11:00:00.661Z"
   },
   {
    "duration": 424,
    "start_time": "2024-08-31T11:00:00.666Z"
   },
   {
    "duration": 184,
    "start_time": "2024-08-31T11:00:01.092Z"
   },
   {
    "duration": 38,
    "start_time": "2024-08-31T11:00:01.277Z"
   },
   {
    "duration": 211,
    "start_time": "2024-08-31T11:00:01.317Z"
   },
   {
    "duration": 48,
    "start_time": "2024-08-31T11:00:01.529Z"
   },
   {
    "duration": 193,
    "start_time": "2024-08-31T11:00:01.579Z"
   },
   {
    "duration": 35,
    "start_time": "2024-08-31T11:00:01.773Z"
   },
   {
    "duration": 3,
    "start_time": "2024-08-31T11:00:01.809Z"
   },
   {
    "duration": 1656,
    "start_time": "2024-08-31T11:00:01.813Z"
   },
   {
    "duration": 453,
    "start_time": "2024-08-31T11:00:03.471Z"
   },
   {
    "duration": 1602,
    "start_time": "2024-08-31T11:00:03.928Z"
   },
   {
    "duration": 384,
    "start_time": "2024-08-31T11:00:05.532Z"
   },
   {
    "duration": 1698,
    "start_time": "2024-08-31T11:00:05.918Z"
   },
   {
    "duration": 575,
    "start_time": "2024-08-31T11:00:07.618Z"
   },
   {
    "duration": 573,
    "start_time": "2024-08-31T11:00:08.194Z"
   },
   {
    "duration": 528,
    "start_time": "2024-08-31T11:00:08.769Z"
   },
   {
    "duration": 556,
    "start_time": "2024-08-31T11:00:09.299Z"
   },
   {
    "duration": 3,
    "start_time": "2024-08-31T11:00:09.856Z"
   },
   {
    "duration": 5,
    "start_time": "2024-08-31T11:00:23.261Z"
   },
   {
    "duration": 3,
    "start_time": "2024-08-31T11:00:24.131Z"
   },
   {
    "duration": 423,
    "start_time": "2024-08-31T11:00:24.838Z"
   },
   {
    "duration": 86,
    "start_time": "2024-08-31T11:00:42.381Z"
   },
   {
    "duration": 2,
    "start_time": "2024-08-31T11:00:43.852Z"
   },
   {
    "duration": 3,
    "start_time": "2024-08-31T11:00:44.140Z"
   },
   {
    "duration": 4,
    "start_time": "2024-08-31T11:00:44.419Z"
   },
   {
    "duration": 5,
    "start_time": "2024-08-31T11:00:44.671Z"
   },
   {
    "duration": 11,
    "start_time": "2024-08-31T11:00:45.180Z"
   },
   {
    "duration": 12,
    "start_time": "2024-08-31T11:00:45.461Z"
   },
   {
    "duration": 4,
    "start_time": "2024-08-31T11:00:45.731Z"
   },
   {
    "duration": 12,
    "start_time": "2024-08-31T11:00:46.008Z"
   },
   {
    "duration": 12,
    "start_time": "2024-08-31T11:00:46.471Z"
   },
   {
    "duration": 4,
    "start_time": "2024-08-31T11:00:46.886Z"
   },
   {
    "duration": 12,
    "start_time": "2024-08-31T11:00:47.235Z"
   },
   {
    "duration": 13,
    "start_time": "2024-08-31T11:00:47.571Z"
   },
   {
    "duration": 4,
    "start_time": "2024-08-31T11:00:47.892Z"
   },
   {
    "duration": 4,
    "start_time": "2024-08-31T11:00:50.710Z"
   },
   {
    "duration": 5,
    "start_time": "2024-08-31T11:00:51.182Z"
   },
   {
    "duration": 3,
    "start_time": "2024-08-31T11:00:52.480Z"
   },
   {
    "duration": 46,
    "start_time": "2024-08-31T11:00:53.541Z"
   },
   {
    "duration": 8,
    "start_time": "2024-08-31T11:01:47.952Z"
   },
   {
    "duration": 3,
    "start_time": "2024-08-31T11:01:55.570Z"
   },
   {
    "duration": 3,
    "start_time": "2024-08-31T11:01:55.584Z"
   },
   {
    "duration": 4,
    "start_time": "2024-08-31T11:01:55.589Z"
   },
   {
    "duration": 3,
    "start_time": "2024-08-31T11:01:55.600Z"
   },
   {
    "duration": 405,
    "start_time": "2024-08-31T11:01:55.605Z"
   },
   {
    "duration": 176,
    "start_time": "2024-08-31T11:01:56.011Z"
   },
   {
    "duration": 37,
    "start_time": "2024-08-31T11:01:56.189Z"
   },
   {
    "duration": 189,
    "start_time": "2024-08-31T11:01:56.228Z"
   },
   {
    "duration": 42,
    "start_time": "2024-08-31T11:01:56.419Z"
   },
   {
    "duration": 179,
    "start_time": "2024-08-31T11:01:56.463Z"
   },
   {
    "duration": 37,
    "start_time": "2024-08-31T11:01:56.644Z"
   },
   {
    "duration": 3,
    "start_time": "2024-08-31T11:01:56.683Z"
   },
   {
    "duration": 1466,
    "start_time": "2024-08-31T11:01:56.687Z"
   },
   {
    "duration": 460,
    "start_time": "2024-08-31T11:01:58.155Z"
   },
   {
    "duration": 1549,
    "start_time": "2024-08-31T11:01:58.616Z"
   },
   {
    "duration": 431,
    "start_time": "2024-08-31T11:02:00.167Z"
   },
   {
    "duration": 1845,
    "start_time": "2024-08-31T11:02:00.600Z"
   },
   {
    "duration": 428,
    "start_time": "2024-08-31T11:02:02.452Z"
   },
   {
    "duration": 557,
    "start_time": "2024-08-31T11:02:02.882Z"
   },
   {
    "duration": 570,
    "start_time": "2024-08-31T11:02:03.440Z"
   },
   {
    "duration": 555,
    "start_time": "2024-08-31T11:02:04.011Z"
   },
   {
    "duration": 2,
    "start_time": "2024-08-31T11:02:04.567Z"
   },
   {
    "duration": 5,
    "start_time": "2024-08-31T11:02:04.571Z"
   },
   {
    "duration": 5,
    "start_time": "2024-08-31T11:02:04.578Z"
   },
   {
    "duration": 474,
    "start_time": "2024-08-31T11:02:04.585Z"
   },
   {
    "duration": 262,
    "start_time": "2024-08-31T11:02:05.062Z"
   },
   {
    "duration": 3,
    "start_time": "2024-08-31T11:02:05.327Z"
   },
   {
    "duration": 29,
    "start_time": "2024-08-31T11:02:05.331Z"
   },
   {
    "duration": 29,
    "start_time": "2024-08-31T11:02:05.362Z"
   },
   {
    "duration": 7,
    "start_time": "2024-08-31T11:02:05.393Z"
   },
   {
    "duration": 24,
    "start_time": "2024-08-31T11:02:05.402Z"
   },
   {
    "duration": 13,
    "start_time": "2024-08-31T11:02:05.428Z"
   },
   {
    "duration": 5,
    "start_time": "2024-08-31T11:02:05.442Z"
   },
   {
    "duration": 30,
    "start_time": "2024-08-31T11:02:05.448Z"
   },
   {
    "duration": 25,
    "start_time": "2024-08-31T11:02:05.480Z"
   },
   {
    "duration": 48,
    "start_time": "2024-08-31T11:02:05.506Z"
   },
   {
    "duration": 48,
    "start_time": "2024-08-31T11:02:05.556Z"
   },
   {
    "duration": 30,
    "start_time": "2024-08-31T11:02:05.605Z"
   },
   {
    "duration": 15,
    "start_time": "2024-08-31T11:02:05.637Z"
   },
   {
    "duration": 15,
    "start_time": "2024-08-31T11:02:05.654Z"
   },
   {
    "duration": 7,
    "start_time": "2024-08-31T11:02:05.671Z"
   },
   {
    "duration": 5,
    "start_time": "2024-08-31T11:02:05.679Z"
   },
   {
    "duration": 3,
    "start_time": "2024-08-31T11:02:07.851Z"
   },
   {
    "duration": 6,
    "start_time": "2024-08-31T11:02:08.920Z"
   },
   {
    "duration": 20,
    "start_time": "2024-08-31T11:02:13.875Z"
   },
   {
    "duration": 47,
    "start_time": "2024-08-31T11:02:22.327Z"
   },
   {
    "duration": 27,
    "start_time": "2024-08-31T11:03:06.101Z"
   },
   {
    "duration": 4,
    "start_time": "2024-08-31T11:03:14.804Z"
   },
   {
    "duration": 5,
    "start_time": "2024-08-31T11:03:14.810Z"
   },
   {
    "duration": 5,
    "start_time": "2024-08-31T11:03:14.817Z"
   },
   {
    "duration": 4,
    "start_time": "2024-08-31T11:03:14.828Z"
   },
   {
    "duration": 432,
    "start_time": "2024-08-31T11:03:14.833Z"
   },
   {
    "duration": 206,
    "start_time": "2024-08-31T11:03:15.266Z"
   },
   {
    "duration": 40,
    "start_time": "2024-08-31T11:03:15.474Z"
   },
   {
    "duration": 191,
    "start_time": "2024-08-31T11:03:15.515Z"
   },
   {
    "duration": 46,
    "start_time": "2024-08-31T11:03:15.707Z"
   },
   {
    "duration": 212,
    "start_time": "2024-08-31T11:03:15.754Z"
   },
   {
    "duration": 32,
    "start_time": "2024-08-31T11:03:15.968Z"
   },
   {
    "duration": 2,
    "start_time": "2024-08-31T11:03:16.003Z"
   },
   {
    "duration": 1595,
    "start_time": "2024-08-31T11:03:16.007Z"
   },
   {
    "duration": 405,
    "start_time": "2024-08-31T11:03:17.604Z"
   },
   {
    "duration": 1423,
    "start_time": "2024-08-31T11:03:18.011Z"
   },
   {
    "duration": 550,
    "start_time": "2024-08-31T11:03:19.436Z"
   },
   {
    "duration": 1675,
    "start_time": "2024-08-31T11:03:19.988Z"
   },
   {
    "duration": 432,
    "start_time": "2024-08-31T11:03:21.665Z"
   },
   {
    "duration": 602,
    "start_time": "2024-08-31T11:03:22.099Z"
   },
   {
    "duration": 593,
    "start_time": "2024-08-31T11:03:22.703Z"
   },
   {
    "duration": 570,
    "start_time": "2024-08-31T11:03:23.297Z"
   },
   {
    "duration": 4,
    "start_time": "2024-08-31T11:03:23.869Z"
   },
   {
    "duration": 9,
    "start_time": "2024-08-31T11:03:23.875Z"
   },
   {
    "duration": 7,
    "start_time": "2024-08-31T11:03:23.886Z"
   },
   {
    "duration": 463,
    "start_time": "2024-08-31T11:03:23.894Z"
   },
   {
    "duration": 360,
    "start_time": "2024-08-31T11:03:24.359Z"
   },
   {
    "duration": 3,
    "start_time": "2024-08-31T11:03:24.723Z"
   },
   {
    "duration": 7,
    "start_time": "2024-08-31T11:03:24.727Z"
   },
   {
    "duration": 17,
    "start_time": "2024-08-31T11:03:24.736Z"
   },
   {
    "duration": 7,
    "start_time": "2024-08-31T11:03:24.755Z"
   },
   {
    "duration": 10,
    "start_time": "2024-08-31T11:03:24.764Z"
   },
   {
    "duration": 14,
    "start_time": "2024-08-31T11:03:24.776Z"
   },
   {
    "duration": 6,
    "start_time": "2024-08-31T11:03:24.792Z"
   },
   {
    "duration": 18,
    "start_time": "2024-08-31T11:03:24.800Z"
   },
   {
    "duration": 41,
    "start_time": "2024-08-31T11:03:24.819Z"
   },
   {
    "duration": 4,
    "start_time": "2024-08-31T11:03:24.862Z"
   },
   {
    "duration": 19,
    "start_time": "2024-08-31T11:03:24.867Z"
   },
   {
    "duration": 13,
    "start_time": "2024-08-31T11:03:24.887Z"
   },
   {
    "duration": 4,
    "start_time": "2024-08-31T11:03:24.901Z"
   },
   {
    "duration": 7,
    "start_time": "2024-08-31T11:03:24.906Z"
   },
   {
    "duration": 17,
    "start_time": "2024-08-31T11:03:24.914Z"
   },
   {
    "duration": 20,
    "start_time": "2024-08-31T11:03:24.933Z"
   },
   {
    "duration": 27,
    "start_time": "2024-08-31T11:03:30.330Z"
   },
   {
    "duration": 16,
    "start_time": "2024-08-31T11:03:44.980Z"
   },
   {
    "duration": 3,
    "start_time": "2024-08-31T11:03:52.329Z"
   },
   {
    "duration": 5,
    "start_time": "2024-08-31T11:03:52.334Z"
   },
   {
    "duration": 14,
    "start_time": "2024-08-31T11:03:52.340Z"
   },
   {
    "duration": 8,
    "start_time": "2024-08-31T11:03:52.356Z"
   },
   {
    "duration": 403,
    "start_time": "2024-08-31T11:03:52.366Z"
   },
   {
    "duration": 182,
    "start_time": "2024-08-31T11:03:52.771Z"
   },
   {
    "duration": 39,
    "start_time": "2024-08-31T11:03:52.955Z"
   },
   {
    "duration": 190,
    "start_time": "2024-08-31T11:03:52.995Z"
   },
   {
    "duration": 49,
    "start_time": "2024-08-31T11:03:53.187Z"
   },
   {
    "duration": 193,
    "start_time": "2024-08-31T11:03:53.237Z"
   },
   {
    "duration": 46,
    "start_time": "2024-08-31T11:03:53.432Z"
   },
   {
    "duration": 3,
    "start_time": "2024-08-31T11:03:53.479Z"
   },
   {
    "duration": 1480,
    "start_time": "2024-08-31T11:03:53.483Z"
   },
   {
    "duration": 431,
    "start_time": "2024-08-31T11:03:54.964Z"
   },
   {
    "duration": 1497,
    "start_time": "2024-08-31T11:03:55.398Z"
   },
   {
    "duration": 392,
    "start_time": "2024-08-31T11:03:56.896Z"
   },
   {
    "duration": 1779,
    "start_time": "2024-08-31T11:03:57.289Z"
   },
   {
    "duration": 400,
    "start_time": "2024-08-31T11:03:59.070Z"
   },
   {
    "duration": 524,
    "start_time": "2024-08-31T11:03:59.472Z"
   },
   {
    "duration": 542,
    "start_time": "2024-08-31T11:03:59.998Z"
   },
   {
    "duration": 572,
    "start_time": "2024-08-31T11:04:00.541Z"
   },
   {
    "duration": 2,
    "start_time": "2024-08-31T11:04:01.115Z"
   },
   {
    "duration": 7,
    "start_time": "2024-08-31T11:04:01.119Z"
   },
   {
    "duration": 3,
    "start_time": "2024-08-31T11:04:01.128Z"
   },
   {
    "duration": 426,
    "start_time": "2024-08-31T11:04:01.132Z"
   },
   {
    "duration": 267,
    "start_time": "2024-08-31T11:04:01.560Z"
   },
   {
    "duration": 3,
    "start_time": "2024-08-31T11:04:01.828Z"
   },
   {
    "duration": 20,
    "start_time": "2024-08-31T11:04:01.832Z"
   },
   {
    "duration": 51,
    "start_time": "2024-08-31T11:04:01.854Z"
   },
   {
    "duration": 30,
    "start_time": "2024-08-31T11:04:01.906Z"
   },
   {
    "duration": 11,
    "start_time": "2024-08-31T11:04:01.938Z"
   },
   {
    "duration": 22,
    "start_time": "2024-08-31T11:04:01.951Z"
   },
   {
    "duration": 4,
    "start_time": "2024-08-31T11:04:01.975Z"
   },
   {
    "duration": 14,
    "start_time": "2024-08-31T11:04:01.980Z"
   },
   {
    "duration": 12,
    "start_time": "2024-08-31T11:04:01.996Z"
   },
   {
    "duration": 12,
    "start_time": "2024-08-31T11:04:02.011Z"
   },
   {
    "duration": 28,
    "start_time": "2024-08-31T11:04:02.025Z"
   },
   {
    "duration": 14,
    "start_time": "2024-08-31T11:04:02.054Z"
   },
   {
    "duration": 6,
    "start_time": "2024-08-31T11:04:02.072Z"
   },
   {
    "duration": 5,
    "start_time": "2024-08-31T11:04:02.079Z"
   },
   {
    "duration": 6,
    "start_time": "2024-08-31T11:04:02.086Z"
   },
   {
    "duration": 18,
    "start_time": "2024-08-31T11:04:02.094Z"
   },
   {
    "duration": 18,
    "start_time": "2024-08-31T11:04:02.114Z"
   },
   {
    "duration": 28,
    "start_time": "2024-08-31T11:04:05.031Z"
   },
   {
    "duration": 27,
    "start_time": "2024-08-31T11:04:14.129Z"
   },
   {
    "duration": 4,
    "start_time": "2024-08-31T11:04:19.790Z"
   },
   {
    "duration": 5,
    "start_time": "2024-08-31T11:04:19.796Z"
   },
   {
    "duration": 5,
    "start_time": "2024-08-31T11:04:19.802Z"
   },
   {
    "duration": 3,
    "start_time": "2024-08-31T11:04:19.822Z"
   },
   {
    "duration": 411,
    "start_time": "2024-08-31T11:04:19.826Z"
   },
   {
    "duration": 194,
    "start_time": "2024-08-31T11:04:20.239Z"
   },
   {
    "duration": 48,
    "start_time": "2024-08-31T11:04:20.435Z"
   },
   {
    "duration": 201,
    "start_time": "2024-08-31T11:04:20.485Z"
   },
   {
    "duration": 37,
    "start_time": "2024-08-31T11:04:20.688Z"
   },
   {
    "duration": 186,
    "start_time": "2024-08-31T11:04:20.726Z"
   },
   {
    "duration": 40,
    "start_time": "2024-08-31T11:04:20.913Z"
   },
   {
    "duration": 2,
    "start_time": "2024-08-31T11:04:20.955Z"
   },
   {
    "duration": 1581,
    "start_time": "2024-08-31T11:04:20.959Z"
   },
   {
    "duration": 430,
    "start_time": "2024-08-31T11:04:22.541Z"
   },
   {
    "duration": 1424,
    "start_time": "2024-08-31T11:04:22.973Z"
   },
   {
    "duration": 395,
    "start_time": "2024-08-31T11:04:24.398Z"
   },
   {
    "duration": 1966,
    "start_time": "2024-08-31T11:04:24.794Z"
   },
   {
    "duration": 432,
    "start_time": "2024-08-31T11:04:26.762Z"
   },
   {
    "duration": 543,
    "start_time": "2024-08-31T11:04:27.196Z"
   },
   {
    "duration": 538,
    "start_time": "2024-08-31T11:04:27.741Z"
   },
   {
    "duration": 548,
    "start_time": "2024-08-31T11:04:28.281Z"
   },
   {
    "duration": 3,
    "start_time": "2024-08-31T11:04:28.831Z"
   },
   {
    "duration": 6,
    "start_time": "2024-08-31T11:04:28.835Z"
   },
   {
    "duration": 11,
    "start_time": "2024-08-31T11:04:28.842Z"
   },
   {
    "duration": 402,
    "start_time": "2024-08-31T11:04:28.855Z"
   },
   {
    "duration": 246,
    "start_time": "2024-08-31T11:04:29.260Z"
   },
   {
    "duration": 3,
    "start_time": "2024-08-31T11:04:29.509Z"
   },
   {
    "duration": 4,
    "start_time": "2024-08-31T11:04:29.514Z"
   },
   {
    "duration": 5,
    "start_time": "2024-08-31T11:04:29.519Z"
   },
   {
    "duration": 27,
    "start_time": "2024-08-31T11:04:29.525Z"
   },
   {
    "duration": 12,
    "start_time": "2024-08-31T11:04:29.553Z"
   },
   {
    "duration": 12,
    "start_time": "2024-08-31T11:04:29.566Z"
   },
   {
    "duration": 3,
    "start_time": "2024-08-31T11:04:29.580Z"
   },
   {
    "duration": 11,
    "start_time": "2024-08-31T11:04:29.585Z"
   },
   {
    "duration": 12,
    "start_time": "2024-08-31T11:04:29.598Z"
   },
   {
    "duration": 41,
    "start_time": "2024-08-31T11:04:29.612Z"
   },
   {
    "duration": 12,
    "start_time": "2024-08-31T11:04:29.654Z"
   },
   {
    "duration": 134,
    "start_time": "2024-08-31T11:04:29.667Z"
   },
   {
    "duration": 4,
    "start_time": "2024-08-31T11:04:29.803Z"
   },
   {
    "duration": 5,
    "start_time": "2024-08-31T11:04:29.808Z"
   },
   {
    "duration": 4,
    "start_time": "2024-08-31T11:04:29.814Z"
   },
   {
    "duration": 3,
    "start_time": "2024-08-31T11:04:29.820Z"
   },
   {
    "duration": 53,
    "start_time": "2024-08-31T11:04:29.824Z"
   },
   {
    "duration": 27,
    "start_time": "2024-08-31T11:04:32.279Z"
   },
   {
    "duration": 730,
    "start_time": "2024-08-31T11:09:30.161Z"
   },
   {
    "duration": 18,
    "start_time": "2024-08-31T11:09:44.999Z"
   },
   {
    "duration": 12,
    "start_time": "2024-08-31T11:11:48.780Z"
   },
   {
    "duration": 12,
    "start_time": "2024-08-31T11:12:45.872Z"
   },
   {
    "duration": 21,
    "start_time": "2024-08-31T11:13:36.032Z"
   },
   {
    "duration": 4,
    "start_time": "2024-08-31T11:14:11.012Z"
   },
   {
    "duration": 370,
    "start_time": "2024-08-31T11:14:14.782Z"
   },
   {
    "duration": 5,
    "start_time": "2024-08-31T11:14:40.815Z"
   },
   {
    "duration": 9,
    "start_time": "2024-08-31T11:14:40.822Z"
   },
   {
    "duration": 5,
    "start_time": "2024-08-31T11:14:40.833Z"
   },
   {
    "duration": 5,
    "start_time": "2024-08-31T11:14:40.852Z"
   },
   {
    "duration": 423,
    "start_time": "2024-08-31T11:14:40.858Z"
   },
   {
    "duration": 196,
    "start_time": "2024-08-31T11:14:41.283Z"
   },
   {
    "duration": 40,
    "start_time": "2024-08-31T11:14:41.481Z"
   },
   {
    "duration": 201,
    "start_time": "2024-08-31T11:14:41.523Z"
   },
   {
    "duration": 45,
    "start_time": "2024-08-31T11:14:41.726Z"
   },
   {
    "duration": 203,
    "start_time": "2024-08-31T11:14:41.773Z"
   },
   {
    "duration": 39,
    "start_time": "2024-08-31T11:14:41.977Z"
   },
   {
    "duration": 2,
    "start_time": "2024-08-31T11:14:42.019Z"
   },
   {
    "duration": 1614,
    "start_time": "2024-08-31T11:14:42.024Z"
   },
   {
    "duration": 447,
    "start_time": "2024-08-31T11:14:43.639Z"
   },
   {
    "duration": 1459,
    "start_time": "2024-08-31T11:14:44.087Z"
   },
   {
    "duration": 442,
    "start_time": "2024-08-31T11:14:45.553Z"
   },
   {
    "duration": 1929,
    "start_time": "2024-08-31T11:14:45.997Z"
   },
   {
    "duration": 440,
    "start_time": "2024-08-31T11:14:47.928Z"
   },
   {
    "duration": 584,
    "start_time": "2024-08-31T11:14:48.369Z"
   },
   {
    "duration": 554,
    "start_time": "2024-08-31T11:14:48.954Z"
   },
   {
    "duration": 585,
    "start_time": "2024-08-31T11:14:49.510Z"
   },
   {
    "duration": 3,
    "start_time": "2024-08-31T11:14:50.096Z"
   },
   {
    "duration": 32,
    "start_time": "2024-08-31T11:14:50.100Z"
   },
   {
    "duration": 25,
    "start_time": "2024-08-31T11:14:50.134Z"
   },
   {
    "duration": 406,
    "start_time": "2024-08-31T11:14:50.161Z"
   },
   {
    "duration": 184,
    "start_time": "2024-08-31T11:14:50.652Z"
   },
   {
    "duration": 13,
    "start_time": "2024-08-31T11:14:50.839Z"
   },
   {
    "duration": 17,
    "start_time": "2024-08-31T11:14:50.853Z"
   },
   {
    "duration": 16,
    "start_time": "2024-08-31T11:14:50.872Z"
   },
   {
    "duration": 11,
    "start_time": "2024-08-31T11:14:50.889Z"
   },
   {
    "duration": 15,
    "start_time": "2024-08-31T11:14:50.901Z"
   },
   {
    "duration": 12,
    "start_time": "2024-08-31T11:14:50.917Z"
   },
   {
    "duration": 7,
    "start_time": "2024-08-31T11:14:50.930Z"
   },
   {
    "duration": 23,
    "start_time": "2024-08-31T11:14:50.938Z"
   },
   {
    "duration": 20,
    "start_time": "2024-08-31T11:14:50.962Z"
   },
   {
    "duration": 4,
    "start_time": "2024-08-31T11:14:50.983Z"
   },
   {
    "duration": 11,
    "start_time": "2024-08-31T11:14:50.988Z"
   },
   {
    "duration": 137,
    "start_time": "2024-08-31T11:14:51.000Z"
   },
   {
    "duration": 3,
    "start_time": "2024-08-31T11:14:51.139Z"
   },
   {
    "duration": 765,
    "start_time": "2024-08-31T11:14:57.972Z"
   },
   {
    "duration": 8,
    "start_time": "2024-08-31T11:15:25.520Z"
   },
   {
    "duration": 3,
    "start_time": "2024-08-31T11:16:31.078Z"
   },
   {
    "duration": 8,
    "start_time": "2024-08-31T11:16:36.502Z"
   },
   {
    "duration": 8,
    "start_time": "2024-08-31T11:16:42.673Z"
   },
   {
    "duration": 2,
    "start_time": "2024-08-31T11:16:48.162Z"
   },
   {
    "duration": 6,
    "start_time": "2024-08-31T11:16:50.730Z"
   },
   {
    "duration": 3,
    "start_time": "2024-08-31T11:16:58.733Z"
   },
   {
    "duration": 7,
    "start_time": "2024-08-31T11:16:58.738Z"
   },
   {
    "duration": 15,
    "start_time": "2024-08-31T11:16:58.746Z"
   },
   {
    "duration": 11,
    "start_time": "2024-08-31T11:16:58.763Z"
   },
   {
    "duration": 400,
    "start_time": "2024-08-31T11:16:58.776Z"
   },
   {
    "duration": 198,
    "start_time": "2024-08-31T11:16:59.178Z"
   },
   {
    "duration": 40,
    "start_time": "2024-08-31T11:16:59.378Z"
   },
   {
    "duration": 190,
    "start_time": "2024-08-31T11:16:59.420Z"
   },
   {
    "duration": 47,
    "start_time": "2024-08-31T11:16:59.613Z"
   },
   {
    "duration": 179,
    "start_time": "2024-08-31T11:16:59.662Z"
   },
   {
    "duration": 44,
    "start_time": "2024-08-31T11:16:59.843Z"
   },
   {
    "duration": 18,
    "start_time": "2024-08-31T11:16:59.889Z"
   },
   {
    "duration": 1630,
    "start_time": "2024-08-31T11:16:59.909Z"
   },
   {
    "duration": 447,
    "start_time": "2024-08-31T11:17:01.541Z"
   },
   {
    "duration": 1465,
    "start_time": "2024-08-31T11:17:01.989Z"
   },
   {
    "duration": 433,
    "start_time": "2024-08-31T11:17:03.455Z"
   },
   {
    "duration": 1908,
    "start_time": "2024-08-31T11:17:03.890Z"
   },
   {
    "duration": 414,
    "start_time": "2024-08-31T11:17:05.800Z"
   },
   {
    "duration": 577,
    "start_time": "2024-08-31T11:17:06.216Z"
   },
   {
    "duration": 535,
    "start_time": "2024-08-31T11:17:06.795Z"
   },
   {
    "duration": 570,
    "start_time": "2024-08-31T11:17:07.331Z"
   },
   {
    "duration": 3,
    "start_time": "2024-08-31T11:17:07.903Z"
   },
   {
    "duration": 46,
    "start_time": "2024-08-31T11:17:07.907Z"
   },
   {
    "duration": 3,
    "start_time": "2024-08-31T11:17:07.956Z"
   },
   {
    "duration": 399,
    "start_time": "2024-08-31T11:17:07.961Z"
   },
   {
    "duration": 101,
    "start_time": "2024-08-31T11:17:08.451Z"
   },
   {
    "duration": 2,
    "start_time": "2024-08-31T11:17:08.554Z"
   },
   {
    "duration": 7,
    "start_time": "2024-08-31T11:17:08.557Z"
   },
   {
    "duration": 10,
    "start_time": "2024-08-31T11:17:08.565Z"
   },
   {
    "duration": 7,
    "start_time": "2024-08-31T11:17:08.576Z"
   },
   {
    "duration": 11,
    "start_time": "2024-08-31T11:17:08.585Z"
   },
   {
    "duration": 12,
    "start_time": "2024-08-31T11:17:08.597Z"
   },
   {
    "duration": 12,
    "start_time": "2024-08-31T11:17:08.611Z"
   },
   {
    "duration": 35,
    "start_time": "2024-08-31T11:17:08.624Z"
   },
   {
    "duration": 50,
    "start_time": "2024-08-31T11:17:08.660Z"
   },
   {
    "duration": 4,
    "start_time": "2024-08-31T11:17:08.712Z"
   },
   {
    "duration": 19,
    "start_time": "2024-08-31T11:17:08.718Z"
   },
   {
    "duration": 13,
    "start_time": "2024-08-31T11:17:08.739Z"
   },
   {
    "duration": 7,
    "start_time": "2024-08-31T11:17:08.754Z"
   },
   {
    "duration": 833,
    "start_time": "2024-08-31T11:17:08.762Z"
   },
   {
    "duration": 18,
    "start_time": "2024-08-31T11:17:09.597Z"
   },
   {
    "duration": 37,
    "start_time": "2024-08-31T11:17:09.617Z"
   },
   {
    "duration": 8,
    "start_time": "2024-08-31T11:17:23.030Z"
   },
   {
    "duration": 9,
    "start_time": "2024-08-31T11:17:34.789Z"
   },
   {
    "duration": 10,
    "start_time": "2024-08-31T11:17:42.174Z"
   },
   {
    "duration": 4,
    "start_time": "2024-08-31T11:17:53.399Z"
   },
   {
    "duration": 21,
    "start_time": "2024-08-31T11:17:53.405Z"
   },
   {
    "duration": 7,
    "start_time": "2024-08-31T11:17:53.427Z"
   },
   {
    "duration": 10,
    "start_time": "2024-08-31T11:17:53.435Z"
   },
   {
    "duration": 394,
    "start_time": "2024-08-31T11:17:53.446Z"
   },
   {
    "duration": 224,
    "start_time": "2024-08-31T11:17:53.841Z"
   },
   {
    "duration": 42,
    "start_time": "2024-08-31T11:17:54.067Z"
   },
   {
    "duration": 184,
    "start_time": "2024-08-31T11:17:54.111Z"
   },
   {
    "duration": 33,
    "start_time": "2024-08-31T11:17:54.298Z"
   },
   {
    "duration": 195,
    "start_time": "2024-08-31T11:17:54.333Z"
   },
   {
    "duration": 40,
    "start_time": "2024-08-31T11:17:54.530Z"
   },
   {
    "duration": 3,
    "start_time": "2024-08-31T11:17:54.571Z"
   },
   {
    "duration": 1536,
    "start_time": "2024-08-31T11:17:54.576Z"
   },
   {
    "duration": 396,
    "start_time": "2024-08-31T11:17:56.114Z"
   },
   {
    "duration": 1404,
    "start_time": "2024-08-31T11:17:56.511Z"
   },
   {
    "duration": 386,
    "start_time": "2024-08-31T11:17:57.917Z"
   },
   {
    "duration": 1835,
    "start_time": "2024-08-31T11:17:58.304Z"
   },
   {
    "duration": 409,
    "start_time": "2024-08-31T11:18:00.140Z"
   },
   {
    "duration": 570,
    "start_time": "2024-08-31T11:18:00.552Z"
   },
   {
    "duration": 546,
    "start_time": "2024-08-31T11:18:01.123Z"
   },
   {
    "duration": 608,
    "start_time": "2024-08-31T11:18:01.670Z"
   },
   {
    "duration": 2,
    "start_time": "2024-08-31T11:18:02.280Z"
   },
   {
    "duration": 9,
    "start_time": "2024-08-31T11:18:02.284Z"
   },
   {
    "duration": 5,
    "start_time": "2024-08-31T11:18:02.296Z"
   },
   {
    "duration": 464,
    "start_time": "2024-08-31T11:18:02.302Z"
   },
   {
    "duration": 259,
    "start_time": "2024-08-31T11:18:02.768Z"
   },
   {
    "duration": 3,
    "start_time": "2024-08-31T11:18:03.029Z"
   },
   {
    "duration": 36,
    "start_time": "2024-08-31T11:18:03.034Z"
   },
   {
    "duration": 8,
    "start_time": "2024-08-31T11:18:03.071Z"
   },
   {
    "duration": 8,
    "start_time": "2024-08-31T11:18:03.080Z"
   },
   {
    "duration": 11,
    "start_time": "2024-08-31T11:18:03.090Z"
   },
   {
    "duration": 13,
    "start_time": "2024-08-31T11:18:03.103Z"
   },
   {
    "duration": 17,
    "start_time": "2024-08-31T11:18:03.117Z"
   },
   {
    "duration": 27,
    "start_time": "2024-08-31T11:18:03.135Z"
   },
   {
    "duration": 12,
    "start_time": "2024-08-31T11:18:03.163Z"
   },
   {
    "duration": 4,
    "start_time": "2024-08-31T11:18:03.177Z"
   },
   {
    "duration": 11,
    "start_time": "2024-08-31T11:18:03.182Z"
   },
   {
    "duration": 14,
    "start_time": "2024-08-31T11:18:03.195Z"
   },
   {
    "duration": 9,
    "start_time": "2024-08-31T11:18:03.210Z"
   },
   {
    "duration": 890,
    "start_time": "2024-08-31T11:18:03.220Z"
   },
   {
    "duration": 5,
    "start_time": "2024-08-31T11:18:04.112Z"
   },
   {
    "duration": 13,
    "start_time": "2024-08-31T11:18:04.118Z"
   },
   {
    "duration": 0,
    "start_time": "2024-08-31T11:18:04.132Z"
   },
   {
    "duration": 8,
    "start_time": "2024-08-31T11:18:08.997Z"
   },
   {
    "duration": 4,
    "start_time": "2024-08-31T11:18:42.453Z"
   },
   {
    "duration": 11,
    "start_time": "2024-08-31T11:18:42.459Z"
   },
   {
    "duration": 77,
    "start_time": "2024-08-31T11:18:42.472Z"
   },
   {
    "duration": 4,
    "start_time": "2024-08-31T11:18:42.551Z"
   },
   {
    "duration": 402,
    "start_time": "2024-08-31T11:18:42.557Z"
   },
   {
    "duration": 195,
    "start_time": "2024-08-31T11:18:42.961Z"
   },
   {
    "duration": 39,
    "start_time": "2024-08-31T11:18:43.157Z"
   },
   {
    "duration": 183,
    "start_time": "2024-08-31T11:18:43.198Z"
   },
   {
    "duration": 35,
    "start_time": "2024-08-31T11:18:43.384Z"
   },
   {
    "duration": 199,
    "start_time": "2024-08-31T11:18:43.420Z"
   },
   {
    "duration": 44,
    "start_time": "2024-08-31T11:18:43.621Z"
   },
   {
    "duration": 2,
    "start_time": "2024-08-31T11:18:43.667Z"
   },
   {
    "duration": 1566,
    "start_time": "2024-08-31T11:18:43.670Z"
   },
   {
    "duration": 425,
    "start_time": "2024-08-31T11:18:45.237Z"
   },
   {
    "duration": 1405,
    "start_time": "2024-08-31T11:18:45.664Z"
   },
   {
    "duration": 412,
    "start_time": "2024-08-31T11:18:47.071Z"
   },
   {
    "duration": 1831,
    "start_time": "2024-08-31T11:18:47.485Z"
   },
   {
    "duration": 400,
    "start_time": "2024-08-31T11:18:49.318Z"
   },
   {
    "duration": 602,
    "start_time": "2024-08-31T11:18:49.719Z"
   },
   {
    "duration": 542,
    "start_time": "2024-08-31T11:18:50.322Z"
   },
   {
    "duration": 556,
    "start_time": "2024-08-31T11:18:50.866Z"
   },
   {
    "duration": 3,
    "start_time": "2024-08-31T11:18:51.423Z"
   },
   {
    "duration": 9,
    "start_time": "2024-08-31T11:18:51.427Z"
   },
   {
    "duration": 10,
    "start_time": "2024-08-31T11:18:51.452Z"
   },
   {
    "duration": 394,
    "start_time": "2024-08-31T11:18:51.464Z"
   },
   {
    "duration": 258,
    "start_time": "2024-08-31T11:18:51.861Z"
   },
   {
    "duration": 2,
    "start_time": "2024-08-31T11:18:52.121Z"
   },
   {
    "duration": 10,
    "start_time": "2024-08-31T11:18:52.125Z"
   },
   {
    "duration": 16,
    "start_time": "2024-08-31T11:18:52.137Z"
   },
   {
    "duration": 36,
    "start_time": "2024-08-31T11:18:52.154Z"
   },
   {
    "duration": 10,
    "start_time": "2024-08-31T11:18:52.192Z"
   },
   {
    "duration": 63,
    "start_time": "2024-08-31T11:18:52.204Z"
   },
   {
    "duration": 7,
    "start_time": "2024-08-31T11:18:52.269Z"
   },
   {
    "duration": 35,
    "start_time": "2024-08-31T11:18:52.278Z"
   },
   {
    "duration": 26,
    "start_time": "2024-08-31T11:18:52.314Z"
   },
   {
    "duration": 4,
    "start_time": "2024-08-31T11:18:52.341Z"
   },
   {
    "duration": 30,
    "start_time": "2024-08-31T11:18:52.347Z"
   },
   {
    "duration": 21,
    "start_time": "2024-08-31T11:18:52.378Z"
   },
   {
    "duration": 4,
    "start_time": "2024-08-31T11:18:52.400Z"
   },
   {
    "duration": 838,
    "start_time": "2024-08-31T11:18:52.406Z"
   },
   {
    "duration": 6,
    "start_time": "2024-08-31T11:18:53.246Z"
   },
   {
    "duration": 4,
    "start_time": "2024-08-31T11:18:53.253Z"
   },
   {
    "duration": 21,
    "start_time": "2024-08-31T11:18:53.258Z"
   },
   {
    "duration": 3,
    "start_time": "2024-08-31T11:19:23.298Z"
   },
   {
    "duration": 25,
    "start_time": "2024-08-31T11:19:23.303Z"
   },
   {
    "duration": 7,
    "start_time": "2024-08-31T11:19:23.330Z"
   },
   {
    "duration": 7,
    "start_time": "2024-08-31T11:19:23.338Z"
   },
   {
    "duration": 394,
    "start_time": "2024-08-31T11:19:23.347Z"
   },
   {
    "duration": 215,
    "start_time": "2024-08-31T11:19:23.742Z"
   },
   {
    "duration": 59,
    "start_time": "2024-08-31T11:19:23.958Z"
   },
   {
    "duration": 186,
    "start_time": "2024-08-31T11:19:24.019Z"
   },
   {
    "duration": 47,
    "start_time": "2024-08-31T11:19:24.206Z"
   },
   {
    "duration": 191,
    "start_time": "2024-08-31T11:19:24.254Z"
   },
   {
    "duration": 39,
    "start_time": "2024-08-31T11:19:24.454Z"
   },
   {
    "duration": 3,
    "start_time": "2024-08-31T11:19:24.495Z"
   },
   {
    "duration": 1524,
    "start_time": "2024-08-31T11:19:24.500Z"
   },
   {
    "duration": 412,
    "start_time": "2024-08-31T11:19:26.026Z"
   },
   {
    "duration": 1441,
    "start_time": "2024-08-31T11:19:26.440Z"
   },
   {
    "duration": 411,
    "start_time": "2024-08-31T11:19:27.883Z"
   },
   {
    "duration": 1821,
    "start_time": "2024-08-31T11:19:28.295Z"
   },
   {
    "duration": 382,
    "start_time": "2024-08-31T11:19:30.117Z"
   },
   {
    "duration": 578,
    "start_time": "2024-08-31T11:19:30.501Z"
   },
   {
    "duration": 522,
    "start_time": "2024-08-31T11:19:31.081Z"
   },
   {
    "duration": 570,
    "start_time": "2024-08-31T11:19:31.604Z"
   },
   {
    "duration": 2,
    "start_time": "2024-08-31T11:19:32.176Z"
   },
   {
    "duration": 10,
    "start_time": "2024-08-31T11:19:32.179Z"
   },
   {
    "duration": 29,
    "start_time": "2024-08-31T11:19:32.191Z"
   },
   {
    "duration": 336,
    "start_time": "2024-08-31T11:19:32.221Z"
   },
   {
    "duration": 268,
    "start_time": "2024-08-31T11:19:32.559Z"
   },
   {
    "duration": 3,
    "start_time": "2024-08-31T11:19:32.829Z"
   },
   {
    "duration": 21,
    "start_time": "2024-08-31T11:19:32.833Z"
   },
   {
    "duration": 3,
    "start_time": "2024-08-31T11:19:32.857Z"
   },
   {
    "duration": 11,
    "start_time": "2024-08-31T11:19:32.862Z"
   },
   {
    "duration": 13,
    "start_time": "2024-08-31T11:19:32.875Z"
   },
   {
    "duration": 12,
    "start_time": "2024-08-31T11:19:32.890Z"
   },
   {
    "duration": 4,
    "start_time": "2024-08-31T11:19:32.904Z"
   },
   {
    "duration": 46,
    "start_time": "2024-08-31T11:19:32.910Z"
   },
   {
    "duration": 13,
    "start_time": "2024-08-31T11:19:32.958Z"
   },
   {
    "duration": 4,
    "start_time": "2024-08-31T11:19:32.973Z"
   },
   {
    "duration": 12,
    "start_time": "2024-08-31T11:19:32.979Z"
   },
   {
    "duration": 14,
    "start_time": "2024-08-31T11:19:32.992Z"
   },
   {
    "duration": 5,
    "start_time": "2024-08-31T11:19:33.008Z"
   },
   {
    "duration": 842,
    "start_time": "2024-08-31T11:19:33.015Z"
   },
   {
    "duration": 5,
    "start_time": "2024-08-31T11:19:33.858Z"
   },
   {
    "duration": 9,
    "start_time": "2024-08-31T11:19:33.865Z"
   },
   {
    "duration": 22,
    "start_time": "2024-08-31T11:19:33.876Z"
   },
   {
    "duration": 5,
    "start_time": "2024-08-31T11:19:52.753Z"
   },
   {
    "duration": 2,
    "start_time": "2024-08-31T11:19:53.123Z"
   },
   {
    "duration": 8,
    "start_time": "2024-08-31T11:19:53.605Z"
   },
   {
    "duration": 734,
    "start_time": "2024-08-31T11:20:31.618Z"
   },
   {
    "duration": 4,
    "start_time": "2024-08-31T11:20:40.889Z"
   },
   {
    "duration": 7,
    "start_time": "2024-08-31T11:20:40.894Z"
   },
   {
    "duration": 21,
    "start_time": "2024-08-31T11:20:40.903Z"
   },
   {
    "duration": 24,
    "start_time": "2024-08-31T11:20:40.926Z"
   },
   {
    "duration": 398,
    "start_time": "2024-08-31T11:20:40.951Z"
   },
   {
    "duration": 189,
    "start_time": "2024-08-31T11:20:41.350Z"
   },
   {
    "duration": 50,
    "start_time": "2024-08-31T11:20:41.541Z"
   },
   {
    "duration": 184,
    "start_time": "2024-08-31T11:20:41.593Z"
   },
   {
    "duration": 35,
    "start_time": "2024-08-31T11:20:41.778Z"
   },
   {
    "duration": 199,
    "start_time": "2024-08-31T11:20:41.816Z"
   },
   {
    "duration": 44,
    "start_time": "2024-08-31T11:20:42.017Z"
   },
   {
    "duration": 3,
    "start_time": "2024-08-31T11:20:42.062Z"
   },
   {
    "duration": 1516,
    "start_time": "2024-08-31T11:20:42.066Z"
   },
   {
    "duration": 468,
    "start_time": "2024-08-31T11:20:43.584Z"
   },
   {
    "duration": 1535,
    "start_time": "2024-08-31T11:20:44.054Z"
   },
   {
    "duration": 415,
    "start_time": "2024-08-31T11:20:45.590Z"
   },
   {
    "duration": 1762,
    "start_time": "2024-08-31T11:20:46.006Z"
   },
   {
    "duration": 420,
    "start_time": "2024-08-31T11:20:47.769Z"
   },
   {
    "duration": 535,
    "start_time": "2024-08-31T11:20:48.191Z"
   },
   {
    "duration": 497,
    "start_time": "2024-08-31T11:20:48.727Z"
   },
   {
    "duration": 550,
    "start_time": "2024-08-31T11:20:49.225Z"
   },
   {
    "duration": 2,
    "start_time": "2024-08-31T11:20:49.777Z"
   },
   {
    "duration": 33,
    "start_time": "2024-08-31T11:20:49.781Z"
   },
   {
    "duration": 10,
    "start_time": "2024-08-31T11:20:49.815Z"
   },
   {
    "duration": 432,
    "start_time": "2024-08-31T11:20:49.827Z"
   },
   {
    "duration": 264,
    "start_time": "2024-08-31T11:20:50.261Z"
   },
   {
    "duration": 3,
    "start_time": "2024-08-31T11:20:50.527Z"
   },
   {
    "duration": 18,
    "start_time": "2024-08-31T11:20:50.534Z"
   },
   {
    "duration": 4,
    "start_time": "2024-08-31T11:20:50.554Z"
   },
   {
    "duration": 8,
    "start_time": "2024-08-31T11:20:50.560Z"
   },
   {
    "duration": 12,
    "start_time": "2024-08-31T11:20:50.569Z"
   },
   {
    "duration": 11,
    "start_time": "2024-08-31T11:20:50.583Z"
   },
   {
    "duration": 4,
    "start_time": "2024-08-31T11:20:50.596Z"
   },
   {
    "duration": 52,
    "start_time": "2024-08-31T11:20:50.601Z"
   },
   {
    "duration": 12,
    "start_time": "2024-08-31T11:20:50.655Z"
   },
   {
    "duration": 51,
    "start_time": "2024-08-31T11:20:50.669Z"
   },
   {
    "duration": 20,
    "start_time": "2024-08-31T11:20:50.722Z"
   },
   {
    "duration": 13,
    "start_time": "2024-08-31T11:20:50.744Z"
   },
   {
    "duration": 7,
    "start_time": "2024-08-31T11:20:50.758Z"
   },
   {
    "duration": 778,
    "start_time": "2024-08-31T11:20:53.639Z"
   },
   {
    "duration": 4,
    "start_time": "2024-08-31T11:21:29.730Z"
   },
   {
    "duration": 11,
    "start_time": "2024-08-31T11:21:29.739Z"
   },
   {
    "duration": 17,
    "start_time": "2024-08-31T11:21:29.752Z"
   },
   {
    "duration": 8,
    "start_time": "2024-08-31T11:21:29.771Z"
   },
   {
    "duration": 415,
    "start_time": "2024-08-31T11:21:29.781Z"
   },
   {
    "duration": 190,
    "start_time": "2024-08-31T11:21:30.198Z"
   },
   {
    "duration": 44,
    "start_time": "2024-08-31T11:21:30.390Z"
   },
   {
    "duration": 202,
    "start_time": "2024-08-31T11:21:30.436Z"
   },
   {
    "duration": 43,
    "start_time": "2024-08-31T11:21:30.639Z"
   },
   {
    "duration": 216,
    "start_time": "2024-08-31T11:21:30.683Z"
   },
   {
    "duration": 40,
    "start_time": "2024-08-31T11:21:30.901Z"
   },
   {
    "duration": 3,
    "start_time": "2024-08-31T11:21:30.952Z"
   },
   {
    "duration": 1595,
    "start_time": "2024-08-31T11:21:30.956Z"
   },
   {
    "duration": 450,
    "start_time": "2024-08-31T11:21:32.553Z"
   },
   {
    "duration": 1584,
    "start_time": "2024-08-31T11:21:33.006Z"
   },
   {
    "duration": 403,
    "start_time": "2024-08-31T11:21:34.592Z"
   },
   {
    "duration": 1812,
    "start_time": "2024-08-31T11:21:34.997Z"
   },
   {
    "duration": 387,
    "start_time": "2024-08-31T11:21:36.811Z"
   },
   {
    "duration": 574,
    "start_time": "2024-08-31T11:21:37.200Z"
   },
   {
    "duration": 538,
    "start_time": "2024-08-31T11:21:37.775Z"
   },
   {
    "duration": 567,
    "start_time": "2024-08-31T11:21:38.314Z"
   },
   {
    "duration": 3,
    "start_time": "2024-08-31T11:21:38.882Z"
   },
   {
    "duration": 29,
    "start_time": "2024-08-31T11:21:38.886Z"
   },
   {
    "duration": 12,
    "start_time": "2024-08-31T11:21:38.916Z"
   },
   {
    "duration": 431,
    "start_time": "2024-08-31T11:21:38.929Z"
   },
   {
    "duration": 268,
    "start_time": "2024-08-31T11:21:39.362Z"
   },
   {
    "duration": 3,
    "start_time": "2024-08-31T11:21:39.631Z"
   },
   {
    "duration": 18,
    "start_time": "2024-08-31T11:21:39.635Z"
   },
   {
    "duration": 18,
    "start_time": "2024-08-31T11:21:39.654Z"
   },
   {
    "duration": 16,
    "start_time": "2024-08-31T11:21:39.674Z"
   },
   {
    "duration": 12,
    "start_time": "2024-08-31T11:21:39.692Z"
   },
   {
    "duration": 13,
    "start_time": "2024-08-31T11:21:39.705Z"
   },
   {
    "duration": 13,
    "start_time": "2024-08-31T11:21:39.719Z"
   },
   {
    "duration": 30,
    "start_time": "2024-08-31T11:21:39.734Z"
   },
   {
    "duration": 12,
    "start_time": "2024-08-31T11:21:39.765Z"
   },
   {
    "duration": 3,
    "start_time": "2024-08-31T11:21:39.779Z"
   },
   {
    "duration": 12,
    "start_time": "2024-08-31T11:21:39.784Z"
   },
   {
    "duration": 12,
    "start_time": "2024-08-31T11:21:39.797Z"
   },
   {
    "duration": 8,
    "start_time": "2024-08-31T11:21:39.811Z"
   },
   {
    "duration": 4,
    "start_time": "2024-08-31T11:21:39.820Z"
   },
   {
    "duration": 2,
    "start_time": "2024-08-31T11:21:39.853Z"
   },
   {
    "duration": 4,
    "start_time": "2024-08-31T11:21:39.859Z"
   },
   {
    "duration": 710,
    "start_time": "2024-08-31T11:21:39.864Z"
   },
   {
    "duration": 9,
    "start_time": "2024-08-31T11:21:55.782Z"
   },
   {
    "duration": 4,
    "start_time": "2024-08-31T11:22:01.993Z"
   },
   {
    "duration": 30,
    "start_time": "2024-08-31T11:22:02.003Z"
   },
   {
    "duration": 19,
    "start_time": "2024-08-31T11:22:02.035Z"
   },
   {
    "duration": 13,
    "start_time": "2024-08-31T11:22:02.055Z"
   },
   {
    "duration": 410,
    "start_time": "2024-08-31T11:22:02.071Z"
   },
   {
    "duration": 206,
    "start_time": "2024-08-31T11:22:02.484Z"
   },
   {
    "duration": 44,
    "start_time": "2024-08-31T11:22:02.691Z"
   },
   {
    "duration": 194,
    "start_time": "2024-08-31T11:22:02.736Z"
   },
   {
    "duration": 43,
    "start_time": "2024-08-31T11:22:02.931Z"
   },
   {
    "duration": 192,
    "start_time": "2024-08-31T11:22:02.975Z"
   },
   {
    "duration": 37,
    "start_time": "2024-08-31T11:22:03.169Z"
   },
   {
    "duration": 3,
    "start_time": "2024-08-31T11:22:03.207Z"
   },
   {
    "duration": 1632,
    "start_time": "2024-08-31T11:22:03.211Z"
   },
   {
    "duration": 431,
    "start_time": "2024-08-31T11:22:04.844Z"
   },
   {
    "duration": 1595,
    "start_time": "2024-08-31T11:22:05.278Z"
   },
   {
    "duration": 402,
    "start_time": "2024-08-31T11:22:06.875Z"
   },
   {
    "duration": 1789,
    "start_time": "2024-08-31T11:22:07.279Z"
   },
   {
    "duration": 434,
    "start_time": "2024-08-31T11:22:09.071Z"
   },
   {
    "duration": 560,
    "start_time": "2024-08-31T11:22:09.506Z"
   },
   {
    "duration": 525,
    "start_time": "2024-08-31T11:22:10.068Z"
   },
   {
    "duration": 571,
    "start_time": "2024-08-31T11:22:10.594Z"
   },
   {
    "duration": 3,
    "start_time": "2024-08-31T11:22:11.167Z"
   },
   {
    "duration": 12,
    "start_time": "2024-08-31T11:22:11.171Z"
   },
   {
    "duration": 11,
    "start_time": "2024-08-31T11:22:11.184Z"
   },
   {
    "duration": 365,
    "start_time": "2024-08-31T11:22:11.197Z"
   },
   {
    "duration": 257,
    "start_time": "2024-08-31T11:22:11.565Z"
   },
   {
    "duration": 3,
    "start_time": "2024-08-31T11:22:11.823Z"
   },
   {
    "duration": 5,
    "start_time": "2024-08-31T11:22:11.827Z"
   },
   {
    "duration": 3,
    "start_time": "2024-08-31T11:22:11.852Z"
   },
   {
    "duration": 27,
    "start_time": "2024-08-31T11:22:11.856Z"
   },
   {
    "duration": 11,
    "start_time": "2024-08-31T11:22:11.884Z"
   },
   {
    "duration": 12,
    "start_time": "2024-08-31T11:22:11.897Z"
   },
   {
    "duration": 57,
    "start_time": "2024-08-31T11:22:11.911Z"
   },
   {
    "duration": 11,
    "start_time": "2024-08-31T11:22:11.970Z"
   },
   {
    "duration": 13,
    "start_time": "2024-08-31T11:22:11.982Z"
   },
   {
    "duration": 5,
    "start_time": "2024-08-31T11:22:11.996Z"
   },
   {
    "duration": 25,
    "start_time": "2024-08-31T11:22:12.002Z"
   },
   {
    "duration": 12,
    "start_time": "2024-08-31T11:22:12.029Z"
   },
   {
    "duration": 12,
    "start_time": "2024-08-31T11:22:12.042Z"
   },
   {
    "duration": 7,
    "start_time": "2024-08-31T11:22:12.055Z"
   },
   {
    "duration": 12,
    "start_time": "2024-08-31T11:22:12.064Z"
   },
   {
    "duration": 3,
    "start_time": "2024-08-31T11:22:12.079Z"
   },
   {
    "duration": 691,
    "start_time": "2024-08-31T11:22:12.083Z"
   },
   {
    "duration": 807,
    "start_time": "2024-08-31T11:22:20.772Z"
   },
   {
    "duration": 8,
    "start_time": "2024-08-31T11:22:25.233Z"
   },
   {
    "duration": 694,
    "start_time": "2024-08-31T11:22:30.363Z"
   },
   {
    "duration": 2,
    "start_time": "2024-08-31T11:22:31.177Z"
   },
   {
    "duration": 2,
    "start_time": "2024-08-31T11:22:31.433Z"
   },
   {
    "duration": 9,
    "start_time": "2024-08-31T11:22:31.765Z"
   },
   {
    "duration": 8,
    "start_time": "2024-08-31T11:22:39.339Z"
   },
   {
    "duration": 774,
    "start_time": "2024-08-31T11:22:42.303Z"
   },
   {
    "duration": 5,
    "start_time": "2024-08-31T11:22:43.104Z"
   },
   {
    "duration": 4,
    "start_time": "2024-08-31T11:22:54.376Z"
   },
   {
    "duration": 8,
    "start_time": "2024-08-31T11:22:59.402Z"
   },
   {
    "duration": 8,
    "start_time": "2024-08-31T11:23:04.322Z"
   },
   {
    "duration": 697,
    "start_time": "2024-08-31T11:23:18.664Z"
   },
   {
    "duration": 11,
    "start_time": "2024-08-31T11:23:20.242Z"
   },
   {
    "duration": 758,
    "start_time": "2024-08-31T11:23:27.762Z"
   },
   {
    "duration": 44,
    "start_time": "2024-08-31T15:31:02.793Z"
   },
   {
    "duration": 1516,
    "start_time": "2024-08-31T15:31:12.204Z"
   },
   {
    "duration": 4,
    "start_time": "2024-08-31T15:31:13.722Z"
   },
   {
    "duration": 32,
    "start_time": "2024-08-31T15:31:13.727Z"
   },
   {
    "duration": 28,
    "start_time": "2024-08-31T15:31:13.760Z"
   },
   {
    "duration": 974,
    "start_time": "2024-08-31T15:31:13.790Z"
   },
   {
    "duration": 173,
    "start_time": "2024-08-31T15:31:14.765Z"
   },
   {
    "duration": 43,
    "start_time": "2024-08-31T15:31:14.939Z"
   },
   {
    "duration": 181,
    "start_time": "2024-08-31T15:31:14.983Z"
   },
   {
    "duration": 32,
    "start_time": "2024-08-31T15:31:15.166Z"
   },
   {
    "duration": 192,
    "start_time": "2024-08-31T15:31:15.201Z"
   },
   {
    "duration": 31,
    "start_time": "2024-08-31T15:31:15.394Z"
   },
   {
    "duration": 24,
    "start_time": "2024-08-31T15:31:15.426Z"
   },
   {
    "duration": 1518,
    "start_time": "2024-08-31T15:31:15.452Z"
   },
   {
    "duration": 470,
    "start_time": "2024-08-31T15:31:16.972Z"
   },
   {
    "duration": 1443,
    "start_time": "2024-08-31T15:31:17.444Z"
   },
   {
    "duration": 394,
    "start_time": "2024-08-31T15:31:18.888Z"
   },
   {
    "duration": 1597,
    "start_time": "2024-08-31T15:31:19.283Z"
   },
   {
    "duration": 517,
    "start_time": "2024-08-31T15:31:20.882Z"
   },
   {
    "duration": 531,
    "start_time": "2024-08-31T15:31:21.400Z"
   },
   {
    "duration": 479,
    "start_time": "2024-08-31T15:31:21.933Z"
   },
   {
    "duration": 521,
    "start_time": "2024-08-31T15:31:22.413Z"
   },
   {
    "duration": 3,
    "start_time": "2024-08-31T15:31:22.935Z"
   },
   {
    "duration": 11,
    "start_time": "2024-08-31T15:31:22.939Z"
   },
   {
    "duration": 13,
    "start_time": "2024-08-31T15:31:22.951Z"
   },
   {
    "duration": 418,
    "start_time": "2024-08-31T15:31:22.966Z"
   },
   {
    "duration": 173,
    "start_time": "2024-08-31T15:31:23.462Z"
   },
   {
    "duration": 3,
    "start_time": "2024-08-31T15:31:23.636Z"
   },
   {
    "duration": 20,
    "start_time": "2024-08-31T15:31:23.642Z"
   },
   {
    "duration": 5,
    "start_time": "2024-08-31T15:31:23.664Z"
   },
   {
    "duration": 7,
    "start_time": "2024-08-31T15:31:23.670Z"
   },
   {
    "duration": 15,
    "start_time": "2024-08-31T15:31:23.678Z"
   },
   {
    "duration": 11,
    "start_time": "2024-08-31T15:31:23.694Z"
   },
   {
    "duration": 4,
    "start_time": "2024-08-31T15:31:23.706Z"
   },
   {
    "duration": 12,
    "start_time": "2024-08-31T15:31:23.711Z"
   },
   {
    "duration": 43,
    "start_time": "2024-08-31T15:31:23.725Z"
   },
   {
    "duration": 4,
    "start_time": "2024-08-31T15:31:23.769Z"
   },
   {
    "duration": 12,
    "start_time": "2024-08-31T15:31:23.774Z"
   },
   {
    "duration": 12,
    "start_time": "2024-08-31T15:31:23.787Z"
   },
   {
    "duration": 3,
    "start_time": "2024-08-31T15:31:23.800Z"
   },
   {
    "duration": 669,
    "start_time": "2024-08-31T15:31:23.805Z"
   },
   {
    "duration": 70,
    "start_time": "2024-08-31T15:31:24.475Z"
   },
   {
    "duration": 0,
    "start_time": "2024-08-31T15:31:24.546Z"
   },
   {
    "duration": 0,
    "start_time": "2024-08-31T15:31:24.561Z"
   },
   {
    "duration": 0,
    "start_time": "2024-08-31T15:31:24.562Z"
   },
   {
    "duration": 14,
    "start_time": "2024-08-31T15:31:52.761Z"
   },
   {
    "duration": 11,
    "start_time": "2024-08-31T15:31:59.754Z"
   },
   {
    "duration": 8,
    "start_time": "2024-08-31T15:32:07.204Z"
   },
   {
    "duration": 8,
    "start_time": "2024-08-31T15:32:41.696Z"
   },
   {
    "duration": 13,
    "start_time": "2024-08-31T15:34:39.190Z"
   },
   {
    "duration": 15,
    "start_time": "2024-08-31T15:36:20.937Z"
   },
   {
    "duration": 21,
    "start_time": "2024-08-31T15:36:32.112Z"
   },
   {
    "duration": 14,
    "start_time": "2024-08-31T15:39:02.236Z"
   },
   {
    "duration": 12,
    "start_time": "2024-08-31T15:39:29.059Z"
   },
   {
    "duration": 926,
    "start_time": "2024-08-31T15:39:52.547Z"
   },
   {
    "duration": 9,
    "start_time": "2024-08-31T15:39:59.590Z"
   },
   {
    "duration": 13,
    "start_time": "2024-08-31T15:40:23.415Z"
   },
   {
    "duration": 66,
    "start_time": "2024-08-31T15:40:33.425Z"
   },
   {
    "duration": 953,
    "start_time": "2024-08-31T15:40:36.337Z"
   },
   {
    "duration": 12,
    "start_time": "2024-08-31T15:41:00.684Z"
   },
   {
    "duration": 27,
    "start_time": "2024-08-31T15:42:15.890Z"
   },
   {
    "duration": 26,
    "start_time": "2024-08-31T15:42:39.741Z"
   },
   {
    "duration": 9,
    "start_time": "2024-08-31T15:45:05.138Z"
   },
   {
    "duration": 16,
    "start_time": "2024-08-31T15:45:45.060Z"
   },
   {
    "duration": 18,
    "start_time": "2024-08-31T15:46:24.876Z"
   },
   {
    "duration": 25,
    "start_time": "2024-08-31T15:48:30.414Z"
   },
   {
    "duration": 19,
    "start_time": "2024-08-31T15:48:58.905Z"
   },
   {
    "duration": 18,
    "start_time": "2024-08-31T15:50:06.660Z"
   },
   {
    "duration": 20,
    "start_time": "2024-08-31T15:50:18.489Z"
   },
   {
    "duration": 20,
    "start_time": "2024-08-31T15:50:26.842Z"
   },
   {
    "duration": 22,
    "start_time": "2024-08-31T15:50:29.710Z"
   },
   {
    "duration": 18,
    "start_time": "2024-08-31T15:50:38.302Z"
   },
   {
    "duration": 15,
    "start_time": "2024-08-31T15:50:43.192Z"
   },
   {
    "duration": 26,
    "start_time": "2024-08-31T15:51:47.361Z"
   },
   {
    "duration": 35,
    "start_time": "2024-08-31T15:52:41.437Z"
   },
   {
    "duration": 25,
    "start_time": "2024-08-31T15:53:04.447Z"
   },
   {
    "duration": 4,
    "start_time": "2024-08-31T15:53:39.434Z"
   },
   {
    "duration": 4,
    "start_time": "2024-08-31T15:53:39.999Z"
   },
   {
    "duration": 10,
    "start_time": "2024-08-31T15:53:40.423Z"
   },
   {
    "duration": 9,
    "start_time": "2024-08-31T15:53:41.023Z"
   },
   {
    "duration": 6,
    "start_time": "2024-08-31T15:55:41.561Z"
   },
   {
    "duration": 3,
    "start_time": "2024-08-31T15:55:42.151Z"
   },
   {
    "duration": 400,
    "start_time": "2024-08-31T15:55:42.784Z"
   },
   {
    "duration": 116,
    "start_time": "2024-08-31T15:55:43.362Z"
   },
   {
    "duration": 4,
    "start_time": "2024-08-31T15:55:45.395Z"
   },
   {
    "duration": 4,
    "start_time": "2024-08-31T15:55:45.646Z"
   },
   {
    "duration": 4,
    "start_time": "2024-08-31T15:55:45.867Z"
   },
   {
    "duration": 5,
    "start_time": "2024-08-31T15:55:46.300Z"
   },
   {
    "duration": 13,
    "start_time": "2024-08-31T15:55:46.454Z"
   },
   {
    "duration": 14,
    "start_time": "2024-08-31T15:55:46.692Z"
   },
   {
    "duration": 4,
    "start_time": "2024-08-31T15:55:46.869Z"
   },
   {
    "duration": 13,
    "start_time": "2024-08-31T15:55:47.176Z"
   },
   {
    "duration": 15,
    "start_time": "2024-08-31T15:55:47.585Z"
   },
   {
    "duration": 4,
    "start_time": "2024-08-31T15:55:48.016Z"
   },
   {
    "duration": 12,
    "start_time": "2024-08-31T15:55:48.266Z"
   },
   {
    "duration": 12,
    "start_time": "2024-08-31T15:55:48.281Z"
   },
   {
    "duration": 4,
    "start_time": "2024-08-31T15:55:48.675Z"
   },
   {
    "duration": 741,
    "start_time": "2024-08-31T15:55:49.568Z"
   },
   {
    "duration": 25,
    "start_time": "2024-08-31T15:55:50.311Z"
   },
   {
    "duration": 4,
    "start_time": "2024-08-31T15:55:51.188Z"
   },
   {
    "duration": 3,
    "start_time": "2024-08-31T15:55:56.623Z"
   },
   {
    "duration": 29,
    "start_time": "2024-08-31T15:55:57.702Z"
   },
   {
    "duration": 16,
    "start_time": "2024-08-31T15:59:39.912Z"
   },
   {
    "duration": 41,
    "start_time": "2024-08-31T16:00:24.160Z"
   },
   {
    "duration": 3897,
    "start_time": "2024-08-31T16:01:11.359Z"
   },
   {
    "duration": 3905,
    "start_time": "2024-08-31T16:02:04.751Z"
   },
   {
    "duration": 3840,
    "start_time": "2024-08-31T16:02:14.545Z"
   },
   {
    "duration": 3953,
    "start_time": "2024-08-31T16:06:58.727Z"
   },
   {
    "duration": 3989,
    "start_time": "2024-08-31T16:07:24.391Z"
   },
   {
    "duration": 3912,
    "start_time": "2024-08-31T16:09:50.923Z"
   },
   {
    "duration": 3777,
    "start_time": "2024-08-31T16:10:04.740Z"
   },
   {
    "duration": 3,
    "start_time": "2024-08-31T16:10:37.032Z"
   },
   {
    "duration": 3,
    "start_time": "2024-08-31T16:10:37.082Z"
   },
   {
    "duration": 11,
    "start_time": "2024-08-31T16:10:37.102Z"
   },
   {
    "duration": 3,
    "start_time": "2024-08-31T16:10:37.190Z"
   },
   {
    "duration": 429,
    "start_time": "2024-08-31T16:10:37.195Z"
   },
   {
    "duration": 176,
    "start_time": "2024-08-31T16:10:37.626Z"
   },
   {
    "duration": 36,
    "start_time": "2024-08-31T16:10:37.804Z"
   },
   {
    "duration": 194,
    "start_time": "2024-08-31T16:10:37.842Z"
   },
   {
    "duration": 42,
    "start_time": "2024-08-31T16:10:38.037Z"
   },
   {
    "duration": 183,
    "start_time": "2024-08-31T16:10:38.080Z"
   },
   {
    "duration": 34,
    "start_time": "2024-08-31T16:10:38.265Z"
   },
   {
    "duration": 4,
    "start_time": "2024-08-31T16:10:38.301Z"
   },
   {
    "duration": 1546,
    "start_time": "2024-08-31T16:10:38.306Z"
   },
   {
    "duration": 418,
    "start_time": "2024-08-31T16:10:39.854Z"
   },
   {
    "duration": 1490,
    "start_time": "2024-08-31T16:10:40.273Z"
   },
   {
    "duration": 376,
    "start_time": "2024-08-31T16:10:41.765Z"
   },
   {
    "duration": 1745,
    "start_time": "2024-08-31T16:10:42.144Z"
   },
   {
    "duration": 417,
    "start_time": "2024-08-31T16:10:43.892Z"
   },
   {
    "duration": 540,
    "start_time": "2024-08-31T16:10:44.311Z"
   },
   {
    "duration": 528,
    "start_time": "2024-08-31T16:10:44.853Z"
   },
   {
    "duration": 587,
    "start_time": "2024-08-31T16:10:45.382Z"
   },
   {
    "duration": 4,
    "start_time": "2024-08-31T16:10:45.971Z"
   },
   {
    "duration": 9,
    "start_time": "2024-08-31T16:10:45.976Z"
   },
   {
    "duration": 8,
    "start_time": "2024-08-31T16:10:45.987Z"
   },
   {
    "duration": 372,
    "start_time": "2024-08-31T16:10:45.997Z"
   },
   {
    "duration": 186,
    "start_time": "2024-08-31T16:10:46.460Z"
   },
   {
    "duration": 3,
    "start_time": "2024-08-31T16:10:46.648Z"
   },
   {
    "duration": 6,
    "start_time": "2024-08-31T16:10:46.661Z"
   },
   {
    "duration": 4,
    "start_time": "2024-08-31T16:10:46.669Z"
   },
   {
    "duration": 6,
    "start_time": "2024-08-31T16:10:46.674Z"
   },
   {
    "duration": 12,
    "start_time": "2024-08-31T16:10:46.682Z"
   },
   {
    "duration": 12,
    "start_time": "2024-08-31T16:10:46.696Z"
   },
   {
    "duration": 4,
    "start_time": "2024-08-31T16:10:46.709Z"
   },
   {
    "duration": 48,
    "start_time": "2024-08-31T16:10:46.714Z"
   },
   {
    "duration": 13,
    "start_time": "2024-08-31T16:10:46.763Z"
   },
   {
    "duration": 4,
    "start_time": "2024-08-31T16:10:46.777Z"
   },
   {
    "duration": 12,
    "start_time": "2024-08-31T16:10:46.783Z"
   },
   {
    "duration": 12,
    "start_time": "2024-08-31T16:10:46.797Z"
   },
   {
    "duration": 18,
    "start_time": "2024-08-31T16:10:46.811Z"
   },
   {
    "duration": 670,
    "start_time": "2024-08-31T16:10:46.830Z"
   },
   {
    "duration": 24,
    "start_time": "2024-08-31T16:10:47.502Z"
   },
   {
    "duration": 0,
    "start_time": "2024-08-31T16:10:47.527Z"
   },
   {
    "duration": 0,
    "start_time": "2024-08-31T16:10:47.528Z"
   },
   {
    "duration": 0,
    "start_time": "2024-08-31T16:10:47.529Z"
   },
   {
    "duration": 0,
    "start_time": "2024-08-31T16:10:47.530Z"
   },
   {
    "duration": 17,
    "start_time": "2024-08-31T16:11:02.836Z"
   },
   {
    "duration": 5,
    "start_time": "2024-08-31T16:11:05.011Z"
   },
   {
    "duration": 4,
    "start_time": "2024-08-31T16:11:06.169Z"
   },
   {
    "duration": 26,
    "start_time": "2024-08-31T16:11:06.975Z"
   },
   {
    "duration": 3739,
    "start_time": "2024-08-31T16:11:09.674Z"
   },
   {
    "duration": 3771,
    "start_time": "2024-08-31T16:12:14.896Z"
   },
   {
    "duration": 8,
    "start_time": "2024-08-31T16:13:25.911Z"
   },
   {
    "duration": 6,
    "start_time": "2024-08-31T16:13:33.642Z"
   },
   {
    "duration": 7,
    "start_time": "2024-08-31T16:13:36.671Z"
   },
   {
    "duration": 4,
    "start_time": "2024-08-31T16:15:44.504Z"
   },
   {
    "duration": 5,
    "start_time": "2024-08-31T16:15:49.944Z"
   },
   {
    "duration": 10,
    "start_time": "2024-08-31T16:16:08.683Z"
   },
   {
    "duration": 10,
    "start_time": "2024-08-31T16:17:32.347Z"
   },
   {
    "duration": 4,
    "start_time": "2024-08-31T16:18:14.972Z"
   },
   {
    "duration": 3,
    "start_time": "2024-08-31T16:19:11.025Z"
   },
   {
    "duration": 8,
    "start_time": "2024-09-01T14:44:58.337Z"
   },
   {
    "duration": 46,
    "start_time": "2024-09-01T14:45:46.463Z"
   },
   {
    "duration": 1475,
    "start_time": "2024-09-01T14:45:52.224Z"
   },
   {
    "duration": 3,
    "start_time": "2024-09-01T14:45:53.701Z"
   },
   {
    "duration": 6,
    "start_time": "2024-09-01T14:45:53.706Z"
   },
   {
    "duration": 4,
    "start_time": "2024-09-01T14:45:53.714Z"
   },
   {
    "duration": 893,
    "start_time": "2024-09-01T14:45:53.720Z"
   },
   {
    "duration": 171,
    "start_time": "2024-09-01T14:45:54.614Z"
   },
   {
    "duration": 35,
    "start_time": "2024-09-01T14:45:54.786Z"
   },
   {
    "duration": 210,
    "start_time": "2024-09-01T14:45:54.822Z"
   },
   {
    "duration": 48,
    "start_time": "2024-09-01T14:45:55.034Z"
   },
   {
    "duration": 190,
    "start_time": "2024-09-01T14:45:55.085Z"
   },
   {
    "duration": 34,
    "start_time": "2024-09-01T14:45:55.277Z"
   },
   {
    "duration": 2,
    "start_time": "2024-09-01T14:45:55.313Z"
   },
   {
    "duration": 1559,
    "start_time": "2024-09-01T14:45:55.317Z"
   },
   {
    "duration": 481,
    "start_time": "2024-09-01T14:45:56.878Z"
   },
   {
    "duration": 1450,
    "start_time": "2024-09-01T14:45:57.361Z"
   },
   {
    "duration": 422,
    "start_time": "2024-09-01T14:45:58.812Z"
   },
   {
    "duration": 1609,
    "start_time": "2024-09-01T14:45:59.235Z"
   },
   {
    "duration": 558,
    "start_time": "2024-09-01T14:46:00.846Z"
   },
   {
    "duration": 491,
    "start_time": "2024-09-01T14:46:01.406Z"
   },
   {
    "duration": 517,
    "start_time": "2024-09-01T14:46:01.899Z"
   },
   {
    "duration": 527,
    "start_time": "2024-09-01T14:46:02.418Z"
   },
   {
    "duration": 3,
    "start_time": "2024-09-01T14:46:02.946Z"
   },
   {
    "duration": 19,
    "start_time": "2024-09-01T14:46:02.951Z"
   },
   {
    "duration": 9,
    "start_time": "2024-09-01T14:46:02.972Z"
   },
   {
    "duration": 491,
    "start_time": "2024-09-01T14:46:02.982Z"
   },
   {
    "duration": 258,
    "start_time": "2024-09-01T14:46:03.475Z"
   },
   {
    "duration": 2,
    "start_time": "2024-09-01T14:46:03.735Z"
   },
   {
    "duration": 21,
    "start_time": "2024-09-01T14:46:03.741Z"
   },
   {
    "duration": 5,
    "start_time": "2024-09-01T14:46:03.763Z"
   },
   {
    "duration": 11,
    "start_time": "2024-09-01T14:46:03.769Z"
   },
   {
    "duration": 27,
    "start_time": "2024-09-01T14:46:03.782Z"
   },
   {
    "duration": 59,
    "start_time": "2024-09-01T14:46:03.811Z"
   },
   {
    "duration": 8,
    "start_time": "2024-09-01T14:46:03.872Z"
   },
   {
    "duration": 46,
    "start_time": "2024-09-01T14:46:03.882Z"
   },
   {
    "duration": 17,
    "start_time": "2024-09-01T14:46:03.932Z"
   },
   {
    "duration": 5,
    "start_time": "2024-09-01T14:46:03.952Z"
   },
   {
    "duration": 17,
    "start_time": "2024-09-01T14:46:03.959Z"
   },
   {
    "duration": 18,
    "start_time": "2024-09-01T14:46:03.978Z"
   },
   {
    "duration": 5,
    "start_time": "2024-09-01T14:46:03.998Z"
   },
   {
    "duration": 739,
    "start_time": "2024-09-01T14:46:04.005Z"
   },
   {
    "duration": 7,
    "start_time": "2024-09-01T14:46:04.745Z"
   },
   {
    "duration": 3,
    "start_time": "2024-09-01T14:46:04.761Z"
   },
   {
    "duration": 4,
    "start_time": "2024-09-01T14:46:04.765Z"
   },
   {
    "duration": 11,
    "start_time": "2024-09-01T14:46:04.770Z"
   },
   {
    "duration": 3,
    "start_time": "2024-09-01T14:46:16.929Z"
   },
   {
    "duration": 10,
    "start_time": "2024-09-01T14:46:17.744Z"
   },
   {
    "duration": 12,
    "start_time": "2024-09-01T14:46:41.908Z"
   },
   {
    "duration": 13,
    "start_time": "2024-09-01T14:47:17.507Z"
   },
   {
    "duration": 13,
    "start_time": "2024-09-01T14:47:23.349Z"
   },
   {
    "duration": 4,
    "start_time": "2024-09-01T14:54:26.685Z"
   },
   {
    "duration": 18,
    "start_time": "2024-09-01T14:54:50.273Z"
   },
   {
    "duration": 9,
    "start_time": "2024-09-01T14:55:14.260Z"
   },
   {
    "duration": 8,
    "start_time": "2024-09-01T14:55:21.462Z"
   },
   {
    "duration": 9,
    "start_time": "2024-09-01T14:55:27.779Z"
   },
   {
    "duration": 18,
    "start_time": "2024-09-01T14:56:09.042Z"
   },
   {
    "duration": 7,
    "start_time": "2024-09-01T14:58:14.367Z"
   },
   {
    "duration": 3,
    "start_time": "2024-09-01T14:58:26.926Z"
   },
   {
    "duration": 7,
    "start_time": "2024-09-01T14:58:27.375Z"
   },
   {
    "duration": 92,
    "start_time": "2024-09-01T14:59:09.629Z"
   },
   {
    "duration": 6,
    "start_time": "2024-09-01T14:59:28.106Z"
   },
   {
    "duration": 1584,
    "start_time": "2024-09-01T14:59:29.018Z"
   },
   {
    "duration": 63,
    "start_time": "2024-09-01T15:00:39.900Z"
   },
   {
    "duration": 4789,
    "start_time": "2024-09-01T15:00:49.151Z"
   },
   {
    "duration": 6,
    "start_time": "2024-09-01T15:01:10.844Z"
   },
   {
    "duration": 4688,
    "start_time": "2024-09-01T15:01:11.526Z"
   },
   {
    "duration": 4,
    "start_time": "2024-09-01T15:09:11.108Z"
   },
   {
    "duration": 3,
    "start_time": "2024-09-01T15:09:11.651Z"
   },
   {
    "duration": 14,
    "start_time": "2024-09-01T15:09:13.452Z"
   },
   {
    "duration": 4,
    "start_time": "2024-09-01T15:09:21.720Z"
   },
   {
    "duration": 7,
    "start_time": "2024-09-01T15:10:43.732Z"
   },
   {
    "duration": 3,
    "start_time": "2024-09-01T15:10:44.404Z"
   },
   {
    "duration": 4778,
    "start_time": "2024-09-01T15:10:45.794Z"
   },
   {
    "duration": 8,
    "start_time": "2024-09-01T15:13:44.178Z"
   },
   {
    "duration": 7,
    "start_time": "2024-09-01T15:13:58.219Z"
   },
   {
    "duration": 7,
    "start_time": "2024-09-01T15:14:06.292Z"
   },
   {
    "duration": 2,
    "start_time": "2024-09-01T15:14:07.089Z"
   },
   {
    "duration": 4820,
    "start_time": "2024-09-01T15:14:07.617Z"
   },
   {
    "duration": 8,
    "start_time": "2024-09-01T15:14:12.439Z"
   },
   {
    "duration": 7,
    "start_time": "2024-09-01T15:14:45.462Z"
   },
   {
    "duration": 2,
    "start_time": "2024-09-01T15:14:46.166Z"
   },
   {
    "duration": 4721,
    "start_time": "2024-09-01T15:14:46.616Z"
   },
   {
    "duration": 8,
    "start_time": "2024-09-01T15:14:56.391Z"
   },
   {
    "duration": 6,
    "start_time": "2024-09-01T15:15:14.277Z"
   },
   {
    "duration": 3,
    "start_time": "2024-09-01T15:15:14.617Z"
   },
   {
    "duration": 4850,
    "start_time": "2024-09-01T15:15:14.878Z"
   },
   {
    "duration": 9,
    "start_time": "2024-09-01T15:15:19.730Z"
   },
   {
    "duration": 12,
    "start_time": "2024-09-01T15:16:29.257Z"
   },
   {
    "duration": 9,
    "start_time": "2024-09-01T15:16:37.446Z"
   },
   {
    "duration": 9,
    "start_time": "2024-09-01T15:16:45.470Z"
   },
   {
    "duration": 150,
    "start_time": "2024-09-01T15:16:46.202Z"
   },
   {
    "duration": 8,
    "start_time": "2024-09-01T15:52:04.483Z"
   },
   {
    "duration": 3,
    "start_time": "2024-09-01T15:52:05.007Z"
   },
   {
    "duration": 4730,
    "start_time": "2024-09-01T15:52:05.563Z"
   },
   {
    "duration": 8,
    "start_time": "2024-09-01T15:52:10.295Z"
   },
   {
    "duration": 9,
    "start_time": "2024-09-01T15:52:53.929Z"
   },
   {
    "duration": 10,
    "start_time": "2024-09-01T15:53:51.803Z"
   },
   {
    "duration": 49,
    "start_time": "2024-09-01T17:33:12.972Z"
   },
   {
    "duration": 1517,
    "start_time": "2024-09-01T17:33:20.813Z"
   },
   {
    "duration": 3,
    "start_time": "2024-09-01T17:33:22.332Z"
   },
   {
    "duration": 16,
    "start_time": "2024-09-01T17:33:22.337Z"
   },
   {
    "duration": 3,
    "start_time": "2024-09-01T17:33:22.355Z"
   },
   {
    "duration": 1753,
    "start_time": "2024-09-01T17:33:22.359Z"
   },
   {
    "duration": 173,
    "start_time": "2024-09-01T17:33:24.114Z"
   },
   {
    "duration": 34,
    "start_time": "2024-09-01T17:33:24.288Z"
   },
   {
    "duration": 184,
    "start_time": "2024-09-01T17:33:24.324Z"
   },
   {
    "duration": 43,
    "start_time": "2024-09-01T17:33:24.509Z"
   },
   {
    "duration": 175,
    "start_time": "2024-09-01T17:33:24.555Z"
   },
   {
    "duration": 47,
    "start_time": "2024-09-01T17:33:24.732Z"
   },
   {
    "duration": 3,
    "start_time": "2024-09-01T17:33:24.780Z"
   },
   {
    "duration": 1577,
    "start_time": "2024-09-01T17:33:24.784Z"
   },
   {
    "duration": 477,
    "start_time": "2024-09-01T17:33:26.363Z"
   },
   {
    "duration": 1553,
    "start_time": "2024-09-01T17:33:26.842Z"
   },
   {
    "duration": 393,
    "start_time": "2024-09-01T17:33:28.397Z"
   },
   {
    "duration": 1644,
    "start_time": "2024-09-01T17:33:28.792Z"
   },
   {
    "duration": 548,
    "start_time": "2024-09-01T17:33:30.437Z"
   },
   {
    "duration": 557,
    "start_time": "2024-09-01T17:33:30.986Z"
   },
   {
    "duration": 516,
    "start_time": "2024-09-01T17:33:31.552Z"
   },
   {
    "duration": 548,
    "start_time": "2024-09-01T17:33:32.070Z"
   },
   {
    "duration": 2,
    "start_time": "2024-09-01T17:33:32.620Z"
   },
   {
    "duration": 6,
    "start_time": "2024-09-01T17:33:32.624Z"
   },
   {
    "duration": 29,
    "start_time": "2024-09-01T17:33:32.631Z"
   },
   {
    "duration": 401,
    "start_time": "2024-09-01T17:33:32.662Z"
   },
   {
    "duration": 256,
    "start_time": "2024-09-01T17:33:33.065Z"
   },
   {
    "duration": 2,
    "start_time": "2024-09-01T17:33:33.323Z"
   },
   {
    "duration": 23,
    "start_time": "2024-09-01T17:33:33.330Z"
   },
   {
    "duration": 9,
    "start_time": "2024-09-01T17:33:33.355Z"
   },
   {
    "duration": 12,
    "start_time": "2024-09-01T17:33:33.365Z"
   },
   {
    "duration": 11,
    "start_time": "2024-09-01T17:33:33.379Z"
   },
   {
    "duration": 19,
    "start_time": "2024-09-01T17:33:33.392Z"
   },
   {
    "duration": 4,
    "start_time": "2024-09-01T17:33:33.413Z"
   },
   {
    "duration": 35,
    "start_time": "2024-09-01T17:33:33.418Z"
   },
   {
    "duration": 13,
    "start_time": "2024-09-01T17:33:33.454Z"
   },
   {
    "duration": 4,
    "start_time": "2024-09-01T17:33:33.469Z"
   },
   {
    "duration": 63,
    "start_time": "2024-09-01T17:33:33.475Z"
   },
   {
    "duration": 12,
    "start_time": "2024-09-01T17:33:33.540Z"
   },
   {
    "duration": 4,
    "start_time": "2024-09-01T17:33:33.553Z"
   },
   {
    "duration": 4,
    "start_time": "2024-09-01T17:33:33.559Z"
   },
   {
    "duration": 5,
    "start_time": "2024-09-01T17:33:33.564Z"
   },
   {
    "duration": 16,
    "start_time": "2024-09-01T17:33:33.570Z"
   },
   {
    "duration": 3,
    "start_time": "2024-09-01T17:33:33.587Z"
   },
   {
    "duration": 10,
    "start_time": "2024-09-01T17:33:33.592Z"
   },
   {
    "duration": 8,
    "start_time": "2024-09-01T17:33:33.604Z"
   },
   {
    "duration": 6,
    "start_time": "2024-09-01T17:33:33.613Z"
   },
   {
    "duration": 5072,
    "start_time": "2024-09-01T17:33:33.620Z"
   },
   {
    "duration": 10,
    "start_time": "2024-09-01T17:33:38.693Z"
   },
   {
    "duration": 128,
    "start_time": "2024-09-01T17:33:59.452Z"
   },
   {
    "duration": 127,
    "start_time": "2024-09-01T17:34:05.980Z"
   },
   {
    "duration": 189,
    "start_time": "2024-09-01T17:34:35.645Z"
   },
   {
    "duration": 122,
    "start_time": "2024-09-01T17:34:44.465Z"
   },
   {
    "duration": 126,
    "start_time": "2024-09-01T17:37:04.426Z"
   },
   {
    "duration": 132,
    "start_time": "2024-09-01T17:38:21.530Z"
   },
   {
    "duration": 215,
    "start_time": "2024-09-01T17:38:31.305Z"
   },
   {
    "duration": 91,
    "start_time": "2024-09-01T17:38:47.025Z"
   },
   {
    "duration": 98,
    "start_time": "2024-09-01T17:38:58.573Z"
   },
   {
    "duration": 88,
    "start_time": "2024-09-01T17:39:09.419Z"
   },
   {
    "duration": 4,
    "start_time": "2024-09-01T18:09:51.869Z"
   },
   {
    "duration": 414,
    "start_time": "2024-09-01T18:10:37.656Z"
   },
   {
    "duration": 4,
    "start_time": "2024-09-01T18:12:29.618Z"
   },
   {
    "duration": 190,
    "start_time": "2024-09-01T18:12:32.749Z"
   },
   {
    "duration": 4,
    "start_time": "2024-09-01T18:12:45.465Z"
   },
   {
    "duration": 157,
    "start_time": "2024-09-01T18:12:47.827Z"
   },
   {
    "duration": 1462,
    "start_time": "2024-09-01T18:15:08.904Z"
   },
   {
    "duration": 1395,
    "start_time": "2024-09-01T19:37:38.845Z"
   },
   {
    "duration": 3,
    "start_time": "2024-09-01T19:37:40.242Z"
   },
   {
    "duration": 5,
    "start_time": "2024-09-01T19:37:40.251Z"
   },
   {
    "duration": 5,
    "start_time": "2024-09-01T19:37:40.257Z"
   },
   {
    "duration": 420,
    "start_time": "2024-09-01T19:37:40.263Z"
   },
   {
    "duration": 195,
    "start_time": "2024-09-01T19:37:40.684Z"
   },
   {
    "duration": 35,
    "start_time": "2024-09-01T19:37:40.880Z"
   },
   {
    "duration": 181,
    "start_time": "2024-09-01T19:37:40.916Z"
   },
   {
    "duration": 34,
    "start_time": "2024-09-01T19:37:41.098Z"
   },
   {
    "duration": 192,
    "start_time": "2024-09-01T19:37:41.134Z"
   },
   {
    "duration": 43,
    "start_time": "2024-09-01T19:37:41.327Z"
   },
   {
    "duration": 3,
    "start_time": "2024-09-01T19:37:41.371Z"
   },
   {
    "duration": 1523,
    "start_time": "2024-09-01T19:37:41.375Z"
   },
   {
    "duration": 424,
    "start_time": "2024-09-01T19:37:42.899Z"
   },
   {
    "duration": 1438,
    "start_time": "2024-09-01T19:37:43.325Z"
   },
   {
    "duration": 537,
    "start_time": "2024-09-01T19:37:44.765Z"
   },
   {
    "duration": 1661,
    "start_time": "2024-09-01T19:37:45.303Z"
   },
   {
    "duration": 438,
    "start_time": "2024-09-01T19:37:46.966Z"
   },
   {
    "duration": 549,
    "start_time": "2024-09-01T19:37:47.405Z"
   },
   {
    "duration": 523,
    "start_time": "2024-09-01T19:37:47.955Z"
   },
   {
    "duration": 539,
    "start_time": "2024-09-01T19:37:48.480Z"
   },
   {
    "duration": 2,
    "start_time": "2024-09-01T19:37:49.021Z"
   },
   {
    "duration": 127,
    "start_time": "2024-09-01T19:37:49.025Z"
   },
   {
    "duration": 4,
    "start_time": "2024-09-01T19:37:49.153Z"
   },
   {
    "duration": 403,
    "start_time": "2024-09-01T19:37:49.158Z"
   },
   {
    "duration": 259,
    "start_time": "2024-09-01T19:37:49.564Z"
   },
   {
    "duration": 2,
    "start_time": "2024-09-01T19:37:49.825Z"
   },
   {
    "duration": 24,
    "start_time": "2024-09-01T19:37:49.831Z"
   },
   {
    "duration": 17,
    "start_time": "2024-09-01T19:37:49.857Z"
   },
   {
    "duration": 7,
    "start_time": "2024-09-01T19:37:49.876Z"
   },
   {
    "duration": 11,
    "start_time": "2024-09-01T19:37:49.885Z"
   },
   {
    "duration": 13,
    "start_time": "2024-09-01T19:37:49.897Z"
   },
   {
    "duration": 4,
    "start_time": "2024-09-01T19:37:49.911Z"
   },
   {
    "duration": 13,
    "start_time": "2024-09-01T19:37:49.917Z"
   },
   {
    "duration": 33,
    "start_time": "2024-09-01T19:37:49.931Z"
   },
   {
    "duration": 4,
    "start_time": "2024-09-01T19:37:49.966Z"
   },
   {
    "duration": 12,
    "start_time": "2024-09-01T19:37:49.971Z"
   },
   {
    "duration": 12,
    "start_time": "2024-09-01T19:37:49.984Z"
   },
   {
    "duration": 4,
    "start_time": "2024-09-01T19:37:49.997Z"
   },
   {
    "duration": 4,
    "start_time": "2024-09-01T19:37:50.002Z"
   },
   {
    "duration": 5,
    "start_time": "2024-09-01T19:37:50.008Z"
   },
   {
    "duration": 54,
    "start_time": "2024-09-01T19:37:50.015Z"
   },
   {
    "duration": 3,
    "start_time": "2024-09-01T19:37:50.071Z"
   },
   {
    "duration": 9,
    "start_time": "2024-09-01T19:37:50.076Z"
   },
   {
    "duration": 7,
    "start_time": "2024-09-01T19:37:50.086Z"
   },
   {
    "duration": 5062,
    "start_time": "2024-09-01T19:37:50.095Z"
   },
   {
    "duration": 10,
    "start_time": "2024-09-01T19:37:55.159Z"
   },
   {
    "duration": 140,
    "start_time": "2024-09-01T19:37:55.170Z"
   },
   {
    "duration": 102,
    "start_time": "2024-09-01T19:37:55.311Z"
   },
   {
    "duration": 1421,
    "start_time": "2024-09-14T11:46:16.471Z"
   },
   {
    "duration": 3,
    "start_time": "2024-09-14T11:46:17.894Z"
   },
   {
    "duration": 138,
    "start_time": "2024-09-14T11:46:17.898Z"
   },
   {
    "duration": 7,
    "start_time": "2024-09-14T11:46:18.037Z"
   },
   {
    "duration": 829,
    "start_time": "2024-09-14T11:46:18.046Z"
   },
   {
    "duration": 137,
    "start_time": "2024-09-14T11:46:18.876Z"
   },
   {
    "duration": 28,
    "start_time": "2024-09-14T11:46:19.014Z"
   },
   {
    "duration": 141,
    "start_time": "2024-09-14T11:46:19.043Z"
   },
   {
    "duration": 38,
    "start_time": "2024-09-14T11:46:19.185Z"
   },
   {
    "duration": 167,
    "start_time": "2024-09-14T11:46:19.224Z"
   },
   {
    "duration": 34,
    "start_time": "2024-09-14T11:46:19.392Z"
   },
   {
    "duration": 2,
    "start_time": "2024-09-14T11:46:19.427Z"
   },
   {
    "duration": 1242,
    "start_time": "2024-09-14T11:46:19.430Z"
   },
   {
    "duration": 383,
    "start_time": "2024-09-14T11:46:20.674Z"
   },
   {
    "duration": 1217,
    "start_time": "2024-09-14T11:46:21.058Z"
   },
   {
    "duration": 350,
    "start_time": "2024-09-14T11:46:22.276Z"
   },
   {
    "duration": 1287,
    "start_time": "2024-09-14T11:46:22.627Z"
   },
   {
    "duration": 492,
    "start_time": "2024-09-14T11:46:23.916Z"
   },
   {
    "duration": 155,
    "start_time": "2024-09-14T11:46:24.410Z"
   },
   {
    "duration": 127,
    "start_time": "2024-09-14T11:46:24.566Z"
   },
   {
    "duration": 165,
    "start_time": "2024-09-14T11:46:24.694Z"
   },
   {
    "duration": 99,
    "start_time": "2024-09-14T11:46:38.181Z"
   },
   {
    "duration": 2,
    "start_time": "2024-09-14T11:46:45.126Z"
   },
   {
    "duration": 6,
    "start_time": "2024-09-14T11:46:46.014Z"
   },
   {
    "duration": 2,
    "start_time": "2024-09-14T11:46:46.810Z"
   },
   {
    "duration": 1217,
    "start_time": "2024-09-14T11:46:53.536Z"
   },
   {
    "duration": 10,
    "start_time": "2024-09-14T11:46:54.755Z"
   },
   {
    "duration": 19,
    "start_time": "2024-09-14T11:46:54.766Z"
   },
   {
    "duration": 9,
    "start_time": "2024-09-14T11:46:54.787Z"
   },
   {
    "duration": 357,
    "start_time": "2024-09-14T11:46:54.798Z"
   },
   {
    "duration": 184,
    "start_time": "2024-09-14T11:46:55.157Z"
   },
   {
    "duration": 28,
    "start_time": "2024-09-14T11:46:55.343Z"
   },
   {
    "duration": 167,
    "start_time": "2024-09-14T11:46:55.373Z"
   },
   {
    "duration": 25,
    "start_time": "2024-09-14T11:46:55.542Z"
   },
   {
    "duration": 149,
    "start_time": "2024-09-14T11:46:55.569Z"
   },
   {
    "duration": 27,
    "start_time": "2024-09-14T11:46:55.719Z"
   },
   {
    "duration": 2,
    "start_time": "2024-09-14T11:46:55.747Z"
   },
   {
    "duration": 1223,
    "start_time": "2024-09-14T11:46:55.750Z"
   },
   {
    "duration": 349,
    "start_time": "2024-09-14T11:46:56.976Z"
   },
   {
    "duration": 1151,
    "start_time": "2024-09-14T11:46:57.327Z"
   },
   {
    "duration": 439,
    "start_time": "2024-09-14T11:46:58.480Z"
   },
   {
    "duration": 1292,
    "start_time": "2024-09-14T11:46:58.920Z"
   },
   {
    "duration": 395,
    "start_time": "2024-09-14T11:47:00.214Z"
   },
   {
    "duration": 161,
    "start_time": "2024-09-14T11:47:00.611Z"
   },
   {
    "duration": 135,
    "start_time": "2024-09-14T11:47:00.773Z"
   },
   {
    "duration": 155,
    "start_time": "2024-09-14T11:47:00.910Z"
   },
   {
    "duration": 2,
    "start_time": "2024-09-14T11:47:01.067Z"
   },
   {
    "duration": 88,
    "start_time": "2024-09-14T11:47:01.071Z"
   },
   {
    "duration": 32,
    "start_time": "2024-09-14T11:47:01.161Z"
   },
   {
    "duration": 217,
    "start_time": "2024-09-14T11:47:01.195Z"
   },
   {
    "duration": 243,
    "start_time": "2024-09-14T11:47:01.414Z"
   },
   {
    "duration": 2,
    "start_time": "2024-09-14T11:47:01.658Z"
   },
   {
    "duration": 14,
    "start_time": "2024-09-14T11:47:01.662Z"
   },
   {
    "duration": 14,
    "start_time": "2024-09-14T11:47:01.678Z"
   },
   {
    "duration": 15,
    "start_time": "2024-09-14T11:47:01.694Z"
   },
   {
    "duration": 20,
    "start_time": "2024-09-14T11:47:01.710Z"
   },
   {
    "duration": 9,
    "start_time": "2024-09-14T11:47:01.732Z"
   },
   {
    "duration": 3,
    "start_time": "2024-09-14T11:47:01.742Z"
   },
   {
    "duration": 10,
    "start_time": "2024-09-14T11:47:01.746Z"
   },
   {
    "duration": 15,
    "start_time": "2024-09-14T11:47:01.757Z"
   },
   {
    "duration": 11,
    "start_time": "2024-09-14T11:47:01.774Z"
   },
   {
    "duration": 12,
    "start_time": "2024-09-14T11:47:01.786Z"
   },
   {
    "duration": 13,
    "start_time": "2024-09-14T11:47:01.799Z"
   },
   {
    "duration": 4,
    "start_time": "2024-09-14T11:47:01.813Z"
   },
   {
    "duration": 5,
    "start_time": "2024-09-14T11:47:01.818Z"
   },
   {
    "duration": 6,
    "start_time": "2024-09-14T11:47:01.826Z"
   },
   {
    "duration": 20,
    "start_time": "2024-09-14T11:47:01.833Z"
   },
   {
    "duration": 10,
    "start_time": "2024-09-14T11:47:01.854Z"
   },
   {
    "duration": 163,
    "start_time": "2024-09-14T11:47:01.865Z"
   },
   {
    "duration": 71,
    "start_time": "2024-09-14T11:47:02.030Z"
   },
   {
    "duration": 3747,
    "start_time": "2024-09-14T11:47:02.102Z"
   },
   {
    "duration": 8,
    "start_time": "2024-09-14T11:47:05.851Z"
   },
   {
    "duration": 199,
    "start_time": "2024-09-14T11:47:05.860Z"
   },
   {
    "duration": 89,
    "start_time": "2024-09-14T11:47:06.061Z"
   },
   {
    "duration": 1230,
    "start_time": "2024-09-14T11:51:42.822Z"
   },
   {
    "duration": 3,
    "start_time": "2024-09-14T11:51:44.054Z"
   },
   {
    "duration": 19,
    "start_time": "2024-09-14T11:51:44.058Z"
   },
   {
    "duration": 4,
    "start_time": "2024-09-14T11:51:44.078Z"
   },
   {
    "duration": 323,
    "start_time": "2024-09-14T11:51:44.083Z"
   },
   {
    "duration": 137,
    "start_time": "2024-09-14T11:51:44.408Z"
   },
   {
    "duration": 27,
    "start_time": "2024-09-14T11:51:44.547Z"
   },
   {
    "duration": 148,
    "start_time": "2024-09-14T11:51:44.575Z"
   },
   {
    "duration": 24,
    "start_time": "2024-09-14T11:51:44.724Z"
   },
   {
    "duration": 157,
    "start_time": "2024-09-14T11:51:44.750Z"
   },
   {
    "duration": 26,
    "start_time": "2024-09-14T11:51:44.908Z"
   },
   {
    "duration": 2,
    "start_time": "2024-09-14T11:51:44.935Z"
   },
   {
    "duration": 1207,
    "start_time": "2024-09-14T11:51:44.938Z"
   },
   {
    "duration": 377,
    "start_time": "2024-09-14T11:51:46.148Z"
   },
   {
    "duration": 1120,
    "start_time": "2024-09-14T11:51:46.526Z"
   },
   {
    "duration": 471,
    "start_time": "2024-09-14T11:51:47.647Z"
   },
   {
    "duration": 1343,
    "start_time": "2024-09-14T11:51:48.120Z"
   },
   {
    "duration": 367,
    "start_time": "2024-09-14T11:51:49.464Z"
   },
   {
    "duration": 162,
    "start_time": "2024-09-14T11:51:49.832Z"
   },
   {
    "duration": 136,
    "start_time": "2024-09-14T11:51:49.996Z"
   },
   {
    "duration": 157,
    "start_time": "2024-09-14T11:51:50.134Z"
   },
   {
    "duration": 2,
    "start_time": "2024-09-14T11:51:50.293Z"
   },
   {
    "duration": 89,
    "start_time": "2024-09-14T11:51:50.296Z"
   },
   {
    "duration": 22,
    "start_time": "2024-09-14T11:51:50.386Z"
   },
   {
    "duration": 302,
    "start_time": "2024-09-14T11:51:50.409Z"
   },
   {
    "duration": 239,
    "start_time": "2024-09-14T11:51:50.713Z"
   },
   {
    "duration": 2,
    "start_time": "2024-09-14T11:51:50.954Z"
   },
   {
    "duration": 44,
    "start_time": "2024-09-14T11:51:50.957Z"
   },
   {
    "duration": 14,
    "start_time": "2024-09-14T11:51:51.002Z"
   },
   {
    "duration": 28,
    "start_time": "2024-09-14T11:51:51.017Z"
   },
   {
    "duration": 120,
    "start_time": "2024-09-14T11:51:51.047Z"
   },
   {
    "duration": 0,
    "start_time": "2024-09-14T11:51:51.168Z"
   },
   {
    "duration": 0,
    "start_time": "2024-09-14T11:51:51.170Z"
   },
   {
    "duration": 0,
    "start_time": "2024-09-14T11:51:51.171Z"
   },
   {
    "duration": 0,
    "start_time": "2024-09-14T11:51:51.172Z"
   },
   {
    "duration": 0,
    "start_time": "2024-09-14T11:51:51.173Z"
   },
   {
    "duration": 0,
    "start_time": "2024-09-14T11:51:51.174Z"
   },
   {
    "duration": 0,
    "start_time": "2024-09-14T11:51:51.175Z"
   },
   {
    "duration": 0,
    "start_time": "2024-09-14T11:51:51.177Z"
   },
   {
    "duration": 0,
    "start_time": "2024-09-14T11:51:51.178Z"
   },
   {
    "duration": 0,
    "start_time": "2024-09-14T11:51:51.180Z"
   },
   {
    "duration": 0,
    "start_time": "2024-09-14T11:51:51.181Z"
   },
   {
    "duration": 0,
    "start_time": "2024-09-14T11:51:51.182Z"
   },
   {
    "duration": 0,
    "start_time": "2024-09-14T11:51:51.183Z"
   },
   {
    "duration": 0,
    "start_time": "2024-09-14T11:51:51.184Z"
   },
   {
    "duration": 0,
    "start_time": "2024-09-14T11:51:51.185Z"
   },
   {
    "duration": 0,
    "start_time": "2024-09-14T11:51:51.185Z"
   },
   {
    "duration": 0,
    "start_time": "2024-09-14T11:51:51.207Z"
   },
   {
    "duration": 0,
    "start_time": "2024-09-14T11:51:51.208Z"
   },
   {
    "duration": 9,
    "start_time": "2024-09-14T11:52:05.257Z"
   },
   {
    "duration": 11,
    "start_time": "2024-09-14T11:52:06.053Z"
   },
   {
    "duration": 4,
    "start_time": "2024-09-14T11:52:06.914Z"
   },
   {
    "duration": 8,
    "start_time": "2024-09-14T11:52:07.915Z"
   },
   {
    "duration": 9,
    "start_time": "2024-09-14T11:52:11.594Z"
   },
   {
    "duration": 11,
    "start_time": "2024-09-14T11:52:12.126Z"
   },
   {
    "duration": 4,
    "start_time": "2024-09-14T11:52:12.760Z"
   },
   {
    "duration": 8,
    "start_time": "2024-09-14T11:52:13.811Z"
   },
   {
    "duration": 10,
    "start_time": "2024-09-14T11:52:15.769Z"
   },
   {
    "duration": 5,
    "start_time": "2024-09-14T11:52:16.240Z"
   },
   {
    "duration": 3,
    "start_time": "2024-09-14T11:52:17.977Z"
   },
   {
    "duration": 2,
    "start_time": "2024-09-14T11:52:18.163Z"
   },
   {
    "duration": 14,
    "start_time": "2024-09-14T11:52:18.393Z"
   },
   {
    "duration": 3,
    "start_time": "2024-09-14T11:52:18.769Z"
   },
   {
    "duration": 6,
    "start_time": "2024-09-14T11:52:19.775Z"
   },
   {
    "duration": 2,
    "start_time": "2024-09-14T11:52:19.993Z"
   },
   {
    "duration": 3785,
    "start_time": "2024-09-14T11:52:20.172Z"
   },
   {
    "duration": 8,
    "start_time": "2024-09-14T11:52:23.958Z"
   },
   {
    "duration": 193,
    "start_time": "2024-09-14T11:52:23.967Z"
   },
   {
    "duration": 82,
    "start_time": "2024-09-14T11:52:24.161Z"
   },
   {
    "duration": 1245,
    "start_time": "2024-09-14T11:52:28.233Z"
   },
   {
    "duration": 3,
    "start_time": "2024-09-14T11:52:29.479Z"
   },
   {
    "duration": 7,
    "start_time": "2024-09-14T11:52:29.484Z"
   },
   {
    "duration": 12,
    "start_time": "2024-09-14T11:52:29.492Z"
   },
   {
    "duration": 324,
    "start_time": "2024-09-14T11:52:29.506Z"
   },
   {
    "duration": 145,
    "start_time": "2024-09-14T11:52:29.832Z"
   },
   {
    "duration": 40,
    "start_time": "2024-09-14T11:52:29.978Z"
   },
   {
    "duration": 250,
    "start_time": "2024-09-14T11:52:30.019Z"
   },
   {
    "duration": 76,
    "start_time": "2024-09-14T11:52:30.271Z"
   },
   {
    "duration": 148,
    "start_time": "2024-09-14T11:52:30.349Z"
   },
   {
    "duration": 26,
    "start_time": "2024-09-14T11:52:30.506Z"
   },
   {
    "duration": 3,
    "start_time": "2024-09-14T11:52:30.533Z"
   },
   {
    "duration": 1249,
    "start_time": "2024-09-14T11:52:30.537Z"
   },
   {
    "duration": 370,
    "start_time": "2024-09-14T11:52:31.788Z"
   },
   {
    "duration": 1142,
    "start_time": "2024-09-14T11:52:32.159Z"
   },
   {
    "duration": 462,
    "start_time": "2024-09-14T11:52:33.302Z"
   },
   {
    "duration": 1286,
    "start_time": "2024-09-14T11:52:33.766Z"
   },
   {
    "duration": 366,
    "start_time": "2024-09-14T11:52:35.053Z"
   },
   {
    "duration": 155,
    "start_time": "2024-09-14T11:52:35.420Z"
   },
   {
    "duration": 133,
    "start_time": "2024-09-14T11:52:35.576Z"
   },
   {
    "duration": 155,
    "start_time": "2024-09-14T11:52:35.710Z"
   },
   {
    "duration": 2,
    "start_time": "2024-09-14T11:52:35.866Z"
   },
   {
    "duration": 89,
    "start_time": "2024-09-14T11:52:35.869Z"
   },
   {
    "duration": 137,
    "start_time": "2024-09-14T11:52:35.959Z"
   },
   {
    "duration": 213,
    "start_time": "2024-09-14T11:52:36.098Z"
   },
   {
    "duration": 247,
    "start_time": "2024-09-14T11:52:36.313Z"
   },
   {
    "duration": 3,
    "start_time": "2024-09-14T11:52:36.561Z"
   },
   {
    "duration": 14,
    "start_time": "2024-09-14T11:52:36.565Z"
   },
   {
    "duration": 9,
    "start_time": "2024-09-14T11:52:36.580Z"
   },
   {
    "duration": 15,
    "start_time": "2024-09-14T11:52:36.590Z"
   },
   {
    "duration": 18,
    "start_time": "2024-09-14T11:52:36.607Z"
   },
   {
    "duration": 12,
    "start_time": "2024-09-14T11:52:36.626Z"
   },
   {
    "duration": 10,
    "start_time": "2024-09-14T11:52:36.639Z"
   },
   {
    "duration": 33,
    "start_time": "2024-09-14T11:52:36.650Z"
   },
   {
    "duration": 15,
    "start_time": "2024-09-14T11:52:36.685Z"
   },
   {
    "duration": 5,
    "start_time": "2024-09-14T11:52:36.701Z"
   },
   {
    "duration": 37,
    "start_time": "2024-09-14T11:52:36.707Z"
   },
   {
    "duration": 17,
    "start_time": "2024-09-14T11:52:36.745Z"
   },
   {
    "duration": 7,
    "start_time": "2024-09-14T11:52:36.763Z"
   },
   {
    "duration": 17,
    "start_time": "2024-09-14T11:52:36.771Z"
   },
   {
    "duration": 19,
    "start_time": "2024-09-14T11:52:36.791Z"
   },
   {
    "duration": 20,
    "start_time": "2024-09-14T11:52:36.812Z"
   },
   {
    "duration": 3,
    "start_time": "2024-09-14T11:52:36.833Z"
   },
   {
    "duration": 6,
    "start_time": "2024-09-14T11:52:36.838Z"
   },
   {
    "duration": 99,
    "start_time": "2024-09-14T11:52:36.845Z"
   },
   {
    "duration": 3678,
    "start_time": "2024-09-14T11:52:36.945Z"
   },
   {
    "duration": 9,
    "start_time": "2024-09-14T11:52:40.624Z"
   },
   {
    "duration": 115,
    "start_time": "2024-09-14T11:52:40.635Z"
   },
   {
    "duration": 82,
    "start_time": "2024-09-14T11:52:40.751Z"
   },
   {
    "duration": 1184,
    "start_time": "2024-09-14T11:53:27.472Z"
   },
   {
    "duration": 3,
    "start_time": "2024-09-14T11:53:28.657Z"
   },
   {
    "duration": 19,
    "start_time": "2024-09-14T11:53:28.662Z"
   },
   {
    "duration": 7,
    "start_time": "2024-09-14T11:53:28.682Z"
   },
   {
    "duration": 329,
    "start_time": "2024-09-14T11:53:28.690Z"
   },
   {
    "duration": 152,
    "start_time": "2024-09-14T11:53:29.021Z"
   },
   {
    "duration": 36,
    "start_time": "2024-09-14T11:53:29.175Z"
   },
   {
    "duration": 140,
    "start_time": "2024-09-14T11:53:29.213Z"
   },
   {
    "duration": 26,
    "start_time": "2024-09-14T11:53:29.354Z"
   },
   {
    "duration": 145,
    "start_time": "2024-09-14T11:53:29.383Z"
   },
   {
    "duration": 25,
    "start_time": "2024-09-14T11:53:29.529Z"
   },
   {
    "duration": 2,
    "start_time": "2024-09-14T11:53:29.555Z"
   },
   {
    "duration": 1232,
    "start_time": "2024-09-14T11:53:29.559Z"
   },
   {
    "duration": 370,
    "start_time": "2024-09-14T11:53:30.793Z"
   },
   {
    "duration": 1145,
    "start_time": "2024-09-14T11:53:31.164Z"
   },
   {
    "duration": 454,
    "start_time": "2024-09-14T11:53:32.310Z"
   },
   {
    "duration": 1297,
    "start_time": "2024-09-14T11:53:32.765Z"
   },
   {
    "duration": 353,
    "start_time": "2024-09-14T11:53:34.064Z"
   },
   {
    "duration": 156,
    "start_time": "2024-09-14T11:53:34.418Z"
   },
   {
    "duration": 132,
    "start_time": "2024-09-14T11:53:34.575Z"
   },
   {
    "duration": 158,
    "start_time": "2024-09-14T11:53:34.709Z"
   },
   {
    "duration": 2,
    "start_time": "2024-09-14T11:53:34.869Z"
   },
   {
    "duration": 93,
    "start_time": "2024-09-14T11:53:34.873Z"
   },
   {
    "duration": 28,
    "start_time": "2024-09-14T11:53:34.968Z"
   },
   {
    "duration": 221,
    "start_time": "2024-09-14T11:53:34.997Z"
   },
   {
    "duration": 167,
    "start_time": "2024-09-14T11:53:35.308Z"
   },
   {
    "duration": 3,
    "start_time": "2024-09-14T11:53:35.477Z"
   },
   {
    "duration": 10,
    "start_time": "2024-09-14T11:53:35.483Z"
   },
   {
    "duration": 13,
    "start_time": "2024-09-14T11:53:35.494Z"
   },
   {
    "duration": 9,
    "start_time": "2024-09-14T11:53:35.508Z"
   },
   {
    "duration": 15,
    "start_time": "2024-09-14T11:53:35.518Z"
   },
   {
    "duration": 27,
    "start_time": "2024-09-14T11:53:35.534Z"
   },
   {
    "duration": 21,
    "start_time": "2024-09-14T11:53:35.562Z"
   },
   {
    "duration": 20,
    "start_time": "2024-09-14T11:53:35.584Z"
   },
   {
    "duration": 11,
    "start_time": "2024-09-14T11:53:35.605Z"
   },
   {
    "duration": 3,
    "start_time": "2024-09-14T11:53:35.618Z"
   },
   {
    "duration": 27,
    "start_time": "2024-09-14T11:53:35.623Z"
   },
   {
    "duration": 28,
    "start_time": "2024-09-14T11:53:35.652Z"
   },
   {
    "duration": 7,
    "start_time": "2024-09-14T11:53:35.681Z"
   },
   {
    "duration": 36,
    "start_time": "2024-09-14T11:53:35.690Z"
   },
   {
    "duration": 43,
    "start_time": "2024-09-14T11:53:35.728Z"
   },
   {
    "duration": 41,
    "start_time": "2024-09-14T11:53:35.772Z"
   },
   {
    "duration": 5,
    "start_time": "2024-09-14T11:53:35.815Z"
   },
   {
    "duration": 15,
    "start_time": "2024-09-14T11:53:35.821Z"
   },
   {
    "duration": 139,
    "start_time": "2024-09-14T11:53:35.837Z"
   },
   {
    "duration": 3764,
    "start_time": "2024-09-14T11:53:35.978Z"
   },
   {
    "duration": 8,
    "start_time": "2024-09-14T11:53:39.743Z"
   },
   {
    "duration": 127,
    "start_time": "2024-09-14T11:53:39.752Z"
   },
   {
    "duration": 81,
    "start_time": "2024-09-14T11:53:39.880Z"
   }
  ],
  "kernelspec": {
   "display_name": "Python 3 (ipykernel)",
   "language": "python",
   "name": "python3"
  },
  "language_info": {
   "codemirror_mode": {
    "name": "ipython",
    "version": 3
   },
   "file_extension": ".py",
   "mimetype": "text/x-python",
   "name": "python",
   "nbconvert_exporter": "python",
   "pygments_lexer": "ipython3",
   "version": "3.13.5"
  },
  "toc": {
   "base_numbering": 1,
   "nav_menu": {},
   "number_sections": true,
   "sideBar": true,
   "skip_h1_title": true,
   "title_cell": "Table of Contents",
   "title_sidebar": "Contents",
   "toc_cell": false,
   "toc_position": {},
   "toc_section_display": true,
   "toc_window_display": true
  }
 },
 "nbformat": 4,
 "nbformat_minor": 4
}
