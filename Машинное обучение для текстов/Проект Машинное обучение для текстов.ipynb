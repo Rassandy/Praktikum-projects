{
 "cells": [
  {
   "cell_type": "markdown",
   "metadata": {},
   "source": [
    "# Проект \"Обучение модели класификации комментариев для «Викишоп»\""
   ]
  },
  {
   "cell_type": "markdown",
   "metadata": {},
   "source": [
    "**Описание проекта**\n",
    "Интернет-магазин «Викишоп» запускает новый сервис. Теперь пользователи могут редактировать и дополнять описания товаров, как в вики-сообществах. То есть клиенты предлагают свои правки и комментируют изменения других. Магазину нужен инструмент, который будет искать токсичные комментарии и отправлять их на модерацию. \n",
    "\n",
    "В нашем распоряжении набор данных с разметкой о токсичности правок.\n",
    "\n",
    "**Цель проекта**\n",
    "Обучить модель классифицировать комментарии на позитивные и негативные.<br>\n",
    "Построить модель со значением метрики качества *F1* не меньше 0.75. \n",
    "\n",
    "**Задачи исследования**\n",
    "\n",
    "1. Загрузить и подготовить данные.\n",
    "2. Обучить разные модели. \n",
    "3. Сделать выводы.\n",
    "\n",
    "\n",
    "**Исходные данные**\n",
    "* Unnamed: 0: индекс комментария\n",
    "* text: столбец с комментариями\n",
    "* toxic: целевой признак, показатель токсичности"
   ]
  },
  {
   "cell_type": "markdown",
   "metadata": {
    "toc": true
   },
   "source": [
    "<h1>Содержание<span class=\"tocSkip\"></span></h1>\n",
    "<div class=\"toc\"><ul class=\"toc-item\"><li><ul class=\"toc-item\"><li><span><a href=\"#Подготовка\" data-toc-modified-id=\"Подготовка-1\"><span class=\"toc-item-num\">1&nbsp;&nbsp;</span>Подготовка</a></span><ul class=\"toc-item\"><li><span><a href=\"#Предварительный-просмотр-данных\" data-toc-modified-id=\"Предварительный-просмотр-данных-1.1\"><span class=\"toc-item-num\">1.1&nbsp;&nbsp;</span>Предварительный просмотр данных</a></span></li><li><span><a href=\"#Предобработка-данных\" data-toc-modified-id=\"Предобработка-данных-1.2\"><span class=\"toc-item-num\">1.2&nbsp;&nbsp;</span>Предобработка данных</a></span><ul class=\"toc-item\"><li><span><a href=\"#Балансирование-весов-классов\" data-toc-modified-id=\"Балансирование-весов-классов-1.2.1\"><span class=\"toc-item-num\">1.2.1&nbsp;&nbsp;</span>Балансирование весов классов</a></span></li><li><span><a href=\"#Ресемплинг-с-уменшением-класса-0\" data-toc-modified-id=\"Ресемплинг-с-уменшением-класса-0-1.2.2\"><span class=\"toc-item-num\">1.2.2&nbsp;&nbsp;</span>Ресемплинг с уменшением класса 0</a></span></li></ul></li><li><span><a href=\"#Вывод\" data-toc-modified-id=\"Вывод-1.3\"><span class=\"toc-item-num\">1.3&nbsp;&nbsp;</span>Вывод</a></span></li></ul></li><li><span><a href=\"#Обучение-моделей\" data-toc-modified-id=\"Обучение-моделей-2\"><span class=\"toc-item-num\">2&nbsp;&nbsp;</span>Обучение моделей</a></span><ul class=\"toc-item\"><li><span><a href=\"#Классификатор-LogisticRegression\" data-toc-modified-id=\"Классификатор-LogisticRegression-2.1\"><span class=\"toc-item-num\">2.1&nbsp;&nbsp;</span>Классификатор LogisticRegression</a></span></li><li><span><a href=\"#Классификатор-DecisionTreeClassifier\" data-toc-modified-id=\"Классификатор-DecisionTreeClassifier-2.2\"><span class=\"toc-item-num\">2.2&nbsp;&nbsp;</span>Классификатор DecisionTreeClassifier</a></span></li><li><span><a href=\"#Классификатор-CatBoostClassifier\" data-toc-modified-id=\"Классификатор-CatBoostClassifier-2.3\"><span class=\"toc-item-num\">2.3&nbsp;&nbsp;</span>Классификатор CatBoostClassifier</a></span></li><li><span><a href=\"#Сравнение-моделей\" data-toc-modified-id=\"Сравнение-моделей-2.4\"><span class=\"toc-item-num\">2.4&nbsp;&nbsp;</span>Сравнение моделей</a></span></li><li><span><a href=\"#Вывод\" data-toc-modified-id=\"Вывод-2.5\"><span class=\"toc-item-num\">2.5&nbsp;&nbsp;</span>Вывод</a></span></li></ul></li><li><span><a href=\"#Итоговый-вывод\" data-toc-modified-id=\"Итоговый-вывод-3\"><span class=\"toc-item-num\">3&nbsp;&nbsp;</span>Итоговый вывод</a></span><ul class=\"toc-item\"><li><span><a href=\"#Чек-лист-проверки\" data-toc-modified-id=\"Чек-лист-проверки-3.1\"><span class=\"toc-item-num\">3.1&nbsp;&nbsp;</span>Чек-лист проверки</a></span></li></ul></li></ul></div>"
   ]
  },
  {
   "cell_type": "markdown",
   "metadata": {},
   "source": [
    "## Подготовка"
   ]
  },
  {
   "cell_type": "code",
   "execution_count": 1,
   "metadata": {},
   "outputs": [],
   "source": [
    "!pip install -U transformers datasets accelerate evaluate torch torchvision torchaudio --quiet --use-deprecated=legacy-resolver"
   ]
  },
  {
   "cell_type": "code",
   "execution_count": 2,
   "metadata": {},
   "outputs": [
    {
     "name": "stdout",
     "output_type": "stream",
     "text": [
      "Requirement already satisfied: huggingface_hub[hf_xet] in c:\\users\\persc\\anaconda3\\lib\\site-packages (0.34.4)\n",
      "Requirement already satisfied: filelock in c:\\users\\persc\\anaconda3\\lib\\site-packages (from huggingface_hub[hf_xet]) (3.17.0)\n",
      "Requirement already satisfied: fsspec>=2023.5.0 in c:\\users\\persc\\anaconda3\\lib\\site-packages (from huggingface_hub[hf_xet]) (2025.3.0)\n",
      "Requirement already satisfied: packaging>=20.9 in c:\\users\\persc\\anaconda3\\lib\\site-packages (from huggingface_hub[hf_xet]) (24.2)\n",
      "Requirement already satisfied: pyyaml>=5.1 in c:\\users\\persc\\anaconda3\\lib\\site-packages (from huggingface_hub[hf_xet]) (6.0.2)\n",
      "Requirement already satisfied: requests in c:\\users\\persc\\anaconda3\\lib\\site-packages (from huggingface_hub[hf_xet]) (2.32.3)\n",
      "Requirement already satisfied: tqdm>=4.42.1 in c:\\users\\persc\\anaconda3\\lib\\site-packages (from huggingface_hub[hf_xet]) (4.67.1)\n",
      "Requirement already satisfied: typing-extensions>=3.7.4.3 in c:\\users\\persc\\anaconda3\\lib\\site-packages (from huggingface_hub[hf_xet]) (4.12.2)\n",
      "Requirement already satisfied: hf-xet<2.0.0,>=1.1.2 in c:\\users\\persc\\anaconda3\\lib\\site-packages (from huggingface_hub[hf_xet]) (1.1.8)\n",
      "Requirement already satisfied: colorama in c:\\users\\persc\\anaconda3\\lib\\site-packages (from tqdm>=4.42.1->huggingface_hub[hf_xet]) (0.4.6)\n",
      "Requirement already satisfied: charset-normalizer<4,>=2 in c:\\users\\persc\\anaconda3\\lib\\site-packages (from requests->huggingface_hub[hf_xet]) (3.3.2)\n",
      "Requirement already satisfied: idna<4,>=2.5 in c:\\users\\persc\\anaconda3\\lib\\site-packages (from requests->huggingface_hub[hf_xet]) (3.7)\n",
      "Requirement already satisfied: urllib3<3,>=1.21.1 in c:\\users\\persc\\anaconda3\\lib\\site-packages (from requests->huggingface_hub[hf_xet]) (2.3.0)\n",
      "Requirement already satisfied: certifi>=2017.4.17 in c:\\users\\persc\\anaconda3\\lib\\site-packages (from requests->huggingface_hub[hf_xet]) (2025.4.26)\n"
     ]
    }
   ],
   "source": [
    "!pip install huggingface_hub[hf_xet]"
   ]
  },
  {
   "cell_type": "code",
   "execution_count": 3,
   "metadata": {},
   "outputs": [
    {
     "name": "stdout",
     "output_type": "stream",
     "text": [
      "Requirement already satisfied: transformers in c:\\users\\persc\\anaconda3\\lib\\site-packages (4.56.0)\n",
      "Requirement already satisfied: filelock in c:\\users\\persc\\anaconda3\\lib\\site-packages (from transformers) (3.17.0)\n",
      "Requirement already satisfied: huggingface-hub<1.0,>=0.34.0 in c:\\users\\persc\\anaconda3\\lib\\site-packages (from transformers) (0.34.4)\n",
      "Requirement already satisfied: numpy>=1.17 in c:\\users\\persc\\anaconda3\\lib\\site-packages (from transformers) (2.1.3)\n",
      "Requirement already satisfied: packaging>=20.0 in c:\\users\\persc\\anaconda3\\lib\\site-packages (from transformers) (24.2)\n",
      "Requirement already satisfied: pyyaml>=5.1 in c:\\users\\persc\\anaconda3\\lib\\site-packages (from transformers) (6.0.2)\n",
      "Requirement already satisfied: regex!=2019.12.17 in c:\\users\\persc\\anaconda3\\lib\\site-packages (from transformers) (2024.11.6)\n",
      "Requirement already satisfied: requests in c:\\users\\persc\\anaconda3\\lib\\site-packages (from transformers) (2.32.3)\n",
      "Requirement already satisfied: tokenizers<=0.23.0,>=0.22.0 in c:\\users\\persc\\anaconda3\\lib\\site-packages (from transformers) (0.22.0)\n",
      "Requirement already satisfied: safetensors>=0.4.3 in c:\\users\\persc\\anaconda3\\lib\\site-packages (from transformers) (0.6.2)\n",
      "Requirement already satisfied: tqdm>=4.27 in c:\\users\\persc\\anaconda3\\lib\\site-packages (from transformers) (4.67.1)\n",
      "Requirement already satisfied: fsspec>=2023.5.0 in c:\\users\\persc\\anaconda3\\lib\\site-packages (from huggingface-hub<1.0,>=0.34.0->transformers) (2025.3.0)\n",
      "Requirement already satisfied: typing-extensions>=3.7.4.3 in c:\\users\\persc\\anaconda3\\lib\\site-packages (from huggingface-hub<1.0,>=0.34.0->transformers) (4.12.2)\n",
      "Requirement already satisfied: colorama in c:\\users\\persc\\anaconda3\\lib\\site-packages (from tqdm>=4.27->transformers) (0.4.6)\n",
      "Requirement already satisfied: charset-normalizer<4,>=2 in c:\\users\\persc\\anaconda3\\lib\\site-packages (from requests->transformers) (3.3.2)\n",
      "Requirement already satisfied: idna<4,>=2.5 in c:\\users\\persc\\anaconda3\\lib\\site-packages (from requests->transformers) (3.7)\n",
      "Requirement already satisfied: urllib3<3,>=1.21.1 in c:\\users\\persc\\anaconda3\\lib\\site-packages (from requests->transformers) (2.3.0)\n",
      "Requirement already satisfied: certifi>=2017.4.17 in c:\\users\\persc\\anaconda3\\lib\\site-packages (from requests->transformers) (2025.4.26)\n"
     ]
    }
   ],
   "source": [
    "!pip install --upgrade transformers"
   ]
  },
  {
   "cell_type": "code",
   "execution_count": 4,
   "metadata": {},
   "outputs": [
    {
     "name": "stderr",
     "output_type": "stream",
     "text": [
      "[nltk_data] Downloading package punkt_tab to\n",
      "[nltk_data]     C:\\Users\\persc\\AppData\\Roaming\\nltk_data...\n",
      "[nltk_data]   Package punkt_tab is already up-to-date!\n",
      "[nltk_data] Downloading package averaged_perceptron_tagger_eng to\n",
      "[nltk_data]     C:\\Users\\persc\\AppData\\Roaming\\nltk_data...\n",
      "[nltk_data]   Package averaged_perceptron_tagger_eng is already up-to-\n",
      "[nltk_data]       date!\n",
      "[nltk_data] Downloading package wordnet to\n",
      "[nltk_data]     C:\\Users\\persc\\AppData\\Roaming\\nltk_data...\n",
      "[nltk_data]   Package wordnet is already up-to-date!\n",
      "[nltk_data] Downloading package stopwords to\n",
      "[nltk_data]     C:\\Users\\persc\\AppData\\Roaming\\nltk_data...\n",
      "[nltk_data]   Package stopwords is already up-to-date!\n",
      "[nltk_data] Downloading package averaged_perceptron_tagger to\n",
      "[nltk_data]     C:\\Users\\persc\\AppData\\Roaming\\nltk_data...\n",
      "[nltk_data]   Package averaged_perceptron_tagger is already up-to-\n",
      "[nltk_data]       date!\n"
     ]
    }
   ],
   "source": [
    "# импорт библиотек\n",
    "import os\n",
    "import numpy as np\n",
    "import pandas as pd\n",
    "from datasets import Dataset, DatasetDict\n",
    "import re\n",
    "import torch\n",
    "import nltk\n",
    "from nltk.stem import WordNetLemmatizer\n",
    "from nltk.corpus import stopwords\n",
    "from nltk.corpus import wordnet\n",
    "from nltk.tokenize import word_tokenize\n",
    "from nltk import pos_tag\n",
    "nltk.download('punkt_tab')\n",
    "nltk.download('averaged_perceptron_tagger_eng')\n",
    "nltk.download('wordnet')\n",
    "nltk.download('stopwords')\n",
    "nltk.download('averaged_perceptron_tagger')\n",
    "\n",
    "import matplotlib.pyplot as plt\n",
    "from transformers import AutoTokenizer, AutoModelForSequenceClassification, DataCollatorWithPadding, TrainingArguments, Trainer\n",
    "from sklearn.feature_extraction.text import TfidfVectorizer\n",
    "from sklearn.model_selection import train_test_split, cross_val_score, GridSearchCV\n",
    "from sklearn.linear_model import LogisticRegression, SGDClassifier\n",
    "from sklearn.tree import DecisionTreeClassifier\n",
    "from sklearn.metrics import f1_score, precision_score, recall_score, accuracy_score, roc_auc_score, roc_curve, precision_recall_fscore_support\n",
    "from sklearn.metrics import roc_curve, confusion_matrix, classification_report\n",
    "from sklearn.utils import shuffle\n",
    "from catboost import CatBoostClassifier\n",
    "from tqdm.notebook import tqdm\n",
    "import warnings\n",
    "\n",
    "from sklearn.pipeline import Pipeline\n",
    "\n",
    "warnings.filterwarnings('ignore')"
   ]
  },
  {
   "cell_type": "code",
   "execution_count": 5,
   "metadata": {},
   "outputs": [],
   "source": [
    "# загрузка датасетов\n",
    "pth1 = 'C:/Users/persc/Yandex.Disk/DataScience/Projects/Машинное обучение для текстов/toxic_comments.csv'\n",
    "pth2 = '/datasets/toxic_comments.csv'\n",
    "pth2 = 'toxic_comments.csv'\n",
    "\n",
    "if os.path.exists(pth1):\n",
    "    toxic_comments = pd.read_csv(pth1)\n",
    "elif os.path.exists(pth2):\n",
    "    toxic_comments = pd.read_csv(pth2)\n",
    "elif os.path.exists(pth3):\n",
    "    toxic_comments = pd.read_csv(pth3)\n",
    "else:\n",
    "    print('Something is wrong')"
   ]
  },
  {
   "cell_type": "markdown",
   "metadata": {},
   "source": [
    "### Предварительный просмотр данных"
   ]
  },
  {
   "cell_type": "code",
   "execution_count": 6,
   "metadata": {
    "scrolled": true
   },
   "outputs": [
    {
     "name": "stdout",
     "output_type": "stream",
     "text": [
      "<class 'pandas.core.frame.DataFrame'>\n",
      "RangeIndex: 159292 entries, 0 to 159291\n",
      "Data columns (total 3 columns):\n",
      " #   Column      Non-Null Count   Dtype \n",
      "---  ------      --------------   ----- \n",
      " 0   Unnamed: 0  159292 non-null  int64 \n",
      " 1   text        159292 non-null  object\n",
      " 2   toxic       159292 non-null  int64 \n",
      "dtypes: int64(2), object(1)\n",
      "memory usage: 3.6+ MB\n"
     ]
    }
   ],
   "source": [
    "toxic_comments.info()"
   ]
  },
  {
   "cell_type": "markdown",
   "metadata": {},
   "source": [
    "В датасете 159292 строк, пропусков нет."
   ]
  },
  {
   "cell_type": "code",
   "execution_count": 7,
   "metadata": {},
   "outputs": [
    {
     "data": {
      "text/html": [
       "<div>\n",
       "<style scoped>\n",
       "    .dataframe tbody tr th:only-of-type {\n",
       "        vertical-align: middle;\n",
       "    }\n",
       "\n",
       "    .dataframe tbody tr th {\n",
       "        vertical-align: top;\n",
       "    }\n",
       "\n",
       "    .dataframe thead th {\n",
       "        text-align: right;\n",
       "    }\n",
       "</style>\n",
       "<table border=\"1\" class=\"dataframe\">\n",
       "  <thead>\n",
       "    <tr style=\"text-align: right;\">\n",
       "      <th></th>\n",
       "      <th>Unnamed: 0</th>\n",
       "      <th>text</th>\n",
       "      <th>toxic</th>\n",
       "    </tr>\n",
       "  </thead>\n",
       "  <tbody>\n",
       "    <tr>\n",
       "      <th>0</th>\n",
       "      <td>0</td>\n",
       "      <td>Explanation\\nWhy the edits made under my usern...</td>\n",
       "      <td>0</td>\n",
       "    </tr>\n",
       "    <tr>\n",
       "      <th>1</th>\n",
       "      <td>1</td>\n",
       "      <td>D'aww! He matches this background colour I'm s...</td>\n",
       "      <td>0</td>\n",
       "    </tr>\n",
       "    <tr>\n",
       "      <th>2</th>\n",
       "      <td>2</td>\n",
       "      <td>Hey man, I'm really not trying to edit war. It...</td>\n",
       "      <td>0</td>\n",
       "    </tr>\n",
       "    <tr>\n",
       "      <th>3</th>\n",
       "      <td>3</td>\n",
       "      <td>\"\\nMore\\nI can't make any real suggestions on ...</td>\n",
       "      <td>0</td>\n",
       "    </tr>\n",
       "    <tr>\n",
       "      <th>4</th>\n",
       "      <td>4</td>\n",
       "      <td>You, sir, are my hero. Any chance you remember...</td>\n",
       "      <td>0</td>\n",
       "    </tr>\n",
       "  </tbody>\n",
       "</table>\n",
       "</div>"
      ],
      "text/plain": [
       "   Unnamed: 0                                               text  toxic\n",
       "0           0  Explanation\\nWhy the edits made under my usern...      0\n",
       "1           1  D'aww! He matches this background colour I'm s...      0\n",
       "2           2  Hey man, I'm really not trying to edit war. It...      0\n",
       "3           3  \"\\nMore\\nI can't make any real suggestions on ...      0\n",
       "4           4  You, sir, are my hero. Any chance you remember...      0"
      ]
     },
     "execution_count": 7,
     "metadata": {},
     "output_type": "execute_result"
    }
   ],
   "source": [
    "toxic_comments.head()"
   ]
  },
  {
   "cell_type": "code",
   "execution_count": 8,
   "metadata": {
    "scrolled": true
   },
   "outputs": [
    {
     "data": {
      "text/html": [
       "<div>\n",
       "<style scoped>\n",
       "    .dataframe tbody tr th:only-of-type {\n",
       "        vertical-align: middle;\n",
       "    }\n",
       "\n",
       "    .dataframe tbody tr th {\n",
       "        vertical-align: top;\n",
       "    }\n",
       "\n",
       "    .dataframe thead th {\n",
       "        text-align: right;\n",
       "    }\n",
       "</style>\n",
       "<table border=\"1\" class=\"dataframe\">\n",
       "  <thead>\n",
       "    <tr style=\"text-align: right;\">\n",
       "      <th></th>\n",
       "      <th>Unnamed: 0</th>\n",
       "      <th>toxic</th>\n",
       "    </tr>\n",
       "  </thead>\n",
       "  <tbody>\n",
       "    <tr>\n",
       "      <th>count</th>\n",
       "      <td>159292.000000</td>\n",
       "      <td>159292.000000</td>\n",
       "    </tr>\n",
       "    <tr>\n",
       "      <th>mean</th>\n",
       "      <td>79725.697242</td>\n",
       "      <td>0.101612</td>\n",
       "    </tr>\n",
       "    <tr>\n",
       "      <th>std</th>\n",
       "      <td>46028.837471</td>\n",
       "      <td>0.302139</td>\n",
       "    </tr>\n",
       "    <tr>\n",
       "      <th>min</th>\n",
       "      <td>0.000000</td>\n",
       "      <td>0.000000</td>\n",
       "    </tr>\n",
       "    <tr>\n",
       "      <th>25%</th>\n",
       "      <td>39872.750000</td>\n",
       "      <td>0.000000</td>\n",
       "    </tr>\n",
       "    <tr>\n",
       "      <th>50%</th>\n",
       "      <td>79721.500000</td>\n",
       "      <td>0.000000</td>\n",
       "    </tr>\n",
       "    <tr>\n",
       "      <th>75%</th>\n",
       "      <td>119573.250000</td>\n",
       "      <td>0.000000</td>\n",
       "    </tr>\n",
       "    <tr>\n",
       "      <th>max</th>\n",
       "      <td>159450.000000</td>\n",
       "      <td>1.000000</td>\n",
       "    </tr>\n",
       "  </tbody>\n",
       "</table>\n",
       "</div>"
      ],
      "text/plain": [
       "          Unnamed: 0          toxic\n",
       "count  159292.000000  159292.000000\n",
       "mean    79725.697242       0.101612\n",
       "std     46028.837471       0.302139\n",
       "min         0.000000       0.000000\n",
       "25%     39872.750000       0.000000\n",
       "50%     79721.500000       0.000000\n",
       "75%    119573.250000       0.000000\n",
       "max    159450.000000       1.000000"
      ]
     },
     "execution_count": 8,
     "metadata": {},
     "output_type": "execute_result"
    }
   ],
   "source": [
    "toxic_comments.describe()"
   ]
  },
  {
   "cell_type": "markdown",
   "metadata": {},
   "source": [
    "В шкале Unnamed: 0 максимальное количество не соответсвует количству строк, что значит, что порядок нумерации нарушен. Впрочем, для модели эти значения не нужны."
   ]
  },
  {
   "cell_type": "code",
   "execution_count": 9,
   "metadata": {
    "scrolled": true
   },
   "outputs": [
    {
     "data": {
      "text/plain": [
       "toxic\n",
       "0    143106\n",
       "1     16186\n",
       "Name: count, dtype: int64"
      ]
     },
     "metadata": {},
     "output_type": "display_data"
    }
   ],
   "source": [
    "display(toxic_comments['toxic'].value_counts())"
   ]
  },
  {
   "cell_type": "code",
   "execution_count": 10,
   "metadata": {},
   "outputs": [
    {
     "data": {
      "text/plain": [
       "np.float64(8.841344371679229)"
      ]
     },
     "execution_count": 10,
     "metadata": {},
     "output_type": "execute_result"
    }
   ],
   "source": [
    "class_ratio = toxic_comments['toxic'].value_counts()[0] / toxic_comments['toxic'].value_counts()[1]\n",
    "class_ratio"
   ]
  },
  {
   "cell_type": "markdown",
   "metadata": {},
   "source": [
    "Классы несбалансированны - нетоксичных комментариев почти в 9 раз больше, чем токсичных. Необходимо будет применить способы балансировки."
   ]
  },
  {
   "cell_type": "markdown",
   "metadata": {},
   "source": [
    "### Предобработка данных"
   ]
  },
  {
   "cell_type": "markdown",
   "metadata": {},
   "source": [
    "Проведем лемматизацию текстов"
   ]
  },
  {
   "cell_type": "code",
   "execution_count": 11,
   "metadata": {},
   "outputs": [],
   "source": [
    "lemmatizer = WordNetLemmatizer()"
   ]
  },
  {
   "cell_type": "code",
   "execution_count": 12,
   "metadata": {},
   "outputs": [],
   "source": [
    "def get_wordnet_pos(tag):\n",
    "    if tag.startswith('J'):\n",
    "        return wordnet.ADJ\n",
    "    elif tag.startswith('V'):\n",
    "        return wordnet.VERB\n",
    "    elif tag.startswith('N'):\n",
    "        return wordnet.NOUN\n",
    "    elif tag.startswith('R'):\n",
    "        return wordnet.ADV\n",
    "    else:\n",
    "        return wordnet.NOUN"
   ]
  },
  {
   "cell_type": "code",
   "execution_count": 13,
   "metadata": {},
   "outputs": [],
   "source": [
    "def lemm_and_clear(text):\n",
    "    text = text.lower()\n",
    "    tokens = word_tokenize(text)\n",
    "    tagged_tokens = pos_tag(tokens)\n",
    "    lemmas = [lemmatizer.lemmatize(token, get_wordnet_pos(tag)) for token, tag in tagged_tokens]\n",
    "    lemmatized_text = ' '.join(lemmas)\n",
    "    cleaned_text = re.sub(r'[^a-zA-Z\\' ]', '', lemmatized_text)\n",
    "    cleaned_text = cleaned_text.replace('\\n', '')\n",
    "    \n",
    "    return cleaned_text"
   ]
  },
  {
   "cell_type": "code",
   "execution_count": 14,
   "metadata": {},
   "outputs": [
    {
     "data": {
      "application/vnd.jupyter.widget-view+json": {
       "model_id": "0dfee6501ea146ab8b423e003f6dc461",
       "version_major": 2,
       "version_minor": 0
      },
      "text/plain": [
       "  0%|          | 0/159292 [00:00<?, ?it/s]"
      ]
     },
     "metadata": {},
     "output_type": "display_data"
    }
   ],
   "source": [
    "tqdm.pandas()\n",
    "toxic_comments['lemm_text'] = toxic_comments['text'].progress_apply(lemm_and_clear)"
   ]
  },
  {
   "cell_type": "code",
   "execution_count": 15,
   "metadata": {},
   "outputs": [
    {
     "data": {
      "text/html": [
       "<div>\n",
       "<style scoped>\n",
       "    .dataframe tbody tr th:only-of-type {\n",
       "        vertical-align: middle;\n",
       "    }\n",
       "\n",
       "    .dataframe tbody tr th {\n",
       "        vertical-align: top;\n",
       "    }\n",
       "\n",
       "    .dataframe thead th {\n",
       "        text-align: right;\n",
       "    }\n",
       "</style>\n",
       "<table border=\"1\" class=\"dataframe\">\n",
       "  <thead>\n",
       "    <tr style=\"text-align: right;\">\n",
       "      <th></th>\n",
       "      <th>Unnamed: 0</th>\n",
       "      <th>text</th>\n",
       "      <th>toxic</th>\n",
       "      <th>lemm_text</th>\n",
       "    </tr>\n",
       "  </thead>\n",
       "  <tbody>\n",
       "    <tr>\n",
       "      <th>0</th>\n",
       "      <td>0</td>\n",
       "      <td>Explanation\\nWhy the edits made under my usern...</td>\n",
       "      <td>0</td>\n",
       "      <td>explanation why the edits make under my userna...</td>\n",
       "    </tr>\n",
       "    <tr>\n",
       "      <th>1</th>\n",
       "      <td>1</td>\n",
       "      <td>D'aww! He matches this background colour I'm s...</td>\n",
       "      <td>0</td>\n",
       "      <td>d'aww  he match this background colour i 'm se...</td>\n",
       "    </tr>\n",
       "    <tr>\n",
       "      <th>2</th>\n",
       "      <td>2</td>\n",
       "      <td>Hey man, I'm really not trying to edit war. It...</td>\n",
       "      <td>0</td>\n",
       "      <td>hey man  i 'm really not try to edit war  it '...</td>\n",
       "    </tr>\n",
       "    <tr>\n",
       "      <th>3</th>\n",
       "      <td>3</td>\n",
       "      <td>\"\\nMore\\nI can't make any real suggestions on ...</td>\n",
       "      <td>0</td>\n",
       "      <td>more i ca n't make any real suggestion on imp...</td>\n",
       "    </tr>\n",
       "    <tr>\n",
       "      <th>4</th>\n",
       "      <td>4</td>\n",
       "      <td>You, sir, are my hero. Any chance you remember...</td>\n",
       "      <td>0</td>\n",
       "      <td>you  sir  be my hero  any chance you remember ...</td>\n",
       "    </tr>\n",
       "  </tbody>\n",
       "</table>\n",
       "</div>"
      ],
      "text/plain": [
       "   Unnamed: 0                                               text  toxic  \\\n",
       "0           0  Explanation\\nWhy the edits made under my usern...      0   \n",
       "1           1  D'aww! He matches this background colour I'm s...      0   \n",
       "2           2  Hey man, I'm really not trying to edit war. It...      0   \n",
       "3           3  \"\\nMore\\nI can't make any real suggestions on ...      0   \n",
       "4           4  You, sir, are my hero. Any chance you remember...      0   \n",
       "\n",
       "                                           lemm_text  \n",
       "0  explanation why the edits make under my userna...  \n",
       "1  d'aww  he match this background colour i 'm se...  \n",
       "2  hey man  i 'm really not try to edit war  it '...  \n",
       "3   more i ca n't make any real suggestion on imp...  \n",
       "4  you  sir  be my hero  any chance you remember ...  "
      ]
     },
     "execution_count": 15,
     "metadata": {},
     "output_type": "execute_result"
    }
   ],
   "source": [
    "toxic_comments.head()"
   ]
  },
  {
   "cell_type": "code",
   "execution_count": 16,
   "metadata": {},
   "outputs": [],
   "source": [
    "toxic_comments = toxic_comments.drop(['text'], axis=1)\n",
    "toxic_comments = toxic_comments.drop(['Unnamed: 0'], axis=1)"
   ]
  },
  {
   "cell_type": "code",
   "execution_count": 17,
   "metadata": {},
   "outputs": [
    {
     "data": {
      "text/plain": [
       "np.int64(627)"
      ]
     },
     "execution_count": 17,
     "metadata": {},
     "output_type": "execute_result"
    }
   ],
   "source": [
    "toxic_comments.duplicated().sum()"
   ]
  },
  {
   "cell_type": "code",
   "execution_count": 18,
   "metadata": {},
   "outputs": [
    {
     "data": {
      "text/plain": [
       "np.int64(0)"
      ]
     },
     "execution_count": 18,
     "metadata": {},
     "output_type": "execute_result"
    }
   ],
   "source": [
    "toxic_comments = toxic_comments.drop_duplicates()\n",
    "toxic_comments.duplicated().sum()"
   ]
  },
  {
   "cell_type": "markdown",
   "metadata": {},
   "source": [
    "Разобьем выборку по отношению 50/20/20."
   ]
  },
  {
   "cell_type": "code",
   "execution_count": 19,
   "metadata": {},
   "outputs": [],
   "source": [
    "target = toxic_comments['toxic']\n",
    "features = toxic_comments[['lemm_text']]\n",
    "\n",
    "features_train, features_valid, target_train, target_valid = train_test_split(features, \n",
    "                                                                              target, \n",
    "                                                                              test_size=0.5, \n",
    "                                                                              random_state=42)\n",
    "features_valid, features_test, target_valid, target_test = train_test_split(features_valid, \n",
    "                                                                            target_valid, \n",
    "                                                                            test_size=0.5,\n",
    "                                                                            random_state=42)"
   ]
  },
  {
   "cell_type": "markdown",
   "metadata": {},
   "source": [
    "Вызовем функцию stopwords.words(), чтобы очистить тексты от стоп-слов. Нашим языком будет английский. Используем TfidfVectorizer, чтобы преобразовать тект в числовые векторы."
   ]
  },
  {
   "cell_type": "code",
   "execution_count": 20,
   "metadata": {},
   "outputs": [],
   "source": [
    "stop_words = stopwords.words('english')"
   ]
  },
  {
   "cell_type": "markdown",
   "metadata": {},
   "source": [
    "Попробуем построить модель LogisticRegression."
   ]
  },
  {
   "cell_type": "code",
   "execution_count": 21,
   "metadata": {},
   "outputs": [],
   "source": [
    "# Создаем пайплайн\n",
    "pipe = Pipeline([\n",
    "    ('tfidf', TfidfVectorizer(stop_words=stop_words)),\n",
    "    ('clf', LogisticRegression(max_iter=1000))\n",
    "])"
   ]
  },
  {
   "cell_type": "code",
   "execution_count": 22,
   "metadata": {},
   "outputs": [
    {
     "name": "stdout",
     "output_type": "stream",
     "text": [
      "F1 на CV: 0.6952711718299828\n"
     ]
    }
   ],
   "source": [
    "# Кросс-валидация с пайплайном\n",
    "train_f1 = cross_val_score(\n",
    "    pipe, \n",
    "    features_train['lemm_text'],     \n",
    "    target_train, \n",
    "    cv=3, \n",
    "    scoring='f1'\n",
    ").mean()\n",
    "\n",
    "print('F1 на CV:', train_f1)"
   ]
  },
  {
   "cell_type": "markdown",
   "metadata": {},
   "source": [
    "На тренировочной выборке модель показывает значение F1 = 0,69, что меньше требуемого значения. Требуется балансировка данных."
   ]
  },
  {
   "cell_type": "markdown",
   "metadata": {},
   "source": [
    "#### Балансирование весов классов"
   ]
  },
  {
   "cell_type": "code",
   "execution_count": 23,
   "metadata": {},
   "outputs": [],
   "source": [
    "dict_classes = {\n",
    "    0: 1,\n",
    "    1: toxic_comments['toxic'].value_counts()[0] / toxic_comments['toxic'].value_counts()[1]\n",
    "}"
   ]
  },
  {
   "cell_type": "code",
   "execution_count": 24,
   "metadata": {},
   "outputs": [],
   "source": [
    "# Пайплайн: векторизация + логрег с балансом классов\n",
    "pipe_balanced = Pipeline([\n",
    "    ('tfidf', TfidfVectorizer(stop_words=stop_words)),\n",
    "    ('clf', LogisticRegression(class_weight=dict_classes, max_iter=1000))\n",
    "])"
   ]
  },
  {
   "cell_type": "code",
   "execution_count": 25,
   "metadata": {},
   "outputs": [
    {
     "name": "stdout",
     "output_type": "stream",
     "text": [
      "F1 на CV с балансированными классами: 0.7390094264454922\n"
     ]
    }
   ],
   "source": [
    "train_f1_balanced = cross_val_score(\n",
    "    pipe_balanced,\n",
    "    features_train['lemm_text'],\n",
    "    target_train,\n",
    "    cv=3,\n",
    "    scoring='f1'\n",
    ").mean()\n",
    "\n",
    "print('F1 на CV с балансированными классами:', train_f1_balanced)"
   ]
  },
  {
   "cell_type": "code",
   "execution_count": 26,
   "metadata": {},
   "outputs": [],
   "source": [
    "# Пайплайн: векторизация + логрег с балансом классов 2 версия\n",
    "pipe_balanced_auto = Pipeline([\n",
    "    ('tfidf', TfidfVectorizer(stop_words=stop_words)),\n",
    "    ('clf', LogisticRegression(class_weight='balanced', max_iter=1000))\n",
    "])"
   ]
  },
  {
   "cell_type": "code",
   "execution_count": 27,
   "metadata": {},
   "outputs": [
    {
     "name": "stdout",
     "output_type": "stream",
     "text": [
      "F1 на CV с балансировкой весов классов: 0.7390094264454922\n"
     ]
    }
   ],
   "source": [
    "train_f1_balanced_auto = cross_val_score(\n",
    "    pipe_balanced_auto,\n",
    "    features_train['lemm_text'],\n",
    "    target_train,\n",
    "    cv=3,\n",
    "    scoring='f1'\n",
    ").mean()\n",
    "\n",
    "print('F1 на CV с балансировкой весов классов:', train_f1_balanced)"
   ]
  },
  {
   "cell_type": "markdown",
   "metadata": {},
   "source": [
    "На балансированных классах модель показывает значение F1 уже ближе к требуемому - 0,73-0,74"
   ]
  },
  {
   "cell_type": "code",
   "execution_count": 28,
   "metadata": {
    "scrolled": true
   },
   "outputs": [
    {
     "name": "stdout",
     "output_type": "stream",
     "text": [
      "F1 (без балансировки): 0.7110410094637224\n",
      "ROC-AUC (без балансировки): 0.9655129221954609\n",
      "F1 (ручная балансировка): 0.738801760126368\n",
      "ROC-AUC (ручная балансировка): 0.9659169924963875\n",
      "F1 (балансировка весов): 0.73150623885918\n",
      "ROC-AUC (балансировка весов): 0.9658909184109311\n"
     ]
    },
    {
     "data": {
      "image/png": "[encoded data removed]",
      "text/plain": [
       "<Figure size 1200x900 with 1 Axes>"
      ]
     },
     "metadata": {},
     "output_type": "display_data"
    }
   ],
   "source": [
    "plt.figure(figsize=[12, 9])\n",
    "plt.plot([0, 1], [0, 1], linestyle='--', label='Random Model')\n",
    "\n",
    "# Без балансировки\n",
    "pipe.fit(features_train['lemm_text'], target_train)\n",
    "probs = pipe.predict_proba(features_valid['lemm_text'])[:, 1]\n",
    "fpr, tpr, _ = roc_curve(target_valid, probs)\n",
    "valid_f1 = f1_score(target_valid, pipe.predict(features_valid['lemm_text']))\n",
    "auc_roc = roc_auc_score(target_valid, probs)\n",
    "plt.plot(fpr, tpr, label='LR (без балансировки)')\n",
    "print(\"F1 (без балансировки):\", valid_f1)\n",
    "print(\"ROC-AUC (без балансировки):\", auc_roc)\n",
    "\n",
    "# Балансированные классы\n",
    "pipe_balanced.fit(features_train['lemm_text'], target_train)\n",
    "probs = pipe_balanced.predict_proba(features_valid['lemm_text'])[:, 1]\n",
    "fpr, tpr, _ = roc_curve(target_valid, probs)\n",
    "valid_f1_balanced = f1_score(target_valid, pipe_balanced.predict(features_valid['lemm_text']))\n",
    "auc_roc_balanced = roc_auc_score(target_valid, probs)\n",
    "plt.plot(fpr, tpr, label='LR (ручная балансировка)')\n",
    "print(\"F1 (ручная балансировка):\", valid_f1_balanced)\n",
    "print(\"ROC-AUC (ручная балансировка):\", auc_roc_balanced)\n",
    "\n",
    "# Балансировка весов классов\n",
    "pipe_balanced_auto.fit(features_train['lemm_text'], target_train)\n",
    "probs = pipe_balanced_auto.predict_proba(features_valid['lemm_text'])[:, 1]\n",
    "fpr, tpr, _ = roc_curve(target_valid, probs)\n",
    "valid_f1_balanced_auto = f1_score(target_valid, pipe_balanced_auto.predict(features_valid['lemm_text']))\n",
    "auc_roc_balanced_auto = roc_auc_score(target_valid, probs)\n",
    "plt.plot(fpr, tpr, label='LR (балансировка весов)')\n",
    "print(\"F1 (балансировка весов):\", valid_f1_balanced_auto)\n",
    "print(\"ROC-AUC (балансировка весов):\", auc_roc_balanced_auto)\n",
    "\n",
    "plt.xlim([0, 1])\n",
    "plt.ylim([0, 1])\n",
    "plt.xlabel(\"False Positive Rate\")\n",
    "plt.ylabel(\"True Positive Rate\")\n",
    "plt.legend(loc='lower right', fontsize='x-large')\n",
    "plt.title(\"ROC-кривая\")\n",
    "plt.show()"
   ]
  },
  {
   "cell_type": "code",
   "execution_count": 29,
   "metadata": {},
   "outputs": [
    {
     "data": {
      "text/html": [
       "<div>\n",
       "<style scoped>\n",
       "    .dataframe tbody tr th:only-of-type {\n",
       "        vertical-align: middle;\n",
       "    }\n",
       "\n",
       "    .dataframe tbody tr th {\n",
       "        vertical-align: top;\n",
       "    }\n",
       "\n",
       "    .dataframe thead th {\n",
       "        text-align: right;\n",
       "    }\n",
       "</style>\n",
       "<table border=\"1\" class=\"dataframe\">\n",
       "  <thead>\n",
       "    <tr style=\"text-align: right;\">\n",
       "      <th></th>\n",
       "      <th>F1 на CV</th>\n",
       "      <th>F1 на валидации</th>\n",
       "      <th>AUC-ROC</th>\n",
       "    </tr>\n",
       "  </thead>\n",
       "  <tbody>\n",
       "    <tr>\n",
       "      <th>LR</th>\n",
       "      <td>0.695271</td>\n",
       "      <td>0.711041</td>\n",
       "      <td>0.965513</td>\n",
       "    </tr>\n",
       "    <tr>\n",
       "      <th>LR с ручной балансировкой весов</th>\n",
       "      <td>0.739009</td>\n",
       "      <td>0.738802</td>\n",
       "      <td>0.965917</td>\n",
       "    </tr>\n",
       "    <tr>\n",
       "      <th>LR с автоматической балансировкой весов</th>\n",
       "      <td>0.733622</td>\n",
       "      <td>0.731506</td>\n",
       "      <td>0.965891</td>\n",
       "    </tr>\n",
       "  </tbody>\n",
       "</table>\n",
       "</div>"
      ],
      "text/plain": [
       "                                         F1 на CV  F1 на валидации   AUC-ROC\n",
       "LR                                       0.695271         0.711041  0.965513\n",
       "LR с ручной балансировкой весов          0.739009         0.738802  0.965917\n",
       "LR с автоматической балансировкой весов  0.733622         0.731506  0.965891"
      ]
     },
     "execution_count": 29,
     "metadata": {},
     "output_type": "execute_result"
    }
   ],
   "source": [
    "# Построим таблицу результатов балансировки\n",
    "index = ['LR',\n",
    "         'LR с ручной балансировкой весов',\n",
    "         'LR с автоматической балансировкой весов'\n",
    "        ]\n",
    "data = {'F1 на CV':[train_f1,\n",
    "                    train_f1_balanced,\n",
    "                    train_f1_balanced_auto\n",
    "                   ],\n",
    "        'F1 на валидации':[valid_f1,\n",
    "                           valid_f1_balanced,\n",
    "                           valid_f1_balanced_auto\n",
    "                          ],\n",
    "        'AUC-ROC':[auc_roc,\n",
    "                   auc_roc_balanced,\n",
    "                   auc_roc_balanced_auto\n",
    "                  ]}\n",
    "\n",
    "scores_data = pd.DataFrame(data=data, index=index)\n",
    "scores_data"
   ]
  },
  {
   "cell_type": "markdown",
   "metadata": {},
   "source": [
    "### Вывод\n",
    "В ходе предобработки мы леммитизировали тексты и разбили данные на выборки, исключив стоп-слова. По результатам теста для предобработки даных выберем LogisticRegression с ручной балансировкой весов, т.к. он показал наилучший результат по метрике F1 при валидации - 0,74."
   ]
  },
  {
   "cell_type": "markdown",
   "metadata": {},
   "source": [
    "## Обучение моделей"
   ]
  },
  {
   "cell_type": "markdown",
   "metadata": {},
   "source": [
    "### Классификатор LogisticRegression"
   ]
  },
  {
   "cell_type": "code",
   "execution_count": 30,
   "metadata": {},
   "outputs": [
    {
     "name": "stdout",
     "output_type": "stream",
     "text": [
      "\n",
      "\n",
      "# Tuning hyper-parameters for f1_score\n",
      "\n",
      "\n",
      "\n",
      "Best parameters set found on development set:\n",
      "\n",
      "{'clf__C': 8, 'clf__class_weight': None, 'clf__penalty': 'l1', 'clf__random_state': 42, 'clf__solver': 'liblinear', 'tfidf__min_df': 1, 'tfidf__ngram_range': (1, 2)} \n",
      "\n",
      "\n",
      "\n",
      "Grid scores on development set:\n",
      "\n",
      "0.757007 (+/-0.010641) for {'clf__C': 8, 'clf__class_weight': None, 'clf__penalty': 'l2', 'clf__random_state': 42, 'clf__solver': 'newton-cg', 'tfidf__min_df': 1, 'tfidf__ngram_range': (1, 1)}\n",
      "0.744218 (+/-0.005925) for {'clf__C': 8, 'clf__class_weight': None, 'clf__penalty': 'l2', 'clf__random_state': 42, 'clf__solver': 'newton-cg', 'tfidf__min_df': 1, 'tfidf__ngram_range': (1, 2)}\n",
      "0.759732 (+/-0.009721) for {'clf__C': 8, 'clf__class_weight': None, 'clf__penalty': 'l2', 'clf__random_state': 42, 'clf__solver': 'newton-cg', 'tfidf__min_df': 3, 'tfidf__ngram_range': (1, 1)}\n",
      "0.749793 (+/-0.007794) for {'clf__C': 8, 'clf__class_weight': None, 'clf__penalty': 'l2', 'clf__random_state': 42, 'clf__solver': 'newton-cg', 'tfidf__min_df': 3, 'tfidf__ngram_range': (1, 2)}\n",
      "0.760981 (+/-0.008476) for {'clf__C': 8, 'clf__class_weight': None, 'clf__penalty': 'l2', 'clf__random_state': 42, 'clf__solver': 'newton-cg', 'tfidf__min_df': 5, 'tfidf__ngram_range': (1, 1)}\n",
      "0.752971 (+/-0.008783) for {'clf__C': 8, 'clf__class_weight': None, 'clf__penalty': 'l2', 'clf__random_state': 42, 'clf__solver': 'newton-cg', 'tfidf__min_df': 5, 'tfidf__ngram_range': (1, 2)}\n",
      "0.752099 (+/-0.003941) for {'clf__C': 8, 'clf__class_weight': 'balanced', 'clf__penalty': 'l2', 'clf__random_state': 42, 'clf__solver': 'newton-cg', 'tfidf__min_df': 1, 'tfidf__ngram_range': (1, 1)}\n",
      "0.763300 (+/-0.002421) for {'clf__C': 8, 'clf__class_weight': 'balanced', 'clf__penalty': 'l2', 'clf__random_state': 42, 'clf__solver': 'newton-cg', 'tfidf__min_df': 1, 'tfidf__ngram_range': (1, 2)}\n",
      "0.739436 (+/-0.003981) for {'clf__C': 8, 'clf__class_weight': 'balanced', 'clf__penalty': 'l2', 'clf__random_state': 42, 'clf__solver': 'newton-cg', 'tfidf__min_df': 3, 'tfidf__ngram_range': (1, 1)}\n",
      "0.756337 (+/-0.004070) for {'clf__C': 8, 'clf__class_weight': 'balanced', 'clf__penalty': 'l2', 'clf__random_state': 42, 'clf__solver': 'newton-cg', 'tfidf__min_df': 3, 'tfidf__ngram_range': (1, 2)}\n",
      "0.729788 (+/-0.003823) for {'clf__C': 8, 'clf__class_weight': 'balanced', 'clf__penalty': 'l2', 'clf__random_state': 42, 'clf__solver': 'newton-cg', 'tfidf__min_df': 5, 'tfidf__ngram_range': (1, 1)}\n",
      "0.749019 (+/-0.004855) for {'clf__C': 8, 'clf__class_weight': 'balanced', 'clf__penalty': 'l2', 'clf__random_state': 42, 'clf__solver': 'newton-cg', 'tfidf__min_df': 5, 'tfidf__ngram_range': (1, 2)}\n",
      "0.752768 (+/-0.004589) for {'clf__C': 8, 'clf__class_weight': {0: 1, 1: np.float64(8.839079746992434)}, 'clf__penalty': 'l2', 'clf__random_state': 42, 'clf__solver': 'newton-cg', 'tfidf__min_df': 1, 'tfidf__ngram_range': (1, 1)}\n",
      "0.768310 (+/-0.002303) for {'clf__C': 8, 'clf__class_weight': {0: 1, 1: np.float64(8.839079746992434)}, 'clf__penalty': 'l2', 'clf__random_state': 42, 'clf__solver': 'newton-cg', 'tfidf__min_df': 1, 'tfidf__ngram_range': (1, 2)}\n",
      "0.735019 (+/-0.004381) for {'clf__C': 8, 'clf__class_weight': {0: 1, 1: np.float64(8.839079746992434)}, 'clf__penalty': 'l2', 'clf__random_state': 42, 'clf__solver': 'newton-cg', 'tfidf__min_df': 3, 'tfidf__ngram_range': (1, 1)}\n",
      "0.758336 (+/-0.002357) for {'clf__C': 8, 'clf__class_weight': {0: 1, 1: np.float64(8.839079746992434)}, 'clf__penalty': 'l2', 'clf__random_state': 42, 'clf__solver': 'newton-cg', 'tfidf__min_df': 3, 'tfidf__ngram_range': (1, 2)}\n",
      "0.724791 (+/-0.004958) for {'clf__C': 8, 'clf__class_weight': {0: 1, 1: np.float64(8.839079746992434)}, 'clf__penalty': 'l2', 'clf__random_state': 42, 'clf__solver': 'newton-cg', 'tfidf__min_df': 5, 'tfidf__ngram_range': (1, 1)}\n",
      "0.748230 (+/-0.004692) for {'clf__C': 8, 'clf__class_weight': {0: 1, 1: np.float64(8.839079746992434)}, 'clf__penalty': 'l2', 'clf__random_state': 42, 'clf__solver': 'newton-cg', 'tfidf__min_df': 5, 'tfidf__ngram_range': (1, 2)}\n",
      "0.759144 (+/-0.008897) for {'clf__C': 10, 'clf__class_weight': None, 'clf__penalty': 'l2', 'clf__random_state': 42, 'clf__solver': 'newton-cg', 'tfidf__min_df': 1, 'tfidf__ngram_range': (1, 1)}\n",
      "0.748052 (+/-0.006133) for {'clf__C': 10, 'clf__class_weight': None, 'clf__penalty': 'l2', 'clf__random_state': 42, 'clf__solver': 'newton-cg', 'tfidf__min_df': 1, 'tfidf__ngram_range': (1, 2)}\n",
      "0.760575 (+/-0.009014) for {'clf__C': 10, 'clf__class_weight': None, 'clf__penalty': 'l2', 'clf__random_state': 42, 'clf__solver': 'newton-cg', 'tfidf__min_df': 3, 'tfidf__ngram_range': (1, 1)}\n",
      "0.752375 (+/-0.007355) for {'clf__C': 10, 'clf__class_weight': None, 'clf__penalty': 'l2', 'clf__random_state': 42, 'clf__solver': 'newton-cg', 'tfidf__min_df': 3, 'tfidf__ngram_range': (1, 2)}\n",
      "0.762375 (+/-0.009706) for {'clf__C': 10, 'clf__class_weight': None, 'clf__penalty': 'l2', 'clf__random_state': 42, 'clf__solver': 'newton-cg', 'tfidf__min_df': 5, 'tfidf__ngram_range': (1, 1)}\n",
      "0.755029 (+/-0.007690) for {'clf__C': 10, 'clf__class_weight': None, 'clf__penalty': 'l2', 'clf__random_state': 42, 'clf__solver': 'newton-cg', 'tfidf__min_df': 5, 'tfidf__ngram_range': (1, 2)}\n",
      "0.753054 (+/-0.004689) for {'clf__C': 10, 'clf__class_weight': 'balanced', 'clf__penalty': 'l2', 'clf__random_state': 42, 'clf__solver': 'newton-cg', 'tfidf__min_df': 1, 'tfidf__ngram_range': (1, 1)}\n",
      "0.764985 (+/-0.002308) for {'clf__C': 10, 'clf__class_weight': 'balanced', 'clf__penalty': 'l2', 'clf__random_state': 42, 'clf__solver': 'newton-cg', 'tfidf__min_df': 1, 'tfidf__ngram_range': (1, 2)}\n",
      "0.738990 (+/-0.004683) for {'clf__C': 10, 'clf__class_weight': 'balanced', 'clf__penalty': 'l2', 'clf__random_state': 42, 'clf__solver': 'newton-cg', 'tfidf__min_df': 3, 'tfidf__ngram_range': (1, 1)}\n",
      "0.757802 (+/-0.003841) for {'clf__C': 10, 'clf__class_weight': 'balanced', 'clf__penalty': 'l2', 'clf__random_state': 42, 'clf__solver': 'newton-cg', 'tfidf__min_df': 3, 'tfidf__ngram_range': (1, 2)}\n",
      "0.729040 (+/-0.003854) for {'clf__C': 10, 'clf__class_weight': 'balanced', 'clf__penalty': 'l2', 'clf__random_state': 42, 'clf__solver': 'newton-cg', 'tfidf__min_df': 5, 'tfidf__ngram_range': (1, 1)}\n",
      "0.749810 (+/-0.003785) for {'clf__C': 10, 'clf__class_weight': 'balanced', 'clf__penalty': 'l2', 'clf__random_state': 42, 'clf__solver': 'newton-cg', 'tfidf__min_df': 5, 'tfidf__ngram_range': (1, 2)}\n",
      "0.752649 (+/-0.004746) for {'clf__C': 10, 'clf__class_weight': {0: 1, 1: np.float64(8.839079746992434)}, 'clf__penalty': 'l2', 'clf__random_state': 42, 'clf__solver': 'newton-cg', 'tfidf__min_df': 1, 'tfidf__ngram_range': (1, 1)}\n",
      "0.769216 (+/-0.002438) for {'clf__C': 10, 'clf__class_weight': {0: 1, 1: np.float64(8.839079746992434)}, 'clf__penalty': 'l2', 'clf__random_state': 42, 'clf__solver': 'newton-cg', 'tfidf__min_df': 1, 'tfidf__ngram_range': (1, 2)}\n",
      "0.733802 (+/-0.004785) for {'clf__C': 10, 'clf__class_weight': {0: 1, 1: np.float64(8.839079746992434)}, 'clf__penalty': 'l2', 'clf__random_state': 42, 'clf__solver': 'newton-cg', 'tfidf__min_df': 3, 'tfidf__ngram_range': (1, 1)}\n",
      "0.757230 (+/-0.002832) for {'clf__C': 10, 'clf__class_weight': {0: 1, 1: np.float64(8.839079746992434)}, 'clf__penalty': 'l2', 'clf__random_state': 42, 'clf__solver': 'newton-cg', 'tfidf__min_df': 3, 'tfidf__ngram_range': (1, 2)}\n",
      "0.722357 (+/-0.005617) for {'clf__C': 10, 'clf__class_weight': {0: 1, 1: np.float64(8.839079746992434)}, 'clf__penalty': 'l2', 'clf__random_state': 42, 'clf__solver': 'newton-cg', 'tfidf__min_df': 5, 'tfidf__ngram_range': (1, 1)}\n",
      "0.746838 (+/-0.004440) for {'clf__C': 10, 'clf__class_weight': {0: 1, 1: np.float64(8.839079746992434)}, 'clf__penalty': 'l2', 'clf__random_state': 42, 'clf__solver': 'newton-cg', 'tfidf__min_df': 5, 'tfidf__ngram_range': (1, 2)}\n",
      "0.758890 (+/-0.011463) for {'clf__C': 8, 'clf__class_weight': None, 'clf__penalty': 'l2', 'clf__random_state': 42, 'clf__solver': 'lbfgs', 'tfidf__min_df': 1, 'tfidf__ngram_range': (1, 1)}\n",
      "0.747322 (+/-0.006198) for {'clf__C': 8, 'clf__class_weight': None, 'clf__penalty': 'l2', 'clf__random_state': 42, 'clf__solver': 'lbfgs', 'tfidf__min_df': 1, 'tfidf__ngram_range': (1, 2)}\n",
      "0.760958 (+/-0.010647) for {'clf__C': 8, 'clf__class_weight': None, 'clf__penalty': 'l2', 'clf__random_state': 42, 'clf__solver': 'lbfgs', 'tfidf__min_df': 3, 'tfidf__ngram_range': (1, 1)}\n",
      "0.748520 (+/-0.009717) for {'clf__C': 8, 'clf__class_weight': None, 'clf__penalty': 'l2', 'clf__random_state': 42, 'clf__solver': 'lbfgs', 'tfidf__min_df': 3, 'tfidf__ngram_range': (1, 2)}\n",
      "0.761120 (+/-0.008647) for {'clf__C': 8, 'clf__class_weight': None, 'clf__penalty': 'l2', 'clf__random_state': 42, 'clf__solver': 'lbfgs', 'tfidf__min_df': 5, 'tfidf__ngram_range': (1, 1)}\n",
      "0.755595 (+/-0.009626) for {'clf__C': 8, 'clf__class_weight': None, 'clf__penalty': 'l2', 'clf__random_state': 42, 'clf__solver': 'lbfgs', 'tfidf__min_df': 5, 'tfidf__ngram_range': (1, 2)}\n",
      "0.751120 (+/-0.007504) for {'clf__C': 8, 'clf__class_weight': 'balanced', 'clf__penalty': 'l2', 'clf__random_state': 42, 'clf__solver': 'lbfgs', 'tfidf__min_df': 1, 'tfidf__ngram_range': (1, 1)}\n",
      "0.763383 (+/-0.004984) for {'clf__C': 8, 'clf__class_weight': 'balanced', 'clf__penalty': 'l2', 'clf__random_state': 42, 'clf__solver': 'lbfgs', 'tfidf__min_df': 1, 'tfidf__ngram_range': (1, 2)}\n",
      "0.739433 (+/-0.003967) for {'clf__C': 8, 'clf__class_weight': 'balanced', 'clf__penalty': 'l2', 'clf__random_state': 42, 'clf__solver': 'lbfgs', 'tfidf__min_df': 3, 'tfidf__ngram_range': (1, 1)}\n",
      "0.758077 (+/-0.004081) for {'clf__C': 8, 'clf__class_weight': 'balanced', 'clf__penalty': 'l2', 'clf__random_state': 42, 'clf__solver': 'lbfgs', 'tfidf__min_df': 3, 'tfidf__ngram_range': (1, 2)}\n",
      "0.731245 (+/-0.004790) for {'clf__C': 8, 'clf__class_weight': 'balanced', 'clf__penalty': 'l2', 'clf__random_state': 42, 'clf__solver': 'lbfgs', 'tfidf__min_df': 5, 'tfidf__ngram_range': (1, 1)}\n",
      "0.748520 (+/-0.005245) for {'clf__C': 8, 'clf__class_weight': 'balanced', 'clf__penalty': 'l2', 'clf__random_state': 42, 'clf__solver': 'lbfgs', 'tfidf__min_df': 5, 'tfidf__ngram_range': (1, 2)}\n",
      "0.752563 (+/-0.006490) for {'clf__C': 8, 'clf__class_weight': {0: 1, 1: np.float64(8.839079746992434)}, 'clf__penalty': 'l2', 'clf__random_state': 42, 'clf__solver': 'lbfgs', 'tfidf__min_df': 1, 'tfidf__ngram_range': (1, 1)}\n",
      "0.764748 (+/-0.001464) for {'clf__C': 8, 'clf__class_weight': {0: 1, 1: np.float64(8.839079746992434)}, 'clf__penalty': 'l2', 'clf__random_state': 42, 'clf__solver': 'lbfgs', 'tfidf__min_df': 1, 'tfidf__ngram_range': (1, 2)}\n",
      "0.737277 (+/-0.005937) for {'clf__C': 8, 'clf__class_weight': {0: 1, 1: np.float64(8.839079746992434)}, 'clf__penalty': 'l2', 'clf__random_state': 42, 'clf__solver': 'lbfgs', 'tfidf__min_df': 3, 'tfidf__ngram_range': (1, 1)}\n",
      "0.758848 (+/-0.005118) for {'clf__C': 8, 'clf__class_weight': {0: 1, 1: np.float64(8.839079746992434)}, 'clf__penalty': 'l2', 'clf__random_state': 42, 'clf__solver': 'lbfgs', 'tfidf__min_df': 3, 'tfidf__ngram_range': (1, 2)}\n",
      "0.729849 (+/-0.006487) for {'clf__C': 8, 'clf__class_weight': {0: 1, 1: np.float64(8.839079746992434)}, 'clf__penalty': 'l2', 'clf__random_state': 42, 'clf__solver': 'lbfgs', 'tfidf__min_df': 5, 'tfidf__ngram_range': (1, 1)}\n",
      "0.748125 (+/-0.006563) for {'clf__C': 8, 'clf__class_weight': {0: 1, 1: np.float64(8.839079746992434)}, 'clf__penalty': 'l2', 'clf__random_state': 42, 'clf__solver': 'lbfgs', 'tfidf__min_df': 5, 'tfidf__ngram_range': (1, 2)}\n",
      "0.756830 (+/-0.010665) for {'clf__C': 10, 'clf__class_weight': None, 'clf__penalty': 'l2', 'clf__random_state': 42, 'clf__solver': 'lbfgs', 'tfidf__min_df': 1, 'tfidf__ngram_range': (1, 1)}\n",
      "0.751129 (+/-0.006330) for {'clf__C': 10, 'clf__class_weight': None, 'clf__penalty': 'l2', 'clf__random_state': 42, 'clf__solver': 'lbfgs', 'tfidf__min_df': 1, 'tfidf__ngram_range': (1, 2)}\n",
      "0.761015 (+/-0.007043) for {'clf__C': 10, 'clf__class_weight': None, 'clf__penalty': 'l2', 'clf__random_state': 42, 'clf__solver': 'lbfgs', 'tfidf__min_df': 3, 'tfidf__ngram_range': (1, 1)}\n",
      "0.754662 (+/-0.007936) for {'clf__C': 10, 'clf__class_weight': None, 'clf__penalty': 'l2', 'clf__random_state': 42, 'clf__solver': 'lbfgs', 'tfidf__min_df': 3, 'tfidf__ngram_range': (1, 2)}\n",
      "0.765940 (+/-0.009773) for {'clf__C': 10, 'clf__class_weight': None, 'clf__penalty': 'l2', 'clf__random_state': 42, 'clf__solver': 'lbfgs', 'tfidf__min_df': 5, 'tfidf__ngram_range': (1, 1)}\n",
      "0.757799 (+/-0.010151) for {'clf__C': 10, 'clf__class_weight': None, 'clf__penalty': 'l2', 'clf__random_state': 42, 'clf__solver': 'lbfgs', 'tfidf__min_df': 5, 'tfidf__ngram_range': (1, 2)}\n",
      "0.753106 (+/-0.005952) for {'clf__C': 10, 'clf__class_weight': 'balanced', 'clf__penalty': 'l2', 'clf__random_state': 42, 'clf__solver': 'lbfgs', 'tfidf__min_df': 1, 'tfidf__ngram_range': (1, 1)}\n",
      "0.762987 (+/-0.003509) for {'clf__C': 10, 'clf__class_weight': 'balanced', 'clf__penalty': 'l2', 'clf__random_state': 42, 'clf__solver': 'lbfgs', 'tfidf__min_df': 1, 'tfidf__ngram_range': (1, 2)}\n",
      "0.739916 (+/-0.003315) for {'clf__C': 10, 'clf__class_weight': 'balanced', 'clf__penalty': 'l2', 'clf__random_state': 42, 'clf__solver': 'lbfgs', 'tfidf__min_df': 3, 'tfidf__ngram_range': (1, 1)}\n",
      "0.757831 (+/-0.003386) for {'clf__C': 10, 'clf__class_weight': 'balanced', 'clf__penalty': 'l2', 'clf__random_state': 42, 'clf__solver': 'lbfgs', 'tfidf__min_df': 3, 'tfidf__ngram_range': (1, 2)}\n",
      "0.730469 (+/-0.005157) for {'clf__C': 10, 'clf__class_weight': 'balanced', 'clf__penalty': 'l2', 'clf__random_state': 42, 'clf__solver': 'lbfgs', 'tfidf__min_df': 5, 'tfidf__ngram_range': (1, 1)}\n",
      "0.750091 (+/-0.005812) for {'clf__C': 10, 'clf__class_weight': 'balanced', 'clf__penalty': 'l2', 'clf__random_state': 42, 'clf__solver': 'lbfgs', 'tfidf__min_df': 5, 'tfidf__ngram_range': (1, 2)}\n",
      "0.751760 (+/-0.008275) for {'clf__C': 10, 'clf__class_weight': {0: 1, 1: np.float64(8.839079746992434)}, 'clf__penalty': 'l2', 'clf__random_state': 42, 'clf__solver': 'lbfgs', 'tfidf__min_df': 1, 'tfidf__ngram_range': (1, 1)}\n",
      "0.766052 (+/-0.003382) for {'clf__C': 10, 'clf__class_weight': {0: 1, 1: np.float64(8.839079746992434)}, 'clf__penalty': 'l2', 'clf__random_state': 42, 'clf__solver': 'lbfgs', 'tfidf__min_df': 1, 'tfidf__ngram_range': (1, 2)}\n",
      "0.738111 (+/-0.004537) for {'clf__C': 10, 'clf__class_weight': {0: 1, 1: np.float64(8.839079746992434)}, 'clf__penalty': 'l2', 'clf__random_state': 42, 'clf__solver': 'lbfgs', 'tfidf__min_df': 3, 'tfidf__ngram_range': (1, 1)}\n",
      "0.759107 (+/-0.003441) for {'clf__C': 10, 'clf__class_weight': {0: 1, 1: np.float64(8.839079746992434)}, 'clf__penalty': 'l2', 'clf__random_state': 42, 'clf__solver': 'lbfgs', 'tfidf__min_df': 3, 'tfidf__ngram_range': (1, 2)}\n",
      "0.728497 (+/-0.006437) for {'clf__C': 10, 'clf__class_weight': {0: 1, 1: np.float64(8.839079746992434)}, 'clf__penalty': 'l2', 'clf__random_state': 42, 'clf__solver': 'lbfgs', 'tfidf__min_df': 5, 'tfidf__ngram_range': (1, 1)}\n",
      "0.751003 (+/-0.006615) for {'clf__C': 10, 'clf__class_weight': {0: 1, 1: np.float64(8.839079746992434)}, 'clf__penalty': 'l2', 'clf__random_state': 42, 'clf__solver': 'lbfgs', 'tfidf__min_df': 5, 'tfidf__ngram_range': (1, 2)}\n",
      "0.762935 (+/-0.009211) for {'clf__C': 8, 'clf__class_weight': None, 'clf__penalty': 'l1', 'clf__random_state': 42, 'clf__solver': 'liblinear', 'tfidf__min_df': 1, 'tfidf__ngram_range': (1, 1)}\n",
      "0.770455 (+/-0.004519) for {'clf__C': 8, 'clf__class_weight': None, 'clf__penalty': 'l1', 'clf__random_state': 42, 'clf__solver': 'liblinear', 'tfidf__min_df': 1, 'tfidf__ngram_range': (1, 2)}\n",
      "0.761240 (+/-0.005965) for {'clf__C': 8, 'clf__class_weight': None, 'clf__penalty': 'l1', 'clf__random_state': 42, 'clf__solver': 'liblinear', 'tfidf__min_df': 3, 'tfidf__ngram_range': (1, 1)}\n",
      "0.764729 (+/-0.006514) for {'clf__C': 8, 'clf__class_weight': None, 'clf__penalty': 'l1', 'clf__random_state': 42, 'clf__solver': 'liblinear', 'tfidf__min_df': 3, 'tfidf__ngram_range': (1, 2)}\n",
      "0.759704 (+/-0.007183) for {'clf__C': 8, 'clf__class_weight': None, 'clf__penalty': 'l1', 'clf__random_state': 42, 'clf__solver': 'liblinear', 'tfidf__min_df': 5, 'tfidf__ngram_range': (1, 1)}\n",
      "0.761561 (+/-0.006464) for {'clf__C': 8, 'clf__class_weight': None, 'clf__penalty': 'l1', 'clf__random_state': 42, 'clf__solver': 'liblinear', 'tfidf__min_df': 5, 'tfidf__ngram_range': (1, 2)}\n",
      "0.757118 (+/-0.010615) for {'clf__C': 8, 'clf__class_weight': None, 'clf__penalty': 'l2', 'clf__random_state': 42, 'clf__solver': 'liblinear', 'tfidf__min_df': 1, 'tfidf__ngram_range': (1, 1)}\n",
      "0.744809 (+/-0.006228) for {'clf__C': 8, 'clf__class_weight': None, 'clf__penalty': 'l2', 'clf__random_state': 42, 'clf__solver': 'liblinear', 'tfidf__min_df': 1, 'tfidf__ngram_range': (1, 2)}\n",
      "0.759870 (+/-0.009900) for {'clf__C': 8, 'clf__class_weight': None, 'clf__penalty': 'l2', 'clf__random_state': 42, 'clf__solver': 'liblinear', 'tfidf__min_df': 3, 'tfidf__ngram_range': (1, 1)}\n",
      "0.749737 (+/-0.007975) for {'clf__C': 8, 'clf__class_weight': None, 'clf__penalty': 'l2', 'clf__random_state': 42, 'clf__solver': 'liblinear', 'tfidf__min_df': 3, 'tfidf__ngram_range': (1, 2)}\n",
      "0.761171 (+/-0.008499) for {'clf__C': 8, 'clf__class_weight': None, 'clf__penalty': 'l2', 'clf__random_state': 42, 'clf__solver': 'liblinear', 'tfidf__min_df': 5, 'tfidf__ngram_range': (1, 1)}\n",
      "0.752991 (+/-0.008701) for {'clf__C': 8, 'clf__class_weight': None, 'clf__penalty': 'l2', 'clf__random_state': 42, 'clf__solver': 'liblinear', 'tfidf__min_df': 5, 'tfidf__ngram_range': (1, 2)}\n",
      "0.748099 (+/-0.009028) for {'clf__C': 8, 'clf__class_weight': 'balanced', 'clf__penalty': 'l1', 'clf__random_state': 42, 'clf__solver': 'liblinear', 'tfidf__min_df': 1, 'tfidf__ngram_range': (1, 1)}\n",
      "0.751602 (+/-0.006015) for {'clf__C': 8, 'clf__class_weight': 'balanced', 'clf__penalty': 'l1', 'clf__random_state': 42, 'clf__solver': 'liblinear', 'tfidf__min_df': 1, 'tfidf__ngram_range': (1, 2)}\n",
      "0.727849 (+/-0.006453) for {'clf__C': 8, 'clf__class_weight': 'balanced', 'clf__penalty': 'l1', 'clf__random_state': 42, 'clf__solver': 'liblinear', 'tfidf__min_df': 3, 'tfidf__ngram_range': (1, 1)}\n",
      "0.752617 (+/-0.005544) for {'clf__C': 8, 'clf__class_weight': 'balanced', 'clf__penalty': 'l1', 'clf__random_state': 42, 'clf__solver': 'liblinear', 'tfidf__min_df': 3, 'tfidf__ngram_range': (1, 2)}\n",
      "0.717759 (+/-0.007080) for {'clf__C': 8, 'clf__class_weight': 'balanced', 'clf__penalty': 'l1', 'clf__random_state': 42, 'clf__solver': 'liblinear', 'tfidf__min_df': 5, 'tfidf__ngram_range': (1, 1)}\n",
      "0.741203 (+/-0.007436) for {'clf__C': 8, 'clf__class_weight': 'balanced', 'clf__penalty': 'l1', 'clf__random_state': 42, 'clf__solver': 'liblinear', 'tfidf__min_df': 5, 'tfidf__ngram_range': (1, 2)}\n",
      "0.752390 (+/-0.003780) for {'clf__C': 8, 'clf__class_weight': 'balanced', 'clf__penalty': 'l2', 'clf__random_state': 42, 'clf__solver': 'liblinear', 'tfidf__min_df': 1, 'tfidf__ngram_range': (1, 1)}\n",
      "0.764264 (+/-0.002058) for {'clf__C': 8, 'clf__class_weight': 'balanced', 'clf__penalty': 'l2', 'clf__random_state': 42, 'clf__solver': 'liblinear', 'tfidf__min_df': 1, 'tfidf__ngram_range': (1, 2)}\n",
      "0.739287 (+/-0.004123) for {'clf__C': 8, 'clf__class_weight': 'balanced', 'clf__penalty': 'l2', 'clf__random_state': 42, 'clf__solver': 'liblinear', 'tfidf__min_df': 3, 'tfidf__ngram_range': (1, 1)}\n",
      "0.756847 (+/-0.004071) for {'clf__C': 8, 'clf__class_weight': 'balanced', 'clf__penalty': 'l2', 'clf__random_state': 42, 'clf__solver': 'liblinear', 'tfidf__min_df': 3, 'tfidf__ngram_range': (1, 2)}\n",
      "0.730198 (+/-0.003927) for {'clf__C': 8, 'clf__class_weight': 'balanced', 'clf__penalty': 'l2', 'clf__random_state': 42, 'clf__solver': 'liblinear', 'tfidf__min_df': 5, 'tfidf__ngram_range': (1, 1)}\n",
      "0.749234 (+/-0.005175) for {'clf__C': 8, 'clf__class_weight': 'balanced', 'clf__penalty': 'l2', 'clf__random_state': 42, 'clf__solver': 'liblinear', 'tfidf__min_df': 5, 'tfidf__ngram_range': (1, 2)}\n",
      "0.741495 (+/-0.008657) for {'clf__C': 8, 'clf__class_weight': {0: 1, 1: np.float64(8.839079746992434)}, 'clf__penalty': 'l1', 'clf__random_state': 42, 'clf__solver': 'liblinear', 'tfidf__min_df': 1, 'tfidf__ngram_range': (1, 1)}\n",
      "0.751368 (+/-0.003844) for {'clf__C': 8, 'clf__class_weight': {0: 1, 1: np.float64(8.839079746992434)}, 'clf__penalty': 'l1', 'clf__random_state': 42, 'clf__solver': 'liblinear', 'tfidf__min_df': 1, 'tfidf__ngram_range': (1, 2)}\n",
      "0.718267 (+/-0.005588) for {'clf__C': 8, 'clf__class_weight': {0: 1, 1: np.float64(8.839079746992434)}, 'clf__penalty': 'l1', 'clf__random_state': 42, 'clf__solver': 'liblinear', 'tfidf__min_df': 3, 'tfidf__ngram_range': (1, 1)}\n",
      "0.749269 (+/-0.006646) for {'clf__C': 8, 'clf__class_weight': {0: 1, 1: np.float64(8.839079746992434)}, 'clf__penalty': 'l1', 'clf__random_state': 42, 'clf__solver': 'liblinear', 'tfidf__min_df': 3, 'tfidf__ngram_range': (1, 2)}\n",
      "0.703380 (+/-0.007524) for {'clf__C': 8, 'clf__class_weight': {0: 1, 1: np.float64(8.839079746992434)}, 'clf__penalty': 'l1', 'clf__random_state': 42, 'clf__solver': 'liblinear', 'tfidf__min_df': 5, 'tfidf__ngram_range': (1, 1)}\n",
      "0.735408 (+/-0.006284) for {'clf__C': 8, 'clf__class_weight': {0: 1, 1: np.float64(8.839079746992434)}, 'clf__penalty': 'l1', 'clf__random_state': 42, 'clf__solver': 'liblinear', 'tfidf__min_df': 5, 'tfidf__ngram_range': (1, 2)}\n",
      "0.753148 (+/-0.004892) for {'clf__C': 8, 'clf__class_weight': {0: 1, 1: np.float64(8.839079746992434)}, 'clf__penalty': 'l2', 'clf__random_state': 42, 'clf__solver': 'liblinear', 'tfidf__min_df': 1, 'tfidf__ngram_range': (1, 1)}\n",
      "0.769053 (+/-0.002845) for {'clf__C': 8, 'clf__class_weight': {0: 1, 1: np.float64(8.839079746992434)}, 'clf__penalty': 'l2', 'clf__random_state': 42, 'clf__solver': 'liblinear', 'tfidf__min_df': 1, 'tfidf__ngram_range': (1, 2)}\n",
      "0.736629 (+/-0.004413) for {'clf__C': 8, 'clf__class_weight': {0: 1, 1: np.float64(8.839079746992434)}, 'clf__penalty': 'l2', 'clf__random_state': 42, 'clf__solver': 'liblinear', 'tfidf__min_df': 3, 'tfidf__ngram_range': (1, 1)}\n",
      "0.758539 (+/-0.002833) for {'clf__C': 8, 'clf__class_weight': {0: 1, 1: np.float64(8.839079746992434)}, 'clf__penalty': 'l2', 'clf__random_state': 42, 'clf__solver': 'liblinear', 'tfidf__min_df': 3, 'tfidf__ngram_range': (1, 2)}\n",
      "0.725474 (+/-0.004953) for {'clf__C': 8, 'clf__class_weight': {0: 1, 1: np.float64(8.839079746992434)}, 'clf__penalty': 'l2', 'clf__random_state': 42, 'clf__solver': 'liblinear', 'tfidf__min_df': 5, 'tfidf__ngram_range': (1, 1)}\n",
      "0.748702 (+/-0.004555) for {'clf__C': 8, 'clf__class_weight': {0: 1, 1: np.float64(8.839079746992434)}, 'clf__penalty': 'l2', 'clf__random_state': 42, 'clf__solver': 'liblinear', 'tfidf__min_df': 5, 'tfidf__ngram_range': (1, 2)}\n",
      "0.759857 (+/-0.009103) for {'clf__C': 10, 'clf__class_weight': None, 'clf__penalty': 'l1', 'clf__random_state': 42, 'clf__solver': 'liblinear', 'tfidf__min_df': 1, 'tfidf__ngram_range': (1, 1)}\n",
      "0.768232 (+/-0.004301) for {'clf__C': 10, 'clf__class_weight': None, 'clf__penalty': 'l1', 'clf__random_state': 42, 'clf__solver': 'liblinear', 'tfidf__min_df': 1, 'tfidf__ngram_range': (1, 2)}\n",
      "0.756616 (+/-0.005417) for {'clf__C': 10, 'clf__class_weight': None, 'clf__penalty': 'l1', 'clf__random_state': 42, 'clf__solver': 'liblinear', 'tfidf__min_df': 3, 'tfidf__ngram_range': (1, 1)}\n",
      "0.763374 (+/-0.005455) for {'clf__C': 10, 'clf__class_weight': None, 'clf__penalty': 'l1', 'clf__random_state': 42, 'clf__solver': 'liblinear', 'tfidf__min_df': 3, 'tfidf__ngram_range': (1, 2)}\n",
      "0.754903 (+/-0.007243) for {'clf__C': 10, 'clf__class_weight': None, 'clf__penalty': 'l1', 'clf__random_state': 42, 'clf__solver': 'liblinear', 'tfidf__min_df': 5, 'tfidf__ngram_range': (1, 1)}\n",
      "0.757094 (+/-0.005512) for {'clf__C': 10, 'clf__class_weight': None, 'clf__penalty': 'l1', 'clf__random_state': 42, 'clf__solver': 'liblinear', 'tfidf__min_df': 5, 'tfidf__ngram_range': (1, 2)}\n",
      "0.759056 (+/-0.008877) for {'clf__C': 10, 'clf__class_weight': None, 'clf__penalty': 'l2', 'clf__random_state': 42, 'clf__solver': 'liblinear', 'tfidf__min_df': 1, 'tfidf__ngram_range': (1, 1)}\n",
      "0.747712 (+/-0.006295) for {'clf__C': 10, 'clf__class_weight': None, 'clf__penalty': 'l2', 'clf__random_state': 42, 'clf__solver': 'liblinear', 'tfidf__min_df': 1, 'tfidf__ngram_range': (1, 2)}\n",
      "0.760261 (+/-0.009255) for {'clf__C': 10, 'clf__class_weight': None, 'clf__penalty': 'l2', 'clf__random_state': 42, 'clf__solver': 'liblinear', 'tfidf__min_df': 3, 'tfidf__ngram_range': (1, 1)}\n",
      "0.752062 (+/-0.006914) for {'clf__C': 10, 'clf__class_weight': None, 'clf__penalty': 'l2', 'clf__random_state': 42, 'clf__solver': 'liblinear', 'tfidf__min_df': 3, 'tfidf__ngram_range': (1, 2)}\n",
      "0.762705 (+/-0.009436) for {'clf__C': 10, 'clf__class_weight': None, 'clf__penalty': 'l2', 'clf__random_state': 42, 'clf__solver': 'liblinear', 'tfidf__min_df': 5, 'tfidf__ngram_range': (1, 1)}\n",
      "0.754938 (+/-0.007846) for {'clf__C': 10, 'clf__class_weight': None, 'clf__penalty': 'l2', 'clf__random_state': 42, 'clf__solver': 'liblinear', 'tfidf__min_df': 5, 'tfidf__ngram_range': (1, 2)}\n",
      "0.746486 (+/-0.007777) for {'clf__C': 10, 'clf__class_weight': 'balanced', 'clf__penalty': 'l1', 'clf__random_state': 42, 'clf__solver': 'liblinear', 'tfidf__min_df': 1, 'tfidf__ngram_range': (1, 1)}\n",
      "0.752196 (+/-0.004386) for {'clf__C': 10, 'clf__class_weight': 'balanced', 'clf__penalty': 'l1', 'clf__random_state': 42, 'clf__solver': 'liblinear', 'tfidf__min_df': 1, 'tfidf__ngram_range': (1, 2)}\n",
      "0.724694 (+/-0.006665) for {'clf__C': 10, 'clf__class_weight': 'balanced', 'clf__penalty': 'l1', 'clf__random_state': 42, 'clf__solver': 'liblinear', 'tfidf__min_df': 3, 'tfidf__ngram_range': (1, 1)}\n",
      "0.751159 (+/-0.004735) for {'clf__C': 10, 'clf__class_weight': 'balanced', 'clf__penalty': 'l1', 'clf__random_state': 42, 'clf__solver': 'liblinear', 'tfidf__min_df': 3, 'tfidf__ngram_range': (1, 2)}\n",
      "0.713359 (+/-0.007526) for {'clf__C': 10, 'clf__class_weight': 'balanced', 'clf__penalty': 'l1', 'clf__random_state': 42, 'clf__solver': 'liblinear', 'tfidf__min_df': 5, 'tfidf__ngram_range': (1, 1)}\n",
      "0.739311 (+/-0.006269) for {'clf__C': 10, 'clf__class_weight': 'balanced', 'clf__penalty': 'l1', 'clf__random_state': 42, 'clf__solver': 'liblinear', 'tfidf__min_df': 5, 'tfidf__ngram_range': (1, 2)}\n",
      "0.753140 (+/-0.004794) for {'clf__C': 10, 'clf__class_weight': 'balanced', 'clf__penalty': 'l2', 'clf__random_state': 42, 'clf__solver': 'liblinear', 'tfidf__min_df': 1, 'tfidf__ngram_range': (1, 1)}\n",
      "0.766281 (+/-0.002111) for {'clf__C': 10, 'clf__class_weight': 'balanced', 'clf__penalty': 'l2', 'clf__random_state': 42, 'clf__solver': 'liblinear', 'tfidf__min_df': 1, 'tfidf__ngram_range': (1, 2)}\n",
      "0.739250 (+/-0.004350) for {'clf__C': 10, 'clf__class_weight': 'balanced', 'clf__penalty': 'l2', 'clf__random_state': 42, 'clf__solver': 'liblinear', 'tfidf__min_df': 3, 'tfidf__ngram_range': (1, 1)}\n",
      "0.757966 (+/-0.004314) for {'clf__C': 10, 'clf__class_weight': 'balanced', 'clf__penalty': 'l2', 'clf__random_state': 42, 'clf__solver': 'liblinear', 'tfidf__min_df': 3, 'tfidf__ngram_range': (1, 2)}\n",
      "0.729529 (+/-0.004101) for {'clf__C': 10, 'clf__class_weight': 'balanced', 'clf__penalty': 'l2', 'clf__random_state': 42, 'clf__solver': 'liblinear', 'tfidf__min_df': 5, 'tfidf__ngram_range': (1, 1)}\n",
      "0.749761 (+/-0.004325) for {'clf__C': 10, 'clf__class_weight': 'balanced', 'clf__penalty': 'l2', 'clf__random_state': 42, 'clf__solver': 'liblinear', 'tfidf__min_df': 5, 'tfidf__ngram_range': (1, 2)}\n",
      "0.740148 (+/-0.008642) for {'clf__C': 10, 'clf__class_weight': {0: 1, 1: np.float64(8.839079746992434)}, 'clf__penalty': 'l1', 'clf__random_state': 42, 'clf__solver': 'liblinear', 'tfidf__min_df': 1, 'tfidf__ngram_range': (1, 1)}\n",
      "0.753108 (+/-0.004279) for {'clf__C': 10, 'clf__class_weight': {0: 1, 1: np.float64(8.839079746992434)}, 'clf__penalty': 'l1', 'clf__random_state': 42, 'clf__solver': 'liblinear', 'tfidf__min_df': 1, 'tfidf__ngram_range': (1, 2)}\n",
      "0.714465 (+/-0.005119) for {'clf__C': 10, 'clf__class_weight': {0: 1, 1: np.float64(8.839079746992434)}, 'clf__penalty': 'l1', 'clf__random_state': 42, 'clf__solver': 'liblinear', 'tfidf__min_df': 3, 'tfidf__ngram_range': (1, 1)}\n",
      "0.747763 (+/-0.006858) for {'clf__C': 10, 'clf__class_weight': {0: 1, 1: np.float64(8.839079746992434)}, 'clf__penalty': 'l1', 'clf__random_state': 42, 'clf__solver': 'liblinear', 'tfidf__min_df': 3, 'tfidf__ngram_range': (1, 2)}\n",
      "0.696530 (+/-0.007661) for {'clf__C': 10, 'clf__class_weight': {0: 1, 1: np.float64(8.839079746992434)}, 'clf__penalty': 'l1', 'clf__random_state': 42, 'clf__solver': 'liblinear', 'tfidf__min_df': 5, 'tfidf__ngram_range': (1, 1)}\n",
      "0.730666 (+/-0.006623) for {'clf__C': 10, 'clf__class_weight': {0: 1, 1: np.float64(8.839079746992434)}, 'clf__penalty': 'l1', 'clf__random_state': 42, 'clf__solver': 'liblinear', 'tfidf__min_df': 5, 'tfidf__ngram_range': (1, 2)}\n",
      "0.752782 (+/-0.004706) for {'clf__C': 10, 'clf__class_weight': {0: 1, 1: np.float64(8.839079746992434)}, 'clf__penalty': 'l2', 'clf__random_state': 42, 'clf__solver': 'liblinear', 'tfidf__min_df': 1, 'tfidf__ngram_range': (1, 1)}\n",
      "0.769433 (+/-0.002540) for {'clf__C': 10, 'clf__class_weight': {0: 1, 1: np.float64(8.839079746992434)}, 'clf__penalty': 'l2', 'clf__random_state': 42, 'clf__solver': 'liblinear', 'tfidf__min_df': 1, 'tfidf__ngram_range': (1, 2)}\n",
      "0.735597 (+/-0.004384) for {'clf__C': 10, 'clf__class_weight': {0: 1, 1: np.float64(8.839079746992434)}, 'clf__penalty': 'l2', 'clf__random_state': 42, 'clf__solver': 'liblinear', 'tfidf__min_df': 3, 'tfidf__ngram_range': (1, 1)}\n",
      "0.757774 (+/-0.002988) for {'clf__C': 10, 'clf__class_weight': {0: 1, 1: np.float64(8.839079746992434)}, 'clf__penalty': 'l2', 'clf__random_state': 42, 'clf__solver': 'liblinear', 'tfidf__min_df': 3, 'tfidf__ngram_range': (1, 2)}\n",
      "0.723634 (+/-0.005122) for {'clf__C': 10, 'clf__class_weight': {0: 1, 1: np.float64(8.839079746992434)}, 'clf__penalty': 'l2', 'clf__random_state': 42, 'clf__solver': 'liblinear', 'tfidf__min_df': 5, 'tfidf__ngram_range': (1, 1)}\n",
      "0.747056 (+/-0.004910) for {'clf__C': 10, 'clf__class_weight': {0: 1, 1: np.float64(8.839079746992434)}, 'clf__penalty': 'l2', 'clf__random_state': 42, 'clf__solver': 'liblinear', 'tfidf__min_df': 5, 'tfidf__ngram_range': (1, 2)}\n",
      "\n"
     ]
    }
   ],
   "source": [
    "# Сетка гиперпараметров\n",
    "param_grid = [\n",
    "    # newton-cg\n",
    "    {\n",
    "        'tfidf__ngram_range': [(1, 1), (1, 2)],\n",
    "        'tfidf__min_df': [1, 3, 5],\n",
    "        'clf__solver': ['newton-cg'],\n",
    "        'clf__penalty': ['l2'],\n",
    "        'clf__C': [8, 10],\n",
    "        'clf__class_weight': [None, 'balanced', dict_classes],\n",
    "        'clf__random_state': [42]\n",
    "    },\n",
    "    # lbfgs\n",
    "    {\n",
    "        'tfidf__ngram_range': [(1, 1), (1, 2)],\n",
    "        'tfidf__min_df': [1, 3, 5],\n",
    "        'clf__solver': ['lbfgs'],\n",
    "        'clf__penalty': ['l2'],\n",
    "        'clf__C': [8, 10],\n",
    "        'clf__class_weight': [None, 'balanced', dict_classes],\n",
    "        'clf__random_state': [42]\n",
    "    },\n",
    "    # liblinear\n",
    "    {\n",
    "        'tfidf__ngram_range': [(1, 1), (1, 2)],\n",
    "        'tfidf__min_df': [1, 3, 5],\n",
    "        'clf__solver': ['liblinear'],\n",
    "        'clf__penalty': ['l1', 'l2'],\n",
    "        'clf__C': [8, 10],\n",
    "        'clf__class_weight': [None, 'balanced', dict_classes],\n",
    "        'clf__random_state': [42]\n",
    "    }\n",
    "]\n",
    "\n",
    "print(\"\\n\")\n",
    "print('# Tuning hyper-parameters for f1_score\\n')\n",
    "\n",
    "clf1 = GridSearchCV(pipe, param_grid, scoring='f1', cv=3, n_jobs=-1, error_score='raise')\n",
    "clf1.fit(features_train['lemm_text'], target_train)\n",
    "\n",
    "\n",
    "# Лучшие параметры\n",
    "print(\"\\n\")\n",
    "print(\"Best parameters set found on development set:\\n\")\n",
    "LR_best_params = clf1.best_params_\n",
    "print(LR_best_params, \"\\n\")\n",
    "\n",
    "# Результаты всех комбинаций\n",
    "print(\"\\n\")\n",
    "print(\"Grid scores on development set:\\n\")\n",
    "means = clf1.cv_results_['mean_test_score']\n",
    "stds = clf1.cv_results_['std_test_score']\n",
    "for mean, std, params in zip(means, stds, clf1.cv_results_['params']):\n",
    "    print(f\"{mean:.6f} (+/-{std:.6f}) for {params}\")\n",
    "print()\n",
    "\n",
    "cv_f1_LR = np.nanmax(means)"
   ]
  },
  {
   "cell_type": "code",
   "execution_count": 31,
   "metadata": {},
   "outputs": [
    {
     "name": "stdout",
     "output_type": "stream",
     "text": [
      "F1 на CV: 0.7704553564464462\n",
      "F1 на валидации: 0.768066788416384\n"
     ]
    }
   ],
   "source": [
    "best_model = clf1.best_estimator_\n",
    "target_predict = best_model.predict(features_valid['lemm_text'])\n",
    "valid_f1_LR = f1_score(target_valid, target_predict)\n",
    "\n",
    "print('F1 на CV:', clf1.best_score_)\n",
    "print('F1 на валидации:', valid_f1_LR)"
   ]
  },
  {
   "cell_type": "markdown",
   "metadata": {},
   "source": [
    "### Классификатор DecisionTreeClassifier"
   ]
  },
  {
   "cell_type": "code",
   "execution_count": 32,
   "metadata": {},
   "outputs": [],
   "source": [
    "pipe_tree = Pipeline([\n",
    "    ('tfidf', TfidfVectorizer(stop_words=list(stop_words))),\n",
    "    ('clf', DecisionTreeClassifier())\n",
    "])"
   ]
  },
  {
   "cell_type": "code",
   "execution_count": 33,
   "metadata": {},
   "outputs": [
    {
     "name": "stdout",
     "output_type": "stream",
     "text": [
      "# Tuning hyper-parameters for f1_score\n",
      "Best parameters set found on development set:\n",
      "{'clf__class_weight': {0: 1, 1: np.float64(8.839079746992434)}, 'clf__max_depth': 96, 'clf__random_state': 42}\n",
      "Grid scores on development set:\n",
      "\n",
      "0.606736 for {'clf__class_weight': {0: 1, 1: np.float64(8.839079746992434)}, 'clf__max_depth': 50, 'clf__random_state': 42}\n",
      "0.611673 for {'clf__class_weight': {0: 1, 1: np.float64(8.839079746992434)}, 'clf__max_depth': 52, 'clf__random_state': 42}\n",
      "0.598727 for {'clf__class_weight': {0: 1, 1: np.float64(8.839079746992434)}, 'clf__max_depth': 54, 'clf__random_state': 42}\n",
      "0.599838 for {'clf__class_weight': {0: 1, 1: np.float64(8.839079746992434)}, 'clf__max_depth': 56, 'clf__random_state': 42}\n",
      "0.607405 for {'clf__class_weight': {0: 1, 1: np.float64(8.839079746992434)}, 'clf__max_depth': 58, 'clf__random_state': 42}\n",
      "0.609121 for {'clf__class_weight': {0: 1, 1: np.float64(8.839079746992434)}, 'clf__max_depth': 60, 'clf__random_state': 42}\n",
      "0.616220 for {'clf__class_weight': {0: 1, 1: np.float64(8.839079746992434)}, 'clf__max_depth': 62, 'clf__random_state': 42}\n",
      "0.615717 for {'clf__class_weight': {0: 1, 1: np.float64(8.839079746992434)}, 'clf__max_depth': 64, 'clf__random_state': 42}\n",
      "0.618427 for {'clf__class_weight': {0: 1, 1: np.float64(8.839079746992434)}, 'clf__max_depth': 66, 'clf__random_state': 42}\n",
      "0.619905 for {'clf__class_weight': {0: 1, 1: np.float64(8.839079746992434)}, 'clf__max_depth': 68, 'clf__random_state': 42}\n",
      "0.618661 for {'clf__class_weight': {0: 1, 1: np.float64(8.839079746992434)}, 'clf__max_depth': 70, 'clf__random_state': 42}\n",
      "0.619546 for {'clf__class_weight': {0: 1, 1: np.float64(8.839079746992434)}, 'clf__max_depth': 72, 'clf__random_state': 42}\n",
      "0.626210 for {'clf__class_weight': {0: 1, 1: np.float64(8.839079746992434)}, 'clf__max_depth': 74, 'clf__random_state': 42}\n",
      "0.625393 for {'clf__class_weight': {0: 1, 1: np.float64(8.839079746992434)}, 'clf__max_depth': 76, 'clf__random_state': 42}\n",
      "0.627848 for {'clf__class_weight': {0: 1, 1: np.float64(8.839079746992434)}, 'clf__max_depth': 78, 'clf__random_state': 42}\n",
      "0.631344 for {'clf__class_weight': {0: 1, 1: np.float64(8.839079746992434)}, 'clf__max_depth': 80, 'clf__random_state': 42}\n",
      "0.630752 for {'clf__class_weight': {0: 1, 1: np.float64(8.839079746992434)}, 'clf__max_depth': 82, 'clf__random_state': 42}\n",
      "0.633532 for {'clf__class_weight': {0: 1, 1: np.float64(8.839079746992434)}, 'clf__max_depth': 84, 'clf__random_state': 42}\n",
      "0.628628 for {'clf__class_weight': {0: 1, 1: np.float64(8.839079746992434)}, 'clf__max_depth': 86, 'clf__random_state': 42}\n",
      "0.633199 for {'clf__class_weight': {0: 1, 1: np.float64(8.839079746992434)}, 'clf__max_depth': 88, 'clf__random_state': 42}\n",
      "0.634353 for {'clf__class_weight': {0: 1, 1: np.float64(8.839079746992434)}, 'clf__max_depth': 90, 'clf__random_state': 42}\n",
      "0.634065 for {'clf__class_weight': {0: 1, 1: np.float64(8.839079746992434)}, 'clf__max_depth': 92, 'clf__random_state': 42}\n",
      "0.633744 for {'clf__class_weight': {0: 1, 1: np.float64(8.839079746992434)}, 'clf__max_depth': 94, 'clf__random_state': 42}\n",
      "0.636645 for {'clf__class_weight': {0: 1, 1: np.float64(8.839079746992434)}, 'clf__max_depth': 96, 'clf__random_state': 42}\n",
      "0.636163 for {'clf__class_weight': {0: 1, 1: np.float64(8.839079746992434)}, 'clf__max_depth': 98, 'clf__random_state': 42}\n",
      "\n"
     ]
    }
   ],
   "source": [
    "#classificator = DecisionTreeClassifier()\n",
    "# Сетка гиперпараметров\n",
    "param_grid = [{'clf__max_depth':list(range(50, 100, 2)),\n",
    "                'clf__random_state':[42],\n",
    "                'clf__class_weight':[dict_classes]\n",
    "              }]\n",
    "\n",
    "\n",
    "print('# Tuning hyper-parameters for f1_score')\n",
    "\n",
    "\n",
    "clf2 = GridSearchCV(pipe_tree, param_grid, scoring='f1',cv=3, n_jobs=-1)\n",
    "clf2.fit(features_train['lemm_text'], target_train)\n",
    "\n",
    "# Лучшие параметры\n",
    "print(\"Best parameters set found on development set:\")\n",
    "DTC_best_params = clf2.best_params_\n",
    "print(DTC_best_params)\n",
    "\n",
    "# Результаты всех комбинаций\n",
    "print(\"Grid scores on development set:\")\n",
    "print()\n",
    "means = clf2.cv_results_['mean_test_score']\n",
    "stds = clf2.cv_results_['std_test_score']\n",
    "for mean, std, params in zip(means, stds, clf2.cv_results_['params']):\n",
    "    print(\"%0.6f for %r\"% (mean, params))\n",
    "print()\n",
    "\n",
    "cv_f1_DTC = max(means)"
   ]
  },
  {
   "cell_type": "code",
   "execution_count": 34,
   "metadata": {},
   "outputs": [
    {
     "name": "stdout",
     "output_type": "stream",
     "text": [
      "F1 на CV: 0.6366451831299703\n",
      "F1 на валидации: 0.6247036510194405\n"
     ]
    }
   ],
   "source": [
    "best_model = clf2.best_estimator_\n",
    "target_predict = best_model.predict(features_valid['lemm_text'])\n",
    "valid_f1_DTC = f1_score(target_valid, target_predict)\n",
    "\n",
    "print('F1 на CV:', clf2.best_score_)\n",
    "print('F1 на валидации:', valid_f1_DTC)"
   ]
  },
  {
   "cell_type": "markdown",
   "metadata": {},
   "source": [
    "### Классификатор CatBoostClassifier"
   ]
  },
  {
   "cell_type": "code",
   "execution_count": 35,
   "metadata": {},
   "outputs": [],
   "source": [
    "pipe_catboost = Pipeline([\n",
    "    ('tfidf', TfidfVectorizer(stop_words=list(stop_words))),\n",
    "    ('clf', CatBoostClassifier(verbose=False, iterations=250, random_state=42))\n",
    "])"
   ]
  },
  {
   "cell_type": "code",
   "execution_count": 36,
   "metadata": {},
   "outputs": [
    {
     "name": "stdout",
     "output_type": "stream",
     "text": [
      "F1 на CV 0.7357448350042546\n",
      "F1 на валидации 0.7347061476025853\n"
     ]
    }
   ],
   "source": [
    "#classificator = CatBoostClassifier(verbose=False, iterations=250)\n",
    "pipe_catboost.fit(features_train['lemm_text'], target_train)\n",
    "target_predict = pipe_catboost.predict(features_valid['lemm_text'])\n",
    "cv_f1_CBC = cross_val_score(pipe_catboost,\n",
    "                                         features_train['lemm_text'], \n",
    "                                         target_train, \n",
    "                                         cv=3, \n",
    "                                         scoring='f1').mean()\n",
    "valid_f1_CBC = f1_score(target_valid, target_predict)\n",
    "\n",
    "print('F1 на CV', cv_f1_CBC)\n",
    "print('F1 на валидации', valid_f1_CBC)"
   ]
  },
  {
   "cell_type": "markdown",
   "metadata": {},
   "source": [
    "### BERT"
   ]
  },
  {
   "cell_type": "code",
   "execution_count": 37,
   "metadata": {},
   "outputs": [
    {
     "name": "stdout",
     "output_type": "stream",
     "text": [
      "PyTorch: 2.8.0+cpu\n",
      "CUDA available: False\n",
      "Device: cpu\n"
     ]
    }
   ],
   "source": [
    "print(\"PyTorch:\", torch.__version__)\n",
    "print(\"CUDA available:\", torch.cuda.is_available())\n",
    "print(\"Device:\", \"cuda\" if torch.cuda.is_available() else \"cpu\")"
   ]
  },
  {
   "cell_type": "code",
   "execution_count": 38,
   "metadata": {},
   "outputs": [],
   "source": [
    "def _softmax_np(x, axis=1):\n",
    "    x = x - np.max(x, axis=axis, keepdims=True)  # численно стабильный вариант\n",
    "    e = np.exp(x)\n",
    "    return e / np.sum(e, axis=axis, keepdims=True)"
   ]
  },
  {
   "cell_type": "code",
   "execution_count": 39,
   "metadata": {
    "scrolled": true
   },
   "outputs": [
    {
     "data": {
      "text/plain": [
       "DatasetDict({\n",
       "    train: Dataset({\n",
       "        features: ['text', 'label'],\n",
       "        num_rows: 79332\n",
       "    })\n",
       "    valid: Dataset({\n",
       "        features: ['text', 'label'],\n",
       "        num_rows: 39666\n",
       "    })\n",
       "    test: Dataset({\n",
       "        features: ['text', 'label'],\n",
       "        num_rows: 39667\n",
       "    })\n",
       "})"
      ]
     },
     "execution_count": 39,
     "metadata": {},
     "output_type": "execute_result"
    }
   ],
   "source": [
    "# Переводим каждую часть в DataFrame: текст + метка\n",
    "train_df = pd.DataFrame({\n",
    "    \"text\": features_train[\"lemm_text\"].astype(str).values,\n",
    "    \"label\": target_train.astype(int).values\n",
    "})\n",
    "\n",
    "valid_df = pd.DataFrame({\n",
    "    \"text\": features_valid[\"lemm_text\"].astype(str).values,\n",
    "    \"label\": target_valid.astype(int).values\n",
    "})\n",
    "\n",
    "test_df = pd.DataFrame({\n",
    "    \"text\": features_test[\"lemm_text\"].astype(str).values,\n",
    "    \"label\": target_test.astype(int).values\n",
    "})\n",
    "\n",
    "# Объединяем в единый DatasetDict для HuggingFace Trainer\n",
    "ds = DatasetDict({\n",
    "    \"train\": Dataset.from_pandas(train_df, preserve_index=False),\n",
    "    \"valid\": Dataset.from_pandas(valid_df, preserve_index=False),\n",
    "    \"test\":  Dataset.from_pandas(test_df,  preserve_index=False)\n",
    "})\n",
    "\n",
    "ds"
   ]
  },
  {
   "cell_type": "code",
   "execution_count": 40,
   "metadata": {},
   "outputs": [
    {
     "data": {
      "application/vnd.jupyter.widget-view+json": {
       "model_id": "fab7d2e4f98143eb8124a9936143398d",
       "version_major": 2,
       "version_minor": 0
      },
      "text/plain": [
       "Map:   0%|          | 0/79332 [00:00<?, ? examples/s]"
      ]
     },
     "metadata": {},
     "output_type": "display_data"
    },
    {
     "data": {
      "application/vnd.jupyter.widget-view+json": {
       "model_id": "d83cfa7369564a9a86bab704c17bc424",
       "version_major": 2,
       "version_minor": 0
      },
      "text/plain": [
       "Map:   0%|          | 0/39666 [00:00<?, ? examples/s]"
      ]
     },
     "metadata": {},
     "output_type": "display_data"
    },
    {
     "data": {
      "application/vnd.jupyter.widget-view+json": {
       "model_id": "3569af1222d545e485ea3416a065484d",
       "version_major": 2,
       "version_minor": 0
      },
      "text/plain": [
       "Map:   0%|          | 0/39667 [00:00<?, ? examples/s]"
      ]
     },
     "metadata": {},
     "output_type": "display_data"
    },
    {
     "name": "stderr",
     "output_type": "stream",
     "text": [
      "Some weights of DistilBertForSequenceClassification were not initialized from the model checkpoint at distilbert-base-uncased and are newly initialized: ['classifier.bias', 'classifier.weight', 'pre_classifier.bias', 'pre_classifier.weight']\n",
      "You should probably TRAIN this model on a down-stream task to be able to use it for predictions and inference.\n"
     ]
    }
   ],
   "source": [
    "BERT_model = \"distilbert-base-uncased\"\n",
    "tokenizer = AutoTokenizer.from_pretrained(BERT_model)\n",
    "\n",
    "id2label = {0: \"NON_TOXIC\", 1: \"TOXIC\"}\n",
    "label2id = {\"NON_TOXIC\": 0, \"TOXIC\": 1}\n",
    "\n",
    "# Токенизация\n",
    "def tokenize_fn(batch):\n",
    "    return tokenizer(\n",
    "        batch[\"text\"],\n",
    "        padding=False,\n",
    "        truncation=True,\n",
    "        max_length=128\n",
    "    )\n",
    "\n",
    "ds_tok = ds.map(tokenize_fn, batched=True, remove_columns=[\"text\"])\n",
    "ds_tok = ds_tok.rename_column(\"label\", \"labels\")\n",
    "ds_tok.set_format(type=\"torch\", columns=[\"input_ids\", \"attention_mask\", \"labels\"])\n",
    "\n",
    "num_labels = 2\n",
    "model = AutoModelForSequenceClassification.from_pretrained(\n",
    "    BERT_model,\n",
    "    num_labels=num_labels,\n",
    "    id2label=id2label,\n",
    "    label2id=label2id\n",
    ")"
   ]
  },
  {
   "cell_type": "code",
   "execution_count": 41,
   "metadata": {},
   "outputs": [],
   "source": [
    "def compute_metrics(eval_pred):\n",
    "    logits, labels = eval_pred\n",
    "    if isinstance(logits, (tuple, list)):\n",
    "        logits = logits[0]\n",
    "\n",
    "    probs = _softmax_np(logits, axis=1)[:, 1]   # вероятность класса 1\n",
    "    preds = logits.argmax(axis=1)               # предсказанный класс\n",
    "\n",
    "    acc = accuracy_score(labels, preds)\n",
    "    p, r, f1, _ = precision_recall_fscore_support(labels, preds, average=\"binary\", zero_division=0)\n",
    "    _, _, f1w, _ = precision_recall_fscore_support(labels, preds, average=\"weighted\", zero_division=0)\n",
    "    try:\n",
    "        auc = roc_auc_score(labels, probs)\n",
    "    except ValueError:\n",
    "        auc = float(\"nan\")\n",
    "\n",
    "    return {\"accuracy\": acc, \"f1\": f1, \"f1_weighted\": f1w, \"roc_auc\": auc}"
   ]
  },
  {
   "cell_type": "code",
   "execution_count": 42,
   "metadata": {},
   "outputs": [],
   "source": [
    "data_collator = DataCollatorWithPadding(tokenizer=tokenizer)\n",
    "\n",
    "training_args = TrainingArguments(\n",
    "    output_dir=\"./bert-toxic-output\",\n",
    "    eval_strategy=\"epoch\",    \n",
    "    save_strategy=\"epoch\",\n",
    "    load_best_model_at_end=True,\n",
    "    metric_for_best_model=\"f1\",     \n",
    "    greater_is_better=True,\n",
    "    per_device_train_batch_size=8,  \n",
    "    per_device_eval_batch_size=16,\n",
    "    num_train_epochs=1,             \n",
    "    learning_rate=2e-5,\n",
    "    weight_decay=0.01,\n",
    "    logging_steps=50,\n",
    "    warmup_ratio=0.1,\n",
    "    seed=42\n",
    ")\n",
    "\n",
    "trainer = Trainer(\n",
    "    model=model,\n",
    "    args=training_args,\n",
    "    train_dataset=ds_tok[\"train\"],\n",
    "    eval_dataset=ds_tok[\"valid\"],\n",
    "    tokenizer=tokenizer,\n",
    "    data_collator=data_collator,\n",
    "    compute_metrics=compute_metrics\n",
    ")"
   ]
  },
  {
   "cell_type": "code",
   "execution_count": 43,
   "metadata": {},
   "outputs": [
    {
     "data": {
      "text/html": [
       "\n",
       "    <div>\n",
       "      \n",
       "      <progress value='9917' max='9917' style='width:300px; height:20px; vertical-align: middle;'></progress>\n",
       "      [9917/9917 2:54:31, Epoch 1/1]\n",
       "    </div>\n",
       "    <table border=\"1\" class=\"dataframe\">\n",
       "  <thead>\n",
       " <tr style=\"text-align: left;\">\n",
       "      <th>Epoch</th>\n",
       "      <th>Training Loss</th>\n",
       "      <th>Validation Loss</th>\n",
       "      <th>Accuracy</th>\n",
       "      <th>F1</th>\n",
       "      <th>F1 Weighted</th>\n",
       "      <th>Roc Auc</th>\n",
       "    </tr>\n",
       "  </thead>\n",
       "  <tbody>\n",
       "    <tr>\n",
       "      <td>1</td>\n",
       "      <td>0.048800</td>\n",
       "      <td>0.115512</td>\n",
       "      <td>0.967075</td>\n",
       "      <td>0.828789</td>\n",
       "      <td>0.966562</td>\n",
       "      <td>0.982841</td>\n",
       "    </tr>\n",
       "  </tbody>\n",
       "</table><p>"
      ],
      "text/plain": [
       "<IPython.core.display.HTML object>"
      ]
     },
     "metadata": {},
     "output_type": "display_data"
    },
    {
     "data": {
      "text/html": [],
      "text/plain": [
       "<IPython.core.display.HTML object>"
      ]
     },
     "metadata": {},
     "output_type": "display_data"
    },
    {
     "data": {
      "text/plain": [
       "{'eval_loss': 0.11551211774349213,\n",
       " 'eval_accuracy': 0.9670750768920486,\n",
       " 'eval_f1': 0.8287886733088621,\n",
       " 'eval_f1_weighted': 0.9665620764547908,\n",
       " 'eval_roc_auc': 0.9828406308842024,\n",
       " 'eval_runtime': 1178.1734,\n",
       " 'eval_samples_per_second': 33.667,\n",
       " 'eval_steps_per_second': 2.105,\n",
       " 'epoch': 1.0}"
      ]
     },
     "execution_count": 43,
     "metadata": {},
     "output_type": "execute_result"
    }
   ],
   "source": [
    "trainer.train()\n",
    "best_metrics = trainer.evaluate(ds_tok[\"valid\"])\n",
    "best_metrics"
   ]
  },
  {
   "cell_type": "code",
   "execution_count": 44,
   "metadata": {},
   "outputs": [
    {
     "name": "stdout",
     "output_type": "stream",
     "text": [
      "Test accuracy: 0.9660927219098999\n",
      "Test F1: 0.826115061409179\n",
      "Test ROC-AUC: 0.9825302175090211\n",
      "\n",
      "Classification report:\n",
      "               precision    recall  f1-score   support\n",
      "\n",
      "   NON_TOXIC       0.98      0.99      0.98     35655\n",
      "       TOXIC       0.86      0.80      0.83      4012\n",
      "\n",
      "    accuracy                           0.97     39667\n",
      "   macro avg       0.92      0.89      0.90     39667\n",
      "weighted avg       0.97      0.97      0.97     39667\n",
      "\n"
     ]
    },
    {
     "data": {
      "image/png": "[encoded data removed]",
      "text/plain": [
       "<Figure size 700x500 with 1 Axes>"
      ]
     },
     "metadata": {},
     "output_type": "display_data"
    },
    {
     "name": "stdout",
     "output_type": "stream",
     "text": [
      "Confusion matrix:\n",
      " [[35127   528]\n",
      " [  817  3195]]\n"
     ]
    }
   ],
   "source": [
    "# Предсказания на тесте\n",
    "pred_test = trainer.predict(ds_tok[\"test\"])\n",
    "logits = pred_test.predictions\n",
    "labels = pred_test.label_ids\n",
    "if isinstance(logits, (tuple, list)):\n",
    "    logits = logiяts[0]\n",
    "\n",
    "probs = _softmax_np(logits, axis=1)[:, 1]\n",
    "preds = logits.argmax(axis=1)\n",
    "\n",
    "# Метрики\n",
    "test_acc = accuracy_score(labels, preds)\n",
    "test_f1 = f1_score(labels, preds)\n",
    "test_auc = roc_auc_score(labels, probs)\n",
    "print(\"Test accuracy:\", test_acc)\n",
    "print(\"Test F1:\", test_f1)\n",
    "print(\"Test ROC-AUC:\", test_auc)\n",
    "print(\"\\nClassification report:\\n\", classification_report(labels, preds, target_names=[\"NON_TOXIC\",\"TOXIC\"]))\n",
    "\n",
    "# ROC-кривая\n",
    "fpr, tpr, _ = roc_curve(labels, probs)\n",
    "plt.figure(figsize=(7,5))\n",
    "plt.plot([0,1], [0,1], linestyle='--')\n",
    "plt.plot(fpr, tpr, label=f\"BERT (AUC={test_auc:.3f})\")\n",
    "plt.xlabel(\"False Positive Rate\")\n",
    "plt.ylabel(\"True Positive Rate\")\n",
    "plt.title(\"ROC-кривая (тест)\")\n",
    "plt.legend()\n",
    "plt.grid(True)\n",
    "plt.tight_layout()\n",
    "plt.show()\n",
    "\n",
    "# Матрица ошибок\n",
    "cm = confusion_matrix(labels, preds)\n",
    "print(\"Confusion matrix:\\n\", cm)"
   ]
  },
  {
   "cell_type": "markdown",
   "metadata": {},
   "source": [
    "Использование BERT дает наиболее высокий результат метрики F1, тем не менее значительно проигрывает по времени исполнения. Дальнейшее усовершенствование модели (например, использование GPU) помогло бы сократить время обработки. "
   ]
  },
  {
   "cell_type": "markdown",
   "metadata": {},
   "source": [
    "### Сравнение моделей"
   ]
  },
  {
   "cell_type": "code",
   "execution_count": 45,
   "metadata": {
    "scrolled": true
   },
   "outputs": [
    {
     "data": {
      "text/html": [
       "<div>\n",
       "<style scoped>\n",
       "    .dataframe tbody tr th:only-of-type {\n",
       "        vertical-align: middle;\n",
       "    }\n",
       "\n",
       "    .dataframe tbody tr th {\n",
       "        vertical-align: top;\n",
       "    }\n",
       "\n",
       "    .dataframe thead th {\n",
       "        text-align: right;\n",
       "    }\n",
       "</style>\n",
       "<table border=\"1\" class=\"dataframe\">\n",
       "  <thead>\n",
       "    <tr style=\"text-align: right;\">\n",
       "      <th></th>\n",
       "      <th>F1 на CV</th>\n",
       "      <th>F1 на валидации</th>\n",
       "      <th>Выполнение задачи</th>\n",
       "    </tr>\n",
       "  </thead>\n",
       "  <tbody>\n",
       "    <tr>\n",
       "      <th>LogisticRegression</th>\n",
       "      <td>0.770455</td>\n",
       "      <td>0.768067</td>\n",
       "      <td>True</td>\n",
       "    </tr>\n",
       "    <tr>\n",
       "      <th>DecisionTreeClassifier</th>\n",
       "      <td>0.636645</td>\n",
       "      <td>0.624704</td>\n",
       "      <td>False</td>\n",
       "    </tr>\n",
       "    <tr>\n",
       "      <th>CatBoostClassifier</th>\n",
       "      <td>0.735745</td>\n",
       "      <td>0.734706</td>\n",
       "      <td>False</td>\n",
       "    </tr>\n",
       "  </tbody>\n",
       "</table>\n",
       "</div>"
      ],
      "text/plain": [
       "                        F1 на CV  F1 на валидации  Выполнение задачи\n",
       "LogisticRegression      0.770455         0.768067               True\n",
       "DecisionTreeClassifier  0.636645         0.624704              False\n",
       "CatBoostClassifier      0.735745         0.734706              False"
      ]
     },
     "execution_count": 45,
     "metadata": {},
     "output_type": "execute_result"
    }
   ],
   "source": [
    "index = ['LogisticRegression',\n",
    "         'DecisionTreeClassifier',\n",
    "         'CatBoostClassifier']\n",
    "data = {'F1 на CV':[cv_f1_LR,\n",
    "                    cv_f1_DTC,\n",
    "                    cv_f1_CBC],\n",
    "        'F1 на валидации':[valid_f1_LR,\n",
    "                           valid_f1_DTC,\n",
    "                           valid_f1_CBC]}\n",
    "\n",
    "scores_data = pd.DataFrame(data=data, index=index)\n",
    "scores_data['Выполнение задачи'] = scores_data['F1 на валидации'] > 0.75\n",
    "scores_data"
   ]
  },
  {
   "cell_type": "markdown",
   "metadata": {},
   "source": [
    "Модель LogisticRegression показывает лучшие значения F1 на валидационной выборке, и единственная удовлетворяет условиям поставленной задачи."
   ]
  },
  {
   "cell_type": "code",
   "execution_count": 51,
   "metadata": {},
   "outputs": [
    {
     "data": {
      "image/png": "[encoded data removed]",
      "text/plain": [
       "<Figure size 1200x900 with 1 Axes>"
      ]
     },
     "metadata": {},
     "output_type": "display_data"
    },
    {
     "name": "stdout",
     "output_type": "stream",
     "text": [
      "Метрики LogisticRegression (best pipeline)\n",
      "ROC AUC: 0.9613806386198297\n",
      "F1: 0.7650371128743281\n",
      "Precision: 0.7861651762230405\n",
      "Recall: 0.7450149551345963\n",
      "Accuracy: 0.9537146746665994\n"
     ]
    }
   ],
   "source": [
    "best_lr = clf1.best_estimator_\n",
    "\n",
    "# Предсказания на тесте\n",
    "y_proba = best_lr.predict_proba(features_test['lemm_text'])[:, 1]\n",
    "y_pred  = best_lr.predict(features_test['lemm_text'])\n",
    "\n",
    "# ROC-кривая\n",
    "fpr, tpr, _ = roc_curve(target_test, y_proba)\n",
    "\n",
    "plt.figure(figsize=(12, 9))\n",
    "plt.plot([0, 1], [0, 1], linestyle='--', label='RandomModel')\n",
    "plt.plot(fpr, tpr, label='LogisticRegression (best pipeline)')\n",
    "plt.xlim([0,1]); plt.ylim([0,1])\n",
    "plt.xlabel(\"False Positive Rate\"); plt.ylabel(\"True Positive Rate\")\n",
    "plt.legend(loc='lower right', fontsize='x-large')\n",
    "plt.title(\"ROC-кривая\")\n",
    "plt.grid(True)\n",
    "plt.tight_layout()\n",
    "plt.show()\n",
    "\n",
    "# Метрики\n",
    "print('Метрики LogisticRegression (best pipeline)')\n",
    "print('ROC AUC:', roc_auc_score(target_test, y_proba))\n",
    "print('F1:', f1_score(target_test, y_pred))\n",
    "print('Precision:', precision_score(target_test, y_pred))\n",
    "print('Recall:', recall_score(target_test, y_pred))\n",
    "print('Accuracy:', accuracy_score(target_test, y_pred))"
   ]
  },
  {
   "cell_type": "markdown",
   "metadata": {},
   "source": [
    "### Вывод\n",
    "Наилучший результат в метрике F1 показала LogisticRegression - 0,77 на валидационной выборке."
   ]
  },
  {
   "cell_type": "markdown",
   "metadata": {},
   "source": [
    "## Итоговый вывод\n",
    "* импортировали все необходимые библиотеки и функции, загрузили датасет\n",
    "* провели лемматизацию текста, разделили данные на выборки, убрав стоп-слова\n",
    "* подобрали способ балансирования весов классов\n",
    "* обучили 3 модели (LogisticRegression, DecisionTreeClassifier, CatBoostClassifier)\n",
    "* выбрали модель LogisticRegression, как показавшую наилучшую метрику F1 на валидационной выборке\n",
    "* вывели характеристики выбранной модели: F1 = 0,765, ROC AUC = 0,961, Accuracy = 0,954\n",
    "\n",
    "Для интернет-магазина \"Викишоп\" рекомендуется использовать модель LogisticRegression с предварительной балансировкой классов."
   ]
  }
 ],
 "metadata": {
  "ExecuteTimeLog": [
   {
    "duration": 3,
    "start_time": "2022-06-11T16:53:08.716Z"
   },
   {
    "duration": 780,
    "start_time": "2022-06-11T16:53:09.157Z"
   },
   {
    "duration": 356,
    "start_time": "2022-06-11T16:53:13.412Z"
   },
   {
    "duration": 840,
    "start_time": "2022-06-11T16:53:13.770Z"
   },
   {
    "duration": 12,
    "start_time": "2022-06-11T16:53:14.611Z"
   },
   {
    "duration": 11,
    "start_time": "2022-06-11T16:53:14.625Z"
   },
   {
    "duration": 63,
    "start_time": "2022-06-11T16:55:26.847Z"
   },
   {
    "duration": 1316,
    "start_time": "2022-06-11T16:55:43.721Z"
   },
   {
    "duration": 987,
    "start_time": "2022-06-11T16:55:46.851Z"
   },
   {
    "duration": 4,
    "start_time": "2022-06-11T16:56:00.475Z"
   },
   {
    "duration": 89744,
    "start_time": "2022-06-11T16:56:02.791Z"
   },
   {
    "duration": 20,
    "start_time": "2022-06-11T16:59:58.730Z"
   },
   {
    "duration": 4,
    "start_time": "2022-06-11T17:00:18.248Z"
   },
   {
    "duration": 270,
    "start_time": "2022-06-11T17:00:21.620Z"
   },
   {
    "duration": 3,
    "start_time": "2022-06-11T17:00:36.175Z"
   },
   {
    "duration": 62,
    "start_time": "2022-06-11T17:00:39.411Z"
   },
   {
    "duration": 4,
    "start_time": "2022-06-11T17:00:56.953Z"
   },
   {
    "duration": 10995,
    "start_time": "2022-06-11T17:00:59.629Z"
   },
   {
    "duration": 10,
    "start_time": "2022-06-11T17:30:02.361Z"
   },
   {
    "duration": 148,
    "start_time": "2022-06-11T17:30:21.280Z"
   },
   {
    "duration": 118634,
    "start_time": "2022-06-11T17:30:24.346Z"
   },
   {
    "duration": 12201,
    "start_time": "2022-06-11T17:34:04.473Z"
   },
   {
    "duration": 71572,
    "start_time": "2022-06-11T17:35:04.295Z"
   },
   {
    "duration": 43797,
    "start_time": "2022-06-11T17:36:15.869Z"
   },
   {
    "duration": 2,
    "start_time": "2022-06-11T17:40:54.142Z"
   },
   {
    "duration": 45,
    "start_time": "2022-06-11T17:41:07.952Z"
   },
   {
    "duration": 24,
    "start_time": "2022-06-11T17:41:15.284Z"
   },
   {
    "duration": 4,
    "start_time": "2022-06-11T17:41:32.368Z"
   },
   {
    "duration": 1038,
    "start_time": "2022-06-11T17:41:35.797Z"
   },
   {
    "duration": 37,
    "start_time": "2022-06-11T17:41:49.558Z"
   },
   {
    "duration": 27,
    "start_time": "2022-06-11T17:41:55.213Z"
   },
   {
    "duration": 303,
    "start_time": "2022-06-11T17:42:26.091Z"
   },
   {
    "duration": 20232,
    "start_time": "2022-06-11T17:42:43.536Z"
   },
   {
    "duration": 9,
    "start_time": "2022-06-11T17:44:46.880Z"
   },
   {
    "duration": 2122,
    "start_time": "2022-06-11T17:45:38.812Z"
   },
   {
    "duration": 2394,
    "start_time": "2022-06-11T17:45:40.936Z"
   },
   {
    "duration": 13,
    "start_time": "2022-06-11T17:45:43.331Z"
   },
   {
    "duration": 19,
    "start_time": "2022-06-11T17:45:43.346Z"
   },
   {
    "duration": 86524,
    "start_time": "2022-06-11T17:45:43.367Z"
   },
   {
    "duration": 10744,
    "start_time": "2022-06-11T17:47:09.892Z"
   },
   {
    "duration": 55823,
    "start_time": "2022-06-11T17:47:20.637Z"
   },
   {
    "duration": 73200,
    "start_time": "2022-06-11T17:48:16.462Z"
   },
   {
    "duration": 46899,
    "start_time": "2022-06-11T17:49:29.663Z"
   },
   {
    "duration": 36,
    "start_time": "2022-06-11T17:50:16.565Z"
   },
   {
    "duration": 1114,
    "start_time": "2022-06-11T17:50:16.602Z"
   },
   {
    "duration": 18541,
    "start_time": "2022-06-11T17:50:17.718Z"
   },
   {
    "duration": 122,
    "start_time": "2022-06-11T17:50:36.261Z"
   },
   {
    "duration": 14,
    "start_time": "2022-06-11T17:54:30.737Z"
   },
   {
    "duration": 758,
    "start_time": "2022-06-11T17:54:45.527Z"
   },
   {
    "duration": 88989,
    "start_time": "2022-06-11T17:54:53.765Z"
   },
   {
    "duration": 11,
    "start_time": "2022-06-11T17:56:32.775Z"
   },
   {
    "duration": 11,
    "start_time": "2022-06-11T17:57:28.822Z"
   },
   {
    "duration": 20,
    "start_time": "2022-06-11T18:03:08.218Z"
   },
   {
    "duration": 336064,
    "start_time": "2022-06-11T18:03:42.144Z"
   },
   {
    "duration": 30370,
    "start_time": "2022-06-11T18:10:20.950Z"
   },
   {
    "duration": 39,
    "start_time": "2022-06-11T18:11:33.199Z"
   },
   {
    "duration": 16,
    "start_time": "2022-06-11T18:12:17.232Z"
   },
   {
    "duration": 281591,
    "start_time": "2022-06-11T18:14:31.133Z"
   },
   {
    "duration": 712432,
    "start_time": "2022-06-11T18:19:59.976Z"
   },
   {
    "duration": 37754,
    "start_time": "2022-06-11T18:38:40.106Z"
   },
   {
    "duration": 726547,
    "start_time": "2022-06-11T18:42:54.867Z"
   },
   {
    "duration": 15,
    "start_time": "2022-06-11T18:55:01.416Z"
   },
   {
    "duration": 31719,
    "start_time": "2022-06-11T18:59:24.984Z"
   },
   {
    "duration": 1362,
    "start_time": "2022-06-11T19:08:53.314Z"
   },
   {
    "duration": 917,
    "start_time": "2022-06-11T19:08:54.677Z"
   },
   {
    "duration": 9,
    "start_time": "2022-06-11T19:08:55.596Z"
   },
   {
    "duration": 10,
    "start_time": "2022-06-11T19:08:55.607Z"
   },
   {
    "duration": 97871,
    "start_time": "2022-06-11T19:08:55.619Z"
   },
   {
    "duration": 12105,
    "start_time": "2022-06-11T19:10:33.492Z"
   },
   {
    "duration": 70874,
    "start_time": "2022-06-11T19:10:45.598Z"
   },
   {
    "duration": 91512,
    "start_time": "2022-06-11T19:11:56.474Z"
   },
   {
    "duration": 5557,
    "start_time": "2022-06-12T05:57:02.492Z"
   },
   {
    "duration": 2535,
    "start_time": "2022-06-12T05:57:08.053Z"
   },
   {
    "duration": 11,
    "start_time": "2022-06-12T05:57:10.590Z"
   },
   {
    "duration": 15,
    "start_time": "2022-06-12T05:57:10.602Z"
   },
   {
    "duration": 93933,
    "start_time": "2022-06-12T05:57:10.618Z"
   },
   {
    "duration": 11151,
    "start_time": "2022-06-12T05:58:44.553Z"
   },
   {
    "duration": 55662,
    "start_time": "2022-06-12T05:58:55.706Z"
   },
   {
    "duration": 72695,
    "start_time": "2022-06-12T05:59:51.370Z"
   },
   {
    "duration": 46504,
    "start_time": "2022-06-12T06:01:04.067Z"
   },
   {
    "duration": 1888,
    "start_time": "2022-06-12T06:01:50.574Z"
   },
   {
    "duration": 997,
    "start_time": "2022-06-12T06:01:52.464Z"
   },
   {
    "duration": 17702,
    "start_time": "2022-06-12T06:01:53.463Z"
   },
   {
    "duration": 71600,
    "start_time": "2022-06-12T06:03:37.078Z"
   },
   {
    "duration": 45803,
    "start_time": "2022-06-12T06:04:48.679Z"
   },
   {
    "duration": 25,
    "start_time": "2022-06-12T06:05:34.484Z"
   },
   {
    "duration": 1063,
    "start_time": "2022-06-12T06:05:34.510Z"
   },
   {
    "duration": 18893,
    "start_time": "2022-06-12T06:05:35.574Z"
   },
   {
    "duration": 88527,
    "start_time": "2022-06-12T06:05:54.471Z"
   },
   {
    "duration": 10,
    "start_time": "2022-06-12T06:07:23.000Z"
   },
   {
    "duration": 325845,
    "start_time": "2022-06-12T06:08:34.258Z"
   },
   {
    "duration": 32706,
    "start_time": "2022-06-12T06:14:00.105Z"
   },
   {
    "duration": 1442,
    "start_time": "2022-06-13T09:04:22.603Z"
   },
   {
    "duration": 107,
    "start_time": "2022-06-13T09:04:45.629Z"
   },
   {
    "duration": 1276,
    "start_time": "2022-06-13T09:04:52.684Z"
   },
   {
    "duration": 3004,
    "start_time": "2022-06-13T09:04:53.962Z"
   },
   {
    "duration": 9,
    "start_time": "2022-06-13T09:04:56.967Z"
   },
   {
    "duration": 8,
    "start_time": "2022-06-13T09:04:56.978Z"
   },
   {
    "duration": 140,
    "start_time": "2022-06-13T09:04:56.988Z"
   },
   {
    "duration": 0,
    "start_time": "2022-06-13T09:04:57.130Z"
   },
   {
    "duration": 0,
    "start_time": "2022-06-13T09:04:57.132Z"
   },
   {
    "duration": 0,
    "start_time": "2022-06-13T09:04:57.133Z"
   },
   {
    "duration": 0,
    "start_time": "2022-06-13T09:04:57.134Z"
   },
   {
    "duration": 0,
    "start_time": "2022-06-13T09:04:57.135Z"
   },
   {
    "duration": 0,
    "start_time": "2022-06-13T09:04:57.136Z"
   },
   {
    "duration": 0,
    "start_time": "2022-06-13T09:04:57.137Z"
   },
   {
    "duration": 0,
    "start_time": "2022-06-13T09:04:57.139Z"
   },
   {
    "duration": 0,
    "start_time": "2022-06-13T09:04:57.140Z"
   },
   {
    "duration": 0,
    "start_time": "2022-06-13T09:04:57.141Z"
   },
   {
    "duration": 0,
    "start_time": "2022-06-13T09:04:57.142Z"
   },
   {
    "duration": 0,
    "start_time": "2022-06-13T09:04:57.144Z"
   },
   {
    "duration": 0,
    "start_time": "2022-06-13T09:04:57.145Z"
   },
   {
    "duration": 0,
    "start_time": "2022-06-13T09:04:57.147Z"
   },
   {
    "duration": 0,
    "start_time": "2022-06-13T09:04:57.148Z"
   },
   {
    "duration": 0,
    "start_time": "2022-06-13T09:04:57.149Z"
   },
   {
    "duration": 5770,
    "start_time": "2022-06-13T09:05:27.981Z"
   },
   {
    "duration": 9439,
    "start_time": "2022-06-13T09:05:39.285Z"
   },
   {
    "duration": 1420,
    "start_time": "2022-06-13T09:06:11.866Z"
   },
   {
    "duration": 698,
    "start_time": "2022-06-13T09:06:13.287Z"
   },
   {
    "duration": 12,
    "start_time": "2022-06-13T09:06:13.986Z"
   },
   {
    "duration": 9,
    "start_time": "2022-06-13T09:06:13.999Z"
   },
   {
    "duration": 5845,
    "start_time": "2022-06-13T09:06:14.010Z"
   },
   {
    "duration": 9816,
    "start_time": "2022-06-13T09:06:19.856Z"
   },
   {
    "duration": 48827,
    "start_time": "2022-06-13T09:06:29.674Z"
   },
   {
    "duration": 54002,
    "start_time": "2022-06-13T09:07:18.503Z"
   },
   {
    "duration": 41586,
    "start_time": "2022-06-13T09:08:12.506Z"
   },
   {
    "duration": 24,
    "start_time": "2022-06-13T09:08:54.094Z"
   },
   {
    "duration": 939,
    "start_time": "2022-06-13T09:08:54.119Z"
   },
   {
    "duration": 19140,
    "start_time": "2022-06-13T09:08:55.060Z"
   },
   {
    "duration": 8,
    "start_time": "2022-06-13T09:09:21.393Z"
   },
   {
    "duration": 0,
    "start_time": "2022-06-13T09:09:21.402Z"
   },
   {
    "duration": 0,
    "start_time": "2022-06-13T09:09:21.403Z"
   },
   {
    "duration": 0,
    "start_time": "2022-06-13T09:09:21.404Z"
   },
   {
    "duration": 0,
    "start_time": "2022-06-13T09:09:21.405Z"
   },
   {
    "duration": 0,
    "start_time": "2022-06-13T09:09:21.405Z"
   },
   {
    "duration": 0,
    "start_time": "2022-06-13T09:09:21.406Z"
   },
   {
    "duration": 0,
    "start_time": "2022-06-13T09:09:21.407Z"
   },
   {
    "duration": 0,
    "start_time": "2022-06-13T09:09:21.408Z"
   },
   {
    "duration": 39,
    "start_time": "2022-06-13T09:09:21.410Z"
   },
   {
    "duration": 0,
    "start_time": "2022-06-13T09:09:21.450Z"
   },
   {
    "duration": 0,
    "start_time": "2022-06-13T09:09:21.451Z"
   },
   {
    "duration": 0,
    "start_time": "2022-06-13T09:09:21.452Z"
   },
   {
    "duration": 0,
    "start_time": "2022-06-13T09:09:21.453Z"
   },
   {
    "duration": 0,
    "start_time": "2022-06-13T09:09:21.454Z"
   },
   {
    "duration": 0,
    "start_time": "2022-06-13T09:09:21.454Z"
   },
   {
    "duration": 0,
    "start_time": "2022-06-13T09:09:21.491Z"
   },
   {
    "duration": 0,
    "start_time": "2022-06-13T09:09:21.492Z"
   },
   {
    "duration": 0,
    "start_time": "2022-06-13T09:09:21.493Z"
   },
   {
    "duration": 0,
    "start_time": "2022-06-13T09:09:21.494Z"
   },
   {
    "duration": 0,
    "start_time": "2022-06-13T09:09:21.495Z"
   },
   {
    "duration": 0,
    "start_time": "2022-06-13T09:09:21.495Z"
   },
   {
    "duration": 3,
    "start_time": "2022-06-13T09:10:03.101Z"
   },
   {
    "duration": 1295,
    "start_time": "2022-06-13T09:10:34.881Z"
   },
   {
    "duration": 678,
    "start_time": "2022-06-13T09:10:36.179Z"
   },
   {
    "duration": 8,
    "start_time": "2022-06-13T09:10:36.859Z"
   },
   {
    "duration": 23,
    "start_time": "2022-06-13T09:10:36.869Z"
   },
   {
    "duration": 5793,
    "start_time": "2022-06-13T09:10:36.894Z"
   },
   {
    "duration": 9236,
    "start_time": "2022-06-13T09:10:42.688Z"
   },
   {
    "duration": 45171,
    "start_time": "2022-06-13T09:10:51.925Z"
   },
   {
    "duration": 1558,
    "start_time": "2022-06-13T09:12:14.570Z"
   },
   {
    "duration": 900,
    "start_time": "2022-06-13T09:12:16.129Z"
   },
   {
    "duration": 12,
    "start_time": "2022-06-13T09:12:17.031Z"
   },
   {
    "duration": 15,
    "start_time": "2022-06-13T09:12:17.046Z"
   },
   {
    "duration": 5881,
    "start_time": "2022-06-13T09:12:17.063Z"
   },
   {
    "duration": 9198,
    "start_time": "2022-06-13T09:12:22.946Z"
   },
   {
    "duration": 45056,
    "start_time": "2022-06-13T09:12:32.145Z"
   },
   {
    "duration": 1689,
    "start_time": "2022-08-12T12:18:49.691Z"
   },
   {
    "duration": 2323,
    "start_time": "2022-08-12T12:18:51.382Z"
   },
   {
    "duration": 10,
    "start_time": "2022-08-12T12:18:53.707Z"
   },
   {
    "duration": 27,
    "start_time": "2022-08-12T12:18:53.719Z"
   },
   {
    "duration": 6600,
    "start_time": "2022-08-12T12:18:53.748Z"
   },
   {
    "duration": 10765,
    "start_time": "2022-08-12T12:19:00.350Z"
   },
   {
    "duration": 51561,
    "start_time": "2022-08-12T12:19:11.117Z"
   },
   {
    "duration": 59300,
    "start_time": "2022-08-12T12:20:02.758Z"
   },
   {
    "duration": 48205,
    "start_time": "2022-08-12T12:21:02.060Z"
   },
   {
    "duration": 22,
    "start_time": "2022-08-12T12:21:50.267Z"
   },
   {
    "duration": 997,
    "start_time": "2022-08-12T12:21:50.291Z"
   },
   {
    "duration": 15271,
    "start_time": "2022-08-12T12:21:51.290Z"
   },
   {
    "duration": 79934,
    "start_time": "2022-08-12T12:22:06.563Z"
   },
   {
    "duration": 11,
    "start_time": "2022-08-12T12:23:26.500Z"
   },
   {
    "duration": 273349,
    "start_time": "2022-08-12T12:23:26.512Z"
   },
   {
    "duration": 19815,
    "start_time": "2022-08-12T12:27:59.863Z"
   },
   {
    "duration": 731726,
    "start_time": "2022-08-12T12:28:19.680Z"
   },
   {
    "duration": 36601,
    "start_time": "2022-08-12T12:40:31.407Z"
   },
   {
    "duration": 907908,
    "start_time": "2022-08-12T12:41:08.010Z"
   },
   {
    "duration": 10,
    "start_time": "2022-08-12T12:56:15.920Z"
   },
   {
    "duration": 19151,
    "start_time": "2022-08-12T12:56:15.932Z"
   },
   {
    "duration": 1995,
    "start_time": "2024-12-19T14:12:33.472Z"
   },
   {
    "duration": 3854,
    "start_time": "2024-12-19T14:12:35.470Z"
   },
   {
    "duration": 25,
    "start_time": "2024-12-19T14:12:39.325Z"
   },
   {
    "duration": 25,
    "start_time": "2024-12-19T14:12:39.352Z"
   },
   {
    "duration": 19,
    "start_time": "2024-12-19T14:12:39.378Z"
   },
   {
    "duration": 5,
    "start_time": "2024-12-19T14:12:39.398Z"
   },
   {
    "duration": 6,
    "start_time": "2024-12-19T14:12:39.405Z"
   },
   {
    "duration": 3,
    "start_time": "2024-12-19T14:12:39.412Z"
   },
   {
    "duration": 378,
    "start_time": "2024-12-19T14:12:39.416Z"
   },
   {
    "duration": 0,
    "start_time": "2024-12-19T14:12:39.796Z"
   },
   {
    "duration": 0,
    "start_time": "2024-12-19T14:12:39.797Z"
   },
   {
    "duration": 0,
    "start_time": "2024-12-19T14:12:39.799Z"
   },
   {
    "duration": 0,
    "start_time": "2024-12-19T14:12:39.800Z"
   },
   {
    "duration": 0,
    "start_time": "2024-12-19T14:12:39.802Z"
   },
   {
    "duration": 0,
    "start_time": "2024-12-19T14:12:39.803Z"
   },
   {
    "duration": 0,
    "start_time": "2024-12-19T14:12:39.804Z"
   },
   {
    "duration": 0,
    "start_time": "2024-12-19T14:12:39.805Z"
   },
   {
    "duration": 0,
    "start_time": "2024-12-19T14:12:39.807Z"
   },
   {
    "duration": 0,
    "start_time": "2024-12-19T14:12:39.808Z"
   },
   {
    "duration": 0,
    "start_time": "2024-12-19T14:12:39.809Z"
   },
   {
    "duration": 0,
    "start_time": "2024-12-19T14:12:39.810Z"
   },
   {
    "duration": 0,
    "start_time": "2024-12-19T14:12:39.811Z"
   },
   {
    "duration": 0,
    "start_time": "2024-12-19T14:12:39.812Z"
   },
   {
    "duration": 0,
    "start_time": "2024-12-19T14:12:39.813Z"
   },
   {
    "duration": 0,
    "start_time": "2024-12-19T14:12:39.814Z"
   },
   {
    "duration": 0,
    "start_time": "2024-12-19T14:12:39.815Z"
   },
   {
    "duration": 0,
    "start_time": "2024-12-19T14:12:39.816Z"
   },
   {
    "duration": 436,
    "start_time": "2024-12-19T14:14:46.389Z"
   },
   {
    "duration": 855,
    "start_time": "2024-12-19T14:14:54.791Z"
   },
   {
    "duration": 26,
    "start_time": "2024-12-19T14:14:56.576Z"
   },
   {
    "duration": 6,
    "start_time": "2024-12-19T14:15:00.391Z"
   },
   {
    "duration": 18,
    "start_time": "2024-12-19T14:15:01.147Z"
   },
   {
    "duration": 6,
    "start_time": "2024-12-19T14:15:01.688Z"
   },
   {
    "duration": 7,
    "start_time": "2024-12-19T14:15:01.754Z"
   },
   {
    "duration": 4,
    "start_time": "2024-12-19T14:15:10.645Z"
   },
   {
    "duration": 1200005,
    "start_time": "2024-12-19T14:15:14.151Z"
   },
   {
    "duration": 6,
    "start_time": "2024-12-19T14:35:17.687Z"
   },
   {
    "duration": 16,
    "start_time": "2024-12-19T14:35:24.501Z"
   },
   {
    "duration": 40,
    "start_time": "2024-12-19T14:35:31.651Z"
   },
   {
    "duration": 3,
    "start_time": "2024-12-19T14:35:33.628Z"
   },
   {
    "duration": 3995,
    "start_time": "2024-12-19T14:35:34.952Z"
   },
   {
    "duration": 76075,
    "start_time": "2024-12-19T14:35:51.871Z"
   },
   {
    "duration": 105818,
    "start_time": "2024-12-19T14:37:07.948Z"
   },
   {
    "duration": 73111,
    "start_time": "2024-12-19T14:38:53.767Z"
   },
   {
    "duration": 19,
    "start_time": "2024-12-19T14:40:06.880Z"
   },
   {
    "duration": 693,
    "start_time": "2024-12-19T14:40:06.900Z"
   },
   {
    "duration": 53773,
    "start_time": "2024-12-19T14:40:07.594Z"
   },
   {
    "duration": 42063,
    "start_time": "2024-12-19T14:42:28.617Z"
   },
   {
    "duration": 124432,
    "start_time": "2024-12-19T14:43:10.682Z"
   },
   {
    "duration": 9,
    "start_time": "2024-12-19T14:45:15.116Z"
   },
   {
    "duration": 443096,
    "start_time": "2024-12-19T14:51:02.972Z"
   },
   {
    "duration": 7417,
    "start_time": "2024-12-19T14:58:26.069Z"
   },
   {
    "duration": 2319192,
    "start_time": "2024-12-19T14:58:33.488Z"
   },
   {
    "duration": 22810,
    "start_time": "2024-12-19T15:37:12.682Z"
   },
   {
    "duration": 1615111,
    "start_time": "2024-12-19T15:37:35.494Z"
   },
   {
    "duration": 10,
    "start_time": "2024-12-19T16:04:30.607Z"
   },
   {
    "duration": 7549,
    "start_time": "2024-12-19T16:04:30.619Z"
   },
   {
    "duration": 2543,
    "start_time": "2024-12-19T19:37:26.233Z"
   },
   {
    "duration": 1474,
    "start_time": "2024-12-19T19:37:28.779Z"
   },
   {
    "duration": 33,
    "start_time": "2024-12-19T19:37:30.255Z"
   },
   {
    "duration": 13,
    "start_time": "2024-12-19T19:37:30.291Z"
   },
   {
    "duration": 40,
    "start_time": "2024-12-19T19:37:30.306Z"
   },
   {
    "duration": 30,
    "start_time": "2024-12-19T19:37:30.348Z"
   },
   {
    "duration": 21,
    "start_time": "2024-12-19T19:37:30.380Z"
   },
   {
    "duration": 20,
    "start_time": "2024-12-19T19:37:30.402Z"
   },
   {
    "duration": 1374719,
    "start_time": "2024-12-19T19:37:30.424Z"
   },
   {
    "duration": 7,
    "start_time": "2024-12-19T20:00:25.146Z"
   },
   {
    "duration": 153,
    "start_time": "2024-12-19T20:00:25.154Z"
   },
   {
    "duration": 0,
    "start_time": "2024-12-19T20:00:25.309Z"
   },
   {
    "duration": 0,
    "start_time": "2024-12-19T20:00:25.310Z"
   },
   {
    "duration": 0,
    "start_time": "2024-12-19T20:00:25.311Z"
   },
   {
    "duration": 0,
    "start_time": "2024-12-19T20:00:25.312Z"
   },
   {
    "duration": 1,
    "start_time": "2024-12-19T20:00:25.313Z"
   },
   {
    "duration": 0,
    "start_time": "2024-12-19T20:00:25.315Z"
   },
   {
    "duration": 0,
    "start_time": "2024-12-19T20:00:25.316Z"
   },
   {
    "duration": 0,
    "start_time": "2024-12-19T20:00:25.330Z"
   },
   {
    "duration": 0,
    "start_time": "2024-12-19T20:00:25.331Z"
   },
   {
    "duration": 0,
    "start_time": "2024-12-19T20:00:25.332Z"
   },
   {
    "duration": 0,
    "start_time": "2024-12-19T20:00:25.333Z"
   },
   {
    "duration": 0,
    "start_time": "2024-12-19T20:00:25.335Z"
   },
   {
    "duration": 0,
    "start_time": "2024-12-19T20:00:25.336Z"
   },
   {
    "duration": 0,
    "start_time": "2024-12-19T20:00:25.337Z"
   },
   {
    "duration": 0,
    "start_time": "2024-12-19T20:00:25.338Z"
   },
   {
    "duration": 0,
    "start_time": "2024-12-19T20:00:25.340Z"
   },
   {
    "duration": 0,
    "start_time": "2024-12-19T20:00:25.341Z"
   },
   {
    "duration": 0,
    "start_time": "2024-12-19T20:00:25.342Z"
   },
   {
    "duration": 1016,
    "start_time": "2024-12-19T20:40:58.251Z"
   },
   {
    "duration": 33,
    "start_time": "2024-12-19T20:40:59.319Z"
   },
   {
    "duration": 7,
    "start_time": "2024-12-19T20:41:00.383Z"
   },
   {
    "duration": 21,
    "start_time": "2024-12-19T20:41:00.863Z"
   },
   {
    "duration": 6,
    "start_time": "2024-12-19T20:41:01.802Z"
   },
   {
    "duration": 7,
    "start_time": "2024-12-19T20:41:02.220Z"
   },
   {
    "duration": 5,
    "start_time": "2024-12-19T20:41:03.938Z"
   },
   {
    "duration": 3,
    "start_time": "2024-12-19T20:41:04.510Z"
   },
   {
    "duration": 7,
    "start_time": "2024-12-19T20:41:05.458Z"
   },
   {
    "duration": 1364759,
    "start_time": "2024-12-19T20:41:20.671Z"
   },
   {
    "duration": 9,
    "start_time": "2024-12-19T21:12:59.605Z"
   },
   {
    "duration": 33,
    "start_time": "2024-12-19T21:13:01.205Z"
   },
   {
    "duration": 56,
    "start_time": "2024-12-19T21:13:15.930Z"
   },
   {
    "duration": 3,
    "start_time": "2024-12-19T21:13:18.072Z"
   },
   {
    "duration": 4917,
    "start_time": "2024-12-19T21:13:18.657Z"
   },
   {
    "duration": 87497,
    "start_time": "2024-12-19T21:15:26.154Z"
   },
   {
    "duration": 120940,
    "start_time": "2024-12-19T21:17:54.525Z"
   },
   {
    "duration": 82788,
    "start_time": "2024-12-19T21:19:55.467Z"
   },
   {
    "duration": 23,
    "start_time": "2024-12-19T21:22:37.405Z"
   },
   {
    "duration": 864,
    "start_time": "2024-12-19T21:22:38.151Z"
   },
   {
    "duration": 124414,
    "start_time": "2024-12-19T21:22:39.949Z"
   },
   {
    "duration": 140866,
    "start_time": "2024-12-19T21:24:57.700Z"
   },
   {
    "duration": 11,
    "start_time": "2024-12-19T21:27:18.568Z"
   },
   {
    "duration": 548674,
    "start_time": "2024-12-19T21:27:42.013Z"
   },
   {
    "duration": 10748,
    "start_time": "2024-12-19T21:36:50.689Z"
   },
   {
    "duration": 3777267,
    "start_time": "2024-12-19T21:37:06.616Z"
   },
   {
    "duration": 42983,
    "start_time": "2024-12-19T22:40:03.886Z"
   },
   {
    "duration": 1505176,
    "start_time": "2024-12-19T22:40:52.699Z"
   },
   {
    "duration": 0,
    "start_time": "2024-12-19T23:05:57.876Z"
   },
   {
    "duration": 240,
    "start_time": "2024-12-19T23:06:08.801Z"
   },
   {
    "duration": 954,
    "start_time": "2024-12-19T23:06:12.416Z"
   },
   {
    "duration": 34,
    "start_time": "2024-12-19T23:06:15.535Z"
   },
   {
    "duration": 7,
    "start_time": "2024-12-19T23:06:16.940Z"
   },
   {
    "duration": 22,
    "start_time": "2024-12-19T23:06:19.196Z"
   },
   {
    "duration": 6,
    "start_time": "2024-12-19T23:06:20.253Z"
   },
   {
    "duration": 7,
    "start_time": "2024-12-19T23:06:21.123Z"
   },
   {
    "duration": 3,
    "start_time": "2024-12-19T23:06:27.082Z"
   },
   {
    "duration": 4,
    "start_time": "2024-12-19T23:06:28.270Z"
   },
   {
    "duration": 3,
    "start_time": "2024-12-19T23:06:29.385Z"
   },
   {
    "duration": 11,
    "start_time": "2024-12-19T23:06:30.502Z"
   },
   {
    "duration": 13,
    "start_time": "2024-12-19T23:07:14.525Z"
   },
   {
    "duration": 396,
    "start_time": "2024-12-19T23:07:21.223Z"
   },
   {
    "duration": 7,
    "start_time": "2024-12-19T23:07:45.458Z"
   },
   {
    "duration": 449,
    "start_time": "2024-12-19T23:07:50.821Z"
   },
   {
    "duration": 10,
    "start_time": "2024-12-19T23:08:05.543Z"
   },
   {
    "duration": 650492,
    "start_time": "2024-12-19T23:08:10.691Z"
   },
   {
    "duration": 8,
    "start_time": "2024-12-19T23:23:49.081Z"
   },
   {
    "duration": 37,
    "start_time": "2024-12-19T23:23:54.127Z"
   },
   {
    "duration": 14,
    "start_time": "2024-12-19T23:24:20.555Z"
   },
   {
    "duration": 11,
    "start_time": "2024-12-19T23:24:30.353Z"
   },
   {
    "duration": 8,
    "start_time": "2024-12-19T23:24:34.854Z"
   },
   {
    "duration": 207,
    "start_time": "2024-12-19T23:24:41.324Z"
   },
   {
    "duration": 400,
    "start_time": "2024-12-19T23:24:44.646Z"
   },
   {
    "duration": 52,
    "start_time": "2024-12-19T23:25:01.890Z"
   },
   {
    "duration": 57,
    "start_time": "2024-12-19T23:25:18.907Z"
   },
   {
    "duration": 6910,
    "start_time": "2024-12-19T23:25:20.389Z"
   },
   {
    "duration": 97726,
    "start_time": "2024-12-19T23:25:34.109Z"
   },
   {
    "duration": 119312,
    "start_time": "2024-12-19T23:27:29.026Z"
   },
   {
    "duration": 62444,
    "start_time": "2024-12-19T23:29:37.100Z"
   },
   {
    "duration": 17,
    "start_time": "2024-12-19T23:32:23.112Z"
   },
   {
    "duration": 8,
    "start_time": "2024-12-19T23:33:12.727Z"
   },
   {
    "duration": 11,
    "start_time": "2024-12-19T23:33:44.692Z"
   },
   {
    "duration": 7,
    "start_time": "2024-12-19T23:34:02.289Z"
   },
   {
    "duration": 12,
    "start_time": "2024-12-19T23:34:30.731Z"
   },
   {
    "duration": 4,
    "start_time": "2024-12-19T23:34:42.101Z"
   },
   {
    "duration": 4,
    "start_time": "2024-12-19T23:34:55.954Z"
   },
   {
    "duration": 19,
    "start_time": "2024-12-19T23:34:59.811Z"
   },
   {
    "duration": 11,
    "start_time": "2024-12-19T23:35:09.380Z"
   },
   {
    "duration": 11,
    "start_time": "2024-12-19T23:35:15.233Z"
   },
   {
    "duration": 7,
    "start_time": "2024-12-19T23:35:31.446Z"
   },
   {
    "duration": 4,
    "start_time": "2024-12-19T23:36:03.253Z"
   },
   {
    "duration": 7,
    "start_time": "2024-12-19T23:36:12.389Z"
   },
   {
    "duration": 15,
    "start_time": "2024-12-19T23:36:30.145Z"
   },
   {
    "duration": 7,
    "start_time": "2024-12-19T23:37:40.215Z"
   },
   {
    "duration": 5,
    "start_time": "2024-12-19T23:37:46.941Z"
   },
   {
    "duration": 4,
    "start_time": "2024-12-19T23:37:57.901Z"
   },
   {
    "duration": 4,
    "start_time": "2024-12-19T23:38:24.423Z"
   },
   {
    "duration": 4,
    "start_time": "2024-12-19T23:38:42.836Z"
   },
   {
    "duration": 5,
    "start_time": "2024-12-19T23:39:03.028Z"
   },
   {
    "duration": 41,
    "start_time": "2024-12-19T23:44:29.967Z"
   },
   {
    "duration": 17,
    "start_time": "2024-12-19T23:44:33.567Z"
   },
   {
    "duration": 6763,
    "start_time": "2024-12-19T23:44:34.818Z"
   },
   {
    "duration": 88270,
    "start_time": "2024-12-19T23:44:45.371Z"
   },
   {
    "duration": 110802,
    "start_time": "2024-12-19T23:46:23.142Z"
   },
   {
    "duration": 77186,
    "start_time": "2024-12-19T23:48:13.946Z"
   },
   {
    "duration": 4,
    "start_time": "2024-12-19T23:50:22.647Z"
   },
   {
    "duration": 15,
    "start_time": "2024-12-19T23:50:23.675Z"
   },
   {
    "duration": 2,
    "start_time": "2024-12-19T23:50:54.504Z"
   },
   {
    "duration": 122145,
    "start_time": "2024-12-19T23:52:59.502Z"
   },
   {
    "duration": 2,
    "start_time": "2024-12-19T23:55:01.649Z"
   },
   {
    "duration": 11,
    "start_time": "2024-12-19T23:59:58.634Z"
   },
   {
    "duration": 128011,
    "start_time": "2024-12-20T00:01:06.924Z"
   },
   {
    "duration": 145289,
    "start_time": "2024-12-20T00:03:30.241Z"
   },
   {
    "duration": 85302,
    "start_time": "2024-12-20T00:05:55.532Z"
   },
   {
    "duration": 2,
    "start_time": "2024-12-20T00:08:57.639Z"
   },
   {
    "duration": 2,
    "start_time": "2024-12-20T00:08:58.040Z"
   },
   {
    "duration": 3,
    "start_time": "2024-12-20T00:08:58.608Z"
   },
   {
    "duration": 124062,
    "start_time": "2024-12-20T00:09:52.180Z"
   },
   {
    "duration": 10,
    "start_time": "2024-12-20T00:11:56.244Z"
   },
   {
    "duration": 896,
    "start_time": "2024-12-20T00:13:31.851Z"
   },
   {
    "duration": 35,
    "start_time": "2024-12-20T00:13:32.933Z"
   },
   {
    "duration": 8,
    "start_time": "2024-12-20T00:13:33.990Z"
   },
   {
    "duration": 21,
    "start_time": "2024-12-20T00:13:34.479Z"
   },
   {
    "duration": 6,
    "start_time": "2024-12-20T00:13:35.792Z"
   },
   {
    "duration": 7,
    "start_time": "2024-12-20T00:13:36.610Z"
   },
   {
    "duration": 3,
    "start_time": "2024-12-20T00:13:38.608Z"
   },
   {
    "duration": 3,
    "start_time": "2024-12-20T00:13:39.027Z"
   },
   {
    "duration": 4,
    "start_time": "2024-12-20T00:13:39.313Z"
   },
   {
    "duration": 621023,
    "start_time": "2024-12-20T00:13:39.624Z"
   },
   {
    "duration": 9,
    "start_time": "2024-12-20T00:24:03.054Z"
   },
   {
    "duration": 43,
    "start_time": "2024-12-20T00:24:06.100Z"
   },
   {
    "duration": 53,
    "start_time": "2024-12-20T00:24:10.838Z"
   },
   {
    "duration": 14,
    "start_time": "2024-12-20T00:24:15.135Z"
   },
   {
    "duration": 6918,
    "start_time": "2024-12-20T00:24:16.917Z"
   },
   {
    "duration": 126905,
    "start_time": "2024-12-20T00:24:29.925Z"
   },
   {
    "duration": 115811,
    "start_time": "2024-12-20T00:27:33.331Z"
   },
   {
    "duration": 57487,
    "start_time": "2024-12-20T00:29:29.144Z"
   },
   {
    "duration": 2,
    "start_time": "2024-12-20T00:32:43.548Z"
   },
   {
    "duration": 2,
    "start_time": "2024-12-20T00:32:43.796Z"
   },
   {
    "duration": 2,
    "start_time": "2024-12-20T00:32:44.042Z"
   },
   {
    "duration": 100664,
    "start_time": "2024-12-20T00:33:09.563Z"
   },
   {
    "duration": 10,
    "start_time": "2024-12-20T00:34:50.230Z"
   },
   {
    "duration": 581202,
    "start_time": "2024-12-20T00:34:50.242Z"
   },
   {
    "duration": 42212,
    "start_time": "2024-12-20T00:44:31.531Z"
   },
   {
    "duration": 1841,
    "start_time": "2024-12-20T00:45:39.755Z"
   },
   {
    "duration": 956,
    "start_time": "2024-12-20T00:45:41.598Z"
   },
   {
    "duration": 35,
    "start_time": "2024-12-20T00:45:42.556Z"
   },
   {
    "duration": 10,
    "start_time": "2024-12-20T00:45:42.593Z"
   },
   {
    "duration": 42,
    "start_time": "2024-12-20T00:45:42.605Z"
   },
   {
    "duration": 6,
    "start_time": "2024-12-20T00:45:42.648Z"
   },
   {
    "duration": 8,
    "start_time": "2024-12-20T00:45:42.655Z"
   },
   {
    "duration": 3,
    "start_time": "2024-12-20T00:45:42.664Z"
   },
   {
    "duration": 5,
    "start_time": "2024-12-20T00:45:42.668Z"
   },
   {
    "duration": 15,
    "start_time": "2024-12-20T00:45:42.675Z"
   },
   {
    "duration": 625313,
    "start_time": "2024-12-20T00:45:42.691Z"
   },
   {
    "duration": 9,
    "start_time": "2024-12-20T00:56:08.005Z"
   },
   {
    "duration": 41,
    "start_time": "2024-12-20T00:56:08.030Z"
   },
   {
    "duration": 2,
    "start_time": "2024-12-20T00:56:08.073Z"
   },
   {
    "duration": 11,
    "start_time": "2024-12-20T00:56:08.077Z"
   },
   {
    "duration": 64,
    "start_time": "2024-12-20T00:56:08.089Z"
   },
   {
    "duration": 4,
    "start_time": "2024-12-20T00:56:08.154Z"
   },
   {
    "duration": 6954,
    "start_time": "2024-12-20T00:56:08.160Z"
   },
   {
    "duration": 84416,
    "start_time": "2024-12-20T00:56:15.115Z"
   },
   {
    "duration": 117204,
    "start_time": "2024-12-20T00:57:39.532Z"
   },
   {
    "duration": 56402,
    "start_time": "2024-12-20T00:59:36.737Z"
   },
   {
    "duration": 2,
    "start_time": "2024-12-20T01:00:33.141Z"
   },
   {
    "duration": 14,
    "start_time": "2024-12-20T01:00:33.145Z"
   },
   {
    "duration": 70,
    "start_time": "2024-12-20T01:00:33.160Z"
   },
   {
    "duration": 99226,
    "start_time": "2024-12-20T01:00:33.232Z"
   },
   {
    "duration": 11,
    "start_time": "2024-12-20T01:02:12.459Z"
   },
   {
    "duration": 2001,
    "start_time": "2024-12-20T01:07:35.211Z"
   },
   {
    "duration": 958,
    "start_time": "2024-12-20T01:07:37.214Z"
   },
   {
    "duration": 32,
    "start_time": "2024-12-20T01:07:38.174Z"
   },
   {
    "duration": 35,
    "start_time": "2024-12-20T01:07:38.208Z"
   },
   {
    "duration": 22,
    "start_time": "2024-12-20T01:07:38.245Z"
   },
   {
    "duration": 7,
    "start_time": "2024-12-20T01:07:38.269Z"
   },
   {
    "duration": 13,
    "start_time": "2024-12-20T01:07:38.277Z"
   },
   {
    "duration": 4,
    "start_time": "2024-12-20T01:07:38.291Z"
   },
   {
    "duration": 10,
    "start_time": "2024-12-20T01:07:38.297Z"
   },
   {
    "duration": 21,
    "start_time": "2024-12-20T01:07:38.309Z"
   },
   {
    "duration": 628632,
    "start_time": "2024-12-20T01:07:38.331Z"
   },
   {
    "duration": 9,
    "start_time": "2024-12-20T01:18:06.964Z"
   },
   {
    "duration": 67,
    "start_time": "2024-12-20T01:18:06.974Z"
   },
   {
    "duration": 206,
    "start_time": "2024-12-20T01:18:07.043Z"
   },
   {
    "duration": 401,
    "start_time": "2024-12-20T01:18:07.251Z"
   },
   {
    "duration": 44,
    "start_time": "2024-12-20T01:18:07.653Z"
   },
   {
    "duration": 4,
    "start_time": "2024-12-20T01:18:07.699Z"
   },
   {
    "duration": 6953,
    "start_time": "2024-12-20T01:18:07.705Z"
   },
   {
    "duration": 90070,
    "start_time": "2024-12-20T01:18:14.661Z"
   },
   {
    "duration": 113716,
    "start_time": "2024-12-20T01:19:44.732Z"
   },
   {
    "duration": 77783,
    "start_time": "2024-12-20T01:21:38.450Z"
   },
   {
    "duration": 3,
    "start_time": "2024-12-20T01:22:56.235Z"
   },
   {
    "duration": 5,
    "start_time": "2024-12-20T01:22:56.239Z"
   },
   {
    "duration": 6,
    "start_time": "2024-12-20T01:22:56.246Z"
   },
   {
    "duration": 121559,
    "start_time": "2024-12-20T01:22:56.254Z"
   },
   {
    "duration": 17,
    "start_time": "2024-12-20T01:24:57.814Z"
   },
   {
    "duration": 566711,
    "start_time": "2024-12-20T01:24:57.833Z"
   },
   {
    "duration": 41999,
    "start_time": "2024-12-20T01:34:24.632Z"
   },
   {
    "duration": 1776500,
    "start_time": "2024-12-20T01:35:06.633Z"
   },
   {
    "duration": 39372,
    "start_time": "2024-12-20T02:04:43.134Z"
   },
   {
    "duration": 1396473,
    "start_time": "2024-12-20T02:05:22.507Z"
   },
   {
    "duration": 12,
    "start_time": "2024-12-20T02:28:38.981Z"
   },
   {
    "duration": 42044,
    "start_time": "2024-12-20T02:28:38.995Z"
   },
   {
    "duration": 835101,
    "start_time": "2024-12-20T08:13:30.632Z"
   },
   {
    "duration": 40315,
    "start_time": "2024-12-20T08:27:25.736Z"
   },
   {
    "duration": 828781,
    "start_time": "2024-12-20T09:34:43.856Z"
   },
   {
    "duration": 42005,
    "start_time": "2024-12-20T09:48:32.639Z"
   },
   {
    "duration": 5,
    "start_time": "2024-12-20T09:51:08.932Z"
   },
   {
    "duration": 3,
    "start_time": "2024-12-20T09:53:08.112Z"
   },
   {
    "duration": 4,
    "start_time": "2024-12-20T09:53:11.916Z"
   },
   {
    "duration": 145,
    "start_time": "2024-12-20T09:53:25.754Z"
   },
   {
    "duration": 5,
    "start_time": "2024-12-20T09:53:39.228Z"
   },
   {
    "duration": 4,
    "start_time": "2024-12-20T09:54:17.907Z"
   },
   {
    "duration": 544693,
    "start_time": "2024-12-20T10:01:39.107Z"
   },
   {
    "duration": 11224,
    "start_time": "2024-12-20T10:10:43.802Z"
   },
   {
    "duration": 738117,
    "start_time": "2024-12-20T10:11:39.014Z"
   },
   {
    "duration": 44403,
    "start_time": "2024-12-20T10:23:57.133Z"
   },
   {
    "duration": 542862,
    "start_time": "2024-12-20T10:30:38.650Z"
   },
   {
    "duration": 11716,
    "start_time": "2024-12-20T10:39:41.514Z"
   },
   {
    "duration": 1987,
    "start_time": "2024-12-20T10:40:26.904Z"
   },
   {
    "duration": 1018,
    "start_time": "2024-12-20T10:40:28.893Z"
   },
   {
    "duration": 41,
    "start_time": "2024-12-20T10:40:29.912Z"
   },
   {
    "duration": 11,
    "start_time": "2024-12-20T10:40:29.955Z"
   },
   {
    "duration": 24,
    "start_time": "2024-12-20T10:40:29.968Z"
   },
   {
    "duration": 5,
    "start_time": "2024-12-20T10:40:29.993Z"
   },
   {
    "duration": 29,
    "start_time": "2024-12-20T10:40:30.031Z"
   },
   {
    "duration": 35,
    "start_time": "2024-12-20T10:40:30.062Z"
   },
   {
    "duration": 54,
    "start_time": "2024-12-20T10:40:30.099Z"
   },
   {
    "duration": 33,
    "start_time": "2024-12-20T10:40:30.156Z"
   },
   {
    "duration": 656713,
    "start_time": "2024-12-20T10:40:30.191Z"
   },
   {
    "duration": 8,
    "start_time": "2024-12-20T10:51:26.906Z"
   },
   {
    "duration": 44,
    "start_time": "2024-12-20T10:51:26.930Z"
   },
   {
    "duration": 233,
    "start_time": "2024-12-20T10:51:26.976Z"
   },
   {
    "duration": 415,
    "start_time": "2024-12-20T10:51:27.211Z"
   },
   {
    "duration": 45,
    "start_time": "2024-12-20T10:51:27.630Z"
   },
   {
    "duration": 5,
    "start_time": "2024-12-20T10:51:27.677Z"
   },
   {
    "duration": 7359,
    "start_time": "2024-12-20T10:51:27.684Z"
   },
   {
    "duration": 82693,
    "start_time": "2024-12-20T10:51:35.046Z"
   },
   {
    "duration": 102609,
    "start_time": "2024-12-20T10:52:57.740Z"
   },
   {
    "duration": 58916,
    "start_time": "2024-12-20T10:54:40.429Z"
   },
   {
    "duration": 3,
    "start_time": "2024-12-20T10:55:39.347Z"
   },
   {
    "duration": 78,
    "start_time": "2024-12-20T10:55:39.352Z"
   },
   {
    "duration": 18,
    "start_time": "2024-12-20T10:55:39.432Z"
   },
   {
    "duration": 119206,
    "start_time": "2024-12-20T10:55:39.453Z"
   },
   {
    "duration": 12,
    "start_time": "2024-12-20T10:57:38.661Z"
   },
   {
    "duration": 534252,
    "start_time": "2024-12-20T10:57:38.674Z"
   },
   {
    "duration": 2032,
    "start_time": "2024-12-20T11:06:32.932Z"
   },
   {
    "duration": 1910515,
    "start_time": "2024-12-20T11:06:34.966Z"
   },
   {
    "duration": 42076,
    "start_time": "2024-12-20T11:38:25.483Z"
   },
   {
    "duration": 1408869,
    "start_time": "2024-12-20T11:39:07.561Z"
   },
   {
    "duration": 13,
    "start_time": "2024-12-20T12:02:36.431Z"
   },
   {
    "duration": 2369,
    "start_time": "2024-12-20T12:02:36.446Z"
   }
  ],
  "kernelspec": {
   "display_name": "Python 3 (ipykernel)",
   "language": "python",
   "name": "python3"
  },
  "language_info": {
   "codemirror_mode": {
    "name": "ipython",
    "version": 3
   },
   "file_extension": ".py",
   "mimetype": "text/x-python",
   "name": "python",
   "nbconvert_exporter": "python",
   "pygments_lexer": "ipython3",
   "version": "3.13.5"
  },
  "toc": {
   "base_numbering": 1,
   "nav_menu": {},
   "number_sections": true,
   "sideBar": true,
   "skip_h1_title": true,
   "title_cell": "Содержание",
   "title_sidebar": "Contents",
   "toc_cell": true,
   "toc_position": {
    "height": "calc(100% - 180px)",
    "left": "10px",
    "top": "150px",
    "width": "302.391px"
   },
   "toc_section_display": true,
   "toc_window_display": false
  }
 },
 "nbformat": 4,
 "nbformat_minor": 4
}
